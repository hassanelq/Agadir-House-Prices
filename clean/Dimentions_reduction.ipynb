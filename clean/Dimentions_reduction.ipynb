{
 "cells": [
  {
   "cell_type": "code",
   "execution_count": 1,
   "metadata": {},
   "outputs": [],
   "source": [
    "import pandas as pd\n",
    "\n",
    "# Load the dataset\n",
    "df = pd.read_csv(r'mubawab_listings_clean.csv', dtype=object)"
   ]
  },
  {
   "cell_type": "code",
   "execution_count": 4,
   "metadata": {},
   "outputs": [
    {
     "data": {
      "text/plain": [
       "Quartier\n",
       "Hay Mohammadi               162\n",
       "Hay Salam                    68\n",
       "Hay Houda                    53\n",
       "Secteur Touristique          46\n",
       "Haut Founty                  41\n",
       "Founti                       40\n",
       "Tilila                       36\n",
       "Hay Dakhla                   31\n",
       "Cité Adrar                   23\n",
       "Riad Salam                   21\n",
       "Al Wifaq                     19\n",
       "Abattoirs                    19\n",
       "Ben Serguaou                 17\n",
       "Illigh                       17\n",
       "Ville Nouvelle               15\n",
       "Talborjt                     14\n",
       "Hay Najah                    14\n",
       "Charaf                       13\n",
       "Anza                         11\n",
       "Zone Industrielle Agadir     10\n",
       "Hay Massira                   9\n",
       "Haut Anza                     9\n",
       "Amsernate                     8\n",
       "Extension Dakhla              8\n",
       "Taddart Anza                  8\n",
       "Tikiouine                     7\n",
       "Lekhiam                       7\n",
       "Taddart                       7\n",
       "Hay Al Farah                  6\n",
       "Hay Qods                      6\n",
       "Bouargane                     6\n",
       "Siusse                        5\n",
       "Hay Al Wafaa                  5\n",
       "Amicales                      4\n",
       "Port                          3\n",
       "Boutchakat                    2\n",
       "Agadir Oufella                2\n",
       "Assaka                        2\n",
       "Hay Hassani                   2\n",
       "Laazib                        1\n",
       "Ihchach                       1\n",
       "Hay Zaytoun                   1\n",
       "Name: Quartier, dtype: int64"
      ]
     },
     "execution_count": 4,
     "metadata": {},
     "output_type": "execute_result"
    }
   ],
   "source": [
    "df.Quartier = df.Quartier.apply(lambda x: x.strip())\n",
    "\n",
    "Quartiers = df.groupby('Quartier')['Quartier'].agg('count').sort_values(ascending=False)\n",
    "Quartiers"
   ]
  },
  {
   "cell_type": "code",
   "execution_count": 11,
   "metadata": {},
   "outputs": [
    {
     "data": {
      "text/plain": [
       "Quartier\n",
       "Port              3\n",
       "Boutchakat        2\n",
       "Agadir Oufella    2\n",
       "Assaka            2\n",
       "Hay Hassani       2\n",
       "Laazib            1\n",
       "Ihchach           1\n",
       "Hay Zaytoun       1\n",
       "Name: Quartier, dtype: int64"
      ]
     },
     "execution_count": 11,
     "metadata": {},
     "output_type": "execute_result"
    }
   ],
   "source": [
    "Quartiers[Quartiers < 4]"
   ]
  },
  {
   "cell_type": "code",
   "execution_count": null,
   "metadata": {},
   "outputs": [],
   "source": [
    "# delete rows with Quartier values that have less than 4 occurrences\n",
    "df = df[~df.Quartier.isin(Quartiers[Quartiers < 4].index)]\n"
   ]
  },
  {
   "cell_type": "code",
   "execution_count": 15,
   "metadata": {},
   "outputs": [],
   "source": [
    "# save the cleaned dataset\n",
    "df.to_csv(r'mubawab_listings_clean.csv', index=False)"
   ]
  }
 ],
 "metadata": {
  "kernelspec": {
   "display_name": "Python 3",
   "language": "python",
   "name": "python3"
  },
  "language_info": {
   "codemirror_mode": {
    "name": "ipython",
    "version": 3
   },
   "file_extension": ".py",
   "mimetype": "text/x-python",
   "name": "python",
   "nbconvert_exporter": "python",
   "pygments_lexer": "ipython3",
   "version": "3.12.2"
  }
 },
 "nbformat": 4,
 "nbformat_minor": 2
}
