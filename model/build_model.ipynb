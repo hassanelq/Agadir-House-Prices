{
 "cells": [
  {
   "cell_type": "code",
   "execution_count": 2,
   "metadata": {},
   "outputs": [],
   "source": [
    "import pandas as pd\n",
    "# Load the dataset\n",
    "X = pd.read_csv(r'./clean/X.csv', dtype=object)\n",
    "Y = pd.read_csv(r'./clean/Y.csv', dtype=object)"
   ]
  },
  {
   "cell_type": "code",
   "execution_count": 3,
   "metadata": {},
   "outputs": [
    {
     "data": {
      "text/plain": [
       "Index(['Area', 'Rooms', 'Bedrooms', 'Bathrooms', 'Jardin', 'Piscine',\n",
       "       'Cuisine_equiped', 'Type_Appartement', 'Type_Maison', 'Type_Villa',\n",
       "       'Quartier_Abattoirs', 'Quartier_Al Wifaq', 'Quartier_Amicales',\n",
       "       'Quartier_Amsernate', 'Quartier_Anza', 'Quartier_Ben Serguaou',\n",
       "       'Quartier_Bouargane', 'Quartier_Charaf', 'Quartier_Cité Adrar',\n",
       "       'Quartier_Extension Dakhla', 'Quartier_Founti', 'Quartier_Haut Anza',\n",
       "       'Quartier_Haut Founty', 'Quartier_Hay Al Farah',\n",
       "       'Quartier_Hay Al Wafaa', 'Quartier_Hay Dakhla', 'Quartier_Hay Houda',\n",
       "       'Quartier_Hay Massira', 'Quartier_Hay Mohammadi', 'Quartier_Hay Najah',\n",
       "       'Quartier_Hay Qods', 'Quartier_Hay Salam', 'Quartier_Illigh',\n",
       "       'Quartier_Lekhiam', 'Quartier_Riad Salam',\n",
       "       'Quartier_Secteur Touristique', 'Quartier_Siusse', 'Quartier_Taddart',\n",
       "       'Quartier_Taddart Anza', 'Quartier_Talborjt', 'Quartier_Tikiouine',\n",
       "       'Quartier_Tilila', 'Quartier_Ville Nouvelle',\n",
       "       'Quartier_Zone Industrielle Agadir', 'Status_Bon état',\n",
       "       'Status_Nouveau', 'Status_À rénover', 'Property_State_1-5 ans',\n",
       "       'Property_State_10-20 ans', 'Property_State_20-30 ans',\n",
       "       'Property_State_30-50 ans', 'Property_State_5-10 ans',\n",
       "       'Property_State_50-70 ans', 'Property_State_Moins d'un an'],\n",
       "      dtype='object')"
      ]
     },
     "execution_count": 3,
     "metadata": {},
     "output_type": "execute_result"
    }
   ],
   "source": [
    "X.columns"
   ]
  },
  {
   "cell_type": "code",
   "execution_count": 4,
   "metadata": {},
   "outputs": [],
   "source": [
    "# List of columns to move\n",
    "columns_to_move = [\n",
    "    'Status_Bon état', 'Status_Nouveau', 'Status_À rénover',\n",
    "    'Property_State_1-5 ans', 'Property_State_10-20 ans', 'Property_State_20-30 ans',\n",
    "    'Property_State_30-50 ans', 'Property_State_5-10 ans', 'Property_State_50-70 ans',\n",
    "    'Property_State_Moins d\\'un an'\n",
    "]\n",
    "\n",
    "# Original columns\n",
    "original_columns = X.columns.tolist()\n",
    "\n",
    "# Remove the columns to move from the original list\n",
    "for column in columns_to_move:\n",
    "    original_columns.remove(column)\n",
    "\n",
    "# Define the position where the columns should be inserted\n",
    "insert_position = 10  # Position 11 in 0-based index\n",
    "\n",
    "# Insert the columns at the specified position\n",
    "for column in reversed(columns_to_move):\n",
    "    original_columns.insert(insert_position, column)\n",
    "\n",
    "# Reorder the DataFrame columns\n",
    "X = X[original_columns]"
   ]
  },
  {
   "cell_type": "code",
   "execution_count": 5,
   "metadata": {},
   "outputs": [
    {
     "data": {
      "text/plain": [
       "Index(['Area', 'Rooms', 'Bedrooms', 'Bathrooms', 'Jardin', 'Piscine',\n",
       "       'Cuisine_equiped', 'Type_Appartement', 'Type_Maison', 'Type_Villa',\n",
       "       'Status_Bon état', 'Status_Nouveau', 'Status_À rénover',\n",
       "       'Property_State_1-5 ans', 'Property_State_10-20 ans',\n",
       "       'Property_State_20-30 ans', 'Property_State_30-50 ans',\n",
       "       'Property_State_5-10 ans', 'Property_State_50-70 ans',\n",
       "       'Property_State_Moins d'un an', 'Quartier_Abattoirs',\n",
       "       'Quartier_Al Wifaq', 'Quartier_Amicales', 'Quartier_Amsernate',\n",
       "       'Quartier_Anza', 'Quartier_Ben Serguaou', 'Quartier_Bouargane',\n",
       "       'Quartier_Charaf', 'Quartier_Cité Adrar', 'Quartier_Extension Dakhla',\n",
       "       'Quartier_Founti', 'Quartier_Haut Anza', 'Quartier_Haut Founty',\n",
       "       'Quartier_Hay Al Farah', 'Quartier_Hay Al Wafaa', 'Quartier_Hay Dakhla',\n",
       "       'Quartier_Hay Houda', 'Quartier_Hay Massira', 'Quartier_Hay Mohammadi',\n",
       "       'Quartier_Hay Najah', 'Quartier_Hay Qods', 'Quartier_Hay Salam',\n",
       "       'Quartier_Illigh', 'Quartier_Lekhiam', 'Quartier_Riad Salam',\n",
       "       'Quartier_Secteur Touristique', 'Quartier_Siusse', 'Quartier_Taddart',\n",
       "       'Quartier_Taddart Anza', 'Quartier_Talborjt', 'Quartier_Tikiouine',\n",
       "       'Quartier_Tilila', 'Quartier_Ville Nouvelle',\n",
       "       'Quartier_Zone Industrielle Agadir'],\n",
       "      dtype='object')"
      ]
     },
     "execution_count": 5,
     "metadata": {},
     "output_type": "execute_result"
    }
   ],
   "source": [
    "X.columns"
   ]
  },
  {
   "cell_type": "code",
   "execution_count": 6,
   "metadata": {},
   "outputs": [
    {
     "name": "stdout",
     "output_type": "stream",
     "text": [
      "Index(['Area', 'Rooms', 'Bedrooms', 'Bathrooms', 'Jardin', 'Piscine',\n",
      "       'Cuisine_equiped', 'Type_Appartement', 'Type_Maison', 'Type_Villa',\n",
      "       'Bon état', 'Nouveau', 'À rénover', '1-5 ans', '10-20 ans', '20-30 ans',\n",
      "       '30-50 ans', '5-10 ans', '50-70 ans', 'Moins d'un an', 'Abattoirs',\n",
      "       'Al Wifaq', 'Amicales', 'Amsernate', 'Anza', 'Ben Serguaou',\n",
      "       'Bouargane', 'Charaf', 'Cité Adrar', 'Extension Dakhla', 'Founti',\n",
      "       'Haut Anza', 'Haut Founty', 'Hay Al Farah', 'Hay Al Wafaa',\n",
      "       'Hay Dakhla', 'Hay Houda', 'Hay Massira', 'Hay Mohammadi', 'Hay Najah',\n",
      "       'Hay Qods', 'Hay Salam', 'Illigh', 'Lekhiam', 'Riad Salam',\n",
      "       'Secteur Touristique', 'Siusse', 'Taddart', 'Taddart Anza', 'Talborjt',\n",
      "       'Tikiouine', 'Tilila', 'Ville Nouvelle', 'Zone Industrielle Agadir'],\n",
      "      dtype='object')\n"
     ]
    }
   ],
   "source": [
    "# Dictionary to rename the columns\n",
    "rename_dict = {\n",
    "    'Quartier_Abattoirs': 'Abattoirs',\n",
    "    'Quartier_Al Wifaq': 'Al Wifaq',\n",
    "    'Quartier_Amicales': 'Amicales',\n",
    "    'Quartier_Amsernate': 'Amsernate',\n",
    "    'Quartier_Anza': 'Anza',\n",
    "    'Quartier_Ben Serguaou': 'Ben Serguaou',\n",
    "    'Quartier_Bouargane': 'Bouargane',\n",
    "    'Quartier_Charaf': 'Charaf',\n",
    "    'Quartier_Cité Adrar': 'Cité Adrar',\n",
    "    'Quartier_Extension Dakhla': 'Extension Dakhla',\n",
    "    'Quartier_Founti': 'Founti',\n",
    "    'Quartier_Haut Anza': 'Haut Anza',\n",
    "    'Quartier_Haut Founty': 'Haut Founty',\n",
    "    'Quartier_Hay Al Farah': 'Hay Al Farah',\n",
    "    'Quartier_Hay Al Wafaa': 'Hay Al Wafaa',\n",
    "    'Quartier_Hay Dakhla': 'Hay Dakhla',\n",
    "    'Quartier_Hay Houda': 'Hay Houda',\n",
    "    'Quartier_Hay Massira': 'Hay Massira',\n",
    "    'Quartier_Hay Mohammadi': 'Hay Mohammadi',\n",
    "    'Quartier_Hay Najah': 'Hay Najah',\n",
    "    'Quartier_Hay Qods': 'Hay Qods',\n",
    "    'Quartier_Hay Salam': 'Hay Salam',\n",
    "    'Quartier_Illigh': 'Illigh',\n",
    "    'Quartier_Lekhiam': 'Lekhiam',\n",
    "    'Quartier_Riad Salam': 'Riad Salam',\n",
    "    'Quartier_Secteur Touristique': 'Secteur Touristique',\n",
    "    'Quartier_Siusse': 'Siusse',\n",
    "    'Quartier_Taddart': 'Taddart',\n",
    "    'Quartier_Taddart Anza': 'Taddart Anza',\n",
    "    'Quartier_Talborjt': 'Talborjt',\n",
    "    'Quartier_Tikiouine': 'Tikiouine',\n",
    "    'Quartier_Tilila': 'Tilila',\n",
    "    'Quartier_Ville Nouvelle': 'Ville Nouvelle',\n",
    "    'Quartier_Zone Industrielle Agadir': 'Zone Industrielle Agadir',\n",
    "    'Status_Bon état': 'Bon état',\n",
    "    'Status_Nouveau': 'Nouveau',\n",
    "    'Status_À rénover': 'À rénover',\n",
    "    'Property_State_1-5 ans': '1-5 ans',\n",
    "    'Property_State_10-20 ans': '10-20 ans',\n",
    "    'Property_State_20-30 ans': '20-30 ans',\n",
    "    'Property_State_30-50 ans': '30-50 ans',\n",
    "    'Property_State_5-10 ans': '5-10 ans',\n",
    "    'Property_State_50-70 ans': '50-70 ans',\n",
    "    'Property_State_Moins d\\'un an': 'Moins d\\'un an'\n",
    "}\n",
    "\n",
    "# Renaming the columns\n",
    "X.rename(columns=rename_dict, inplace=True)\n",
    "\n",
    "# Display the renamed columns\n",
    "print(X.columns)"
   ]
  },
  {
   "cell_type": "code",
   "execution_count": 7,
   "metadata": {},
   "outputs": [
    {
     "name": "stdout",
     "output_type": "stream",
     "text": [
      "Index(['Area', 'Rooms', 'Bedrooms', 'Bathrooms', 'Jardin', 'Piscine',\n",
      "       'Cuisine_equiped', 'Appartement', 'Maison', 'Villa', 'Bon état',\n",
      "       'Nouveau', 'À rénover', '1-5 ans', '10-20 ans', '20-30 ans',\n",
      "       '30-50 ans', '5-10 ans', '50-70 ans', 'Moins d'un an', 'Abattoirs',\n",
      "       'Al Wifaq', 'Amicales', 'Amsernate', 'Anza', 'Ben Serguaou',\n",
      "       'Bouargane', 'Charaf', 'Cité Adrar', 'Extension Dakhla', 'Founti',\n",
      "       'Haut Anza', 'Haut Founty', 'Hay Al Farah', 'Hay Al Wafaa',\n",
      "       'Hay Dakhla', 'Hay Houda', 'Hay Massira', 'Hay Mohammadi', 'Hay Najah',\n",
      "       'Hay Qods', 'Hay Salam', 'Illigh', 'Lekhiam', 'Riad Salam',\n",
      "       'Secteur Touristique', 'Siusse', 'Taddart', 'Taddart Anza', 'Talborjt',\n",
      "       'Tikiouine', 'Tilila', 'Ville Nouvelle', 'Zone Industrielle Agadir'],\n",
      "      dtype='object')\n"
     ]
    }
   ],
   "source": [
    "rename_dict = {\n",
    "    'Type_Appartement': 'Appartement',\n",
    "    'Type_Maison': 'Maison',\n",
    "    'Type_Villa': 'Villa',\n",
    "}\n",
    "\n",
    "# Renaming the columns\n",
    "X.rename(columns=rename_dict, inplace=True)\n",
    "\n",
    "print(X.columns)"
   ]
  },
  {
   "cell_type": "code",
   "execution_count": 8,
   "metadata": {},
   "outputs": [],
   "source": [
    "from sklearn.model_selection import train_test_split\n",
    "X_train, X_test, y_train, y_test = train_test_split(X,Y,test_size=0.2,random_state=10)"
   ]
  },
  {
   "cell_type": "code",
   "execution_count": 9,
   "metadata": {},
   "outputs": [
    {
     "data": {
      "text/plain": [
       "0.7070254809620586"
      ]
     },
     "execution_count": 9,
     "metadata": {},
     "output_type": "execute_result"
    }
   ],
   "source": [
    "from sklearn.linear_model import LinearRegression\n",
    "lr_clf = LinearRegression()\n",
    "lr_clf.fit(X_train,y_train)\n",
    "lr_clf.score(X_test,y_test)"
   ]
  },
  {
   "cell_type": "code",
   "execution_count": 10,
   "metadata": {},
   "outputs": [
    {
     "data": {
      "text/plain": [
       "array([0.66668428, 0.69215039, 0.72837555, 0.62531468, 0.82737469])"
      ]
     },
     "execution_count": 10,
     "metadata": {},
     "output_type": "execute_result"
    }
   ],
   "source": [
    "from sklearn.model_selection import ShuffleSplit\n",
    "from sklearn.model_selection import cross_val_score\n",
    "\n",
    "cv = ShuffleSplit(n_splits=5, test_size=0.2, random_state=0)\n",
    "\n",
    "cross_val_score(LinearRegression(), X, Y, cv=cv)"
   ]
  },
  {
   "cell_type": "code",
   "execution_count": 11,
   "metadata": {},
   "outputs": [
    {
     "name": "stdout",
     "output_type": "stream",
     "text": [
      "Linear Regression:\n",
      "MAE: 559345.3860326231\n",
      "MSE: 765709864845.6523\n",
      "R2 Score: 0.7070254809620586\n"
     ]
    }
   ],
   "source": [
    "from sklearn.linear_model import LinearRegression\n",
    "from sklearn.metrics import mean_absolute_error, mean_squared_error, r2_score\n",
    "\n",
    "# Train the model\n",
    "lr = LinearRegression()\n",
    "lr.fit(X_train, y_train)\n",
    "# Predict\n",
    "y_pred_lr = lr.predict(X_test)\n",
    "\n",
    "# Evaluate\n",
    "print('Linear Regression:')\n",
    "print('MAE:', mean_absolute_error(y_test, y_pred_lr))\n",
    "print('MSE:', mean_squared_error(y_test, y_pred_lr))\n",
    "print('R2 Score:', r2_score(y_test, y_pred_lr))\n"
   ]
  },
  {
   "cell_type": "code",
   "execution_count": 12,
   "metadata": {},
   "outputs": [
    {
     "data": {
      "text/plain": [
       "Index(['Area', 'Rooms', 'Bedrooms', 'Bathrooms', 'Jardin', 'Piscine',\n",
       "       'Cuisine_equiped', 'Appartement', 'Maison', 'Villa', 'Bon état',\n",
       "       'Nouveau', 'À rénover', '1-5 ans', '10-20 ans', '20-30 ans',\n",
       "       '30-50 ans', '5-10 ans', '50-70 ans', 'Moins d'un an', 'Abattoirs',\n",
       "       'Al Wifaq', 'Amicales', 'Amsernate', 'Anza', 'Ben Serguaou',\n",
       "       'Bouargane', 'Charaf', 'Cité Adrar', 'Extension Dakhla', 'Founti',\n",
       "       'Haut Anza', 'Haut Founty', 'Hay Al Farah', 'Hay Al Wafaa',\n",
       "       'Hay Dakhla', 'Hay Houda', 'Hay Massira', 'Hay Mohammadi', 'Hay Najah',\n",
       "       'Hay Qods', 'Hay Salam', 'Illigh', 'Lekhiam', 'Riad Salam',\n",
       "       'Secteur Touristique', 'Siusse', 'Taddart', 'Taddart Anza', 'Talborjt',\n",
       "       'Tikiouine', 'Tilila', 'Ville Nouvelle', 'Zone Industrielle Agadir'],\n",
       "      dtype='object')"
      ]
     },
     "execution_count": 12,
     "metadata": {},
     "output_type": "execute_result"
    }
   ],
   "source": [
    "X.columns"
   ]
  },
  {
   "cell_type": "code",
   "execution_count": 7,
   "metadata": {},
   "outputs": [],
   "source": [
    "import numpy as np\n",
    "import pandas as pd\n",
    "\n",
    "def predict_price(Area, Rooms, Bedrooms, Bathrooms, Jardin, Piscine, Cuisine_equiped, Type, Location, Status, Property_State):\n",
    "    # Create an array of zeros with the length of columns in X\n",
    "    x = np.zeros(len(X.columns))\n",
    "\n",
    "    # Assign values to the array\n",
    "    x[0] = Area\n",
    "    x[1] = Rooms\n",
    "    x[2] = Bedrooms\n",
    "    x[3] = Bathrooms\n",
    "    x[4] = Jardin\n",
    "    x[5] = Piscine\n",
    "    x[6] = Cuisine_equiped\n",
    "\n",
    "    # Find the index of categorical features and set them to 1\n",
    "    if Location in X.columns:\n",
    "        loc_index = np.where(X.columns == Location)[0][0]\n",
    "        x[loc_index] = 1\n",
    "    if Type in X.columns:\n",
    "        type_index = np.where(X.columns == Type)[0][0]\n",
    "        x[type_index] = 1\n",
    "    if Status in X.columns:\n",
    "        status_index = np.where(X.columns == Status)[0][0]\n",
    "        x[status_index] = 1\n",
    "    if Property_State in X.columns:\n",
    "        property_state_index = np.where(X.columns == Property_State)[0][0]\n",
    "        x[property_state_index] = 1\n",
    "\n",
    "    # Convert the array to a DataFrame with the same columns as X\n",
    "    x_df = pd.DataFrame([x], columns=X.columns)\n",
    "\n",
    "    # Return the predicted price using the trained model\n",
    "    # make the number of price like \n",
    "    return print(\"The predicted price is :\",lr_clf.predict(x_df)[0][0].astype(int), 'DH')\n"
   ]
  },
  {
   "cell_type": "code",
   "execution_count": 8,
   "metadata": {},
   "outputs": [
    {
     "name": "stdout",
     "output_type": "stream",
     "text": [
      "The predicted price is : 964794 DH\n"
     ]
    }
   ],
   "source": [
    "predict_price(80,3, 2, 1, 0,0,0,'Type_Appartement','Quartier_Hay Houda','Status_Bon état','Property_State_10-20 ans')"
   ]
  },
  {
   "cell_type": "code",
   "execution_count": 13,
   "metadata": {},
   "outputs": [],
   "source": [
    "import pickle\n",
    "with open('Agadir_home_prices_model.pickle','wb') as f:\n",
    "    pickle.dump(lr_clf,f)"
   ]
  },
  {
   "cell_type": "code",
   "execution_count": 14,
   "metadata": {},
   "outputs": [],
   "source": [
    "import json\n",
    "columns = {\n",
    "    'data_columns' : [col.lower() for col in X.columns]\n",
    "}\n",
    "with open(\"columns.json\",\"w\") as f:\n",
    "    f.write(json.dumps(columns))"
   ]
  }
 ],
 "metadata": {
  "kernelspec": {
   "display_name": "Python 3",
   "language": "python",
   "name": "python3"
  },
  "language_info": {
   "codemirror_mode": {
    "name": "ipython",
    "version": 3
   },
   "file_extension": ".py",
   "mimetype": "text/x-python",
   "name": "python",
   "nbconvert_exporter": "python",
   "pygments_lexer": "ipython3",
   "version": "3.12.2"
  }
 },
 "nbformat": 4,
 "nbformat_minor": 2
}
