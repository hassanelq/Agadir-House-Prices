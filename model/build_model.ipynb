{
 "cells": [
  {
   "cell_type": "code",
   "execution_count": 1,
   "metadata": {},
   "outputs": [],
   "source": [
    "import pandas as pd\n",
    "# Load the dataset\n",
    "X = pd.read_csv(r'./clean/X.csv', dtype=object)\n",
    "Y = pd.read_csv(r'./clean/Y.csv', dtype=object)"
   ]
  },
  {
   "cell_type": "code",
   "execution_count": 2,
   "metadata": {},
   "outputs": [],
   "source": [
    "from sklearn.model_selection import train_test_split\n",
    "X_train, X_test, y_train, y_test = train_test_split(X,Y,test_size=0.2,random_state=10)"
   ]
  },
  {
   "cell_type": "code",
   "execution_count": 3,
   "metadata": {},
   "outputs": [
    {
     "data": {
      "text/plain": [
       "0.7070254809620579"
      ]
     },
     "execution_count": 3,
     "metadata": {},
     "output_type": "execute_result"
    }
   ],
   "source": [
    "from sklearn.linear_model import LinearRegression\n",
    "lr_clf = LinearRegression()\n",
    "lr_clf.fit(X_train,y_train)\n",
    "lr_clf.score(X_test,y_test)"
   ]
  },
  {
   "cell_type": "code",
   "execution_count": 4,
   "metadata": {},
   "outputs": [
    {
     "data": {
      "text/plain": [
       "array([0.66668428, 0.69215039, 0.72837555, 0.62531468, 0.82737469])"
      ]
     },
     "execution_count": 4,
     "metadata": {},
     "output_type": "execute_result"
    }
   ],
   "source": [
    "from sklearn.model_selection import ShuffleSplit\n",
    "from sklearn.model_selection import cross_val_score\n",
    "\n",
    "cv = ShuffleSplit(n_splits=5, test_size=0.2, random_state=0)\n",
    "\n",
    "cross_val_score(LinearRegression(), X, Y, cv=cv)"
   ]
  },
  {
   "cell_type": "code",
   "execution_count": 5,
   "metadata": {},
   "outputs": [
    {
     "name": "stdout",
     "output_type": "stream",
     "text": [
      "Linear Regression:\n",
      "MAE: 559345.3860326246\n",
      "MSE: 765709864845.6542\n",
      "R2 Score: 0.7070254809620579\n"
     ]
    }
   ],
   "source": [
    "from sklearn.linear_model import LinearRegression\n",
    "from sklearn.metrics import mean_absolute_error, mean_squared_error, r2_score\n",
    "\n",
    "# Train the model\n",
    "lr = LinearRegression()\n",
    "lr.fit(X_train, y_train)\n",
    "# Predict\n",
    "y_pred_lr = lr.predict(X_test)\n",
    "\n",
    "# Evaluate\n",
    "print('Linear Regression:')\n",
    "print('MAE:', mean_absolute_error(y_test, y_pred_lr))\n",
    "print('MSE:', mean_squared_error(y_test, y_pred_lr))\n",
    "print('R2 Score:', r2_score(y_test, y_pred_lr))\n"
   ]
  },
  {
   "cell_type": "code",
   "execution_count": 6,
   "metadata": {},
   "outputs": [
    {
     "data": {
      "text/plain": [
       "Index(['Area', 'Rooms', 'Bedrooms', 'Bathrooms', 'Jardin', 'Piscine',\n",
       "       'Cuisine_equiped', 'Type_Appartement', 'Type_Maison', 'Type_Villa',\n",
       "       'Quartier_Abattoirs', 'Quartier_Al Wifaq', 'Quartier_Amicales',\n",
       "       'Quartier_Amsernate', 'Quartier_Anza', 'Quartier_Ben Serguaou',\n",
       "       'Quartier_Bouargane', 'Quartier_Charaf', 'Quartier_Cité Adrar',\n",
       "       'Quartier_Extension Dakhla', 'Quartier_Founti', 'Quartier_Haut Anza',\n",
       "       'Quartier_Haut Founty', 'Quartier_Hay Al Farah',\n",
       "       'Quartier_Hay Al Wafaa', 'Quartier_Hay Dakhla', 'Quartier_Hay Houda',\n",
       "       'Quartier_Hay Massira', 'Quartier_Hay Mohammadi', 'Quartier_Hay Najah',\n",
       "       'Quartier_Hay Qods', 'Quartier_Hay Salam', 'Quartier_Illigh',\n",
       "       'Quartier_Lekhiam', 'Quartier_Riad Salam',\n",
       "       'Quartier_Secteur Touristique', 'Quartier_Siusse', 'Quartier_Taddart',\n",
       "       'Quartier_Taddart Anza', 'Quartier_Talborjt', 'Quartier_Tikiouine',\n",
       "       'Quartier_Tilila', 'Quartier_Ville Nouvelle',\n",
       "       'Quartier_Zone Industrielle Agadir', 'Status_Bon état',\n",
       "       'Status_Nouveau', 'Status_À rénover', 'Property_State_1-5 ans',\n",
       "       'Property_State_10-20 ans', 'Property_State_20-30 ans',\n",
       "       'Property_State_30-50 ans', 'Property_State_5-10 ans',\n",
       "       'Property_State_50-70 ans', 'Property_State_Moins d'un an'],\n",
       "      dtype='object')"
      ]
     },
     "execution_count": 6,
     "metadata": {},
     "output_type": "execute_result"
    }
   ],
   "source": [
    "X.columns"
   ]
  },
  {
   "cell_type": "code",
   "execution_count": 7,
   "metadata": {},
   "outputs": [],
   "source": [
    "import numpy as np\n",
    "import pandas as pd\n",
    "\n",
    "def predict_price(Area, Rooms, Bedrooms, Bathrooms, Jardin, Piscine, Cuisine_equiped, Type, Location, Status, Property_State):\n",
    "    # Create an array of zeros with the length of columns in X\n",
    "    x = np.zeros(len(X.columns))\n",
    "\n",
    "    # Assign values to the array\n",
    "    x[0] = Area\n",
    "    x[1] = Rooms\n",
    "    x[2] = Bedrooms\n",
    "    x[3] = Bathrooms\n",
    "    x[4] = Jardin\n",
    "    x[5] = Piscine\n",
    "    x[6] = Cuisine_equiped\n",
    "\n",
    "    # Find the index of categorical features and set them to 1\n",
    "    if Location in X.columns:\n",
    "        loc_index = np.where(X.columns == Location)[0][0]\n",
    "        x[loc_index] = 1\n",
    "    if Type in X.columns:\n",
    "        type_index = np.where(X.columns == Type)[0][0]\n",
    "        x[type_index] = 1\n",
    "    if Status in X.columns:\n",
    "        status_index = np.where(X.columns == Status)[0][0]\n",
    "        x[status_index] = 1\n",
    "    if Property_State in X.columns:\n",
    "        property_state_index = np.where(X.columns == Property_State)[0][0]\n",
    "        x[property_state_index] = 1\n",
    "\n",
    "    # Convert the array to a DataFrame with the same columns as X\n",
    "    x_df = pd.DataFrame([x], columns=X.columns)\n",
    "\n",
    "    # Return the predicted price using the trained model\n",
    "    # make the number of price like \n",
    "    return print(\"The predicted price is :\",lr_clf.predict(x_df)[0][0].astype(int), 'DH')\n"
   ]
  },
  {
   "cell_type": "code",
   "execution_count": 8,
   "metadata": {},
   "outputs": [
    {
     "name": "stdout",
     "output_type": "stream",
     "text": [
      "The predicted price is : 964794 DH\n"
     ]
    }
   ],
   "source": [
    "predict_price(80,3, 2, 1, 0,0,0,'Type_Appartement','Quartier_Hay Houda','Status_Bon état','Property_State_10-20 ans')"
   ]
  },
  {
   "cell_type": "code",
   "execution_count": 10,
   "metadata": {},
   "outputs": [],
   "source": [
    "import pickle\n",
    "with open('Agadir_home_prices_model.pickle','wb') as f:\n",
    "    pickle.dump(lr_clf,f)"
   ]
  },
  {
   "cell_type": "code",
   "execution_count": 11,
   "metadata": {},
   "outputs": [],
   "source": [
    "import json\n",
    "columns = {\n",
    "    'data_columns' : [col.lower() for col in X.columns]\n",
    "}\n",
    "with open(\"columns.json\",\"w\") as f:\n",
    "    f.write(json.dumps(columns))"
   ]
  }
 ],
 "metadata": {
  "kernelspec": {
   "display_name": "Python 3",
   "language": "python",
   "name": "python3"
  },
  "language_info": {
   "codemirror_mode": {
    "name": "ipython",
    "version": 3
   },
   "file_extension": ".py",
   "mimetype": "text/x-python",
   "name": "python",
   "nbconvert_exporter": "python",
   "pygments_lexer": "ipython3",
   "version": "3.12.2"
  }
 },
 "nbformat": 4,
 "nbformat_minor": 2
}
