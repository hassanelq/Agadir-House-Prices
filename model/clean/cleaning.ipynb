{
 "cells": [
  {
   "cell_type": "markdown",
   "metadata": {},
   "source": [
    "# Dataset cleaning"
   ]
  },
  {
   "cell_type": "markdown",
   "metadata": {},
   "source": [
    "### Importing data"
   ]
  },
  {
   "cell_type": "code",
   "execution_count": 1,
   "metadata": {},
   "outputs": [],
   "source": [
    "import pandas as pd\n",
    "\n",
    "# Load the dataset\n",
    "df = pd.read_csv(r'../scrap/mubawab_listings.csv', dtype=object)"
   ]
  },
  {
   "cell_type": "markdown",
   "metadata": {},
   "source": [
    "### Delete unnecessary columns"
   ]
  },
  {
   "cell_type": "code",
   "execution_count": 2,
   "metadata": {},
   "outputs": [],
   "source": [
    "df = df.drop(['Standing', 'Ascenseur', 'Vue_sur_mer', 'Garage'], axis=1)"
   ]
  },
  {
   "cell_type": "markdown",
   "metadata": {},
   "source": [
    "### Property_State colum, if it's equal to 0, it's NAN"
   ]
  },
  {
   "cell_type": "code",
   "execution_count": 3,
   "metadata": {},
   "outputs": [],
   "source": [
    "df['Property_State'] = df['Property_State'].replace('0', pd.NA)"
   ]
  },
  {
   "cell_type": "markdown",
   "metadata": {},
   "source": [
    "### Convert the relevant columns to numeric"
   ]
  },
  {
   "cell_type": "code",
   "execution_count": 4,
   "metadata": {},
   "outputs": [],
   "source": [
    "# Convert numerical columns to appropriate data types\n",
    "df['Price'] = pd.to_numeric(df['Price'], errors='coerce')\n",
    "df['Area'] = pd.to_numeric(df['Area'], errors='coerce')\n",
    "df['Rooms'] = pd.to_numeric(df['Rooms'], errors='coerce')\n",
    "df['Bedrooms'] = pd.to_numeric(df['Bedrooms'], errors='coerce')\n",
    "df['Bathrooms'] = pd.to_numeric(df['Bathrooms'], errors='coerce')\n",
    "df['Jardin'] = df['Jardin'].astype(int)\n",
    "df['Piscine'] = df['Piscine'].astype(int)\n",
    "df['Cuisine_equiped'] = df['Cuisine_equiped'].astype(int)"
   ]
  },
  {
   "cell_type": "markdown",
   "metadata": {},
   "source": [
    "### delete rows missing rooms and status"
   ]
  },
  {
   "cell_type": "code",
   "execution_count": 5,
   "metadata": {},
   "outputs": [],
   "source": [
    "# delete rows missing rooms and status\n",
    "df = df.dropna(subset=['Rooms', 'Status'])"
   ]
  },
  {
   "cell_type": "markdown",
   "metadata": {},
   "source": [
    "### Function to fill missing values in rooms and status based on similar properties"
   ]
  },
  {
   "cell_type": "code",
   "execution_count": 6,
   "metadata": {},
   "outputs": [],
   "source": [
    "# Fill missing Price values step by step\n",
    "df['Price'] = df['Price'].fillna(\n",
    "    df.groupby(['Type', 'Quartier', 'Status', 'Bedrooms', 'Bathrooms', 'Rooms', 'Property_State', 'Jardin', 'Piscine', 'Cuisine_equiped'])['Price']\n",
    "    .transform(lambda x: x.mean()))\n",
    "\n",
    "df['Price'] = df['Price'].fillna(\n",
    "    df.groupby(['Type', 'Quartier', 'Status', 'Bedrooms', 'Bathrooms', 'Rooms', 'Piscine', 'Cuisine_equiped'])['Price']\n",
    "    .transform(lambda x: x.mean()))\n",
    "\n",
    "df['Price'] = df['Price'].fillna(\n",
    "    df.groupby(['Type', 'Quartier', 'Status', 'Bedrooms', 'Bathrooms', 'Piscine'])['Price']\n",
    "    .transform(lambda x: x.mean()))\n",
    "\n",
    "df['Price'] = df['Price'].fillna(\n",
    "    df.groupby(['Type', 'Quartier', 'Status', 'Bedrooms', 'Bathrooms'])['Price']\n",
    "    .transform(lambda x: x.mean()))\n",
    "\n",
    "df['Price'] = df['Price'].fillna(\n",
    "    df.groupby(['Type', 'Quartier', 'Status', 'Bathrooms'])['Price']\n",
    "    .transform(lambda x: x.mean()))\n",
    "\n",
    "df['Price'] = df['Price'].fillna(\n",
    "    df.groupby(['Type', 'Quartier', 'Status', 'Bedrooms'])['Price']\n",
    "    .transform(lambda x: x.mean()))\n",
    "\n",
    "df['Price'] = df['Price'].fillna(\n",
    "    df.groupby(['Type', 'Quartier', 'Status'])['Price']\n",
    "    .transform(lambda x: x.mean()))\n",
    "\n",
    "df['Price'] = df['Price'].fillna(\n",
    "    df.groupby(['Type', 'Quartier'])['Price']\n",
    "    .transform(lambda x: x.mean()))\n",
    "\n",
    "df['Price'] = df['Price'].fillna(\n",
    "    df.groupby(['Type', 'Status'])['Price']\n",
    "    .transform(lambda x: x.mean()))"
   ]
  },
  {
   "cell_type": "code",
   "execution_count": 8,
   "metadata": {},
   "outputs": [],
   "source": [
    "# Fill missing Area values\n",
    "df['Area'] = df['Area'].fillna(\n",
    "    df.groupby(['Type', 'Quartier', 'Status', 'Bedrooms', 'Bathrooms'])['Area']\n",
    "    .transform(lambda x: x.mean()))\n",
    "\n",
    "df['Area'] = df['Area'].fillna(\n",
    "    df.groupby(['Type'])['Area']\n",
    "    .transform(lambda x: x.mean()))"
   ]
  },
  {
   "cell_type": "code",
   "execution_count": 10,
   "metadata": {},
   "outputs": [],
   "source": [
    "def fill_property_state(row):\n",
    "        if pd.isnull(row['Property_State']):\n",
    "            if row['Status'] == 'Nouveau':\n",
    "                return '0'\n",
    "            else:\n",
    "                mode_value = df[(df['Type'] == row['Type']) &\n",
    "                                (df['Quartier'] == row['Quartier']) &\n",
    "                                (df['Status'] == row['Status'])]['Property_State'].mode()\n",
    "                if not mode_value.empty:\n",
    "                    return mode_value[0]\n",
    "                else:\n",
    "                    mode_value = df[(df['Status'] == row['Status'])]['Property_State'].mode()\n",
    "                    return mode_value[0]\n",
    "        else:\n",
    "            return row['Property_State']\n",
    "\n",
    "df['Property_State'] = df.apply(fill_property_state, axis=1)"
   ]
  },
  {
   "cell_type": "code",
   "execution_count": 11,
   "metadata": {},
   "outputs": [
    {
     "name": "stdout",
     "output_type": "stream",
     "text": [
      "Type               0\n",
      "Quartier           0\n",
      "Price              0\n",
      "Area               0\n",
      "Rooms              0\n",
      "Bedrooms           0\n",
      "Bathrooms          0\n",
      "Status             0\n",
      "Property_State     0\n",
      "Jardin             0\n",
      "Piscine            0\n",
      "Cuisine_equiped    0\n",
      "dtype: int64\n"
     ]
    }
   ],
   "source": [
    "print(df.isnull().sum())"
   ]
  },
  {
   "cell_type": "markdown",
   "metadata": {},
   "source": [
    "### Add Price_m2 column"
   ]
  },
  {
   "cell_type": "code",
   "execution_count": 13,
   "metadata": {},
   "outputs": [],
   "source": [
    "# Add Price_m2 column\n",
    "df['Price_m2'] = df['Price'] / df['Area']"
   ]
  },
  {
   "cell_type": "code",
   "execution_count": 14,
   "metadata": {},
   "outputs": [
    {
     "name": "stdout",
     "output_type": "stream",
     "text": [
      "          Type   Quartier     Price  Area  Rooms  Bedrooms  Bathrooms  \\\n",
      "0  Appartement  Hay Houda  966000.0  84.0    4.0         3          2   \n",
      "1  Appartement  Hay Houda  549000.0  58.0    3.0         2          2   \n",
      "2  Appartement  Hay Houda  624000.0  65.0    3.0         2          2   \n",
      "3  Appartement  Hay Houda  979000.0  89.0    4.0         3          2   \n",
      "4  Appartement  Hay Houda  957000.0  87.0    4.0         3          2   \n",
      "\n",
      "    Status Property_State  Jardin  Piscine  Cuisine_equiped      Price_m2  \n",
      "0  Nouveau              0       0        1                1  11500.000000  \n",
      "1  Nouveau              0       0        0                1   9465.517241  \n",
      "2  Nouveau              0       0        0                1   9600.000000  \n",
      "3  Nouveau              0       0        1                1  11000.000000  \n",
      "4  Nouveau              0       0        1                1  11000.000000  \n"
     ]
    }
   ],
   "source": [
    "print(df.head())"
   ]
  },
  {
   "cell_type": "code",
   "execution_count": 15,
   "metadata": {},
   "outputs": [],
   "source": [
    "# Save df to csv file for further analysis and preprocessing\n",
    "df.to_csv('mubawab_listings_clean.csv', index=False)"
   ]
  }
 ],
 "metadata": {
  "kernelspec": {
   "display_name": "base",
   "language": "python",
   "name": "python3"
  },
  "language_info": {
   "codemirror_mode": {
    "name": "ipython",
    "version": 3
   },
   "file_extension": ".py",
   "mimetype": "text/x-python",
   "name": "python",
   "nbconvert_exporter": "python",
   "pygments_lexer": "ipython3",
   "version": "3.12.2"
  }
 },
 "nbformat": 4,
 "nbformat_minor": 2
}
