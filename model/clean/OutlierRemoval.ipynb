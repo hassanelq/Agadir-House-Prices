{
 "cells": [
  {
   "cell_type": "code",
   "execution_count": 5,
   "metadata": {},
   "outputs": [],
   "source": [
    "import pandas as pd\n",
    "import plotly.express as px\n",
    "# Load the dataset\n",
    "data = pd.read_csv(r'mubawab_listings_clean.csv', dtype=object)"
   ]
  },
  {
   "cell_type": "code",
   "execution_count": 6,
   "metadata": {},
   "outputs": [
    {
     "data": {
      "application/vnd.plotly.v1+json": {
       "config": {
        "plotlyServerURL": "https://plot.ly"
       },
       "data": [
        {
         "alignmentgroup": "True",
         "bingroup": "x",
         "hovertemplate": "Type=%{x}<br>count=%{y}<extra></extra>",
         "legendgroup": "",
         "marker": {
          "color": "#636efa",
          "pattern": {
           "shape": ""
          }
         },
         "name": "",
         "offsetgroup": "",
         "orientation": "v",
         "showlegend": false,
         "type": "histogram",
         "x": [
          "Appartement",
          "Appartement",
          "Appartement",
          "Appartement",
          "Appartement",
          "Appartement",
          "Appartement",
          "Appartement",
          "Appartement",
          "Appartement",
          "Appartement",
          "Maison",
          "Appartement",
          "Appartement",
          "Appartement",
          "Appartement",
          "Appartement",
          "Villa",
          "Appartement",
          "Appartement",
          "Appartement",
          "Appartement",
          "Appartement",
          "Villa",
          "Appartement",
          "Appartement",
          "Villa",
          "Appartement",
          "Villa",
          "Appartement",
          "Appartement",
          "Appartement",
          "Appartement",
          "Appartement",
          "Appartement",
          "Appartement",
          "Appartement",
          "Appartement",
          "Appartement",
          "Appartement",
          "Appartement",
          "Appartement",
          "Appartement",
          "Appartement",
          "Villa",
          "Appartement",
          "Appartement",
          "Villa",
          "Appartement",
          "Appartement",
          "Maison",
          "Appartement",
          "Appartement",
          "Appartement",
          "Villa",
          "Appartement",
          "Appartement",
          "Appartement",
          "Villa",
          "Villa",
          "Appartement",
          "Appartement",
          "Appartement",
          "Appartement",
          "Appartement",
          "Villa",
          "Appartement",
          "Maison",
          "Appartement",
          "Maison",
          "Maison",
          "Maison",
          "Appartement",
          "Appartement",
          "Appartement",
          "Villa",
          "Villa",
          "Appartement",
          "Appartement",
          "Appartement",
          "Maison",
          "Appartement",
          "Appartement",
          "Villa",
          "Appartement",
          "Appartement",
          "Appartement",
          "Appartement",
          "Appartement",
          "Appartement",
          "Appartement",
          "Appartement",
          "Maison",
          "Maison",
          "Appartement",
          "Villa",
          "Villa",
          "Villa",
          "Villa",
          "Appartement",
          "Appartement",
          "Appartement",
          "Villa",
          "Villa",
          "Appartement",
          "Appartement",
          "Villa",
          "Maison",
          "Appartement",
          "Villa",
          "Appartement",
          "Villa",
          "Villa",
          "Villa",
          "Villa",
          "Villa",
          "Villa",
          "Appartement",
          "Appartement",
          "Villa",
          "Villa",
          "Appartement",
          "Appartement",
          "Appartement",
          "Appartement",
          "Appartement",
          "Maison",
          "Maison",
          "Maison",
          "Maison",
          "Appartement",
          "Appartement",
          "Appartement",
          "Appartement",
          "Appartement",
          "Appartement",
          "Maison",
          "Appartement",
          "Appartement",
          "Maison",
          "Appartement",
          "Appartement",
          "Maison",
          "Appartement",
          "Villa",
          "Appartement",
          "Villa",
          "Appartement",
          "Appartement",
          "Appartement",
          "Appartement",
          "Appartement",
          "Appartement",
          "Appartement",
          "Appartement",
          "Appartement",
          "Appartement",
          "Appartement",
          "Appartement",
          "Villa",
          "Appartement",
          "Appartement",
          "Villa",
          "Appartement",
          "Appartement",
          "Appartement",
          "Maison",
          "Villa",
          "Maison",
          "Appartement",
          "Appartement",
          "Villa",
          "Appartement",
          "Villa",
          "Appartement",
          "Appartement",
          "Appartement",
          "Appartement",
          "Riad",
          "Appartement",
          "Villa",
          "Appartement",
          "Villa",
          "Appartement",
          "Villa",
          "Villa",
          "Riad",
          "Appartement",
          "Appartement",
          "Appartement",
          "Appartement",
          "Villa",
          "Appartement",
          "Appartement",
          "Maison",
          "Maison",
          "Appartement",
          "Appartement",
          "Maison",
          "Appartement",
          "Villa",
          "Appartement",
          "Villa",
          "Appartement",
          "Appartement",
          "Appartement",
          "Appartement",
          "Appartement",
          "Appartement",
          "Villa",
          "Villa",
          "Maison",
          "Appartement",
          "Villa",
          "Appartement",
          "Appartement",
          "Appartement",
          "Appartement",
          "Appartement",
          "Villa",
          "Maison",
          "Appartement",
          "Appartement",
          "Appartement",
          "Appartement",
          "Appartement",
          "Appartement",
          "Appartement",
          "Appartement",
          "Villa",
          "Villa",
          "Appartement",
          "Appartement",
          "Appartement",
          "Villa",
          "Appartement",
          "Villa",
          "Maison",
          "Appartement",
          "Appartement",
          "Villa",
          "Appartement",
          "Maison",
          "Appartement",
          "Villa",
          "Appartement",
          "Villa",
          "Appartement",
          "Appartement",
          "Appartement",
          "Maison",
          "Appartement",
          "Maison",
          "Appartement",
          "Appartement",
          "Appartement",
          "Appartement",
          "Appartement",
          "Appartement",
          "Appartement",
          "Appartement",
          "Appartement",
          "Appartement",
          "Appartement",
          "Appartement",
          "Appartement",
          "Maison",
          "Maison",
          "Maison",
          "Villa",
          "Maison",
          "Appartement",
          "Appartement",
          "Villa",
          "Villa",
          "Appartement",
          "Appartement",
          "Appartement",
          "Appartement",
          "Villa",
          "Appartement",
          "Appartement",
          "Appartement",
          "Appartement",
          "Appartement",
          "Appartement",
          "Villa",
          "Maison",
          "Maison",
          "Appartement",
          "Maison",
          "Appartement",
          "Appartement",
          "Maison",
          "Appartement",
          "Appartement",
          "Appartement",
          "Appartement",
          "Appartement",
          "Maison",
          "Appartement",
          "Maison",
          "Maison",
          "Appartement",
          "Appartement",
          "Appartement",
          "Appartement",
          "Maison",
          "Appartement",
          "Appartement",
          "Appartement",
          "Appartement",
          "Appartement",
          "Appartement",
          "Villa",
          "Appartement",
          "Maison",
          "Appartement",
          "Appartement",
          "Appartement",
          "Appartement",
          "Appartement",
          "Appartement",
          "Villa",
          "Maison",
          "Appartement",
          "Appartement",
          "Appartement",
          "Appartement",
          "Villa",
          "Appartement",
          "Appartement",
          "Maison",
          "Maison",
          "Appartement",
          "Villa",
          "Appartement",
          "Maison",
          "Appartement",
          "Appartement",
          "Appartement",
          "Maison",
          "Appartement",
          "Appartement",
          "Appartement",
          "Villa",
          "Maison",
          "Appartement",
          "Maison",
          "Villa",
          "Appartement",
          "Appartement",
          "Appartement",
          "Appartement",
          "Appartement",
          "Appartement",
          "Appartement",
          "Appartement",
          "Appartement",
          "Appartement",
          "Appartement",
          "Appartement",
          "Appartement",
          "Appartement",
          "Appartement",
          "Maison",
          "Appartement",
          "Appartement",
          "Appartement",
          "Villa",
          "Maison",
          "Appartement",
          "Villa",
          "Maison",
          "Appartement",
          "Appartement",
          "Maison",
          "Appartement",
          "Appartement",
          "Maison",
          "Appartement",
          "Appartement",
          "Appartement",
          "Appartement",
          "Appartement",
          "Appartement",
          "Appartement",
          "Maison",
          "Appartement",
          "Appartement",
          "Appartement",
          "Riad",
          "Appartement",
          "Appartement",
          "Appartement",
          "Appartement",
          "Appartement",
          "Appartement",
          "Appartement",
          "Appartement",
          "Maison",
          "Appartement",
          "Appartement",
          "Maison",
          "Appartement",
          "Appartement",
          "Appartement",
          "Appartement",
          "Appartement",
          "Appartement",
          "Maison",
          "Appartement",
          "Appartement",
          "Maison",
          "Appartement",
          "Appartement",
          "Appartement",
          "Appartement",
          "Appartement",
          "Appartement",
          "Villa",
          "Appartement",
          "Appartement",
          "Maison",
          "Maison",
          "Appartement",
          "Appartement",
          "Appartement",
          "Villa",
          "Appartement",
          "Appartement",
          "Appartement",
          "Maison",
          "Appartement",
          "Appartement",
          "Appartement",
          "Maison",
          "Maison",
          "Villa",
          "Maison",
          "Appartement",
          "Maison",
          "Appartement",
          "Appartement",
          "Appartement",
          "Appartement",
          "Appartement",
          "Appartement",
          "Appartement",
          "Appartement",
          "Appartement",
          "Maison",
          "Appartement",
          "Appartement",
          "Appartement",
          "Appartement",
          "Maison",
          "Appartement",
          "Villa",
          "Appartement",
          "Appartement",
          "Appartement",
          "Villa",
          "Appartement",
          "Appartement",
          "Villa",
          "Villa",
          "Appartement",
          "Appartement",
          "Villa",
          "Maison",
          "Appartement",
          "Appartement",
          "Villa",
          "Maison",
          "Maison",
          "Appartement",
          "Appartement",
          "Villa",
          "Appartement",
          "Appartement",
          "Appartement",
          "Appartement",
          "Villa",
          "Appartement",
          "Maison",
          "Appartement",
          "Maison",
          "Appartement",
          "Appartement",
          "Appartement",
          "Appartement",
          "Villa",
          "Appartement",
          "Villa",
          "Appartement",
          "Appartement",
          "Maison",
          "Appartement",
          "Appartement",
          "Appartement",
          "Appartement",
          "Villa",
          "Appartement",
          "Appartement",
          "Appartement",
          "Villa",
          "Appartement",
          "Appartement",
          "Appartement",
          "Appartement",
          "Appartement",
          "Villa",
          "Appartement",
          "Appartement",
          "Appartement",
          "Villa",
          "Appartement",
          "Appartement",
          "Appartement",
          "Appartement",
          "Appartement",
          "Riad",
          "Villa",
          "Appartement",
          "Appartement",
          "Villa",
          "Appartement",
          "Appartement",
          "Appartement",
          "Appartement",
          "Appartement",
          "Appartement",
          "Appartement",
          "Villa",
          "Appartement",
          "Appartement",
          "Appartement",
          "Appartement",
          "Appartement",
          "Villa",
          "Villa",
          "Appartement",
          "Maison",
          "Appartement",
          "Appartement",
          "Villa",
          "Appartement",
          "Appartement",
          "Appartement",
          "Appartement",
          "Appartement",
          "Appartement",
          "Appartement",
          "Appartement",
          "Appartement",
          "Villa",
          "Maison",
          "Appartement",
          "Riad",
          "Appartement",
          "Maison",
          "Appartement",
          "Appartement",
          "Appartement",
          "Appartement",
          "Appartement",
          "Appartement",
          "Villa",
          "Appartement",
          "Appartement",
          "Appartement",
          "Maison",
          "Appartement",
          "Appartement",
          "Appartement",
          "Appartement",
          "Appartement",
          "Appartement",
          "Appartement",
          "Appartement",
          "Maison",
          "Appartement",
          "Appartement",
          "Appartement",
          "Appartement",
          "Villa",
          "Villa",
          "Appartement",
          "Maison",
          "Villa",
          "Appartement",
          "Appartement",
          "Appartement",
          "Appartement",
          "Appartement",
          "Appartement",
          "Maison",
          "Maison",
          "Maison",
          "Appartement",
          "Maison",
          "Maison",
          "Appartement",
          "Appartement",
          "Appartement",
          "Appartement",
          "Appartement",
          "Appartement",
          "Appartement",
          "Appartement",
          "Appartement",
          "Maison",
          "Appartement",
          "Appartement",
          "Appartement",
          "Appartement",
          "Villa",
          "Appartement",
          "Villa",
          "Villa",
          "Appartement",
          "Appartement",
          "Appartement",
          "Appartement",
          "Villa",
          "Villa",
          "Maison",
          "Appartement",
          "Appartement",
          "Appartement",
          "Appartement",
          "Appartement",
          "Appartement",
          "Maison",
          "Appartement",
          "Appartement",
          "Appartement",
          "Appartement",
          "Appartement",
          "Appartement",
          "Appartement",
          "Appartement",
          "Appartement",
          "Appartement",
          "Maison",
          "Maison",
          "Riad",
          "Appartement",
          "Maison",
          "Appartement",
          "Maison",
          "Appartement",
          "Villa",
          "Appartement",
          "Appartement",
          "Appartement",
          "Appartement",
          "Villa",
          "Appartement",
          "Appartement",
          "Appartement",
          "Appartement",
          "Appartement",
          "Appartement",
          "Appartement",
          "Appartement",
          "Appartement",
          "Appartement",
          "Villa",
          "Maison",
          "Appartement",
          "Appartement",
          "Appartement",
          "Appartement",
          "Maison",
          "Maison",
          "Maison",
          "Appartement",
          "Appartement",
          "Appartement",
          "Appartement",
          "Appartement",
          "Appartement",
          "Appartement",
          "Appartement",
          "Maison",
          "Appartement",
          "Appartement",
          "Villa",
          "Appartement",
          "Appartement",
          "Maison",
          "Villa",
          "Appartement",
          "Appartement",
          "Appartement",
          "Maison",
          "Appartement",
          "Appartement",
          "Appartement",
          "Appartement",
          "Appartement",
          "Appartement",
          "Appartement",
          "Appartement",
          "Appartement",
          "Appartement",
          "Appartement",
          "Appartement",
          "Appartement",
          "Appartement",
          "Appartement",
          "Appartement",
          "Appartement",
          "Villa",
          "Maison",
          "Appartement",
          "Appartement",
          "Appartement",
          "Maison",
          "Maison",
          "Appartement",
          "Appartement",
          "Appartement",
          "Appartement",
          "Appartement",
          "Appartement",
          "Appartement",
          "Appartement",
          "Appartement",
          "Maison",
          "Appartement",
          "Appartement",
          "Appartement",
          "Appartement",
          "Appartement",
          "Villa",
          "Appartement",
          "Appartement",
          "Maison",
          "Appartement",
          "Appartement",
          "Appartement",
          "Appartement",
          "Appartement",
          "Appartement",
          "Appartement",
          "Appartement",
          "Appartement",
          "Appartement",
          "Appartement",
          "Appartement",
          "Maison",
          "Maison",
          "Appartement",
          "Appartement",
          "Appartement",
          "Villa",
          "Appartement",
          "Appartement",
          "Villa",
          "Maison",
          "Appartement",
          "Villa"
         ],
         "xaxis": "x",
         "yaxis": "y"
        }
       ],
       "layout": {
        "barmode": "relative",
        "legend": {
         "tracegroupgap": 0
        },
        "template": {
         "data": {
          "bar": [
           {
            "error_x": {
             "color": "#2a3f5f"
            },
            "error_y": {
             "color": "#2a3f5f"
            },
            "marker": {
             "line": {
              "color": "#E5ECF6",
              "width": 0.5
             },
             "pattern": {
              "fillmode": "overlay",
              "size": 10,
              "solidity": 0.2
             }
            },
            "type": "bar"
           }
          ],
          "barpolar": [
           {
            "marker": {
             "line": {
              "color": "#E5ECF6",
              "width": 0.5
             },
             "pattern": {
              "fillmode": "overlay",
              "size": 10,
              "solidity": 0.2
             }
            },
            "type": "barpolar"
           }
          ],
          "carpet": [
           {
            "aaxis": {
             "endlinecolor": "#2a3f5f",
             "gridcolor": "white",
             "linecolor": "white",
             "minorgridcolor": "white",
             "startlinecolor": "#2a3f5f"
            },
            "baxis": {
             "endlinecolor": "#2a3f5f",
             "gridcolor": "white",
             "linecolor": "white",
             "minorgridcolor": "white",
             "startlinecolor": "#2a3f5f"
            },
            "type": "carpet"
           }
          ],
          "choropleth": [
           {
            "colorbar": {
             "outlinewidth": 0,
             "ticks": ""
            },
            "type": "choropleth"
           }
          ],
          "contour": [
           {
            "colorbar": {
             "outlinewidth": 0,
             "ticks": ""
            },
            "colorscale": [
             [
              0,
              "#0d0887"
             ],
             [
              0.1111111111111111,
              "#46039f"
             ],
             [
              0.2222222222222222,
              "#7201a8"
             ],
             [
              0.3333333333333333,
              "#9c179e"
             ],
             [
              0.4444444444444444,
              "#bd3786"
             ],
             [
              0.5555555555555556,
              "#d8576b"
             ],
             [
              0.6666666666666666,
              "#ed7953"
             ],
             [
              0.7777777777777778,
              "#fb9f3a"
             ],
             [
              0.8888888888888888,
              "#fdca26"
             ],
             [
              1,
              "#f0f921"
             ]
            ],
            "type": "contour"
           }
          ],
          "contourcarpet": [
           {
            "colorbar": {
             "outlinewidth": 0,
             "ticks": ""
            },
            "type": "contourcarpet"
           }
          ],
          "heatmap": [
           {
            "colorbar": {
             "outlinewidth": 0,
             "ticks": ""
            },
            "colorscale": [
             [
              0,
              "#0d0887"
             ],
             [
              0.1111111111111111,
              "#46039f"
             ],
             [
              0.2222222222222222,
              "#7201a8"
             ],
             [
              0.3333333333333333,
              "#9c179e"
             ],
             [
              0.4444444444444444,
              "#bd3786"
             ],
             [
              0.5555555555555556,
              "#d8576b"
             ],
             [
              0.6666666666666666,
              "#ed7953"
             ],
             [
              0.7777777777777778,
              "#fb9f3a"
             ],
             [
              0.8888888888888888,
              "#fdca26"
             ],
             [
              1,
              "#f0f921"
             ]
            ],
            "type": "heatmap"
           }
          ],
          "heatmapgl": [
           {
            "colorbar": {
             "outlinewidth": 0,
             "ticks": ""
            },
            "colorscale": [
             [
              0,
              "#0d0887"
             ],
             [
              0.1111111111111111,
              "#46039f"
             ],
             [
              0.2222222222222222,
              "#7201a8"
             ],
             [
              0.3333333333333333,
              "#9c179e"
             ],
             [
              0.4444444444444444,
              "#bd3786"
             ],
             [
              0.5555555555555556,
              "#d8576b"
             ],
             [
              0.6666666666666666,
              "#ed7953"
             ],
             [
              0.7777777777777778,
              "#fb9f3a"
             ],
             [
              0.8888888888888888,
              "#fdca26"
             ],
             [
              1,
              "#f0f921"
             ]
            ],
            "type": "heatmapgl"
           }
          ],
          "histogram": [
           {
            "marker": {
             "pattern": {
              "fillmode": "overlay",
              "size": 10,
              "solidity": 0.2
             }
            },
            "type": "histogram"
           }
          ],
          "histogram2d": [
           {
            "colorbar": {
             "outlinewidth": 0,
             "ticks": ""
            },
            "colorscale": [
             [
              0,
              "#0d0887"
             ],
             [
              0.1111111111111111,
              "#46039f"
             ],
             [
              0.2222222222222222,
              "#7201a8"
             ],
             [
              0.3333333333333333,
              "#9c179e"
             ],
             [
              0.4444444444444444,
              "#bd3786"
             ],
             [
              0.5555555555555556,
              "#d8576b"
             ],
             [
              0.6666666666666666,
              "#ed7953"
             ],
             [
              0.7777777777777778,
              "#fb9f3a"
             ],
             [
              0.8888888888888888,
              "#fdca26"
             ],
             [
              1,
              "#f0f921"
             ]
            ],
            "type": "histogram2d"
           }
          ],
          "histogram2dcontour": [
           {
            "colorbar": {
             "outlinewidth": 0,
             "ticks": ""
            },
            "colorscale": [
             [
              0,
              "#0d0887"
             ],
             [
              0.1111111111111111,
              "#46039f"
             ],
             [
              0.2222222222222222,
              "#7201a8"
             ],
             [
              0.3333333333333333,
              "#9c179e"
             ],
             [
              0.4444444444444444,
              "#bd3786"
             ],
             [
              0.5555555555555556,
              "#d8576b"
             ],
             [
              0.6666666666666666,
              "#ed7953"
             ],
             [
              0.7777777777777778,
              "#fb9f3a"
             ],
             [
              0.8888888888888888,
              "#fdca26"
             ],
             [
              1,
              "#f0f921"
             ]
            ],
            "type": "histogram2dcontour"
           }
          ],
          "mesh3d": [
           {
            "colorbar": {
             "outlinewidth": 0,
             "ticks": ""
            },
            "type": "mesh3d"
           }
          ],
          "parcoords": [
           {
            "line": {
             "colorbar": {
              "outlinewidth": 0,
              "ticks": ""
             }
            },
            "type": "parcoords"
           }
          ],
          "pie": [
           {
            "automargin": true,
            "type": "pie"
           }
          ],
          "scatter": [
           {
            "fillpattern": {
             "fillmode": "overlay",
             "size": 10,
             "solidity": 0.2
            },
            "type": "scatter"
           }
          ],
          "scatter3d": [
           {
            "line": {
             "colorbar": {
              "outlinewidth": 0,
              "ticks": ""
             }
            },
            "marker": {
             "colorbar": {
              "outlinewidth": 0,
              "ticks": ""
             }
            },
            "type": "scatter3d"
           }
          ],
          "scattercarpet": [
           {
            "marker": {
             "colorbar": {
              "outlinewidth": 0,
              "ticks": ""
             }
            },
            "type": "scattercarpet"
           }
          ],
          "scattergeo": [
           {
            "marker": {
             "colorbar": {
              "outlinewidth": 0,
              "ticks": ""
             }
            },
            "type": "scattergeo"
           }
          ],
          "scattergl": [
           {
            "marker": {
             "colorbar": {
              "outlinewidth": 0,
              "ticks": ""
             }
            },
            "type": "scattergl"
           }
          ],
          "scattermapbox": [
           {
            "marker": {
             "colorbar": {
              "outlinewidth": 0,
              "ticks": ""
             }
            },
            "type": "scattermapbox"
           }
          ],
          "scatterpolar": [
           {
            "marker": {
             "colorbar": {
              "outlinewidth": 0,
              "ticks": ""
             }
            },
            "type": "scatterpolar"
           }
          ],
          "scatterpolargl": [
           {
            "marker": {
             "colorbar": {
              "outlinewidth": 0,
              "ticks": ""
             }
            },
            "type": "scatterpolargl"
           }
          ],
          "scatterternary": [
           {
            "marker": {
             "colorbar": {
              "outlinewidth": 0,
              "ticks": ""
             }
            },
            "type": "scatterternary"
           }
          ],
          "surface": [
           {
            "colorbar": {
             "outlinewidth": 0,
             "ticks": ""
            },
            "colorscale": [
             [
              0,
              "#0d0887"
             ],
             [
              0.1111111111111111,
              "#46039f"
             ],
             [
              0.2222222222222222,
              "#7201a8"
             ],
             [
              0.3333333333333333,
              "#9c179e"
             ],
             [
              0.4444444444444444,
              "#bd3786"
             ],
             [
              0.5555555555555556,
              "#d8576b"
             ],
             [
              0.6666666666666666,
              "#ed7953"
             ],
             [
              0.7777777777777778,
              "#fb9f3a"
             ],
             [
              0.8888888888888888,
              "#fdca26"
             ],
             [
              1,
              "#f0f921"
             ]
            ],
            "type": "surface"
           }
          ],
          "table": [
           {
            "cells": {
             "fill": {
              "color": "#EBF0F8"
             },
             "line": {
              "color": "white"
             }
            },
            "header": {
             "fill": {
              "color": "#C8D4E3"
             },
             "line": {
              "color": "white"
             }
            },
            "type": "table"
           }
          ]
         },
         "layout": {
          "annotationdefaults": {
           "arrowcolor": "#2a3f5f",
           "arrowhead": 0,
           "arrowwidth": 1
          },
          "autotypenumbers": "strict",
          "coloraxis": {
           "colorbar": {
            "outlinewidth": 0,
            "ticks": ""
           }
          },
          "colorscale": {
           "diverging": [
            [
             0,
             "#8e0152"
            ],
            [
             0.1,
             "#c51b7d"
            ],
            [
             0.2,
             "#de77ae"
            ],
            [
             0.3,
             "#f1b6da"
            ],
            [
             0.4,
             "#fde0ef"
            ],
            [
             0.5,
             "#f7f7f7"
            ],
            [
             0.6,
             "#e6f5d0"
            ],
            [
             0.7,
             "#b8e186"
            ],
            [
             0.8,
             "#7fbc41"
            ],
            [
             0.9,
             "#4d9221"
            ],
            [
             1,
             "#276419"
            ]
           ],
           "sequential": [
            [
             0,
             "#0d0887"
            ],
            [
             0.1111111111111111,
             "#46039f"
            ],
            [
             0.2222222222222222,
             "#7201a8"
            ],
            [
             0.3333333333333333,
             "#9c179e"
            ],
            [
             0.4444444444444444,
             "#bd3786"
            ],
            [
             0.5555555555555556,
             "#d8576b"
            ],
            [
             0.6666666666666666,
             "#ed7953"
            ],
            [
             0.7777777777777778,
             "#fb9f3a"
            ],
            [
             0.8888888888888888,
             "#fdca26"
            ],
            [
             1,
             "#f0f921"
            ]
           ],
           "sequentialminus": [
            [
             0,
             "#0d0887"
            ],
            [
             0.1111111111111111,
             "#46039f"
            ],
            [
             0.2222222222222222,
             "#7201a8"
            ],
            [
             0.3333333333333333,
             "#9c179e"
            ],
            [
             0.4444444444444444,
             "#bd3786"
            ],
            [
             0.5555555555555556,
             "#d8576b"
            ],
            [
             0.6666666666666666,
             "#ed7953"
            ],
            [
             0.7777777777777778,
             "#fb9f3a"
            ],
            [
             0.8888888888888888,
             "#fdca26"
            ],
            [
             1,
             "#f0f921"
            ]
           ]
          },
          "colorway": [
           "#636efa",
           "#EF553B",
           "#00cc96",
           "#ab63fa",
           "#FFA15A",
           "#19d3f3",
           "#FF6692",
           "#B6E880",
           "#FF97FF",
           "#FECB52"
          ],
          "font": {
           "color": "#2a3f5f"
          },
          "geo": {
           "bgcolor": "white",
           "lakecolor": "white",
           "landcolor": "#E5ECF6",
           "showlakes": true,
           "showland": true,
           "subunitcolor": "white"
          },
          "hoverlabel": {
           "align": "left"
          },
          "hovermode": "closest",
          "mapbox": {
           "style": "light"
          },
          "paper_bgcolor": "white",
          "plot_bgcolor": "#E5ECF6",
          "polar": {
           "angularaxis": {
            "gridcolor": "white",
            "linecolor": "white",
            "ticks": ""
           },
           "bgcolor": "#E5ECF6",
           "radialaxis": {
            "gridcolor": "white",
            "linecolor": "white",
            "ticks": ""
           }
          },
          "scene": {
           "xaxis": {
            "backgroundcolor": "#E5ECF6",
            "gridcolor": "white",
            "gridwidth": 2,
            "linecolor": "white",
            "showbackground": true,
            "ticks": "",
            "zerolinecolor": "white"
           },
           "yaxis": {
            "backgroundcolor": "#E5ECF6",
            "gridcolor": "white",
            "gridwidth": 2,
            "linecolor": "white",
            "showbackground": true,
            "ticks": "",
            "zerolinecolor": "white"
           },
           "zaxis": {
            "backgroundcolor": "#E5ECF6",
            "gridcolor": "white",
            "gridwidth": 2,
            "linecolor": "white",
            "showbackground": true,
            "ticks": "",
            "zerolinecolor": "white"
           }
          },
          "shapedefaults": {
           "line": {
            "color": "#2a3f5f"
           }
          },
          "ternary": {
           "aaxis": {
            "gridcolor": "white",
            "linecolor": "white",
            "ticks": ""
           },
           "baxis": {
            "gridcolor": "white",
            "linecolor": "white",
            "ticks": ""
           },
           "bgcolor": "#E5ECF6",
           "caxis": {
            "gridcolor": "white",
            "linecolor": "white",
            "ticks": ""
           }
          },
          "title": {
           "x": 0.05
          },
          "xaxis": {
           "automargin": true,
           "gridcolor": "white",
           "linecolor": "white",
           "ticks": "",
           "title": {
            "standoff": 15
           },
           "zerolinecolor": "white",
           "zerolinewidth": 2
          },
          "yaxis": {
           "automargin": true,
           "gridcolor": "white",
           "linecolor": "white",
           "ticks": "",
           "title": {
            "standoff": 15
           },
           "zerolinecolor": "white",
           "zerolinewidth": 2
          }
         }
        },
        "title": {
         "text": "Distribution of listings by type"
        },
        "xaxis": {
         "anchor": "y",
         "domain": [
          0,
          1
         ],
         "title": {
          "text": "Type"
         }
        },
        "yaxis": {
         "anchor": "x",
         "domain": [
          0,
          1
         ],
         "title": {
          "text": "count"
         }
        }
       }
      }
     },
     "metadata": {},
     "output_type": "display_data"
    }
   ],
   "source": [
    "# distribution of listings by type using plotly\n",
    "fig = px.histogram(data, x='Type', title='Distribution of listings by type')\n",
    "fig.show()"
   ]
  },
  {
   "cell_type": "code",
   "execution_count": 7,
   "metadata": {},
   "outputs": [],
   "source": [
    "data1 = data[data['Type'] != 'Riad']"
   ]
  },
  {
   "cell_type": "code",
   "execution_count": 8,
   "metadata": {},
   "outputs": [
    {
     "data": {
      "application/vnd.plotly.v1+json": {
       "config": {
        "plotlyServerURL": "https://plot.ly"
       },
       "data": [
        {
         "alignmentgroup": "True",
         "bingroup": "x",
         "hovertemplate": "Type=%{x}<br>count=%{y}<extra></extra>",
         "legendgroup": "",
         "marker": {
          "color": "#636efa",
          "pattern": {
           "shape": ""
          }
         },
         "name": "",
         "offsetgroup": "",
         "orientation": "v",
         "showlegend": false,
         "type": "histogram",
         "x": [
          "Appartement",
          "Appartement",
          "Appartement",
          "Appartement",
          "Appartement",
          "Appartement",
          "Appartement",
          "Appartement",
          "Appartement",
          "Appartement",
          "Appartement",
          "Maison",
          "Appartement",
          "Appartement",
          "Appartement",
          "Appartement",
          "Appartement",
          "Villa",
          "Appartement",
          "Appartement",
          "Appartement",
          "Appartement",
          "Appartement",
          "Villa",
          "Appartement",
          "Appartement",
          "Villa",
          "Appartement",
          "Villa",
          "Appartement",
          "Appartement",
          "Appartement",
          "Appartement",
          "Appartement",
          "Appartement",
          "Appartement",
          "Appartement",
          "Appartement",
          "Appartement",
          "Appartement",
          "Appartement",
          "Appartement",
          "Appartement",
          "Appartement",
          "Villa",
          "Appartement",
          "Appartement",
          "Villa",
          "Appartement",
          "Appartement",
          "Maison",
          "Appartement",
          "Appartement",
          "Appartement",
          "Villa",
          "Appartement",
          "Appartement",
          "Appartement",
          "Villa",
          "Villa",
          "Appartement",
          "Appartement",
          "Appartement",
          "Appartement",
          "Appartement",
          "Villa",
          "Appartement",
          "Maison",
          "Appartement",
          "Maison",
          "Maison",
          "Maison",
          "Appartement",
          "Appartement",
          "Appartement",
          "Villa",
          "Villa",
          "Appartement",
          "Appartement",
          "Appartement",
          "Maison",
          "Appartement",
          "Appartement",
          "Villa",
          "Appartement",
          "Appartement",
          "Appartement",
          "Appartement",
          "Appartement",
          "Appartement",
          "Appartement",
          "Appartement",
          "Maison",
          "Maison",
          "Appartement",
          "Villa",
          "Villa",
          "Villa",
          "Villa",
          "Appartement",
          "Appartement",
          "Appartement",
          "Villa",
          "Villa",
          "Appartement",
          "Appartement",
          "Villa",
          "Maison",
          "Appartement",
          "Villa",
          "Appartement",
          "Villa",
          "Villa",
          "Villa",
          "Villa",
          "Villa",
          "Villa",
          "Appartement",
          "Appartement",
          "Villa",
          "Villa",
          "Appartement",
          "Appartement",
          "Appartement",
          "Appartement",
          "Appartement",
          "Maison",
          "Maison",
          "Maison",
          "Maison",
          "Appartement",
          "Appartement",
          "Appartement",
          "Appartement",
          "Appartement",
          "Appartement",
          "Maison",
          "Appartement",
          "Appartement",
          "Maison",
          "Appartement",
          "Appartement",
          "Maison",
          "Appartement",
          "Villa",
          "Appartement",
          "Villa",
          "Appartement",
          "Appartement",
          "Appartement",
          "Appartement",
          "Appartement",
          "Appartement",
          "Appartement",
          "Appartement",
          "Appartement",
          "Appartement",
          "Appartement",
          "Appartement",
          "Villa",
          "Appartement",
          "Appartement",
          "Villa",
          "Appartement",
          "Appartement",
          "Appartement",
          "Maison",
          "Villa",
          "Maison",
          "Appartement",
          "Appartement",
          "Villa",
          "Appartement",
          "Villa",
          "Appartement",
          "Appartement",
          "Appartement",
          "Appartement",
          "Appartement",
          "Villa",
          "Appartement",
          "Villa",
          "Appartement",
          "Villa",
          "Villa",
          "Appartement",
          "Appartement",
          "Appartement",
          "Appartement",
          "Villa",
          "Appartement",
          "Appartement",
          "Maison",
          "Maison",
          "Appartement",
          "Appartement",
          "Maison",
          "Appartement",
          "Villa",
          "Appartement",
          "Villa",
          "Appartement",
          "Appartement",
          "Appartement",
          "Appartement",
          "Appartement",
          "Appartement",
          "Villa",
          "Villa",
          "Maison",
          "Appartement",
          "Villa",
          "Appartement",
          "Appartement",
          "Appartement",
          "Appartement",
          "Appartement",
          "Villa",
          "Maison",
          "Appartement",
          "Appartement",
          "Appartement",
          "Appartement",
          "Appartement",
          "Appartement",
          "Appartement",
          "Appartement",
          "Villa",
          "Villa",
          "Appartement",
          "Appartement",
          "Appartement",
          "Villa",
          "Appartement",
          "Villa",
          "Maison",
          "Appartement",
          "Appartement",
          "Villa",
          "Appartement",
          "Maison",
          "Appartement",
          "Villa",
          "Appartement",
          "Villa",
          "Appartement",
          "Appartement",
          "Appartement",
          "Maison",
          "Appartement",
          "Maison",
          "Appartement",
          "Appartement",
          "Appartement",
          "Appartement",
          "Appartement",
          "Appartement",
          "Appartement",
          "Appartement",
          "Appartement",
          "Appartement",
          "Appartement",
          "Appartement",
          "Appartement",
          "Maison",
          "Maison",
          "Maison",
          "Villa",
          "Maison",
          "Appartement",
          "Appartement",
          "Villa",
          "Villa",
          "Appartement",
          "Appartement",
          "Appartement",
          "Appartement",
          "Villa",
          "Appartement",
          "Appartement",
          "Appartement",
          "Appartement",
          "Appartement",
          "Appartement",
          "Villa",
          "Maison",
          "Maison",
          "Appartement",
          "Maison",
          "Appartement",
          "Appartement",
          "Maison",
          "Appartement",
          "Appartement",
          "Appartement",
          "Appartement",
          "Appartement",
          "Maison",
          "Appartement",
          "Maison",
          "Maison",
          "Appartement",
          "Appartement",
          "Appartement",
          "Appartement",
          "Maison",
          "Appartement",
          "Appartement",
          "Appartement",
          "Appartement",
          "Appartement",
          "Appartement",
          "Villa",
          "Appartement",
          "Maison",
          "Appartement",
          "Appartement",
          "Appartement",
          "Appartement",
          "Appartement",
          "Appartement",
          "Villa",
          "Maison",
          "Appartement",
          "Appartement",
          "Appartement",
          "Appartement",
          "Villa",
          "Appartement",
          "Appartement",
          "Maison",
          "Maison",
          "Appartement",
          "Villa",
          "Appartement",
          "Maison",
          "Appartement",
          "Appartement",
          "Appartement",
          "Maison",
          "Appartement",
          "Appartement",
          "Appartement",
          "Villa",
          "Maison",
          "Appartement",
          "Maison",
          "Villa",
          "Appartement",
          "Appartement",
          "Appartement",
          "Appartement",
          "Appartement",
          "Appartement",
          "Appartement",
          "Appartement",
          "Appartement",
          "Appartement",
          "Appartement",
          "Appartement",
          "Appartement",
          "Appartement",
          "Appartement",
          "Maison",
          "Appartement",
          "Appartement",
          "Appartement",
          "Villa",
          "Maison",
          "Appartement",
          "Villa",
          "Maison",
          "Appartement",
          "Appartement",
          "Maison",
          "Appartement",
          "Appartement",
          "Maison",
          "Appartement",
          "Appartement",
          "Appartement",
          "Appartement",
          "Appartement",
          "Appartement",
          "Appartement",
          "Maison",
          "Appartement",
          "Appartement",
          "Appartement",
          "Appartement",
          "Appartement",
          "Appartement",
          "Appartement",
          "Appartement",
          "Appartement",
          "Appartement",
          "Appartement",
          "Maison",
          "Appartement",
          "Appartement",
          "Maison",
          "Appartement",
          "Appartement",
          "Appartement",
          "Appartement",
          "Appartement",
          "Appartement",
          "Maison",
          "Appartement",
          "Appartement",
          "Maison",
          "Appartement",
          "Appartement",
          "Appartement",
          "Appartement",
          "Appartement",
          "Appartement",
          "Villa",
          "Appartement",
          "Appartement",
          "Maison",
          "Maison",
          "Appartement",
          "Appartement",
          "Appartement",
          "Villa",
          "Appartement",
          "Appartement",
          "Appartement",
          "Maison",
          "Appartement",
          "Appartement",
          "Appartement",
          "Maison",
          "Maison",
          "Villa",
          "Maison",
          "Appartement",
          "Maison",
          "Appartement",
          "Appartement",
          "Appartement",
          "Appartement",
          "Appartement",
          "Appartement",
          "Appartement",
          "Appartement",
          "Appartement",
          "Maison",
          "Appartement",
          "Appartement",
          "Appartement",
          "Appartement",
          "Maison",
          "Appartement",
          "Villa",
          "Appartement",
          "Appartement",
          "Appartement",
          "Villa",
          "Appartement",
          "Appartement",
          "Villa",
          "Villa",
          "Appartement",
          "Appartement",
          "Villa",
          "Maison",
          "Appartement",
          "Appartement",
          "Villa",
          "Maison",
          "Maison",
          "Appartement",
          "Appartement",
          "Villa",
          "Appartement",
          "Appartement",
          "Appartement",
          "Appartement",
          "Villa",
          "Appartement",
          "Maison",
          "Appartement",
          "Maison",
          "Appartement",
          "Appartement",
          "Appartement",
          "Appartement",
          "Villa",
          "Appartement",
          "Villa",
          "Appartement",
          "Appartement",
          "Maison",
          "Appartement",
          "Appartement",
          "Appartement",
          "Appartement",
          "Villa",
          "Appartement",
          "Appartement",
          "Appartement",
          "Villa",
          "Appartement",
          "Appartement",
          "Appartement",
          "Appartement",
          "Appartement",
          "Villa",
          "Appartement",
          "Appartement",
          "Appartement",
          "Villa",
          "Appartement",
          "Appartement",
          "Appartement",
          "Appartement",
          "Appartement",
          "Villa",
          "Appartement",
          "Appartement",
          "Villa",
          "Appartement",
          "Appartement",
          "Appartement",
          "Appartement",
          "Appartement",
          "Appartement",
          "Appartement",
          "Villa",
          "Appartement",
          "Appartement",
          "Appartement",
          "Appartement",
          "Appartement",
          "Villa",
          "Villa",
          "Appartement",
          "Maison",
          "Appartement",
          "Appartement",
          "Villa",
          "Appartement",
          "Appartement",
          "Appartement",
          "Appartement",
          "Appartement",
          "Appartement",
          "Appartement",
          "Appartement",
          "Appartement",
          "Villa",
          "Maison",
          "Appartement",
          "Appartement",
          "Maison",
          "Appartement",
          "Appartement",
          "Appartement",
          "Appartement",
          "Appartement",
          "Appartement",
          "Villa",
          "Appartement",
          "Appartement",
          "Appartement",
          "Maison",
          "Appartement",
          "Appartement",
          "Appartement",
          "Appartement",
          "Appartement",
          "Appartement",
          "Appartement",
          "Appartement",
          "Maison",
          "Appartement",
          "Appartement",
          "Appartement",
          "Appartement",
          "Villa",
          "Villa",
          "Appartement",
          "Maison",
          "Villa",
          "Appartement",
          "Appartement",
          "Appartement",
          "Appartement",
          "Appartement",
          "Appartement",
          "Maison",
          "Maison",
          "Maison",
          "Appartement",
          "Maison",
          "Maison",
          "Appartement",
          "Appartement",
          "Appartement",
          "Appartement",
          "Appartement",
          "Appartement",
          "Appartement",
          "Appartement",
          "Appartement",
          "Maison",
          "Appartement",
          "Appartement",
          "Appartement",
          "Appartement",
          "Villa",
          "Appartement",
          "Villa",
          "Villa",
          "Appartement",
          "Appartement",
          "Appartement",
          "Appartement",
          "Villa",
          "Villa",
          "Maison",
          "Appartement",
          "Appartement",
          "Appartement",
          "Appartement",
          "Appartement",
          "Appartement",
          "Maison",
          "Appartement",
          "Appartement",
          "Appartement",
          "Appartement",
          "Appartement",
          "Appartement",
          "Appartement",
          "Appartement",
          "Appartement",
          "Appartement",
          "Maison",
          "Maison",
          "Appartement",
          "Maison",
          "Appartement",
          "Maison",
          "Appartement",
          "Villa",
          "Appartement",
          "Appartement",
          "Appartement",
          "Appartement",
          "Villa",
          "Appartement",
          "Appartement",
          "Appartement",
          "Appartement",
          "Appartement",
          "Appartement",
          "Appartement",
          "Appartement",
          "Appartement",
          "Appartement",
          "Villa",
          "Maison",
          "Appartement",
          "Appartement",
          "Appartement",
          "Appartement",
          "Maison",
          "Maison",
          "Maison",
          "Appartement",
          "Appartement",
          "Appartement",
          "Appartement",
          "Appartement",
          "Appartement",
          "Appartement",
          "Appartement",
          "Maison",
          "Appartement",
          "Appartement",
          "Villa",
          "Appartement",
          "Appartement",
          "Maison",
          "Villa",
          "Appartement",
          "Appartement",
          "Appartement",
          "Maison",
          "Appartement",
          "Appartement",
          "Appartement",
          "Appartement",
          "Appartement",
          "Appartement",
          "Appartement",
          "Appartement",
          "Appartement",
          "Appartement",
          "Appartement",
          "Appartement",
          "Appartement",
          "Appartement",
          "Appartement",
          "Appartement",
          "Appartement",
          "Villa",
          "Maison",
          "Appartement",
          "Appartement",
          "Appartement",
          "Maison",
          "Maison",
          "Appartement",
          "Appartement",
          "Appartement",
          "Appartement",
          "Appartement",
          "Appartement",
          "Appartement",
          "Appartement",
          "Appartement",
          "Maison",
          "Appartement",
          "Appartement",
          "Appartement",
          "Appartement",
          "Appartement",
          "Villa",
          "Appartement",
          "Appartement",
          "Maison",
          "Appartement",
          "Appartement",
          "Appartement",
          "Appartement",
          "Appartement",
          "Appartement",
          "Appartement",
          "Appartement",
          "Appartement",
          "Appartement",
          "Appartement",
          "Appartement",
          "Maison",
          "Maison",
          "Appartement",
          "Appartement",
          "Appartement",
          "Villa",
          "Appartement",
          "Appartement",
          "Villa",
          "Maison",
          "Appartement",
          "Villa"
         ],
         "xaxis": "x",
         "yaxis": "y"
        }
       ],
       "layout": {
        "barmode": "relative",
        "legend": {
         "tracegroupgap": 0
        },
        "template": {
         "data": {
          "bar": [
           {
            "error_x": {
             "color": "#2a3f5f"
            },
            "error_y": {
             "color": "#2a3f5f"
            },
            "marker": {
             "line": {
              "color": "#E5ECF6",
              "width": 0.5
             },
             "pattern": {
              "fillmode": "overlay",
              "size": 10,
              "solidity": 0.2
             }
            },
            "type": "bar"
           }
          ],
          "barpolar": [
           {
            "marker": {
             "line": {
              "color": "#E5ECF6",
              "width": 0.5
             },
             "pattern": {
              "fillmode": "overlay",
              "size": 10,
              "solidity": 0.2
             }
            },
            "type": "barpolar"
           }
          ],
          "carpet": [
           {
            "aaxis": {
             "endlinecolor": "#2a3f5f",
             "gridcolor": "white",
             "linecolor": "white",
             "minorgridcolor": "white",
             "startlinecolor": "#2a3f5f"
            },
            "baxis": {
             "endlinecolor": "#2a3f5f",
             "gridcolor": "white",
             "linecolor": "white",
             "minorgridcolor": "white",
             "startlinecolor": "#2a3f5f"
            },
            "type": "carpet"
           }
          ],
          "choropleth": [
           {
            "colorbar": {
             "outlinewidth": 0,
             "ticks": ""
            },
            "type": "choropleth"
           }
          ],
          "contour": [
           {
            "colorbar": {
             "outlinewidth": 0,
             "ticks": ""
            },
            "colorscale": [
             [
              0,
              "#0d0887"
             ],
             [
              0.1111111111111111,
              "#46039f"
             ],
             [
              0.2222222222222222,
              "#7201a8"
             ],
             [
              0.3333333333333333,
              "#9c179e"
             ],
             [
              0.4444444444444444,
              "#bd3786"
             ],
             [
              0.5555555555555556,
              "#d8576b"
             ],
             [
              0.6666666666666666,
              "#ed7953"
             ],
             [
              0.7777777777777778,
              "#fb9f3a"
             ],
             [
              0.8888888888888888,
              "#fdca26"
             ],
             [
              1,
              "#f0f921"
             ]
            ],
            "type": "contour"
           }
          ],
          "contourcarpet": [
           {
            "colorbar": {
             "outlinewidth": 0,
             "ticks": ""
            },
            "type": "contourcarpet"
           }
          ],
          "heatmap": [
           {
            "colorbar": {
             "outlinewidth": 0,
             "ticks": ""
            },
            "colorscale": [
             [
              0,
              "#0d0887"
             ],
             [
              0.1111111111111111,
              "#46039f"
             ],
             [
              0.2222222222222222,
              "#7201a8"
             ],
             [
              0.3333333333333333,
              "#9c179e"
             ],
             [
              0.4444444444444444,
              "#bd3786"
             ],
             [
              0.5555555555555556,
              "#d8576b"
             ],
             [
              0.6666666666666666,
              "#ed7953"
             ],
             [
              0.7777777777777778,
              "#fb9f3a"
             ],
             [
              0.8888888888888888,
              "#fdca26"
             ],
             [
              1,
              "#f0f921"
             ]
            ],
            "type": "heatmap"
           }
          ],
          "heatmapgl": [
           {
            "colorbar": {
             "outlinewidth": 0,
             "ticks": ""
            },
            "colorscale": [
             [
              0,
              "#0d0887"
             ],
             [
              0.1111111111111111,
              "#46039f"
             ],
             [
              0.2222222222222222,
              "#7201a8"
             ],
             [
              0.3333333333333333,
              "#9c179e"
             ],
             [
              0.4444444444444444,
              "#bd3786"
             ],
             [
              0.5555555555555556,
              "#d8576b"
             ],
             [
              0.6666666666666666,
              "#ed7953"
             ],
             [
              0.7777777777777778,
              "#fb9f3a"
             ],
             [
              0.8888888888888888,
              "#fdca26"
             ],
             [
              1,
              "#f0f921"
             ]
            ],
            "type": "heatmapgl"
           }
          ],
          "histogram": [
           {
            "marker": {
             "pattern": {
              "fillmode": "overlay",
              "size": 10,
              "solidity": 0.2
             }
            },
            "type": "histogram"
           }
          ],
          "histogram2d": [
           {
            "colorbar": {
             "outlinewidth": 0,
             "ticks": ""
            },
            "colorscale": [
             [
              0,
              "#0d0887"
             ],
             [
              0.1111111111111111,
              "#46039f"
             ],
             [
              0.2222222222222222,
              "#7201a8"
             ],
             [
              0.3333333333333333,
              "#9c179e"
             ],
             [
              0.4444444444444444,
              "#bd3786"
             ],
             [
              0.5555555555555556,
              "#d8576b"
             ],
             [
              0.6666666666666666,
              "#ed7953"
             ],
             [
              0.7777777777777778,
              "#fb9f3a"
             ],
             [
              0.8888888888888888,
              "#fdca26"
             ],
             [
              1,
              "#f0f921"
             ]
            ],
            "type": "histogram2d"
           }
          ],
          "histogram2dcontour": [
           {
            "colorbar": {
             "outlinewidth": 0,
             "ticks": ""
            },
            "colorscale": [
             [
              0,
              "#0d0887"
             ],
             [
              0.1111111111111111,
              "#46039f"
             ],
             [
              0.2222222222222222,
              "#7201a8"
             ],
             [
              0.3333333333333333,
              "#9c179e"
             ],
             [
              0.4444444444444444,
              "#bd3786"
             ],
             [
              0.5555555555555556,
              "#d8576b"
             ],
             [
              0.6666666666666666,
              "#ed7953"
             ],
             [
              0.7777777777777778,
              "#fb9f3a"
             ],
             [
              0.8888888888888888,
              "#fdca26"
             ],
             [
              1,
              "#f0f921"
             ]
            ],
            "type": "histogram2dcontour"
           }
          ],
          "mesh3d": [
           {
            "colorbar": {
             "outlinewidth": 0,
             "ticks": ""
            },
            "type": "mesh3d"
           }
          ],
          "parcoords": [
           {
            "line": {
             "colorbar": {
              "outlinewidth": 0,
              "ticks": ""
             }
            },
            "type": "parcoords"
           }
          ],
          "pie": [
           {
            "automargin": true,
            "type": "pie"
           }
          ],
          "scatter": [
           {
            "fillpattern": {
             "fillmode": "overlay",
             "size": 10,
             "solidity": 0.2
            },
            "type": "scatter"
           }
          ],
          "scatter3d": [
           {
            "line": {
             "colorbar": {
              "outlinewidth": 0,
              "ticks": ""
             }
            },
            "marker": {
             "colorbar": {
              "outlinewidth": 0,
              "ticks": ""
             }
            },
            "type": "scatter3d"
           }
          ],
          "scattercarpet": [
           {
            "marker": {
             "colorbar": {
              "outlinewidth": 0,
              "ticks": ""
             }
            },
            "type": "scattercarpet"
           }
          ],
          "scattergeo": [
           {
            "marker": {
             "colorbar": {
              "outlinewidth": 0,
              "ticks": ""
             }
            },
            "type": "scattergeo"
           }
          ],
          "scattergl": [
           {
            "marker": {
             "colorbar": {
              "outlinewidth": 0,
              "ticks": ""
             }
            },
            "type": "scattergl"
           }
          ],
          "scattermapbox": [
           {
            "marker": {
             "colorbar": {
              "outlinewidth": 0,
              "ticks": ""
             }
            },
            "type": "scattermapbox"
           }
          ],
          "scatterpolar": [
           {
            "marker": {
             "colorbar": {
              "outlinewidth": 0,
              "ticks": ""
             }
            },
            "type": "scatterpolar"
           }
          ],
          "scatterpolargl": [
           {
            "marker": {
             "colorbar": {
              "outlinewidth": 0,
              "ticks": ""
             }
            },
            "type": "scatterpolargl"
           }
          ],
          "scatterternary": [
           {
            "marker": {
             "colorbar": {
              "outlinewidth": 0,
              "ticks": ""
             }
            },
            "type": "scatterternary"
           }
          ],
          "surface": [
           {
            "colorbar": {
             "outlinewidth": 0,
             "ticks": ""
            },
            "colorscale": [
             [
              0,
              "#0d0887"
             ],
             [
              0.1111111111111111,
              "#46039f"
             ],
             [
              0.2222222222222222,
              "#7201a8"
             ],
             [
              0.3333333333333333,
              "#9c179e"
             ],
             [
              0.4444444444444444,
              "#bd3786"
             ],
             [
              0.5555555555555556,
              "#d8576b"
             ],
             [
              0.6666666666666666,
              "#ed7953"
             ],
             [
              0.7777777777777778,
              "#fb9f3a"
             ],
             [
              0.8888888888888888,
              "#fdca26"
             ],
             [
              1,
              "#f0f921"
             ]
            ],
            "type": "surface"
           }
          ],
          "table": [
           {
            "cells": {
             "fill": {
              "color": "#EBF0F8"
             },
             "line": {
              "color": "white"
             }
            },
            "header": {
             "fill": {
              "color": "#C8D4E3"
             },
             "line": {
              "color": "white"
             }
            },
            "type": "table"
           }
          ]
         },
         "layout": {
          "annotationdefaults": {
           "arrowcolor": "#2a3f5f",
           "arrowhead": 0,
           "arrowwidth": 1
          },
          "autotypenumbers": "strict",
          "coloraxis": {
           "colorbar": {
            "outlinewidth": 0,
            "ticks": ""
           }
          },
          "colorscale": {
           "diverging": [
            [
             0,
             "#8e0152"
            ],
            [
             0.1,
             "#c51b7d"
            ],
            [
             0.2,
             "#de77ae"
            ],
            [
             0.3,
             "#f1b6da"
            ],
            [
             0.4,
             "#fde0ef"
            ],
            [
             0.5,
             "#f7f7f7"
            ],
            [
             0.6,
             "#e6f5d0"
            ],
            [
             0.7,
             "#b8e186"
            ],
            [
             0.8,
             "#7fbc41"
            ],
            [
             0.9,
             "#4d9221"
            ],
            [
             1,
             "#276419"
            ]
           ],
           "sequential": [
            [
             0,
             "#0d0887"
            ],
            [
             0.1111111111111111,
             "#46039f"
            ],
            [
             0.2222222222222222,
             "#7201a8"
            ],
            [
             0.3333333333333333,
             "#9c179e"
            ],
            [
             0.4444444444444444,
             "#bd3786"
            ],
            [
             0.5555555555555556,
             "#d8576b"
            ],
            [
             0.6666666666666666,
             "#ed7953"
            ],
            [
             0.7777777777777778,
             "#fb9f3a"
            ],
            [
             0.8888888888888888,
             "#fdca26"
            ],
            [
             1,
             "#f0f921"
            ]
           ],
           "sequentialminus": [
            [
             0,
             "#0d0887"
            ],
            [
             0.1111111111111111,
             "#46039f"
            ],
            [
             0.2222222222222222,
             "#7201a8"
            ],
            [
             0.3333333333333333,
             "#9c179e"
            ],
            [
             0.4444444444444444,
             "#bd3786"
            ],
            [
             0.5555555555555556,
             "#d8576b"
            ],
            [
             0.6666666666666666,
             "#ed7953"
            ],
            [
             0.7777777777777778,
             "#fb9f3a"
            ],
            [
             0.8888888888888888,
             "#fdca26"
            ],
            [
             1,
             "#f0f921"
            ]
           ]
          },
          "colorway": [
           "#636efa",
           "#EF553B",
           "#00cc96",
           "#ab63fa",
           "#FFA15A",
           "#19d3f3",
           "#FF6692",
           "#B6E880",
           "#FF97FF",
           "#FECB52"
          ],
          "font": {
           "color": "#2a3f5f"
          },
          "geo": {
           "bgcolor": "white",
           "lakecolor": "white",
           "landcolor": "#E5ECF6",
           "showlakes": true,
           "showland": true,
           "subunitcolor": "white"
          },
          "hoverlabel": {
           "align": "left"
          },
          "hovermode": "closest",
          "mapbox": {
           "style": "light"
          },
          "paper_bgcolor": "white",
          "plot_bgcolor": "#E5ECF6",
          "polar": {
           "angularaxis": {
            "gridcolor": "white",
            "linecolor": "white",
            "ticks": ""
           },
           "bgcolor": "#E5ECF6",
           "radialaxis": {
            "gridcolor": "white",
            "linecolor": "white",
            "ticks": ""
           }
          },
          "scene": {
           "xaxis": {
            "backgroundcolor": "#E5ECF6",
            "gridcolor": "white",
            "gridwidth": 2,
            "linecolor": "white",
            "showbackground": true,
            "ticks": "",
            "zerolinecolor": "white"
           },
           "yaxis": {
            "backgroundcolor": "#E5ECF6",
            "gridcolor": "white",
            "gridwidth": 2,
            "linecolor": "white",
            "showbackground": true,
            "ticks": "",
            "zerolinecolor": "white"
           },
           "zaxis": {
            "backgroundcolor": "#E5ECF6",
            "gridcolor": "white",
            "gridwidth": 2,
            "linecolor": "white",
            "showbackground": true,
            "ticks": "",
            "zerolinecolor": "white"
           }
          },
          "shapedefaults": {
           "line": {
            "color": "#2a3f5f"
           }
          },
          "ternary": {
           "aaxis": {
            "gridcolor": "white",
            "linecolor": "white",
            "ticks": ""
           },
           "baxis": {
            "gridcolor": "white",
            "linecolor": "white",
            "ticks": ""
           },
           "bgcolor": "#E5ECF6",
           "caxis": {
            "gridcolor": "white",
            "linecolor": "white",
            "ticks": ""
           }
          },
          "title": {
           "x": 0.05
          },
          "xaxis": {
           "automargin": true,
           "gridcolor": "white",
           "linecolor": "white",
           "ticks": "",
           "title": {
            "standoff": 15
           },
           "zerolinecolor": "white",
           "zerolinewidth": 2
          },
          "yaxis": {
           "automargin": true,
           "gridcolor": "white",
           "linecolor": "white",
           "ticks": "",
           "title": {
            "standoff": 15
           },
           "zerolinecolor": "white",
           "zerolinewidth": 2
          }
         }
        },
        "title": {
         "text": "Distribution of listings by type"
        },
        "xaxis": {
         "anchor": "y",
         "domain": [
          0,
          1
         ],
         "title": {
          "text": "Type"
         }
        },
        "yaxis": {
         "anchor": "x",
         "domain": [
          0,
          1
         ],
         "title": {
          "text": "count"
         }
        }
       }
      }
     },
     "metadata": {},
     "output_type": "display_data"
    }
   ],
   "source": [
    "# distribution of listings by type using plotly\n",
    "fig1 = px.histogram(data1, x='Type', title='Distribution of listings by type')\n",
    "fig1.show()"
   ]
  },
  {
   "cell_type": "code",
   "execution_count": 9,
   "metadata": {},
   "outputs": [
    {
     "data": {
      "application/vnd.plotly.v1+json": {
       "config": {
        "plotlyServerURL": "https://plot.ly"
       },
       "data": [
        {
         "alignmentgroup": "True",
         "bingroup": "x",
         "hovertemplate": "Price=%{x}<br>count=%{y}<extra></extra>",
         "legendgroup": "",
         "marker": {
          "color": "#636efa",
          "pattern": {
           "shape": ""
          }
         },
         "name": "",
         "nbinsx": 50,
         "offsetgroup": "",
         "orientation": "v",
         "showlegend": false,
         "type": "histogram",
         "x": [
          "966000.0",
          "549000.0",
          "624000.0",
          "979000.0",
          "957000.0",
          "546000.0",
          "480000.0",
          "1900000.0",
          "696600.0",
          "1251160.0",
          "1012000.0",
          "2400000.0",
          "630000.0",
          "1233640.0",
          "992600.0",
          "1297350.0",
          "890000.0",
          "2250000.0",
          "1200000.0",
          "900000.0",
          "2950000.0",
          "1328000.0",
          "680000.0",
          "6800000.0",
          "680000.0",
          "3400000.0",
          "6800000.0",
          "980500.0",
          "4500000.0",
          "1284800.0",
          "1060000.0",
          "1695360.0",
          "1183700.0",
          "2600000.0",
          "1550000.0",
          "1350000.0",
          "1260000.0",
          "850000.0",
          "1282000.0",
          "650000.0",
          "598880.0",
          "790000.0",
          "380000.0",
          "680000.0",
          "3000000.0",
          "600000.0",
          "560000.0",
          "8500000.0",
          "2900000.0",
          "660000.0",
          "400000.0",
          "540000.0",
          "720000.0",
          "600000.0",
          "17000000.0",
          "2750000.0",
          "10500.0",
          "1560000.0",
          "1700000.0",
          "2200000.0",
          "1900000.0",
          "4900000.0",
          "2700000.0",
          "1900000.0",
          "2600000.0",
          "14500000.0",
          "500000.0",
          "960000.0",
          "1100000.0",
          "3000000.0",
          "1600000.0",
          "2300000.0",
          "380000.0",
          "600000.0",
          "4200000.0",
          "9700000.0",
          "5700000.0",
          "680000.0",
          "850000.0",
          "680000.0",
          "1800000150000.0",
          "510000.0",
          "510000.0",
          "13000000.0",
          "460000.0",
          "1950000.0",
          "620000.0",
          "770000.0",
          "520000.0",
          "570000.0",
          "700000.0",
          "630000.0",
          "500000.0",
          "4600000.0",
          "420000.0",
          "3200000.0",
          "3000000.0",
          "4800000.0",
          "10500000.0",
          "1600000.0",
          "5900000.0",
          "1550000.0",
          "7800000.0",
          "5966666.666666667",
          "1900000.0",
          "2500000.0",
          "9000000.0",
          "3500000.0",
          "2500000.0",
          "4400000.0",
          "2450000.0",
          "12000000.0",
          "3000000.0",
          "5300000.0",
          "2000000.0",
          "4800000.0",
          "6800000.0",
          "1250000.0",
          "2950000.0",
          "3700000.0",
          "2900000.0",
          "3700000.0",
          "680000.0",
          "1500000.0",
          "2600000.0",
          "860000.0",
          "1320000.0",
          "1320000.0",
          "2900000.0",
          "1200000.0",
          "840000.0",
          "800000.0",
          "1200000.0",
          "3400000.0",
          "1700000.0",
          "1357000.0",
          "1800000.0",
          "560000.0",
          "960000.0",
          "1250000.0",
          "380000.0",
          "560000.0",
          "960000.0",
          "1170000.0",
          "4800000.0",
          "1900000.0",
          "2960000.0",
          "1800000.0",
          "550000.0",
          "1100000.0",
          "1150000.0",
          "1100000.0",
          "800000.0",
          "560000.0",
          "650000.0",
          "770000.0",
          "1000000.0",
          "590000.0",
          "1030000.0",
          "4900000.0",
          "3250000.0",
          "900000.0",
          "4500000.0",
          "1750000.0",
          "900000.0",
          "2750000.0",
          "2000000.0",
          "4500000.0",
          "3000000.0",
          "1750000.0",
          "590000.0",
          "4800000.0",
          "928571.4285714285",
          "3900000.0",
          "680000.0",
          "800000.0",
          "740000.0",
          "660000.0",
          "2850000.0",
          "1600000.0",
          "2000000.0",
          "3300000.0",
          "3200000.0",
          "16000000.0",
          "4500000.0",
          "900000.0",
          "900000.0",
          "7500000.0",
          "4600000.0",
          "5700000.0",
          "880000.0",
          "1480000.0",
          "3500000.0",
          "2600000.0",
          "660000.0",
          "780000.0",
          "1300000.0",
          "881666.6666666666",
          "3400000.0",
          "434000.0",
          "3800000.0",
          "885000.0",
          "700000.0",
          "850000.0",
          "670000.0",
          "420000.0",
          "670000.0",
          "9525000.0",
          "2500000.0",
          "1900000.0",
          "880000.0",
          "3400000.0",
          "1250000.0",
          "530000.0",
          "1860000.0",
          "670000.0",
          "1400000.0",
          "4900000.0",
          "2400000.0",
          "1600000.0",
          "1333333.3333333333",
          "891750.0",
          "600000.0",
          "900000.0",
          "780000.0",
          "950000.0",
          "885000.0",
          "3600000.0",
          "3300000.0",
          "750000.0",
          "2800000.0",
          "680000.0",
          "8500000.0",
          "475000.0",
          "3000000.0",
          "1500000.0",
          "650000.0",
          "788369.2307692308",
          "4550000.0",
          "950000.0",
          "1700000.0",
          "1387500.0",
          "3800000.0",
          "1340000.0",
          "2950000.0",
          "570000.0",
          "2590000.0",
          "490000.0",
          "1000000.0",
          "350000.0",
          "3200000.0",
          "380000.0",
          "860000.0",
          "635000.0",
          "420000.0",
          "460000.0",
          "570000.0",
          "450000.0",
          "968000.0",
          "630000.0",
          "300000.0",
          "760000.0",
          "750000.0",
          "1750000.0",
          "2400000.0",
          "6500000.0",
          "2600000.0",
          "2700000.0",
          "1700000.0",
          "2000000.0",
          "1200000.0",
          "900000.0",
          "5700000.0",
          "630000.0",
          "2800000.0",
          "1500000.0",
          "1700000.0",
          "6500000.0",
          "1245000.0",
          "800000.0",
          "620000.0",
          "900000.0",
          "850000.0",
          "520000.0",
          "1650000.0",
          "1300000.0",
          "2000000.0",
          "1440000.0",
          "1600000.0",
          "2800000.0",
          "1200000.0",
          "1650000.0",
          "1307000.0",
          "900000.0",
          "770000.0",
          "1100000.0",
          "1000000.0",
          "2600000.0",
          "860000.0",
          "2200000.0",
          "3800000.0",
          "800000.0",
          "1530000.0",
          "1500000.0",
          "700000.0",
          "725533.3333333334",
          "950000.0",
          "1750000.0",
          "2600000.0",
          "440000.0",
          "935000.0",
          "530000.0",
          "1800000.0",
          "540000.0",
          "1400000.0",
          "2800000.0",
          "420000.0",
          "560000.0",
          "1300000.0",
          "840000.0",
          "780000.0",
          "2800000.0",
          "2400000.0",
          "1200000.0",
          "1400000.0",
          "1000000.0",
          "750000.0",
          "2500000.0",
          "840000.0",
          "580000.0",
          "2000000.0",
          "2900000.0",
          "1230000.0",
          "4500000.0",
          "1450000.0",
          "2200000.0",
          "770000.0",
          "1100000.0",
          "1460000.0",
          "1400000.0",
          "880000.0",
          "620000.0",
          "1650000.0",
          "4416666.666666667",
          "1450000.0",
          "680000.0",
          "2100000.0",
          "5522847.222222222",
          "490000.0",
          "1250000.0",
          "1370000.0",
          "660000.0",
          "2240000.0",
          "2800000.0",
          "1305500.0",
          "600000.0",
          "1300000.0",
          "1650000.0",
          "1400000.0",
          "650000.0",
          "1950000.0",
          "900000.0",
          "1500000.0",
          "3600000.0",
          "380000.0",
          "670000.0",
          "400000.0",
          "5200000.0",
          "3200000.0",
          "4140000.0",
          "3500000.0",
          "2600000.0",
          "1150000.0",
          "520000.0",
          "3600000.0",
          "560000.0",
          "950000.0",
          "1300000.0",
          "750000.0",
          "2100000.0",
          "3000000.0",
          "1500000.0",
          "3300000.0",
          "1500000.0",
          "1500000.0",
          "1500000.0",
          "1150000.0",
          "670000.0",
          "880000.0",
          "1500000.0",
          "2300000.0",
          "1650000.0",
          "520000.0",
          "3246000.0",
          "350000.0",
          "850000.0",
          "510000.0",
          "4880000.0",
          "560000.0",
          "840000.0",
          "1600000.0",
          "490000.0",
          "750000.0",
          "760000.0",
          "1600000.0",
          "980000.0",
          "587250.0",
          "46158363717.948715",
          "390000.0",
          "1300000.0",
          "1600000.0",
          "850000.0",
          "2300000.0",
          "900000.0",
          "527000.0",
          "100000.0",
          "5000000.0",
          "2430000.0",
          "640000.0",
          "1900000.0",
          "1400000000.0",
          "500000.0",
          "800000.0",
          "1200000.0",
          "1950000.0",
          "3566666.6666666665",
          "500000.0",
          "530000.0",
          "1000000.0",
          "2000000.0",
          "960000.0",
          "750000.0",
          "440000.0",
          "1600000.0",
          "2960000.0",
          "10000000.0",
          "2650000.0",
          "1700000.0",
          "1700000.0",
          "1050000.0",
          "1250000.0",
          "5970000.0",
          "690000.0",
          "1130000.0",
          "550000.0",
          "950000.0",
          "1500000.0",
          "1110000.0",
          "3000000.0",
          "1500000.0",
          "1900000.0",
          "650000.0",
          "2425000.0",
          "3100000.0",
          "950000.0",
          "5522847.222222222",
          "930000.0",
          "950000.0",
          "600000.0",
          "5522847.222222222",
          "1550000.0",
          "2600000.0",
          "2200000.0",
          "9500000.0",
          "400000.0",
          "587250.0",
          "4800000.0",
          "1400000.0",
          "1350000.0",
          "800000.0",
          "8500000.0",
          "1200000.0",
          "2000000.0",
          "550000.0",
          "720000.0",
          "32500000.0",
          "1372500.0",
          "520000.0",
          "680000.0",
          "1650000.0",
          "2300000.0",
          "770000.0",
          "6000000.0",
          "540000.0",
          "6800000.0",
          "881666.6666666666",
          "1700000.0",
          "800000.0",
          "340000.0",
          "2200000.0",
          "710000.0",
          "4000000.0",
          "850000.0",
          "400000.0",
          "3100000.0",
          "850000.0",
          "960000.0",
          "1580000.0",
          "500000.0",
          "3800000.0",
          "1800000.0",
          "530000.0",
          "630000.0",
          "4800000.0",
          "910000.0",
          "180000.0",
          "520000.0",
          "230000.0",
          "1200000.0",
          "6500000.0",
          "560000.0",
          "640000.0",
          "15000.0",
          "1900000.0",
          "700000.0",
          "1000000.0",
          "360000.0",
          "880000.0",
          "550000.0",
          "2500000.0",
          "760000.0",
          "490000.0",
          "14000000.0",
          "420000.0",
          "520000.0",
          "380000.0",
          "1225287.5",
          "575000.0",
          "120000.0",
          "600000.0",
          "2950000.0",
          "320000.0",
          "350000.0",
          "850000.0",
          "980000.0",
          "1500000.0",
          "9200000.0",
          "4900000.0",
          "4450000.0",
          "2800000.0",
          "380000.0",
          "480000.0",
          "8500000.0",
          "700000.0",
          "420000.0",
          "1000000.0",
          "643000.0",
          "500000.0",
          "583333.3333333334",
          "643000.0",
          "795500.0",
          "540000.0",
          "2800000.0",
          "4600000.0",
          "1500000.0",
          "4500000.0",
          "1370000.0",
          "950000.0",
          "2200000.0",
          "900000.0",
          "660000.0",
          "480000.0",
          "510000.0",
          "3000000.0",
          "4800000.0",
          "1128500.0",
          "2750000.0",
          "980000.0",
          "1600000.0",
          "560000.0",
          "600000.0",
          "460000.0",
          "450000.0",
          "890000.0",
          "420000.0",
          "3200000.0",
          "1966666.6666666667",
          "625000.0",
          "1100000.0",
          "1000000.0",
          "700000.0",
          "1450000.0",
          "6500000.0",
          "4140000.0",
          "3000000.0",
          "2600000.0",
          "1380000.0",
          "900000.0",
          "800000.0",
          "1350000.0",
          "590000.0",
          "1900000.0",
          "1000000.0",
          "500000.0",
          "6400000.0",
          "580000.0",
          "900000.0",
          "1700000.0",
          "680000.0",
          "583913.0434782609",
          "1545000.0",
          "640000.0",
          "1070000.0",
          "630000.0",
          "1490000.0",
          "680000.0",
          "1200000.0",
          "2100000.0",
          "1600000.0",
          "520000.0",
          "790000.0",
          "4140000.0",
          "5522847.222222222",
          "1100000.0",
          "4800000.0",
          "2800000.0",
          "2750000.0",
          "1675000.0",
          "625000.0",
          "1000000.0",
          "5522847.222222222",
          "7600000.0",
          "2000000.0",
          "600000.0",
          "930000.0",
          "620000.0",
          "800000.0",
          "450000.0",
          "450000.0",
          "1450000.0",
          "950000.0",
          "530000.0",
          "510000.0",
          "350000.0",
          "420000.0",
          "310000.0",
          "1300000.0",
          "980000.0",
          "660000.0",
          "580000.0",
          "1900000.0",
          "1600000.0",
          "800000.0",
          "3200000.0",
          "510000.0",
          "751600.0",
          "490000.0",
          "270000.0",
          "650000.0",
          "1050900.0",
          "1600000.0",
          "840000.0",
          "7500000.0",
          "380000.0",
          "1225287.5",
          "1400000.0",
          "650000.0",
          "610000.0",
          "748800.0",
          "900000.0",
          "430000.0",
          "430000.0",
          "700000.0",
          "3500000.0",
          "2100000.0",
          "1300000.0",
          "1250000.0",
          "330000.0",
          "435000.0",
          "1800000.0",
          "1700000.0",
          "3400000.0",
          "1500000.0",
          "750000.0",
          "1450000.0",
          "1300000.0",
          "650000.0",
          "1000000.0",
          "340000.0",
          "730000.0",
          "1950000.0",
          "960000.0",
          "2200000.0",
          "3900000.0",
          "750000.0",
          "1800000.0",
          "800000.0",
          "1550000.0",
          "650000.0",
          "1500000.0",
          "2150000.0",
          "3100000.0",
          "67000000.0",
          "900000.0",
          "2000000.0",
          "520000.0",
          "650000.0",
          "36500.0",
          "880000.0",
          "1850000.0",
          "814000.0",
          "900000.0",
          "480000.0",
          "490000.0",
          "750000.0",
          "340000.0",
          "1250000.0",
          "1250000.0",
          "1150000.0",
          "3400000.0",
          "460000.0",
          "480000.0",
          "920000.0",
          "630000.0",
          "1200000.0",
          "85000000.0",
          "430000.0",
          "380000.0",
          "920000.0",
          "924000.0",
          "580000.0",
          "510000.0",
          "1040000.0",
          "450000.0",
          "600000.0",
          "1700000.0",
          "610000.0",
          "980000.0",
          "970000.0",
          "1000000.0",
          "630000.0",
          "5500000.0",
          "1150000.0",
          "470000.0",
          "2200000.0",
          "950000.0",
          "840000.0",
          "850000.0",
          "28000000.0",
          "33875000.0",
          "670000.0",
          "1060000.0",
          "1716000.0",
          "650000.0",
          "775000.0",
          "1050000.0",
          "490000.0",
          "2600000.0",
          "225000.0",
          "600000.0",
          "920000.0",
          "900000.0",
          "4000000.0",
          "450000.0",
          "630000.0",
          "2600000.0",
          "1800000.0",
          "1150000.0",
          "1800000.0"
         ],
         "xaxis": "x",
         "yaxis": "y"
        }
       ],
       "layout": {
        "barmode": "relative",
        "legend": {
         "tracegroupgap": 0
        },
        "template": {
         "data": {
          "bar": [
           {
            "error_x": {
             "color": "#2a3f5f"
            },
            "error_y": {
             "color": "#2a3f5f"
            },
            "marker": {
             "line": {
              "color": "#E5ECF6",
              "width": 0.5
             },
             "pattern": {
              "fillmode": "overlay",
              "size": 10,
              "solidity": 0.2
             }
            },
            "type": "bar"
           }
          ],
          "barpolar": [
           {
            "marker": {
             "line": {
              "color": "#E5ECF6",
              "width": 0.5
             },
             "pattern": {
              "fillmode": "overlay",
              "size": 10,
              "solidity": 0.2
             }
            },
            "type": "barpolar"
           }
          ],
          "carpet": [
           {
            "aaxis": {
             "endlinecolor": "#2a3f5f",
             "gridcolor": "white",
             "linecolor": "white",
             "minorgridcolor": "white",
             "startlinecolor": "#2a3f5f"
            },
            "baxis": {
             "endlinecolor": "#2a3f5f",
             "gridcolor": "white",
             "linecolor": "white",
             "minorgridcolor": "white",
             "startlinecolor": "#2a3f5f"
            },
            "type": "carpet"
           }
          ],
          "choropleth": [
           {
            "colorbar": {
             "outlinewidth": 0,
             "ticks": ""
            },
            "type": "choropleth"
           }
          ],
          "contour": [
           {
            "colorbar": {
             "outlinewidth": 0,
             "ticks": ""
            },
            "colorscale": [
             [
              0,
              "#0d0887"
             ],
             [
              0.1111111111111111,
              "#46039f"
             ],
             [
              0.2222222222222222,
              "#7201a8"
             ],
             [
              0.3333333333333333,
              "#9c179e"
             ],
             [
              0.4444444444444444,
              "#bd3786"
             ],
             [
              0.5555555555555556,
              "#d8576b"
             ],
             [
              0.6666666666666666,
              "#ed7953"
             ],
             [
              0.7777777777777778,
              "#fb9f3a"
             ],
             [
              0.8888888888888888,
              "#fdca26"
             ],
             [
              1,
              "#f0f921"
             ]
            ],
            "type": "contour"
           }
          ],
          "contourcarpet": [
           {
            "colorbar": {
             "outlinewidth": 0,
             "ticks": ""
            },
            "type": "contourcarpet"
           }
          ],
          "heatmap": [
           {
            "colorbar": {
             "outlinewidth": 0,
             "ticks": ""
            },
            "colorscale": [
             [
              0,
              "#0d0887"
             ],
             [
              0.1111111111111111,
              "#46039f"
             ],
             [
              0.2222222222222222,
              "#7201a8"
             ],
             [
              0.3333333333333333,
              "#9c179e"
             ],
             [
              0.4444444444444444,
              "#bd3786"
             ],
             [
              0.5555555555555556,
              "#d8576b"
             ],
             [
              0.6666666666666666,
              "#ed7953"
             ],
             [
              0.7777777777777778,
              "#fb9f3a"
             ],
             [
              0.8888888888888888,
              "#fdca26"
             ],
             [
              1,
              "#f0f921"
             ]
            ],
            "type": "heatmap"
           }
          ],
          "heatmapgl": [
           {
            "colorbar": {
             "outlinewidth": 0,
             "ticks": ""
            },
            "colorscale": [
             [
              0,
              "#0d0887"
             ],
             [
              0.1111111111111111,
              "#46039f"
             ],
             [
              0.2222222222222222,
              "#7201a8"
             ],
             [
              0.3333333333333333,
              "#9c179e"
             ],
             [
              0.4444444444444444,
              "#bd3786"
             ],
             [
              0.5555555555555556,
              "#d8576b"
             ],
             [
              0.6666666666666666,
              "#ed7953"
             ],
             [
              0.7777777777777778,
              "#fb9f3a"
             ],
             [
              0.8888888888888888,
              "#fdca26"
             ],
             [
              1,
              "#f0f921"
             ]
            ],
            "type": "heatmapgl"
           }
          ],
          "histogram": [
           {
            "marker": {
             "pattern": {
              "fillmode": "overlay",
              "size": 10,
              "solidity": 0.2
             }
            },
            "type": "histogram"
           }
          ],
          "histogram2d": [
           {
            "colorbar": {
             "outlinewidth": 0,
             "ticks": ""
            },
            "colorscale": [
             [
              0,
              "#0d0887"
             ],
             [
              0.1111111111111111,
              "#46039f"
             ],
             [
              0.2222222222222222,
              "#7201a8"
             ],
             [
              0.3333333333333333,
              "#9c179e"
             ],
             [
              0.4444444444444444,
              "#bd3786"
             ],
             [
              0.5555555555555556,
              "#d8576b"
             ],
             [
              0.6666666666666666,
              "#ed7953"
             ],
             [
              0.7777777777777778,
              "#fb9f3a"
             ],
             [
              0.8888888888888888,
              "#fdca26"
             ],
             [
              1,
              "#f0f921"
             ]
            ],
            "type": "histogram2d"
           }
          ],
          "histogram2dcontour": [
           {
            "colorbar": {
             "outlinewidth": 0,
             "ticks": ""
            },
            "colorscale": [
             [
              0,
              "#0d0887"
             ],
             [
              0.1111111111111111,
              "#46039f"
             ],
             [
              0.2222222222222222,
              "#7201a8"
             ],
             [
              0.3333333333333333,
              "#9c179e"
             ],
             [
              0.4444444444444444,
              "#bd3786"
             ],
             [
              0.5555555555555556,
              "#d8576b"
             ],
             [
              0.6666666666666666,
              "#ed7953"
             ],
             [
              0.7777777777777778,
              "#fb9f3a"
             ],
             [
              0.8888888888888888,
              "#fdca26"
             ],
             [
              1,
              "#f0f921"
             ]
            ],
            "type": "histogram2dcontour"
           }
          ],
          "mesh3d": [
           {
            "colorbar": {
             "outlinewidth": 0,
             "ticks": ""
            },
            "type": "mesh3d"
           }
          ],
          "parcoords": [
           {
            "line": {
             "colorbar": {
              "outlinewidth": 0,
              "ticks": ""
             }
            },
            "type": "parcoords"
           }
          ],
          "pie": [
           {
            "automargin": true,
            "type": "pie"
           }
          ],
          "scatter": [
           {
            "fillpattern": {
             "fillmode": "overlay",
             "size": 10,
             "solidity": 0.2
            },
            "type": "scatter"
           }
          ],
          "scatter3d": [
           {
            "line": {
             "colorbar": {
              "outlinewidth": 0,
              "ticks": ""
             }
            },
            "marker": {
             "colorbar": {
              "outlinewidth": 0,
              "ticks": ""
             }
            },
            "type": "scatter3d"
           }
          ],
          "scattercarpet": [
           {
            "marker": {
             "colorbar": {
              "outlinewidth": 0,
              "ticks": ""
             }
            },
            "type": "scattercarpet"
           }
          ],
          "scattergeo": [
           {
            "marker": {
             "colorbar": {
              "outlinewidth": 0,
              "ticks": ""
             }
            },
            "type": "scattergeo"
           }
          ],
          "scattergl": [
           {
            "marker": {
             "colorbar": {
              "outlinewidth": 0,
              "ticks": ""
             }
            },
            "type": "scattergl"
           }
          ],
          "scattermapbox": [
           {
            "marker": {
             "colorbar": {
              "outlinewidth": 0,
              "ticks": ""
             }
            },
            "type": "scattermapbox"
           }
          ],
          "scatterpolar": [
           {
            "marker": {
             "colorbar": {
              "outlinewidth": 0,
              "ticks": ""
             }
            },
            "type": "scatterpolar"
           }
          ],
          "scatterpolargl": [
           {
            "marker": {
             "colorbar": {
              "outlinewidth": 0,
              "ticks": ""
             }
            },
            "type": "scatterpolargl"
           }
          ],
          "scatterternary": [
           {
            "marker": {
             "colorbar": {
              "outlinewidth": 0,
              "ticks": ""
             }
            },
            "type": "scatterternary"
           }
          ],
          "surface": [
           {
            "colorbar": {
             "outlinewidth": 0,
             "ticks": ""
            },
            "colorscale": [
             [
              0,
              "#0d0887"
             ],
             [
              0.1111111111111111,
              "#46039f"
             ],
             [
              0.2222222222222222,
              "#7201a8"
             ],
             [
              0.3333333333333333,
              "#9c179e"
             ],
             [
              0.4444444444444444,
              "#bd3786"
             ],
             [
              0.5555555555555556,
              "#d8576b"
             ],
             [
              0.6666666666666666,
              "#ed7953"
             ],
             [
              0.7777777777777778,
              "#fb9f3a"
             ],
             [
              0.8888888888888888,
              "#fdca26"
             ],
             [
              1,
              "#f0f921"
             ]
            ],
            "type": "surface"
           }
          ],
          "table": [
           {
            "cells": {
             "fill": {
              "color": "#EBF0F8"
             },
             "line": {
              "color": "white"
             }
            },
            "header": {
             "fill": {
              "color": "#C8D4E3"
             },
             "line": {
              "color": "white"
             }
            },
            "type": "table"
           }
          ]
         },
         "layout": {
          "annotationdefaults": {
           "arrowcolor": "#2a3f5f",
           "arrowhead": 0,
           "arrowwidth": 1
          },
          "autotypenumbers": "strict",
          "coloraxis": {
           "colorbar": {
            "outlinewidth": 0,
            "ticks": ""
           }
          },
          "colorscale": {
           "diverging": [
            [
             0,
             "#8e0152"
            ],
            [
             0.1,
             "#c51b7d"
            ],
            [
             0.2,
             "#de77ae"
            ],
            [
             0.3,
             "#f1b6da"
            ],
            [
             0.4,
             "#fde0ef"
            ],
            [
             0.5,
             "#f7f7f7"
            ],
            [
             0.6,
             "#e6f5d0"
            ],
            [
             0.7,
             "#b8e186"
            ],
            [
             0.8,
             "#7fbc41"
            ],
            [
             0.9,
             "#4d9221"
            ],
            [
             1,
             "#276419"
            ]
           ],
           "sequential": [
            [
             0,
             "#0d0887"
            ],
            [
             0.1111111111111111,
             "#46039f"
            ],
            [
             0.2222222222222222,
             "#7201a8"
            ],
            [
             0.3333333333333333,
             "#9c179e"
            ],
            [
             0.4444444444444444,
             "#bd3786"
            ],
            [
             0.5555555555555556,
             "#d8576b"
            ],
            [
             0.6666666666666666,
             "#ed7953"
            ],
            [
             0.7777777777777778,
             "#fb9f3a"
            ],
            [
             0.8888888888888888,
             "#fdca26"
            ],
            [
             1,
             "#f0f921"
            ]
           ],
           "sequentialminus": [
            [
             0,
             "#0d0887"
            ],
            [
             0.1111111111111111,
             "#46039f"
            ],
            [
             0.2222222222222222,
             "#7201a8"
            ],
            [
             0.3333333333333333,
             "#9c179e"
            ],
            [
             0.4444444444444444,
             "#bd3786"
            ],
            [
             0.5555555555555556,
             "#d8576b"
            ],
            [
             0.6666666666666666,
             "#ed7953"
            ],
            [
             0.7777777777777778,
             "#fb9f3a"
            ],
            [
             0.8888888888888888,
             "#fdca26"
            ],
            [
             1,
             "#f0f921"
            ]
           ]
          },
          "colorway": [
           "#636efa",
           "#EF553B",
           "#00cc96",
           "#ab63fa",
           "#FFA15A",
           "#19d3f3",
           "#FF6692",
           "#B6E880",
           "#FF97FF",
           "#FECB52"
          ],
          "font": {
           "color": "#2a3f5f"
          },
          "geo": {
           "bgcolor": "white",
           "lakecolor": "white",
           "landcolor": "#E5ECF6",
           "showlakes": true,
           "showland": true,
           "subunitcolor": "white"
          },
          "hoverlabel": {
           "align": "left"
          },
          "hovermode": "closest",
          "mapbox": {
           "style": "light"
          },
          "paper_bgcolor": "white",
          "plot_bgcolor": "#E5ECF6",
          "polar": {
           "angularaxis": {
            "gridcolor": "white",
            "linecolor": "white",
            "ticks": ""
           },
           "bgcolor": "#E5ECF6",
           "radialaxis": {
            "gridcolor": "white",
            "linecolor": "white",
            "ticks": ""
           }
          },
          "scene": {
           "xaxis": {
            "backgroundcolor": "#E5ECF6",
            "gridcolor": "white",
            "gridwidth": 2,
            "linecolor": "white",
            "showbackground": true,
            "ticks": "",
            "zerolinecolor": "white"
           },
           "yaxis": {
            "backgroundcolor": "#E5ECF6",
            "gridcolor": "white",
            "gridwidth": 2,
            "linecolor": "white",
            "showbackground": true,
            "ticks": "",
            "zerolinecolor": "white"
           },
           "zaxis": {
            "backgroundcolor": "#E5ECF6",
            "gridcolor": "white",
            "gridwidth": 2,
            "linecolor": "white",
            "showbackground": true,
            "ticks": "",
            "zerolinecolor": "white"
           }
          },
          "shapedefaults": {
           "line": {
            "color": "#2a3f5f"
           }
          },
          "ternary": {
           "aaxis": {
            "gridcolor": "white",
            "linecolor": "white",
            "ticks": ""
           },
           "baxis": {
            "gridcolor": "white",
            "linecolor": "white",
            "ticks": ""
           },
           "bgcolor": "#E5ECF6",
           "caxis": {
            "gridcolor": "white",
            "linecolor": "white",
            "ticks": ""
           }
          },
          "title": {
           "x": 0.05
          },
          "xaxis": {
           "automargin": true,
           "gridcolor": "white",
           "linecolor": "white",
           "ticks": "",
           "title": {
            "standoff": 15
           },
           "zerolinecolor": "white",
           "zerolinewidth": 2
          },
          "yaxis": {
           "automargin": true,
           "gridcolor": "white",
           "linecolor": "white",
           "ticks": "",
           "title": {
            "standoff": 15
           },
           "zerolinecolor": "white",
           "zerolinewidth": 2
          }
         }
        },
        "title": {
         "text": "Distribution of Property Prices"
        },
        "xaxis": {
         "anchor": "y",
         "domain": [
          0,
          1
         ],
         "title": {
          "text": "Price"
         }
        },
        "yaxis": {
         "anchor": "x",
         "domain": [
          0,
          1
         ],
         "title": {
          "text": "count"
         }
        }
       }
      }
     },
     "metadata": {},
     "output_type": "display_data"
    }
   ],
   "source": [
    "fig3 = px.histogram(data1, x='Price', nbins=50, title='Distribution of Property Prices')\n",
    "fig3.show()"
   ]
  },
  {
   "cell_type": "code",
   "execution_count": 12,
   "metadata": {},
   "outputs": [
    {
     "data": {
      "application/vnd.plotly.v1+json": {
       "config": {
        "plotlyServerURL": "https://plot.ly"
       },
       "data": [
        {
         "hovertemplate": "Type=Appartement<br>Area=%{x}<br>Price=%{y}<extra></extra>",
         "legendgroup": "Appartement",
         "marker": {
          "color": "#636efa",
          "symbol": "circle"
         },
         "mode": "markers",
         "name": "Appartement",
         "orientation": "v",
         "showlegend": true,
         "type": "scatter",
         "x": [
          "84.0",
          "58.0",
          "65.0",
          "89.0",
          "87.0",
          "63.0",
          "80.0",
          "75.0",
          "46.0",
          "80.0",
          "92.0",
          "72.0",
          "80.0",
          "65.0",
          "83.0",
          "81.0",
          "79.0",
          "100.0",
          "180.0",
          "85.0",
          "48.0",
          "65.0",
          "133.0",
          "64.0",
          "82.0",
          "110.0",
          "105.0",
          "80.0",
          "125.0",
          "130.0",
          "102.0",
          "87.0",
          "96.0",
          "83.0",
          "36.0",
          "40.0",
          "50.0",
          "52.0",
          "48.0",
          "64.0",
          "78.0",
          "153.0",
          "58.0",
          "90.0",
          "120.0",
          "100.0",
          "75.0",
          "166.0",
          "120.0",
          "89.0",
          "162.0",
          "100.0",
          "75.0",
          "100.0",
          "50.0",
          "101.0",
          "56.0",
          "64.0",
          "432.0",
          "65.0",
          "77.0",
          "71.0",
          "52.0",
          "50.0",
          "60.0",
          "172.0",
          "68.0",
          "72.0",
          "80.0",
          "60.0",
          "67.0",
          "80.0",
          "50.0",
          "83.0",
          "243.0",
          "100.0",
          "91.0",
          "184.0",
          "125.0",
          "160.0",
          "105.0",
          "128.0",
          "134.0",
          "58.0",
          "94.0",
          "162.0",
          "81.0",
          "78.0",
          "93.0",
          "86.0",
          "146.0",
          "89.0",
          "192.0",
          "52.0",
          "96.0",
          "52.0",
          "100.0",
          "109.0",
          "137.0",
          "80.0",
          "60.0",
          "71.0",
          "89.0",
          "105.0",
          "50.0",
          "64.0",
          "70.0",
          "72.0",
          "105.0",
          "72.0",
          "79.0",
          "150.0",
          "150.0",
          "96.0",
          "101.0",
          "128.0",
          "173.0",
          "72.0",
          "81.0",
          "128.0",
          "84.0",
          "70.0",
          "60.0",
          "135.0",
          "78.0",
          "280.0",
          "100.0",
          "107.0",
          "84.0",
          "260.0",
          "62.0",
          "94.0",
          "55.0",
          "70.0",
          "80.0",
          "60.0",
          "71.0",
          "66.0",
          "93.0",
          "94.0",
          "50.0",
          "75.0",
          "88.0",
          "114.0",
          "52.0",
          "154.0",
          "64.0",
          "95.0",
          "120.0",
          "98.0",
          "127.0",
          "60.0",
          "76.0",
          "80.0",
          "125.0",
          "60.0",
          "56.0",
          "170.0",
          "64.0",
          "68.0",
          "68.0",
          "60.0",
          "110.0",
          "111.0",
          "114.0",
          "61.0",
          "47.0",
          "50.0",
          "52.0",
          "52.0",
          "81.0",
          "100.0",
          "54.0",
          "64.0",
          "60.0",
          "52.0",
          "94.0",
          "60.0",
          "60.0",
          "67.0",
          "80.0",
          "175.0",
          "120.0",
          "83.0",
          "58.0",
          "186.0",
          "94.0",
          "94.0",
          "83.0",
          "72.0",
          "68.0",
          "76.0",
          "94.0",
          "64.0",
          "97.0",
          "112.0",
          "85.0",
          "78.0",
          "85.0",
          "82.0",
          "113.0",
          "83.0",
          "73.0",
          "72.0",
          "100.0",
          "107.0",
          "74.0",
          "93.0",
          "95.0",
          "120.0",
          "65.0",
          "85.0",
          "74.0",
          "64.0",
          "117.0",
          "57.0",
          "100.0",
          "180.0",
          "103.0",
          "84.0",
          "105.0",
          "94.0",
          "121.0",
          "70.0",
          "93.0",
          "75.0",
          "85.0",
          "96.0",
          "73.0",
          "100.0",
          "130.0",
          "80.0",
          "61.0",
          "110.0",
          "77.0",
          "50.0",
          "98.0",
          "161.0",
          "100.0",
          "140.0",
          "125.0",
          "77.0",
          "60.0",
          "96.0",
          "122.0",
          "195.0",
          "60.0",
          "150.0",
          "98.0",
          "94.0",
          "50.0",
          "110.0",
          "54.0",
          "60.0",
          "123.0",
          "54.0",
          "60.0",
          "92.0",
          "78.0",
          "66.0",
          "135.0",
          "100.0",
          "113.0",
          "126.0",
          "123.0",
          "100.0",
          "64.0",
          "88.0",
          "121.0",
          "125.0",
          "124.0",
          "74.0",
          "108.0",
          "50.0",
          "72.0",
          "49.0",
          "65.0",
          "88.0",
          "56.0",
          "160.0",
          "67.0",
          "100.0",
          "102.0",
          "60.0",
          "60.0",
          "90.0",
          "82.0",
          "77.0",
          "100.0",
          "61.0",
          "64.0",
          "235.0",
          "70.0",
          "70.0",
          "75.0",
          "91.0",
          "132.0",
          "48.0",
          "60.0",
          "119.0",
          "101.0",
          "85.0",
          "55.0",
          "124.0",
          "102.0",
          "156.0",
          "115.0",
          "250.0",
          "78.0",
          "60.0",
          "105.0",
          "112.0",
          "88.0",
          "116.0",
          "66.0",
          "112.0",
          "145.0",
          "80.0",
          "81.0",
          "90.0",
          "66.0",
          "107.0",
          "120.0",
          "70.0",
          "85.0",
          "105.0",
          "87.0",
          "60.0",
          "60.0",
          "96.0",
          "70.0",
          "60.0",
          "96.0",
          "76.0",
          "63.0",
          "82.0",
          "98.0",
          "64.0",
          "68.0",
          "90.0",
          "80.0",
          "50.0",
          "78.0",
          "104.0",
          "117.0",
          "54.0",
          "211.0",
          "70.0",
          "67.0",
          "95.0",
          "150.0",
          "60.0",
          "128.0",
          "140.0",
          "68.0",
          "62.0",
          "113.0",
          "70.0",
          "70.0",
          "49.0",
          "88.0",
          "71.0",
          "112.0",
          "60.0",
          "52.0",
          "74.0",
          "92.0",
          "94.0",
          "66.0",
          "118.0",
          "60.0",
          "50.0",
          "70.0",
          "100.0",
          "85.0",
          "122.0",
          "150.0",
          "64.0",
          "58.0",
          "72.0",
          "58.0",
          "70.0",
          "112.0",
          "54.0",
          "64.0",
          "112.0",
          "131.0",
          "60.0",
          "110.0",
          "240.0",
          "95.0",
          "120.0",
          "87.0",
          "75.0",
          "80.0",
          "70.0",
          "172.0",
          "75.0",
          "110.0",
          "200.0",
          "64.0",
          "65.0",
          "46.0",
          "110.0",
          "95.0",
          "150.0",
          "200.0",
          "78.0",
          "133.0",
          "117.0",
          "78.0",
          "54.0",
          "97.0",
          "114.0",
          "75.0",
          "99.0",
          "60.0",
          "70.0",
          "64.0",
          "82.0",
          "70.0",
          "131.0",
          "66.0",
          "100.0",
          "65.0",
          "136.0",
          "65.0",
          "78.0",
          "126.0",
          "58.0",
          "62.0",
          "54.0",
          "118.0",
          "116.0",
          "134.0",
          "78.0",
          "71.0",
          "72.0",
          "94.0",
          "61.0",
          "60.0",
          "52.0",
          "69.0",
          "114.0",
          "62.0",
          "60.0",
          "54.0",
          "54.0",
          "54.0",
          "135.0",
          "86.0",
          "62.0",
          "55.0",
          "82.0",
          "50.0",
          "75.0",
          "64.0",
          "113.0",
          "152.0",
          "102.0",
          "56.0",
          "89.0",
          "122.0",
          "65.0",
          "62.0",
          "96.0",
          "90.0",
          "58.0",
          "60.0",
          "65.0",
          "85.0",
          "91.0",
          "55.0",
          "55.0",
          "151.0",
          "100.0",
          "112.0",
          "98.0",
          "55.0",
          "109.0",
          "44.0",
          "74.0",
          "120.0",
          "137.0",
          "62.0",
          "93.0",
          "62.0",
          "121.0",
          "147.0",
          "65.0",
          "110.0",
          "191.0",
          "75.0",
          "73.0",
          "50.0",
          "80.0",
          "107.0",
          "56.0",
          "96.0",
          "68.0",
          "58.0",
          "80.0",
          "55.0",
          "88.0",
          "93.0",
          "126.0",
          "58.0",
          "97.0",
          "64.0",
          "82.0",
          "49.0",
          "76.0",
          "84.0",
          "47.0",
          "56.0",
          "102.0",
          "61.0",
          "60.0",
          "88.0",
          "94.0",
          "96.0",
          "90.64609800362976",
          "70.0",
          "167.0",
          "56.0",
          "90.64609800362976",
          "81.0",
          "87.0",
          "130.0",
          "76.0",
          "60.0",
          "64.0",
          "134.0",
          "70.0",
          "62.0",
          "35.0",
          "90.0",
          "64.0",
          "86.0",
          "73.0",
          "45.0",
          "64.0",
          "123.0"
         ],
         "xaxis": "x",
         "y": [
          "966000.0",
          "549000.0",
          "624000.0",
          "979000.0",
          "957000.0",
          "546000.0",
          "480000.0",
          "1900000.0",
          "696600.0",
          "1251160.0",
          "1012000.0",
          "630000.0",
          "1233640.0",
          "992600.0",
          "1297350.0",
          "890000.0",
          "1200000.0",
          "900000.0",
          "2950000.0",
          "1328000.0",
          "680000.0",
          "680000.0",
          "3400000.0",
          "980500.0",
          "1284800.0",
          "1060000.0",
          "1695360.0",
          "1183700.0",
          "2600000.0",
          "1550000.0",
          "1350000.0",
          "1260000.0",
          "850000.0",
          "1282000.0",
          "650000.0",
          "598880.0",
          "790000.0",
          "380000.0",
          "680000.0",
          "600000.0",
          "560000.0",
          "2900000.0",
          "660000.0",
          "540000.0",
          "720000.0",
          "600000.0",
          "2750000.0",
          "10500.0",
          "1560000.0",
          "1900000.0",
          "4900000.0",
          "2700000.0",
          "1900000.0",
          "2600000.0",
          "500000.0",
          "1100000.0",
          "380000.0",
          "600000.0",
          "4200000.0",
          "680000.0",
          "850000.0",
          "680000.0",
          "510000.0",
          "510000.0",
          "460000.0",
          "1950000.0",
          "620000.0",
          "770000.0",
          "520000.0",
          "570000.0",
          "700000.0",
          "630000.0",
          "420000.0",
          "1600000.0",
          "5900000.0",
          "1550000.0",
          "1900000.0",
          "2500000.0",
          "2500000.0",
          "2450000.0",
          "1250000.0",
          "2950000.0",
          "3700000.0",
          "680000.0",
          "1500000.0",
          "2600000.0",
          "860000.0",
          "840000.0",
          "800000.0",
          "1200000.0",
          "3400000.0",
          "1700000.0",
          "1357000.0",
          "560000.0",
          "960000.0",
          "380000.0",
          "560000.0",
          "1170000.0",
          "1900000.0",
          "1800000.0",
          "550000.0",
          "1100000.0",
          "1150000.0",
          "1100000.0",
          "800000.0",
          "560000.0",
          "650000.0",
          "770000.0",
          "1000000.0",
          "590000.0",
          "1030000.0",
          "3250000.0",
          "900000.0",
          "1750000.0",
          "900000.0",
          "2750000.0",
          "1750000.0",
          "590000.0",
          "928571.4285714285",
          "680000.0",
          "800000.0",
          "740000.0",
          "660000.0",
          "2850000.0",
          "2000000.0",
          "3200000.0",
          "900000.0",
          "900000.0",
          "7500000.0",
          "4600000.0",
          "880000.0",
          "1480000.0",
          "660000.0",
          "780000.0",
          "881666.6666666666",
          "434000.0",
          "885000.0",
          "700000.0",
          "850000.0",
          "670000.0",
          "420000.0",
          "670000.0",
          "880000.0",
          "1250000.0",
          "530000.0",
          "1860000.0",
          "670000.0",
          "1400000.0",
          "1600000.0",
          "1333333.3333333333",
          "891750.0",
          "600000.0",
          "900000.0",
          "780000.0",
          "950000.0",
          "885000.0",
          "750000.0",
          "2800000.0",
          "680000.0",
          "475000.0",
          "650000.0",
          "788369.2307692308",
          "950000.0",
          "1387500.0",
          "1340000.0",
          "570000.0",
          "2590000.0",
          "490000.0",
          "350000.0",
          "380000.0",
          "860000.0",
          "635000.0",
          "420000.0",
          "460000.0",
          "570000.0",
          "450000.0",
          "968000.0",
          "630000.0",
          "300000.0",
          "760000.0",
          "750000.0",
          "1750000.0",
          "2000000.0",
          "1200000.0",
          "630000.0",
          "2800000.0",
          "1500000.0",
          "1700000.0",
          "1245000.0",
          "800000.0",
          "620000.0",
          "900000.0",
          "850000.0",
          "520000.0",
          "1440000.0",
          "2800000.0",
          "1200000.0",
          "1307000.0",
          "900000.0",
          "770000.0",
          "1100000.0",
          "1000000.0",
          "860000.0",
          "800000.0",
          "1530000.0",
          "1500000.0",
          "700000.0",
          "950000.0",
          "1750000.0",
          "2600000.0",
          "440000.0",
          "935000.0",
          "530000.0",
          "540000.0",
          "2800000.0",
          "420000.0",
          "560000.0",
          "1300000.0",
          "840000.0",
          "780000.0",
          "1200000.0",
          "1400000.0",
          "1000000.0",
          "750000.0",
          "840000.0",
          "580000.0",
          "1230000.0",
          "1450000.0",
          "770000.0",
          "1100000.0",
          "1460000.0",
          "880000.0",
          "620000.0",
          "1650000.0",
          "680000.0",
          "490000.0",
          "1250000.0",
          "1370000.0",
          "660000.0",
          "2240000.0",
          "2800000.0",
          "1305500.0",
          "600000.0",
          "1300000.0",
          "1650000.0",
          "1400000.0",
          "650000.0",
          "1950000.0",
          "900000.0",
          "1500000.0",
          "380000.0",
          "670000.0",
          "400000.0",
          "4140000.0",
          "1150000.0",
          "520000.0",
          "560000.0",
          "950000.0",
          "750000.0",
          "2100000.0",
          "3000000.0",
          "1500000.0",
          "3300000.0",
          "1500000.0",
          "1500000.0",
          "1150000.0",
          "670000.0",
          "880000.0",
          "1500000.0",
          "2300000.0",
          "1650000.0",
          "520000.0",
          "3246000.0",
          "350000.0",
          "850000.0",
          "510000.0",
          "560000.0",
          "840000.0",
          "490000.0",
          "750000.0",
          "760000.0",
          "1600000.0",
          "980000.0",
          "587250.0",
          "390000.0",
          "1300000.0",
          "850000.0",
          "2300000.0",
          "900000.0",
          "527000.0",
          "100000.0",
          "5000000.0",
          "640000.0",
          "1900000.0",
          "800000.0",
          "1200000.0",
          "1950000.0",
          "500000.0",
          "530000.0",
          "1000000.0",
          "960000.0",
          "750000.0",
          "440000.0",
          "1700000.0",
          "1050000.0",
          "1250000.0",
          "5970000.0",
          "690000.0",
          "1130000.0",
          "550000.0",
          "950000.0",
          "1500000.0",
          "1110000.0",
          "1500000.0",
          "1900000.0",
          "650000.0",
          "2425000.0",
          "950000.0",
          "930000.0",
          "950000.0",
          "600000.0",
          "1550000.0",
          "2600000.0",
          "400000.0",
          "587250.0",
          "1350000.0",
          "800000.0",
          "550000.0",
          "720000.0",
          "1372500.0",
          "520000.0",
          "680000.0",
          "1650000.0",
          "770000.0",
          "540000.0",
          "881666.6666666666",
          "1700000.0",
          "800000.0",
          "340000.0",
          "710000.0",
          "850000.0",
          "400000.0",
          "850000.0",
          "960000.0",
          "1580000.0",
          "500000.0",
          "1800000.0",
          "530000.0",
          "630000.0",
          "910000.0",
          "180000.0",
          "520000.0",
          "230000.0",
          "1200000.0",
          "560000.0",
          "640000.0",
          "15000.0",
          "700000.0",
          "1000000.0",
          "360000.0",
          "880000.0",
          "550000.0",
          "760000.0",
          "490000.0",
          "420000.0",
          "520000.0",
          "380000.0",
          "1225287.5",
          "575000.0",
          "120000.0",
          "600000.0",
          "320000.0",
          "350000.0",
          "850000.0",
          "980000.0",
          "1500000.0",
          "4450000.0",
          "380000.0",
          "480000.0",
          "700000.0",
          "420000.0",
          "1000000.0",
          "643000.0",
          "500000.0",
          "583333.3333333334",
          "643000.0",
          "795500.0",
          "540000.0",
          "1500000.0",
          "4500000.0",
          "950000.0",
          "2200000.0",
          "900000.0",
          "660000.0",
          "480000.0",
          "510000.0",
          "4800000.0",
          "1128500.0",
          "2750000.0",
          "1600000.0",
          "560000.0",
          "600000.0",
          "460000.0",
          "450000.0",
          "890000.0",
          "420000.0",
          "3200000.0",
          "625000.0",
          "1100000.0",
          "1000000.0",
          "700000.0",
          "4140000.0",
          "1380000.0",
          "900000.0",
          "800000.0",
          "1350000.0",
          "590000.0",
          "1900000.0",
          "580000.0",
          "680000.0",
          "583913.0434782609",
          "1545000.0",
          "640000.0",
          "1070000.0",
          "630000.0",
          "1490000.0",
          "680000.0",
          "1200000.0",
          "1600000.0",
          "520000.0",
          "790000.0",
          "4140000.0",
          "1100000.0",
          "2750000.0",
          "1675000.0",
          "625000.0",
          "1000000.0",
          "600000.0",
          "930000.0",
          "620000.0",
          "800000.0",
          "450000.0",
          "450000.0",
          "950000.0",
          "530000.0",
          "510000.0",
          "350000.0",
          "420000.0",
          "310000.0",
          "1300000.0",
          "980000.0",
          "660000.0",
          "580000.0",
          "800000.0",
          "510000.0",
          "490000.0",
          "650000.0",
          "1050900.0",
          "1600000.0",
          "840000.0",
          "380000.0",
          "1225287.5",
          "1400000.0",
          "650000.0",
          "610000.0",
          "748800.0",
          "900000.0",
          "430000.0",
          "430000.0",
          "700000.0",
          "1300000.0",
          "1250000.0",
          "330000.0",
          "435000.0",
          "1500000.0",
          "750000.0",
          "1450000.0",
          "1300000.0",
          "650000.0",
          "1000000.0",
          "340000.0",
          "730000.0",
          "960000.0",
          "2200000.0",
          "750000.0",
          "1800000.0",
          "650000.0",
          "1500000.0",
          "2150000.0",
          "67000000.0",
          "900000.0",
          "2000000.0",
          "520000.0",
          "650000.0",
          "36500.0",
          "880000.0",
          "1850000.0",
          "814000.0",
          "900000.0",
          "480000.0",
          "490000.0",
          "750000.0",
          "340000.0",
          "1250000.0",
          "1250000.0",
          "1150000.0",
          "480000.0",
          "920000.0",
          "630000.0",
          "430000.0",
          "380000.0",
          "920000.0",
          "924000.0",
          "580000.0",
          "510000.0",
          "1040000.0",
          "450000.0",
          "600000.0",
          "610000.0",
          "980000.0",
          "970000.0",
          "1000000.0",
          "630000.0",
          "1150000.0",
          "470000.0",
          "950000.0",
          "840000.0",
          "850000.0",
          "28000000.0",
          "33875000.0",
          "670000.0",
          "1060000.0",
          "1716000.0",
          "650000.0",
          "775000.0",
          "1050000.0",
          "490000.0",
          "600000.0",
          "920000.0",
          "900000.0",
          "450000.0",
          "630000.0",
          "1150000.0"
         ],
         "yaxis": "y"
        },
        {
         "hovertemplate": "Type=Maison<br>Area=%{x}<br>Price=%{y}<extra></extra>",
         "legendgroup": "Maison",
         "marker": {
          "color": "#EF553B",
          "symbol": "circle"
         },
         "mode": "markers",
         "name": "Maison",
         "orientation": "v",
         "showlegend": true,
         "type": "scatter",
         "x": [
          "203.0",
          "100.0",
          "203.0",
          "65.0",
          "150.0",
          "96.0",
          "75.0",
          "153.0",
          "540.0",
          "400.0",
          "297.0",
          "297.0",
          "112.0",
          "64.0",
          "110.0",
          "80.0",
          "203.0",
          "133.0",
          "300.0",
          "170.0",
          "126.0",
          "70.0",
          "80.0",
          "170.0",
          "81.0",
          "99.0",
          "64.0",
          "80.0",
          "80.0",
          "124.0",
          "81.0",
          "120.0",
          "80.0",
          "120.0",
          "67.0",
          "100.0",
          "80.0",
          "105.0",
          "147.0",
          "150.0",
          "75.0",
          "120.0",
          "120.0",
          "80.0",
          "167.0",
          "75.0",
          "82.0",
          "127.0",
          "51.0",
          "126.0",
          "112.0",
          "218.0",
          "80.0",
          "111.0",
          "108.0",
          "108.0",
          "450.0",
          "133.0",
          "70.0",
          "68.0",
          "176.0",
          "133.0",
          "113.0",
          "125.0",
          "80.0",
          "150.0",
          "312.0",
          "70.0",
          "56.0",
          "120.0",
          "660.0",
          "225.0",
          "225.0",
          "200.0",
          "95.0",
          "75.0",
          "108.0",
          "90.0",
          "126.0",
          "47.0",
          "153.0",
          "153.0",
          "64.0",
          "100.0",
          "144.0",
          "80.0",
          "64.0",
          "100.0",
          "133.0",
          "108.0",
          "66.0",
          "108.0",
          "170.0",
          "90.0",
          "159.0",
          "350.0",
          "50.0",
          "128.0",
          "70.0",
          "655.0",
          "104.0",
          "150.0",
          "112.0",
          "85.0",
          "209.0",
          "120.0"
         ],
         "xaxis": "x",
         "y": [
          "2400000.0",
          "400000.0",
          "960000.0",
          "3000000.0",
          "1600000.0",
          "2300000.0",
          "1800000150000.0",
          "500000.0",
          "4600000.0",
          "3500000.0",
          "1320000.0",
          "1320000.0",
          "2900000.0",
          "1200000.0",
          "1800000.0",
          "1250000.0",
          "960000.0",
          "2000000.0",
          "3000000.0",
          "3500000.0",
          "2600000.0",
          "1300000.0",
          "1900000.0",
          "2400000.0",
          "1500000.0",
          "1700000.0",
          "1000000.0",
          "3200000.0",
          "2400000.0",
          "6500000.0",
          "2600000.0",
          "1700000.0",
          "1300000.0",
          "2000000.0",
          "1600000.0",
          "1650000.0",
          "2600000.0",
          "2200000.0",
          "3800000.0",
          "725533.3333333334",
          "1400000.0",
          "2400000.0",
          "2000000.0",
          "2900000.0",
          "2200000.0",
          "1400000.0",
          "1450000.0",
          "2100000.0",
          "3600000.0",
          "3200000.0",
          "2600000.0",
          "3600000.0",
          "1300000.0",
          "1500000.0",
          "4880000.0",
          "1600000.0",
          "46158363717.948715",
          "1600000.0",
          "1400000000.0",
          "500000.0",
          "2000000.0",
          "1600000.0",
          "2960000.0",
          "2650000.0",
          "1700000.0",
          "3000000.0",
          "3100000.0",
          "1400000.0",
          "1200000.0",
          "2000000.0",
          "6000000.0",
          "6800000.0",
          "3100000.0",
          "2800000.0",
          "4600000.0",
          "1370000.0",
          "980000.0",
          "1966666.6666666667",
          "3000000.0",
          "1000000.0",
          "500000.0",
          "6400000.0",
          "900000.0",
          "1700000.0",
          "2100000.0",
          "2000000.0",
          "1450000.0",
          "1900000.0",
          "1600000.0",
          "3200000.0",
          "751600.0",
          "2100000.0",
          "1800000.0",
          "1700000.0",
          "3400000.0",
          "1950000.0",
          "800000.0",
          "3100000.0",
          "460000.0",
          "1200000.0",
          "85000000.0",
          "1700000.0",
          "2200000.0",
          "2600000.0",
          "225000.0",
          "1800000.0"
         ],
         "yaxis": "y"
        },
        {
         "hovertemplate": "Type=Villa<br>Area=%{x}<br>Price=%{y}<extra></extra>",
         "legendgroup": "Villa",
         "marker": {
          "color": "#00cc96",
          "symbol": "circle"
         },
         "mode": "markers",
         "name": "Villa",
         "orientation": "v",
         "showlegend": true,
         "type": "scatter",
         "x": [
          "100.0",
          "380.0",
          "380.0",
          "300.0",
          "200.0",
          "800.0",
          "1506.0",
          "140.0",
          "140.0",
          "370.0",
          "1600.0",
          "300.0",
          "629.0",
          "282.0",
          "120.0",
          "300.0",
          "894.0",
          "500.0",
          "166.0",
          "710.0",
          "218.0",
          "730.0",
          "150.0",
          "450.0",
          "120.0",
          "310.0",
          "500.0",
          "136.0",
          "150.0",
          "233.0",
          "264.0",
          "240.0",
          "338.0",
          "178.0",
          "220.0",
          "315.0",
          "131.0",
          "220.0",
          "1000.0",
          "400.0",
          "300.0",
          "200.0",
          "460.0",
          "1400.0",
          "131.0",
          "200.0",
          "216.0",
          "354.0",
          "370.0",
          "350.0",
          "320.0",
          "300.0",
          "10000.0",
          "264.0",
          "360.0",
          "60.0",
          "380.0",
          "270.0",
          "120.0",
          "170.0",
          "112.0",
          "180.0",
          "300.0",
          "332.0",
          "908.0",
          "210.0",
          "162.0",
          "179.0",
          "322.0",
          "872.0",
          "180.0",
          "600.0",
          "175.0",
          "1256.0",
          "330.0",
          "850.0",
          "745.0",
          "160.0",
          "120.0",
          "200.0",
          "245.0",
          "300.0",
          "300.0",
          "175.0",
          "167.0",
          "740.0",
          "200.0",
          "300.0",
          "519.0",
          "800.0",
          "343.0",
          "160.0",
          "110.0",
          "268.0",
          "130.0",
          "160.0",
          "400.0",
          "127.0",
          "800.0",
          "324.0",
          "160.0",
          "330.0",
          "200.0",
          "240.0",
          "81.0",
          "260.0",
          "500.0",
          "300.0",
          "222.0",
          "600.0"
         ],
         "xaxis": "x",
         "y": [
          "2250000.0",
          "6800000.0",
          "6800000.0",
          "4500000.0",
          "3000000.0",
          "8500000.0",
          "17000000.0",
          "1700000.0",
          "2200000.0",
          "14500000.0",
          "9700000.0",
          "5700000.0",
          "13000000.0",
          "3200000.0",
          "3000000.0",
          "4800000.0",
          "10500000.0",
          "7800000.0",
          "5966666.666666667",
          "9000000.0",
          "4400000.0",
          "12000000.0",
          "3000000.0",
          "5300000.0",
          "2000000.0",
          "4800000.0",
          "6800000.0",
          "3700000.0",
          "2900000.0",
          "4800000.0",
          "2960000.0",
          "4900000.0",
          "4500000.0",
          "4500000.0",
          "4800000.0",
          "3900000.0",
          "1600000.0",
          "3300000.0",
          "16000000.0",
          "4500000.0",
          "5700000.0",
          "3400000.0",
          "3800000.0",
          "9525000.0",
          "2500000.0",
          "3400000.0",
          "4900000.0",
          "3600000.0",
          "3300000.0",
          "8500000.0",
          "3000000.0",
          "4550000.0",
          "3800000.0",
          "2950000.0",
          "2700000.0",
          "900000.0",
          "5700000.0",
          "6500000.0",
          "1650000.0",
          "1800000.0",
          "2800000.0",
          "2500000.0",
          "4500000.0",
          "4416666.666666667",
          "5522847.222222222",
          "5200000.0",
          "3500000.0",
          "2430000.0",
          "3566666.6666666665",
          "10000000.0",
          "5522847.222222222",
          "5522847.222222222",
          "2200000.0",
          "9500000.0",
          "4800000.0",
          "8500000.0",
          "32500000.0",
          "2300000.0",
          "2200000.0",
          "4000000.0",
          "3800000.0",
          "4800000.0",
          "6500000.0",
          "1900000.0",
          "2500000.0",
          "14000000.0",
          "2950000.0",
          "9200000.0",
          "4900000.0",
          "8500000.0",
          "2800000.0",
          "3000000.0",
          "1450000.0",
          "6500000.0",
          "2600000.0",
          "5522847.222222222",
          "4800000.0",
          "2800000.0",
          "5522847.222222222",
          "7600000.0",
          "270000.0",
          "7500000.0",
          "3500000.0",
          "3900000.0",
          "1550000.0",
          "3400000.0",
          "5500000.0",
          "4000000.0",
          "2600000.0",
          "1800000.0"
         ],
         "yaxis": "y"
        }
       ],
       "layout": {
        "legend": {
         "title": {
          "text": "Type"
         },
         "tracegroupgap": 0
        },
        "template": {
         "data": {
          "bar": [
           {
            "error_x": {
             "color": "#2a3f5f"
            },
            "error_y": {
             "color": "#2a3f5f"
            },
            "marker": {
             "line": {
              "color": "#E5ECF6",
              "width": 0.5
             },
             "pattern": {
              "fillmode": "overlay",
              "size": 10,
              "solidity": 0.2
             }
            },
            "type": "bar"
           }
          ],
          "barpolar": [
           {
            "marker": {
             "line": {
              "color": "#E5ECF6",
              "width": 0.5
             },
             "pattern": {
              "fillmode": "overlay",
              "size": 10,
              "solidity": 0.2
             }
            },
            "type": "barpolar"
           }
          ],
          "carpet": [
           {
            "aaxis": {
             "endlinecolor": "#2a3f5f",
             "gridcolor": "white",
             "linecolor": "white",
             "minorgridcolor": "white",
             "startlinecolor": "#2a3f5f"
            },
            "baxis": {
             "endlinecolor": "#2a3f5f",
             "gridcolor": "white",
             "linecolor": "white",
             "minorgridcolor": "white",
             "startlinecolor": "#2a3f5f"
            },
            "type": "carpet"
           }
          ],
          "choropleth": [
           {
            "colorbar": {
             "outlinewidth": 0,
             "ticks": ""
            },
            "type": "choropleth"
           }
          ],
          "contour": [
           {
            "colorbar": {
             "outlinewidth": 0,
             "ticks": ""
            },
            "colorscale": [
             [
              0,
              "#0d0887"
             ],
             [
              0.1111111111111111,
              "#46039f"
             ],
             [
              0.2222222222222222,
              "#7201a8"
             ],
             [
              0.3333333333333333,
              "#9c179e"
             ],
             [
              0.4444444444444444,
              "#bd3786"
             ],
             [
              0.5555555555555556,
              "#d8576b"
             ],
             [
              0.6666666666666666,
              "#ed7953"
             ],
             [
              0.7777777777777778,
              "#fb9f3a"
             ],
             [
              0.8888888888888888,
              "#fdca26"
             ],
             [
              1,
              "#f0f921"
             ]
            ],
            "type": "contour"
           }
          ],
          "contourcarpet": [
           {
            "colorbar": {
             "outlinewidth": 0,
             "ticks": ""
            },
            "type": "contourcarpet"
           }
          ],
          "heatmap": [
           {
            "colorbar": {
             "outlinewidth": 0,
             "ticks": ""
            },
            "colorscale": [
             [
              0,
              "#0d0887"
             ],
             [
              0.1111111111111111,
              "#46039f"
             ],
             [
              0.2222222222222222,
              "#7201a8"
             ],
             [
              0.3333333333333333,
              "#9c179e"
             ],
             [
              0.4444444444444444,
              "#bd3786"
             ],
             [
              0.5555555555555556,
              "#d8576b"
             ],
             [
              0.6666666666666666,
              "#ed7953"
             ],
             [
              0.7777777777777778,
              "#fb9f3a"
             ],
             [
              0.8888888888888888,
              "#fdca26"
             ],
             [
              1,
              "#f0f921"
             ]
            ],
            "type": "heatmap"
           }
          ],
          "heatmapgl": [
           {
            "colorbar": {
             "outlinewidth": 0,
             "ticks": ""
            },
            "colorscale": [
             [
              0,
              "#0d0887"
             ],
             [
              0.1111111111111111,
              "#46039f"
             ],
             [
              0.2222222222222222,
              "#7201a8"
             ],
             [
              0.3333333333333333,
              "#9c179e"
             ],
             [
              0.4444444444444444,
              "#bd3786"
             ],
             [
              0.5555555555555556,
              "#d8576b"
             ],
             [
              0.6666666666666666,
              "#ed7953"
             ],
             [
              0.7777777777777778,
              "#fb9f3a"
             ],
             [
              0.8888888888888888,
              "#fdca26"
             ],
             [
              1,
              "#f0f921"
             ]
            ],
            "type": "heatmapgl"
           }
          ],
          "histogram": [
           {
            "marker": {
             "pattern": {
              "fillmode": "overlay",
              "size": 10,
              "solidity": 0.2
             }
            },
            "type": "histogram"
           }
          ],
          "histogram2d": [
           {
            "colorbar": {
             "outlinewidth": 0,
             "ticks": ""
            },
            "colorscale": [
             [
              0,
              "#0d0887"
             ],
             [
              0.1111111111111111,
              "#46039f"
             ],
             [
              0.2222222222222222,
              "#7201a8"
             ],
             [
              0.3333333333333333,
              "#9c179e"
             ],
             [
              0.4444444444444444,
              "#bd3786"
             ],
             [
              0.5555555555555556,
              "#d8576b"
             ],
             [
              0.6666666666666666,
              "#ed7953"
             ],
             [
              0.7777777777777778,
              "#fb9f3a"
             ],
             [
              0.8888888888888888,
              "#fdca26"
             ],
             [
              1,
              "#f0f921"
             ]
            ],
            "type": "histogram2d"
           }
          ],
          "histogram2dcontour": [
           {
            "colorbar": {
             "outlinewidth": 0,
             "ticks": ""
            },
            "colorscale": [
             [
              0,
              "#0d0887"
             ],
             [
              0.1111111111111111,
              "#46039f"
             ],
             [
              0.2222222222222222,
              "#7201a8"
             ],
             [
              0.3333333333333333,
              "#9c179e"
             ],
             [
              0.4444444444444444,
              "#bd3786"
             ],
             [
              0.5555555555555556,
              "#d8576b"
             ],
             [
              0.6666666666666666,
              "#ed7953"
             ],
             [
              0.7777777777777778,
              "#fb9f3a"
             ],
             [
              0.8888888888888888,
              "#fdca26"
             ],
             [
              1,
              "#f0f921"
             ]
            ],
            "type": "histogram2dcontour"
           }
          ],
          "mesh3d": [
           {
            "colorbar": {
             "outlinewidth": 0,
             "ticks": ""
            },
            "type": "mesh3d"
           }
          ],
          "parcoords": [
           {
            "line": {
             "colorbar": {
              "outlinewidth": 0,
              "ticks": ""
             }
            },
            "type": "parcoords"
           }
          ],
          "pie": [
           {
            "automargin": true,
            "type": "pie"
           }
          ],
          "scatter": [
           {
            "fillpattern": {
             "fillmode": "overlay",
             "size": 10,
             "solidity": 0.2
            },
            "type": "scatter"
           }
          ],
          "scatter3d": [
           {
            "line": {
             "colorbar": {
              "outlinewidth": 0,
              "ticks": ""
             }
            },
            "marker": {
             "colorbar": {
              "outlinewidth": 0,
              "ticks": ""
             }
            },
            "type": "scatter3d"
           }
          ],
          "scattercarpet": [
           {
            "marker": {
             "colorbar": {
              "outlinewidth": 0,
              "ticks": ""
             }
            },
            "type": "scattercarpet"
           }
          ],
          "scattergeo": [
           {
            "marker": {
             "colorbar": {
              "outlinewidth": 0,
              "ticks": ""
             }
            },
            "type": "scattergeo"
           }
          ],
          "scattergl": [
           {
            "marker": {
             "colorbar": {
              "outlinewidth": 0,
              "ticks": ""
             }
            },
            "type": "scattergl"
           }
          ],
          "scattermapbox": [
           {
            "marker": {
             "colorbar": {
              "outlinewidth": 0,
              "ticks": ""
             }
            },
            "type": "scattermapbox"
           }
          ],
          "scatterpolar": [
           {
            "marker": {
             "colorbar": {
              "outlinewidth": 0,
              "ticks": ""
             }
            },
            "type": "scatterpolar"
           }
          ],
          "scatterpolargl": [
           {
            "marker": {
             "colorbar": {
              "outlinewidth": 0,
              "ticks": ""
             }
            },
            "type": "scatterpolargl"
           }
          ],
          "scatterternary": [
           {
            "marker": {
             "colorbar": {
              "outlinewidth": 0,
              "ticks": ""
             }
            },
            "type": "scatterternary"
           }
          ],
          "surface": [
           {
            "colorbar": {
             "outlinewidth": 0,
             "ticks": ""
            },
            "colorscale": [
             [
              0,
              "#0d0887"
             ],
             [
              0.1111111111111111,
              "#46039f"
             ],
             [
              0.2222222222222222,
              "#7201a8"
             ],
             [
              0.3333333333333333,
              "#9c179e"
             ],
             [
              0.4444444444444444,
              "#bd3786"
             ],
             [
              0.5555555555555556,
              "#d8576b"
             ],
             [
              0.6666666666666666,
              "#ed7953"
             ],
             [
              0.7777777777777778,
              "#fb9f3a"
             ],
             [
              0.8888888888888888,
              "#fdca26"
             ],
             [
              1,
              "#f0f921"
             ]
            ],
            "type": "surface"
           }
          ],
          "table": [
           {
            "cells": {
             "fill": {
              "color": "#EBF0F8"
             },
             "line": {
              "color": "white"
             }
            },
            "header": {
             "fill": {
              "color": "#C8D4E3"
             },
             "line": {
              "color": "white"
             }
            },
            "type": "table"
           }
          ]
         },
         "layout": {
          "annotationdefaults": {
           "arrowcolor": "#2a3f5f",
           "arrowhead": 0,
           "arrowwidth": 1
          },
          "autotypenumbers": "strict",
          "coloraxis": {
           "colorbar": {
            "outlinewidth": 0,
            "ticks": ""
           }
          },
          "colorscale": {
           "diverging": [
            [
             0,
             "#8e0152"
            ],
            [
             0.1,
             "#c51b7d"
            ],
            [
             0.2,
             "#de77ae"
            ],
            [
             0.3,
             "#f1b6da"
            ],
            [
             0.4,
             "#fde0ef"
            ],
            [
             0.5,
             "#f7f7f7"
            ],
            [
             0.6,
             "#e6f5d0"
            ],
            [
             0.7,
             "#b8e186"
            ],
            [
             0.8,
             "#7fbc41"
            ],
            [
             0.9,
             "#4d9221"
            ],
            [
             1,
             "#276419"
            ]
           ],
           "sequential": [
            [
             0,
             "#0d0887"
            ],
            [
             0.1111111111111111,
             "#46039f"
            ],
            [
             0.2222222222222222,
             "#7201a8"
            ],
            [
             0.3333333333333333,
             "#9c179e"
            ],
            [
             0.4444444444444444,
             "#bd3786"
            ],
            [
             0.5555555555555556,
             "#d8576b"
            ],
            [
             0.6666666666666666,
             "#ed7953"
            ],
            [
             0.7777777777777778,
             "#fb9f3a"
            ],
            [
             0.8888888888888888,
             "#fdca26"
            ],
            [
             1,
             "#f0f921"
            ]
           ],
           "sequentialminus": [
            [
             0,
             "#0d0887"
            ],
            [
             0.1111111111111111,
             "#46039f"
            ],
            [
             0.2222222222222222,
             "#7201a8"
            ],
            [
             0.3333333333333333,
             "#9c179e"
            ],
            [
             0.4444444444444444,
             "#bd3786"
            ],
            [
             0.5555555555555556,
             "#d8576b"
            ],
            [
             0.6666666666666666,
             "#ed7953"
            ],
            [
             0.7777777777777778,
             "#fb9f3a"
            ],
            [
             0.8888888888888888,
             "#fdca26"
            ],
            [
             1,
             "#f0f921"
            ]
           ]
          },
          "colorway": [
           "#636efa",
           "#EF553B",
           "#00cc96",
           "#ab63fa",
           "#FFA15A",
           "#19d3f3",
           "#FF6692",
           "#B6E880",
           "#FF97FF",
           "#FECB52"
          ],
          "font": {
           "color": "#2a3f5f"
          },
          "geo": {
           "bgcolor": "white",
           "lakecolor": "white",
           "landcolor": "#E5ECF6",
           "showlakes": true,
           "showland": true,
           "subunitcolor": "white"
          },
          "hoverlabel": {
           "align": "left"
          },
          "hovermode": "closest",
          "mapbox": {
           "style": "light"
          },
          "paper_bgcolor": "white",
          "plot_bgcolor": "#E5ECF6",
          "polar": {
           "angularaxis": {
            "gridcolor": "white",
            "linecolor": "white",
            "ticks": ""
           },
           "bgcolor": "#E5ECF6",
           "radialaxis": {
            "gridcolor": "white",
            "linecolor": "white",
            "ticks": ""
           }
          },
          "scene": {
           "xaxis": {
            "backgroundcolor": "#E5ECF6",
            "gridcolor": "white",
            "gridwidth": 2,
            "linecolor": "white",
            "showbackground": true,
            "ticks": "",
            "zerolinecolor": "white"
           },
           "yaxis": {
            "backgroundcolor": "#E5ECF6",
            "gridcolor": "white",
            "gridwidth": 2,
            "linecolor": "white",
            "showbackground": true,
            "ticks": "",
            "zerolinecolor": "white"
           },
           "zaxis": {
            "backgroundcolor": "#E5ECF6",
            "gridcolor": "white",
            "gridwidth": 2,
            "linecolor": "white",
            "showbackground": true,
            "ticks": "",
            "zerolinecolor": "white"
           }
          },
          "shapedefaults": {
           "line": {
            "color": "#2a3f5f"
           }
          },
          "ternary": {
           "aaxis": {
            "gridcolor": "white",
            "linecolor": "white",
            "ticks": ""
           },
           "baxis": {
            "gridcolor": "white",
            "linecolor": "white",
            "ticks": ""
           },
           "bgcolor": "#E5ECF6",
           "caxis": {
            "gridcolor": "white",
            "linecolor": "white",
            "ticks": ""
           }
          },
          "title": {
           "x": 0.05
          },
          "xaxis": {
           "automargin": true,
           "gridcolor": "white",
           "linecolor": "white",
           "ticks": "",
           "title": {
            "standoff": 15
           },
           "zerolinecolor": "white",
           "zerolinewidth": 2
          },
          "yaxis": {
           "automargin": true,
           "gridcolor": "white",
           "linecolor": "white",
           "ticks": "",
           "title": {
            "standoff": 15
           },
           "zerolinecolor": "white",
           "zerolinewidth": 2
          }
         }
        },
        "title": {
         "text": "Price vs. Area"
        },
        "xaxis": {
         "anchor": "y",
         "domain": [
          0,
          1
         ],
         "title": {
          "text": "Area"
         }
        },
        "yaxis": {
         "anchor": "x",
         "domain": [
          0,
          1
         ],
         "title": {
          "text": "Price"
         }
        }
       }
      }
     },
     "metadata": {},
     "output_type": "display_data"
    }
   ],
   "source": [
    "fig4 = px.scatter(data1, x='Area', y='Price', color='Type', title='Price vs. Area')\n",
    "fig4.show()"
   ]
  },
  {
   "cell_type": "code",
   "execution_count": 13,
   "metadata": {},
   "outputs": [
    {
     "data": {
      "application/vnd.plotly.v1+json": {
       "config": {
        "plotlyServerURL": "https://plot.ly"
       },
       "data": [
        {
         "alignmentgroup": "True",
         "hovertemplate": "Type=%{x}<br>Price=%{y}<extra></extra>",
         "legendgroup": "",
         "marker": {
          "color": "#636efa"
         },
         "name": "",
         "notched": false,
         "offsetgroup": "",
         "orientation": "v",
         "showlegend": false,
         "type": "box",
         "x": [
          "Appartement",
          "Appartement",
          "Appartement",
          "Appartement",
          "Appartement",
          "Appartement",
          "Appartement",
          "Appartement",
          "Appartement",
          "Appartement",
          "Appartement",
          "Maison",
          "Appartement",
          "Appartement",
          "Appartement",
          "Appartement",
          "Appartement",
          "Villa",
          "Appartement",
          "Appartement",
          "Appartement",
          "Appartement",
          "Appartement",
          "Villa",
          "Appartement",
          "Appartement",
          "Villa",
          "Appartement",
          "Villa",
          "Appartement",
          "Appartement",
          "Appartement",
          "Appartement",
          "Appartement",
          "Appartement",
          "Appartement",
          "Appartement",
          "Appartement",
          "Appartement",
          "Appartement",
          "Appartement",
          "Appartement",
          "Appartement",
          "Appartement",
          "Villa",
          "Appartement",
          "Appartement",
          "Villa",
          "Appartement",
          "Appartement",
          "Maison",
          "Appartement",
          "Appartement",
          "Appartement",
          "Villa",
          "Appartement",
          "Appartement",
          "Appartement",
          "Villa",
          "Villa",
          "Appartement",
          "Appartement",
          "Appartement",
          "Appartement",
          "Appartement",
          "Villa",
          "Appartement",
          "Maison",
          "Appartement",
          "Maison",
          "Maison",
          "Maison",
          "Appartement",
          "Appartement",
          "Appartement",
          "Villa",
          "Villa",
          "Appartement",
          "Appartement",
          "Appartement",
          "Maison",
          "Appartement",
          "Appartement",
          "Villa",
          "Appartement",
          "Appartement",
          "Appartement",
          "Appartement",
          "Appartement",
          "Appartement",
          "Appartement",
          "Appartement",
          "Maison",
          "Maison",
          "Appartement",
          "Villa",
          "Villa",
          "Villa",
          "Villa",
          "Appartement",
          "Appartement",
          "Appartement",
          "Villa",
          "Villa",
          "Appartement",
          "Appartement",
          "Villa",
          "Maison",
          "Appartement",
          "Villa",
          "Appartement",
          "Villa",
          "Villa",
          "Villa",
          "Villa",
          "Villa",
          "Villa",
          "Appartement",
          "Appartement",
          "Villa",
          "Villa",
          "Appartement",
          "Appartement",
          "Appartement",
          "Appartement",
          "Appartement",
          "Maison",
          "Maison",
          "Maison",
          "Maison",
          "Appartement",
          "Appartement",
          "Appartement",
          "Appartement",
          "Appartement",
          "Appartement",
          "Maison",
          "Appartement",
          "Appartement",
          "Maison",
          "Appartement",
          "Appartement",
          "Maison",
          "Appartement",
          "Villa",
          "Appartement",
          "Villa",
          "Appartement",
          "Appartement",
          "Appartement",
          "Appartement",
          "Appartement",
          "Appartement",
          "Appartement",
          "Appartement",
          "Appartement",
          "Appartement",
          "Appartement",
          "Appartement",
          "Villa",
          "Appartement",
          "Appartement",
          "Villa",
          "Appartement",
          "Appartement",
          "Appartement",
          "Maison",
          "Villa",
          "Maison",
          "Appartement",
          "Appartement",
          "Villa",
          "Appartement",
          "Villa",
          "Appartement",
          "Appartement",
          "Appartement",
          "Appartement",
          "Appartement",
          "Villa",
          "Appartement",
          "Villa",
          "Appartement",
          "Villa",
          "Villa",
          "Appartement",
          "Appartement",
          "Appartement",
          "Appartement",
          "Villa",
          "Appartement",
          "Appartement",
          "Maison",
          "Maison",
          "Appartement",
          "Appartement",
          "Maison",
          "Appartement",
          "Villa",
          "Appartement",
          "Villa",
          "Appartement",
          "Appartement",
          "Appartement",
          "Appartement",
          "Appartement",
          "Appartement",
          "Villa",
          "Villa",
          "Maison",
          "Appartement",
          "Villa",
          "Appartement",
          "Appartement",
          "Appartement",
          "Appartement",
          "Appartement",
          "Villa",
          "Maison",
          "Appartement",
          "Appartement",
          "Appartement",
          "Appartement",
          "Appartement",
          "Appartement",
          "Appartement",
          "Appartement",
          "Villa",
          "Villa",
          "Appartement",
          "Appartement",
          "Appartement",
          "Villa",
          "Appartement",
          "Villa",
          "Maison",
          "Appartement",
          "Appartement",
          "Villa",
          "Appartement",
          "Maison",
          "Appartement",
          "Villa",
          "Appartement",
          "Villa",
          "Appartement",
          "Appartement",
          "Appartement",
          "Maison",
          "Appartement",
          "Maison",
          "Appartement",
          "Appartement",
          "Appartement",
          "Appartement",
          "Appartement",
          "Appartement",
          "Appartement",
          "Appartement",
          "Appartement",
          "Appartement",
          "Appartement",
          "Appartement",
          "Appartement",
          "Maison",
          "Maison",
          "Maison",
          "Villa",
          "Maison",
          "Appartement",
          "Appartement",
          "Villa",
          "Villa",
          "Appartement",
          "Appartement",
          "Appartement",
          "Appartement",
          "Villa",
          "Appartement",
          "Appartement",
          "Appartement",
          "Appartement",
          "Appartement",
          "Appartement",
          "Villa",
          "Maison",
          "Maison",
          "Appartement",
          "Maison",
          "Appartement",
          "Appartement",
          "Maison",
          "Appartement",
          "Appartement",
          "Appartement",
          "Appartement",
          "Appartement",
          "Maison",
          "Appartement",
          "Maison",
          "Maison",
          "Appartement",
          "Appartement",
          "Appartement",
          "Appartement",
          "Maison",
          "Appartement",
          "Appartement",
          "Appartement",
          "Appartement",
          "Appartement",
          "Appartement",
          "Villa",
          "Appartement",
          "Maison",
          "Appartement",
          "Appartement",
          "Appartement",
          "Appartement",
          "Appartement",
          "Appartement",
          "Villa",
          "Maison",
          "Appartement",
          "Appartement",
          "Appartement",
          "Appartement",
          "Villa",
          "Appartement",
          "Appartement",
          "Maison",
          "Maison",
          "Appartement",
          "Villa",
          "Appartement",
          "Maison",
          "Appartement",
          "Appartement",
          "Appartement",
          "Maison",
          "Appartement",
          "Appartement",
          "Appartement",
          "Villa",
          "Maison",
          "Appartement",
          "Maison",
          "Villa",
          "Appartement",
          "Appartement",
          "Appartement",
          "Appartement",
          "Appartement",
          "Appartement",
          "Appartement",
          "Appartement",
          "Appartement",
          "Appartement",
          "Appartement",
          "Appartement",
          "Appartement",
          "Appartement",
          "Appartement",
          "Maison",
          "Appartement",
          "Appartement",
          "Appartement",
          "Villa",
          "Maison",
          "Appartement",
          "Villa",
          "Maison",
          "Appartement",
          "Appartement",
          "Maison",
          "Appartement",
          "Appartement",
          "Maison",
          "Appartement",
          "Appartement",
          "Appartement",
          "Appartement",
          "Appartement",
          "Appartement",
          "Appartement",
          "Maison",
          "Appartement",
          "Appartement",
          "Appartement",
          "Appartement",
          "Appartement",
          "Appartement",
          "Appartement",
          "Appartement",
          "Appartement",
          "Appartement",
          "Appartement",
          "Maison",
          "Appartement",
          "Appartement",
          "Maison",
          "Appartement",
          "Appartement",
          "Appartement",
          "Appartement",
          "Appartement",
          "Appartement",
          "Maison",
          "Appartement",
          "Appartement",
          "Maison",
          "Appartement",
          "Appartement",
          "Appartement",
          "Appartement",
          "Appartement",
          "Appartement",
          "Villa",
          "Appartement",
          "Appartement",
          "Maison",
          "Maison",
          "Appartement",
          "Appartement",
          "Appartement",
          "Villa",
          "Appartement",
          "Appartement",
          "Appartement",
          "Maison",
          "Appartement",
          "Appartement",
          "Appartement",
          "Maison",
          "Maison",
          "Villa",
          "Maison",
          "Appartement",
          "Maison",
          "Appartement",
          "Appartement",
          "Appartement",
          "Appartement",
          "Appartement",
          "Appartement",
          "Appartement",
          "Appartement",
          "Appartement",
          "Maison",
          "Appartement",
          "Appartement",
          "Appartement",
          "Appartement",
          "Maison",
          "Appartement",
          "Villa",
          "Appartement",
          "Appartement",
          "Appartement",
          "Villa",
          "Appartement",
          "Appartement",
          "Villa",
          "Villa",
          "Appartement",
          "Appartement",
          "Villa",
          "Maison",
          "Appartement",
          "Appartement",
          "Villa",
          "Maison",
          "Maison",
          "Appartement",
          "Appartement",
          "Villa",
          "Appartement",
          "Appartement",
          "Appartement",
          "Appartement",
          "Villa",
          "Appartement",
          "Maison",
          "Appartement",
          "Maison",
          "Appartement",
          "Appartement",
          "Appartement",
          "Appartement",
          "Villa",
          "Appartement",
          "Villa",
          "Appartement",
          "Appartement",
          "Maison",
          "Appartement",
          "Appartement",
          "Appartement",
          "Appartement",
          "Villa",
          "Appartement",
          "Appartement",
          "Appartement",
          "Villa",
          "Appartement",
          "Appartement",
          "Appartement",
          "Appartement",
          "Appartement",
          "Villa",
          "Appartement",
          "Appartement",
          "Appartement",
          "Villa",
          "Appartement",
          "Appartement",
          "Appartement",
          "Appartement",
          "Appartement",
          "Villa",
          "Appartement",
          "Appartement",
          "Villa",
          "Appartement",
          "Appartement",
          "Appartement",
          "Appartement",
          "Appartement",
          "Appartement",
          "Appartement",
          "Villa",
          "Appartement",
          "Appartement",
          "Appartement",
          "Appartement",
          "Appartement",
          "Villa",
          "Villa",
          "Appartement",
          "Maison",
          "Appartement",
          "Appartement",
          "Villa",
          "Appartement",
          "Appartement",
          "Appartement",
          "Appartement",
          "Appartement",
          "Appartement",
          "Appartement",
          "Appartement",
          "Appartement",
          "Villa",
          "Maison",
          "Appartement",
          "Appartement",
          "Maison",
          "Appartement",
          "Appartement",
          "Appartement",
          "Appartement",
          "Appartement",
          "Appartement",
          "Villa",
          "Appartement",
          "Appartement",
          "Appartement",
          "Maison",
          "Appartement",
          "Appartement",
          "Appartement",
          "Appartement",
          "Appartement",
          "Appartement",
          "Appartement",
          "Appartement",
          "Maison",
          "Appartement",
          "Appartement",
          "Appartement",
          "Appartement",
          "Villa",
          "Villa",
          "Appartement",
          "Maison",
          "Villa",
          "Appartement",
          "Appartement",
          "Appartement",
          "Appartement",
          "Appartement",
          "Appartement",
          "Maison",
          "Maison",
          "Maison",
          "Appartement",
          "Maison",
          "Maison",
          "Appartement",
          "Appartement",
          "Appartement",
          "Appartement",
          "Appartement",
          "Appartement",
          "Appartement",
          "Appartement",
          "Appartement",
          "Maison",
          "Appartement",
          "Appartement",
          "Appartement",
          "Appartement",
          "Villa",
          "Appartement",
          "Villa",
          "Villa",
          "Appartement",
          "Appartement",
          "Appartement",
          "Appartement",
          "Villa",
          "Villa",
          "Maison",
          "Appartement",
          "Appartement",
          "Appartement",
          "Appartement",
          "Appartement",
          "Appartement",
          "Maison",
          "Appartement",
          "Appartement",
          "Appartement",
          "Appartement",
          "Appartement",
          "Appartement",
          "Appartement",
          "Appartement",
          "Appartement",
          "Appartement",
          "Maison",
          "Maison",
          "Appartement",
          "Maison",
          "Appartement",
          "Maison",
          "Appartement",
          "Villa",
          "Appartement",
          "Appartement",
          "Appartement",
          "Appartement",
          "Villa",
          "Appartement",
          "Appartement",
          "Appartement",
          "Appartement",
          "Appartement",
          "Appartement",
          "Appartement",
          "Appartement",
          "Appartement",
          "Appartement",
          "Villa",
          "Maison",
          "Appartement",
          "Appartement",
          "Appartement",
          "Appartement",
          "Maison",
          "Maison",
          "Maison",
          "Appartement",
          "Appartement",
          "Appartement",
          "Appartement",
          "Appartement",
          "Appartement",
          "Appartement",
          "Appartement",
          "Maison",
          "Appartement",
          "Appartement",
          "Villa",
          "Appartement",
          "Appartement",
          "Maison",
          "Villa",
          "Appartement",
          "Appartement",
          "Appartement",
          "Maison",
          "Appartement",
          "Appartement",
          "Appartement",
          "Appartement",
          "Appartement",
          "Appartement",
          "Appartement",
          "Appartement",
          "Appartement",
          "Appartement",
          "Appartement",
          "Appartement",
          "Appartement",
          "Appartement",
          "Appartement",
          "Appartement",
          "Appartement",
          "Villa",
          "Maison",
          "Appartement",
          "Appartement",
          "Appartement",
          "Maison",
          "Maison",
          "Appartement",
          "Appartement",
          "Appartement",
          "Appartement",
          "Appartement",
          "Appartement",
          "Appartement",
          "Appartement",
          "Appartement",
          "Maison",
          "Appartement",
          "Appartement",
          "Appartement",
          "Appartement",
          "Appartement",
          "Villa",
          "Appartement",
          "Appartement",
          "Maison",
          "Appartement",
          "Appartement",
          "Appartement",
          "Appartement",
          "Appartement",
          "Appartement",
          "Appartement",
          "Appartement",
          "Appartement",
          "Appartement",
          "Appartement",
          "Appartement",
          "Maison",
          "Maison",
          "Appartement",
          "Appartement",
          "Appartement",
          "Villa",
          "Appartement",
          "Appartement",
          "Villa",
          "Maison",
          "Appartement",
          "Villa"
         ],
         "x0": " ",
         "xaxis": "x",
         "y": [
          "966000.0",
          "549000.0",
          "624000.0",
          "979000.0",
          "957000.0",
          "546000.0",
          "480000.0",
          "1900000.0",
          "696600.0",
          "1251160.0",
          "1012000.0",
          "2400000.0",
          "630000.0",
          "1233640.0",
          "992600.0",
          "1297350.0",
          "890000.0",
          "2250000.0",
          "1200000.0",
          "900000.0",
          "2950000.0",
          "1328000.0",
          "680000.0",
          "6800000.0",
          "680000.0",
          "3400000.0",
          "6800000.0",
          "980500.0",
          "4500000.0",
          "1284800.0",
          "1060000.0",
          "1695360.0",
          "1183700.0",
          "2600000.0",
          "1550000.0",
          "1350000.0",
          "1260000.0",
          "850000.0",
          "1282000.0",
          "650000.0",
          "598880.0",
          "790000.0",
          "380000.0",
          "680000.0",
          "3000000.0",
          "600000.0",
          "560000.0",
          "8500000.0",
          "2900000.0",
          "660000.0",
          "400000.0",
          "540000.0",
          "720000.0",
          "600000.0",
          "17000000.0",
          "2750000.0",
          "10500.0",
          "1560000.0",
          "1700000.0",
          "2200000.0",
          "1900000.0",
          "4900000.0",
          "2700000.0",
          "1900000.0",
          "2600000.0",
          "14500000.0",
          "500000.0",
          "960000.0",
          "1100000.0",
          "3000000.0",
          "1600000.0",
          "2300000.0",
          "380000.0",
          "600000.0",
          "4200000.0",
          "9700000.0",
          "5700000.0",
          "680000.0",
          "850000.0",
          "680000.0",
          "1800000150000.0",
          "510000.0",
          "510000.0",
          "13000000.0",
          "460000.0",
          "1950000.0",
          "620000.0",
          "770000.0",
          "520000.0",
          "570000.0",
          "700000.0",
          "630000.0",
          "500000.0",
          "4600000.0",
          "420000.0",
          "3200000.0",
          "3000000.0",
          "4800000.0",
          "10500000.0",
          "1600000.0",
          "5900000.0",
          "1550000.0",
          "7800000.0",
          "5966666.666666667",
          "1900000.0",
          "2500000.0",
          "9000000.0",
          "3500000.0",
          "2500000.0",
          "4400000.0",
          "2450000.0",
          "12000000.0",
          "3000000.0",
          "5300000.0",
          "2000000.0",
          "4800000.0",
          "6800000.0",
          "1250000.0",
          "2950000.0",
          "3700000.0",
          "2900000.0",
          "3700000.0",
          "680000.0",
          "1500000.0",
          "2600000.0",
          "860000.0",
          "1320000.0",
          "1320000.0",
          "2900000.0",
          "1200000.0",
          "840000.0",
          "800000.0",
          "1200000.0",
          "3400000.0",
          "1700000.0",
          "1357000.0",
          "1800000.0",
          "560000.0",
          "960000.0",
          "1250000.0",
          "380000.0",
          "560000.0",
          "960000.0",
          "1170000.0",
          "4800000.0",
          "1900000.0",
          "2960000.0",
          "1800000.0",
          "550000.0",
          "1100000.0",
          "1150000.0",
          "1100000.0",
          "800000.0",
          "560000.0",
          "650000.0",
          "770000.0",
          "1000000.0",
          "590000.0",
          "1030000.0",
          "4900000.0",
          "3250000.0",
          "900000.0",
          "4500000.0",
          "1750000.0",
          "900000.0",
          "2750000.0",
          "2000000.0",
          "4500000.0",
          "3000000.0",
          "1750000.0",
          "590000.0",
          "4800000.0",
          "928571.4285714285",
          "3900000.0",
          "680000.0",
          "800000.0",
          "740000.0",
          "660000.0",
          "2850000.0",
          "1600000.0",
          "2000000.0",
          "3300000.0",
          "3200000.0",
          "16000000.0",
          "4500000.0",
          "900000.0",
          "900000.0",
          "7500000.0",
          "4600000.0",
          "5700000.0",
          "880000.0",
          "1480000.0",
          "3500000.0",
          "2600000.0",
          "660000.0",
          "780000.0",
          "1300000.0",
          "881666.6666666666",
          "3400000.0",
          "434000.0",
          "3800000.0",
          "885000.0",
          "700000.0",
          "850000.0",
          "670000.0",
          "420000.0",
          "670000.0",
          "9525000.0",
          "2500000.0",
          "1900000.0",
          "880000.0",
          "3400000.0",
          "1250000.0",
          "530000.0",
          "1860000.0",
          "670000.0",
          "1400000.0",
          "4900000.0",
          "2400000.0",
          "1600000.0",
          "1333333.3333333333",
          "891750.0",
          "600000.0",
          "900000.0",
          "780000.0",
          "950000.0",
          "885000.0",
          "3600000.0",
          "3300000.0",
          "750000.0",
          "2800000.0",
          "680000.0",
          "8500000.0",
          "475000.0",
          "3000000.0",
          "1500000.0",
          "650000.0",
          "788369.2307692308",
          "4550000.0",
          "950000.0",
          "1700000.0",
          "1387500.0",
          "3800000.0",
          "1340000.0",
          "2950000.0",
          "570000.0",
          "2590000.0",
          "490000.0",
          "1000000.0",
          "350000.0",
          "3200000.0",
          "380000.0",
          "860000.0",
          "635000.0",
          "420000.0",
          "460000.0",
          "570000.0",
          "450000.0",
          "968000.0",
          "630000.0",
          "300000.0",
          "760000.0",
          "750000.0",
          "1750000.0",
          "2400000.0",
          "6500000.0",
          "2600000.0",
          "2700000.0",
          "1700000.0",
          "2000000.0",
          "1200000.0",
          "900000.0",
          "5700000.0",
          "630000.0",
          "2800000.0",
          "1500000.0",
          "1700000.0",
          "6500000.0",
          "1245000.0",
          "800000.0",
          "620000.0",
          "900000.0",
          "850000.0",
          "520000.0",
          "1650000.0",
          "1300000.0",
          "2000000.0",
          "1440000.0",
          "1600000.0",
          "2800000.0",
          "1200000.0",
          "1650000.0",
          "1307000.0",
          "900000.0",
          "770000.0",
          "1100000.0",
          "1000000.0",
          "2600000.0",
          "860000.0",
          "2200000.0",
          "3800000.0",
          "800000.0",
          "1530000.0",
          "1500000.0",
          "700000.0",
          "725533.3333333334",
          "950000.0",
          "1750000.0",
          "2600000.0",
          "440000.0",
          "935000.0",
          "530000.0",
          "1800000.0",
          "540000.0",
          "1400000.0",
          "2800000.0",
          "420000.0",
          "560000.0",
          "1300000.0",
          "840000.0",
          "780000.0",
          "2800000.0",
          "2400000.0",
          "1200000.0",
          "1400000.0",
          "1000000.0",
          "750000.0",
          "2500000.0",
          "840000.0",
          "580000.0",
          "2000000.0",
          "2900000.0",
          "1230000.0",
          "4500000.0",
          "1450000.0",
          "2200000.0",
          "770000.0",
          "1100000.0",
          "1460000.0",
          "1400000.0",
          "880000.0",
          "620000.0",
          "1650000.0",
          "4416666.666666667",
          "1450000.0",
          "680000.0",
          "2100000.0",
          "5522847.222222222",
          "490000.0",
          "1250000.0",
          "1370000.0",
          "660000.0",
          "2240000.0",
          "2800000.0",
          "1305500.0",
          "600000.0",
          "1300000.0",
          "1650000.0",
          "1400000.0",
          "650000.0",
          "1950000.0",
          "900000.0",
          "1500000.0",
          "3600000.0",
          "380000.0",
          "670000.0",
          "400000.0",
          "5200000.0",
          "3200000.0",
          "4140000.0",
          "3500000.0",
          "2600000.0",
          "1150000.0",
          "520000.0",
          "3600000.0",
          "560000.0",
          "950000.0",
          "1300000.0",
          "750000.0",
          "2100000.0",
          "3000000.0",
          "1500000.0",
          "3300000.0",
          "1500000.0",
          "1500000.0",
          "1500000.0",
          "1150000.0",
          "670000.0",
          "880000.0",
          "1500000.0",
          "2300000.0",
          "1650000.0",
          "520000.0",
          "3246000.0",
          "350000.0",
          "850000.0",
          "510000.0",
          "4880000.0",
          "560000.0",
          "840000.0",
          "1600000.0",
          "490000.0",
          "750000.0",
          "760000.0",
          "1600000.0",
          "980000.0",
          "587250.0",
          "46158363717.948715",
          "390000.0",
          "1300000.0",
          "1600000.0",
          "850000.0",
          "2300000.0",
          "900000.0",
          "527000.0",
          "100000.0",
          "5000000.0",
          "2430000.0",
          "640000.0",
          "1900000.0",
          "1400000000.0",
          "500000.0",
          "800000.0",
          "1200000.0",
          "1950000.0",
          "3566666.6666666665",
          "500000.0",
          "530000.0",
          "1000000.0",
          "2000000.0",
          "960000.0",
          "750000.0",
          "440000.0",
          "1600000.0",
          "2960000.0",
          "10000000.0",
          "2650000.0",
          "1700000.0",
          "1700000.0",
          "1050000.0",
          "1250000.0",
          "5970000.0",
          "690000.0",
          "1130000.0",
          "550000.0",
          "950000.0",
          "1500000.0",
          "1110000.0",
          "3000000.0",
          "1500000.0",
          "1900000.0",
          "650000.0",
          "2425000.0",
          "3100000.0",
          "950000.0",
          "5522847.222222222",
          "930000.0",
          "950000.0",
          "600000.0",
          "5522847.222222222",
          "1550000.0",
          "2600000.0",
          "2200000.0",
          "9500000.0",
          "400000.0",
          "587250.0",
          "4800000.0",
          "1400000.0",
          "1350000.0",
          "800000.0",
          "8500000.0",
          "1200000.0",
          "2000000.0",
          "550000.0",
          "720000.0",
          "32500000.0",
          "1372500.0",
          "520000.0",
          "680000.0",
          "1650000.0",
          "2300000.0",
          "770000.0",
          "6000000.0",
          "540000.0",
          "6800000.0",
          "881666.6666666666",
          "1700000.0",
          "800000.0",
          "340000.0",
          "2200000.0",
          "710000.0",
          "4000000.0",
          "850000.0",
          "400000.0",
          "3100000.0",
          "850000.0",
          "960000.0",
          "1580000.0",
          "500000.0",
          "3800000.0",
          "1800000.0",
          "530000.0",
          "630000.0",
          "4800000.0",
          "910000.0",
          "180000.0",
          "520000.0",
          "230000.0",
          "1200000.0",
          "6500000.0",
          "560000.0",
          "640000.0",
          "15000.0",
          "1900000.0",
          "700000.0",
          "1000000.0",
          "360000.0",
          "880000.0",
          "550000.0",
          "2500000.0",
          "760000.0",
          "490000.0",
          "14000000.0",
          "420000.0",
          "520000.0",
          "380000.0",
          "1225287.5",
          "575000.0",
          "120000.0",
          "600000.0",
          "2950000.0",
          "320000.0",
          "350000.0",
          "850000.0",
          "980000.0",
          "1500000.0",
          "9200000.0",
          "4900000.0",
          "4450000.0",
          "2800000.0",
          "380000.0",
          "480000.0",
          "8500000.0",
          "700000.0",
          "420000.0",
          "1000000.0",
          "643000.0",
          "500000.0",
          "583333.3333333334",
          "643000.0",
          "795500.0",
          "540000.0",
          "2800000.0",
          "4600000.0",
          "1500000.0",
          "4500000.0",
          "1370000.0",
          "950000.0",
          "2200000.0",
          "900000.0",
          "660000.0",
          "480000.0",
          "510000.0",
          "3000000.0",
          "4800000.0",
          "1128500.0",
          "2750000.0",
          "980000.0",
          "1600000.0",
          "560000.0",
          "600000.0",
          "460000.0",
          "450000.0",
          "890000.0",
          "420000.0",
          "3200000.0",
          "1966666.6666666667",
          "625000.0",
          "1100000.0",
          "1000000.0",
          "700000.0",
          "1450000.0",
          "6500000.0",
          "4140000.0",
          "3000000.0",
          "2600000.0",
          "1380000.0",
          "900000.0",
          "800000.0",
          "1350000.0",
          "590000.0",
          "1900000.0",
          "1000000.0",
          "500000.0",
          "6400000.0",
          "580000.0",
          "900000.0",
          "1700000.0",
          "680000.0",
          "583913.0434782609",
          "1545000.0",
          "640000.0",
          "1070000.0",
          "630000.0",
          "1490000.0",
          "680000.0",
          "1200000.0",
          "2100000.0",
          "1600000.0",
          "520000.0",
          "790000.0",
          "4140000.0",
          "5522847.222222222",
          "1100000.0",
          "4800000.0",
          "2800000.0",
          "2750000.0",
          "1675000.0",
          "625000.0",
          "1000000.0",
          "5522847.222222222",
          "7600000.0",
          "2000000.0",
          "600000.0",
          "930000.0",
          "620000.0",
          "800000.0",
          "450000.0",
          "450000.0",
          "1450000.0",
          "950000.0",
          "530000.0",
          "510000.0",
          "350000.0",
          "420000.0",
          "310000.0",
          "1300000.0",
          "980000.0",
          "660000.0",
          "580000.0",
          "1900000.0",
          "1600000.0",
          "800000.0",
          "3200000.0",
          "510000.0",
          "751600.0",
          "490000.0",
          "270000.0",
          "650000.0",
          "1050900.0",
          "1600000.0",
          "840000.0",
          "7500000.0",
          "380000.0",
          "1225287.5",
          "1400000.0",
          "650000.0",
          "610000.0",
          "748800.0",
          "900000.0",
          "430000.0",
          "430000.0",
          "700000.0",
          "3500000.0",
          "2100000.0",
          "1300000.0",
          "1250000.0",
          "330000.0",
          "435000.0",
          "1800000.0",
          "1700000.0",
          "3400000.0",
          "1500000.0",
          "750000.0",
          "1450000.0",
          "1300000.0",
          "650000.0",
          "1000000.0",
          "340000.0",
          "730000.0",
          "1950000.0",
          "960000.0",
          "2200000.0",
          "3900000.0",
          "750000.0",
          "1800000.0",
          "800000.0",
          "1550000.0",
          "650000.0",
          "1500000.0",
          "2150000.0",
          "3100000.0",
          "67000000.0",
          "900000.0",
          "2000000.0",
          "520000.0",
          "650000.0",
          "36500.0",
          "880000.0",
          "1850000.0",
          "814000.0",
          "900000.0",
          "480000.0",
          "490000.0",
          "750000.0",
          "340000.0",
          "1250000.0",
          "1250000.0",
          "1150000.0",
          "3400000.0",
          "460000.0",
          "480000.0",
          "920000.0",
          "630000.0",
          "1200000.0",
          "85000000.0",
          "430000.0",
          "380000.0",
          "920000.0",
          "924000.0",
          "580000.0",
          "510000.0",
          "1040000.0",
          "450000.0",
          "600000.0",
          "1700000.0",
          "610000.0",
          "980000.0",
          "970000.0",
          "1000000.0",
          "630000.0",
          "5500000.0",
          "1150000.0",
          "470000.0",
          "2200000.0",
          "950000.0",
          "840000.0",
          "850000.0",
          "28000000.0",
          "33875000.0",
          "670000.0",
          "1060000.0",
          "1716000.0",
          "650000.0",
          "775000.0",
          "1050000.0",
          "490000.0",
          "2600000.0",
          "225000.0",
          "600000.0",
          "920000.0",
          "900000.0",
          "4000000.0",
          "450000.0",
          "630000.0",
          "2600000.0",
          "1800000.0",
          "1150000.0",
          "1800000.0"
         ],
         "y0": " ",
         "yaxis": "y"
        }
       ],
       "layout": {
        "boxmode": "group",
        "legend": {
         "tracegroupgap": 0
        },
        "template": {
         "data": {
          "bar": [
           {
            "error_x": {
             "color": "#2a3f5f"
            },
            "error_y": {
             "color": "#2a3f5f"
            },
            "marker": {
             "line": {
              "color": "#E5ECF6",
              "width": 0.5
             },
             "pattern": {
              "fillmode": "overlay",
              "size": 10,
              "solidity": 0.2
             }
            },
            "type": "bar"
           }
          ],
          "barpolar": [
           {
            "marker": {
             "line": {
              "color": "#E5ECF6",
              "width": 0.5
             },
             "pattern": {
              "fillmode": "overlay",
              "size": 10,
              "solidity": 0.2
             }
            },
            "type": "barpolar"
           }
          ],
          "carpet": [
           {
            "aaxis": {
             "endlinecolor": "#2a3f5f",
             "gridcolor": "white",
             "linecolor": "white",
             "minorgridcolor": "white",
             "startlinecolor": "#2a3f5f"
            },
            "baxis": {
             "endlinecolor": "#2a3f5f",
             "gridcolor": "white",
             "linecolor": "white",
             "minorgridcolor": "white",
             "startlinecolor": "#2a3f5f"
            },
            "type": "carpet"
           }
          ],
          "choropleth": [
           {
            "colorbar": {
             "outlinewidth": 0,
             "ticks": ""
            },
            "type": "choropleth"
           }
          ],
          "contour": [
           {
            "colorbar": {
             "outlinewidth": 0,
             "ticks": ""
            },
            "colorscale": [
             [
              0,
              "#0d0887"
             ],
             [
              0.1111111111111111,
              "#46039f"
             ],
             [
              0.2222222222222222,
              "#7201a8"
             ],
             [
              0.3333333333333333,
              "#9c179e"
             ],
             [
              0.4444444444444444,
              "#bd3786"
             ],
             [
              0.5555555555555556,
              "#d8576b"
             ],
             [
              0.6666666666666666,
              "#ed7953"
             ],
             [
              0.7777777777777778,
              "#fb9f3a"
             ],
             [
              0.8888888888888888,
              "#fdca26"
             ],
             [
              1,
              "#f0f921"
             ]
            ],
            "type": "contour"
           }
          ],
          "contourcarpet": [
           {
            "colorbar": {
             "outlinewidth": 0,
             "ticks": ""
            },
            "type": "contourcarpet"
           }
          ],
          "heatmap": [
           {
            "colorbar": {
             "outlinewidth": 0,
             "ticks": ""
            },
            "colorscale": [
             [
              0,
              "#0d0887"
             ],
             [
              0.1111111111111111,
              "#46039f"
             ],
             [
              0.2222222222222222,
              "#7201a8"
             ],
             [
              0.3333333333333333,
              "#9c179e"
             ],
             [
              0.4444444444444444,
              "#bd3786"
             ],
             [
              0.5555555555555556,
              "#d8576b"
             ],
             [
              0.6666666666666666,
              "#ed7953"
             ],
             [
              0.7777777777777778,
              "#fb9f3a"
             ],
             [
              0.8888888888888888,
              "#fdca26"
             ],
             [
              1,
              "#f0f921"
             ]
            ],
            "type": "heatmap"
           }
          ],
          "heatmapgl": [
           {
            "colorbar": {
             "outlinewidth": 0,
             "ticks": ""
            },
            "colorscale": [
             [
              0,
              "#0d0887"
             ],
             [
              0.1111111111111111,
              "#46039f"
             ],
             [
              0.2222222222222222,
              "#7201a8"
             ],
             [
              0.3333333333333333,
              "#9c179e"
             ],
             [
              0.4444444444444444,
              "#bd3786"
             ],
             [
              0.5555555555555556,
              "#d8576b"
             ],
             [
              0.6666666666666666,
              "#ed7953"
             ],
             [
              0.7777777777777778,
              "#fb9f3a"
             ],
             [
              0.8888888888888888,
              "#fdca26"
             ],
             [
              1,
              "#f0f921"
             ]
            ],
            "type": "heatmapgl"
           }
          ],
          "histogram": [
           {
            "marker": {
             "pattern": {
              "fillmode": "overlay",
              "size": 10,
              "solidity": 0.2
             }
            },
            "type": "histogram"
           }
          ],
          "histogram2d": [
           {
            "colorbar": {
             "outlinewidth": 0,
             "ticks": ""
            },
            "colorscale": [
             [
              0,
              "#0d0887"
             ],
             [
              0.1111111111111111,
              "#46039f"
             ],
             [
              0.2222222222222222,
              "#7201a8"
             ],
             [
              0.3333333333333333,
              "#9c179e"
             ],
             [
              0.4444444444444444,
              "#bd3786"
             ],
             [
              0.5555555555555556,
              "#d8576b"
             ],
             [
              0.6666666666666666,
              "#ed7953"
             ],
             [
              0.7777777777777778,
              "#fb9f3a"
             ],
             [
              0.8888888888888888,
              "#fdca26"
             ],
             [
              1,
              "#f0f921"
             ]
            ],
            "type": "histogram2d"
           }
          ],
          "histogram2dcontour": [
           {
            "colorbar": {
             "outlinewidth": 0,
             "ticks": ""
            },
            "colorscale": [
             [
              0,
              "#0d0887"
             ],
             [
              0.1111111111111111,
              "#46039f"
             ],
             [
              0.2222222222222222,
              "#7201a8"
             ],
             [
              0.3333333333333333,
              "#9c179e"
             ],
             [
              0.4444444444444444,
              "#bd3786"
             ],
             [
              0.5555555555555556,
              "#d8576b"
             ],
             [
              0.6666666666666666,
              "#ed7953"
             ],
             [
              0.7777777777777778,
              "#fb9f3a"
             ],
             [
              0.8888888888888888,
              "#fdca26"
             ],
             [
              1,
              "#f0f921"
             ]
            ],
            "type": "histogram2dcontour"
           }
          ],
          "mesh3d": [
           {
            "colorbar": {
             "outlinewidth": 0,
             "ticks": ""
            },
            "type": "mesh3d"
           }
          ],
          "parcoords": [
           {
            "line": {
             "colorbar": {
              "outlinewidth": 0,
              "ticks": ""
             }
            },
            "type": "parcoords"
           }
          ],
          "pie": [
           {
            "automargin": true,
            "type": "pie"
           }
          ],
          "scatter": [
           {
            "fillpattern": {
             "fillmode": "overlay",
             "size": 10,
             "solidity": 0.2
            },
            "type": "scatter"
           }
          ],
          "scatter3d": [
           {
            "line": {
             "colorbar": {
              "outlinewidth": 0,
              "ticks": ""
             }
            },
            "marker": {
             "colorbar": {
              "outlinewidth": 0,
              "ticks": ""
             }
            },
            "type": "scatter3d"
           }
          ],
          "scattercarpet": [
           {
            "marker": {
             "colorbar": {
              "outlinewidth": 0,
              "ticks": ""
             }
            },
            "type": "scattercarpet"
           }
          ],
          "scattergeo": [
           {
            "marker": {
             "colorbar": {
              "outlinewidth": 0,
              "ticks": ""
             }
            },
            "type": "scattergeo"
           }
          ],
          "scattergl": [
           {
            "marker": {
             "colorbar": {
              "outlinewidth": 0,
              "ticks": ""
             }
            },
            "type": "scattergl"
           }
          ],
          "scattermapbox": [
           {
            "marker": {
             "colorbar": {
              "outlinewidth": 0,
              "ticks": ""
             }
            },
            "type": "scattermapbox"
           }
          ],
          "scatterpolar": [
           {
            "marker": {
             "colorbar": {
              "outlinewidth": 0,
              "ticks": ""
             }
            },
            "type": "scatterpolar"
           }
          ],
          "scatterpolargl": [
           {
            "marker": {
             "colorbar": {
              "outlinewidth": 0,
              "ticks": ""
             }
            },
            "type": "scatterpolargl"
           }
          ],
          "scatterternary": [
           {
            "marker": {
             "colorbar": {
              "outlinewidth": 0,
              "ticks": ""
             }
            },
            "type": "scatterternary"
           }
          ],
          "surface": [
           {
            "colorbar": {
             "outlinewidth": 0,
             "ticks": ""
            },
            "colorscale": [
             [
              0,
              "#0d0887"
             ],
             [
              0.1111111111111111,
              "#46039f"
             ],
             [
              0.2222222222222222,
              "#7201a8"
             ],
             [
              0.3333333333333333,
              "#9c179e"
             ],
             [
              0.4444444444444444,
              "#bd3786"
             ],
             [
              0.5555555555555556,
              "#d8576b"
             ],
             [
              0.6666666666666666,
              "#ed7953"
             ],
             [
              0.7777777777777778,
              "#fb9f3a"
             ],
             [
              0.8888888888888888,
              "#fdca26"
             ],
             [
              1,
              "#f0f921"
             ]
            ],
            "type": "surface"
           }
          ],
          "table": [
           {
            "cells": {
             "fill": {
              "color": "#EBF0F8"
             },
             "line": {
              "color": "white"
             }
            },
            "header": {
             "fill": {
              "color": "#C8D4E3"
             },
             "line": {
              "color": "white"
             }
            },
            "type": "table"
           }
          ]
         },
         "layout": {
          "annotationdefaults": {
           "arrowcolor": "#2a3f5f",
           "arrowhead": 0,
           "arrowwidth": 1
          },
          "autotypenumbers": "strict",
          "coloraxis": {
           "colorbar": {
            "outlinewidth": 0,
            "ticks": ""
           }
          },
          "colorscale": {
           "diverging": [
            [
             0,
             "#8e0152"
            ],
            [
             0.1,
             "#c51b7d"
            ],
            [
             0.2,
             "#de77ae"
            ],
            [
             0.3,
             "#f1b6da"
            ],
            [
             0.4,
             "#fde0ef"
            ],
            [
             0.5,
             "#f7f7f7"
            ],
            [
             0.6,
             "#e6f5d0"
            ],
            [
             0.7,
             "#b8e186"
            ],
            [
             0.8,
             "#7fbc41"
            ],
            [
             0.9,
             "#4d9221"
            ],
            [
             1,
             "#276419"
            ]
           ],
           "sequential": [
            [
             0,
             "#0d0887"
            ],
            [
             0.1111111111111111,
             "#46039f"
            ],
            [
             0.2222222222222222,
             "#7201a8"
            ],
            [
             0.3333333333333333,
             "#9c179e"
            ],
            [
             0.4444444444444444,
             "#bd3786"
            ],
            [
             0.5555555555555556,
             "#d8576b"
            ],
            [
             0.6666666666666666,
             "#ed7953"
            ],
            [
             0.7777777777777778,
             "#fb9f3a"
            ],
            [
             0.8888888888888888,
             "#fdca26"
            ],
            [
             1,
             "#f0f921"
            ]
           ],
           "sequentialminus": [
            [
             0,
             "#0d0887"
            ],
            [
             0.1111111111111111,
             "#46039f"
            ],
            [
             0.2222222222222222,
             "#7201a8"
            ],
            [
             0.3333333333333333,
             "#9c179e"
            ],
            [
             0.4444444444444444,
             "#bd3786"
            ],
            [
             0.5555555555555556,
             "#d8576b"
            ],
            [
             0.6666666666666666,
             "#ed7953"
            ],
            [
             0.7777777777777778,
             "#fb9f3a"
            ],
            [
             0.8888888888888888,
             "#fdca26"
            ],
            [
             1,
             "#f0f921"
            ]
           ]
          },
          "colorway": [
           "#636efa",
           "#EF553B",
           "#00cc96",
           "#ab63fa",
           "#FFA15A",
           "#19d3f3",
           "#FF6692",
           "#B6E880",
           "#FF97FF",
           "#FECB52"
          ],
          "font": {
           "color": "#2a3f5f"
          },
          "geo": {
           "bgcolor": "white",
           "lakecolor": "white",
           "landcolor": "#E5ECF6",
           "showlakes": true,
           "showland": true,
           "subunitcolor": "white"
          },
          "hoverlabel": {
           "align": "left"
          },
          "hovermode": "closest",
          "mapbox": {
           "style": "light"
          },
          "paper_bgcolor": "white",
          "plot_bgcolor": "#E5ECF6",
          "polar": {
           "angularaxis": {
            "gridcolor": "white",
            "linecolor": "white",
            "ticks": ""
           },
           "bgcolor": "#E5ECF6",
           "radialaxis": {
            "gridcolor": "white",
            "linecolor": "white",
            "ticks": ""
           }
          },
          "scene": {
           "xaxis": {
            "backgroundcolor": "#E5ECF6",
            "gridcolor": "white",
            "gridwidth": 2,
            "linecolor": "white",
            "showbackground": true,
            "ticks": "",
            "zerolinecolor": "white"
           },
           "yaxis": {
            "backgroundcolor": "#E5ECF6",
            "gridcolor": "white",
            "gridwidth": 2,
            "linecolor": "white",
            "showbackground": true,
            "ticks": "",
            "zerolinecolor": "white"
           },
           "zaxis": {
            "backgroundcolor": "#E5ECF6",
            "gridcolor": "white",
            "gridwidth": 2,
            "linecolor": "white",
            "showbackground": true,
            "ticks": "",
            "zerolinecolor": "white"
           }
          },
          "shapedefaults": {
           "line": {
            "color": "#2a3f5f"
           }
          },
          "ternary": {
           "aaxis": {
            "gridcolor": "white",
            "linecolor": "white",
            "ticks": ""
           },
           "baxis": {
            "gridcolor": "white",
            "linecolor": "white",
            "ticks": ""
           },
           "bgcolor": "#E5ECF6",
           "caxis": {
            "gridcolor": "white",
            "linecolor": "white",
            "ticks": ""
           }
          },
          "title": {
           "x": 0.05
          },
          "xaxis": {
           "automargin": true,
           "gridcolor": "white",
           "linecolor": "white",
           "ticks": "",
           "title": {
            "standoff": 15
           },
           "zerolinecolor": "white",
           "zerolinewidth": 2
          },
          "yaxis": {
           "automargin": true,
           "gridcolor": "white",
           "linecolor": "white",
           "ticks": "",
           "title": {
            "standoff": 15
           },
           "zerolinecolor": "white",
           "zerolinewidth": 2
          }
         }
        },
        "title": {
         "text": "Box Plot of Prices by Property Type"
        },
        "xaxis": {
         "anchor": "y",
         "domain": [
          0,
          1
         ],
         "title": {
          "text": "Type"
         }
        },
        "yaxis": {
         "anchor": "x",
         "domain": [
          0,
          1
         ],
         "title": {
          "text": "Price"
         }
        }
       }
      }
     },
     "metadata": {},
     "output_type": "display_data"
    }
   ],
   "source": [
    "fig5 = px.box(data1, x='Type', y='Price', title='Box Plot of Prices by Property Type')\n",
    "fig5.show()"
   ]
  },
  {
   "cell_type": "code",
   "execution_count": 14,
   "metadata": {},
   "outputs": [
    {
     "data": {
      "application/vnd.plotly.v1+json": {
       "config": {
        "plotlyServerURL": "https://plot.ly"
       },
       "data": [
        {
         "alignmentgroup": "True",
         "hovertemplate": "Type=%{x}<br>Price_m2=%{y}<extra></extra>",
         "legendgroup": "",
         "marker": {
          "color": "#636efa"
         },
         "name": "",
         "notched": false,
         "offsetgroup": "",
         "orientation": "v",
         "showlegend": false,
         "type": "box",
         "x": [
          "Appartement",
          "Appartement",
          "Appartement",
          "Appartement",
          "Appartement",
          "Appartement",
          "Appartement",
          "Appartement",
          "Appartement",
          "Appartement",
          "Appartement",
          "Maison",
          "Appartement",
          "Appartement",
          "Appartement",
          "Appartement",
          "Appartement",
          "Villa",
          "Appartement",
          "Appartement",
          "Appartement",
          "Appartement",
          "Appartement",
          "Villa",
          "Appartement",
          "Appartement",
          "Villa",
          "Appartement",
          "Villa",
          "Appartement",
          "Appartement",
          "Appartement",
          "Appartement",
          "Appartement",
          "Appartement",
          "Appartement",
          "Appartement",
          "Appartement",
          "Appartement",
          "Appartement",
          "Appartement",
          "Appartement",
          "Appartement",
          "Appartement",
          "Villa",
          "Appartement",
          "Appartement",
          "Villa",
          "Appartement",
          "Appartement",
          "Maison",
          "Appartement",
          "Appartement",
          "Appartement",
          "Villa",
          "Appartement",
          "Appartement",
          "Appartement",
          "Villa",
          "Villa",
          "Appartement",
          "Appartement",
          "Appartement",
          "Appartement",
          "Appartement",
          "Villa",
          "Appartement",
          "Maison",
          "Appartement",
          "Maison",
          "Maison",
          "Maison",
          "Appartement",
          "Appartement",
          "Appartement",
          "Villa",
          "Villa",
          "Appartement",
          "Appartement",
          "Appartement",
          "Maison",
          "Appartement",
          "Appartement",
          "Villa",
          "Appartement",
          "Appartement",
          "Appartement",
          "Appartement",
          "Appartement",
          "Appartement",
          "Appartement",
          "Appartement",
          "Maison",
          "Maison",
          "Appartement",
          "Villa",
          "Villa",
          "Villa",
          "Villa",
          "Appartement",
          "Appartement",
          "Appartement",
          "Villa",
          "Villa",
          "Appartement",
          "Appartement",
          "Villa",
          "Maison",
          "Appartement",
          "Villa",
          "Appartement",
          "Villa",
          "Villa",
          "Villa",
          "Villa",
          "Villa",
          "Villa",
          "Appartement",
          "Appartement",
          "Villa",
          "Villa",
          "Appartement",
          "Appartement",
          "Appartement",
          "Appartement",
          "Appartement",
          "Maison",
          "Maison",
          "Maison",
          "Maison",
          "Appartement",
          "Appartement",
          "Appartement",
          "Appartement",
          "Appartement",
          "Appartement",
          "Maison",
          "Appartement",
          "Appartement",
          "Maison",
          "Appartement",
          "Appartement",
          "Maison",
          "Appartement",
          "Villa",
          "Appartement",
          "Villa",
          "Appartement",
          "Appartement",
          "Appartement",
          "Appartement",
          "Appartement",
          "Appartement",
          "Appartement",
          "Appartement",
          "Appartement",
          "Appartement",
          "Appartement",
          "Appartement",
          "Villa",
          "Appartement",
          "Appartement",
          "Villa",
          "Appartement",
          "Appartement",
          "Appartement",
          "Maison",
          "Villa",
          "Maison",
          "Appartement",
          "Appartement",
          "Villa",
          "Appartement",
          "Villa",
          "Appartement",
          "Appartement",
          "Appartement",
          "Appartement",
          "Appartement",
          "Villa",
          "Appartement",
          "Villa",
          "Appartement",
          "Villa",
          "Villa",
          "Appartement",
          "Appartement",
          "Appartement",
          "Appartement",
          "Villa",
          "Appartement",
          "Appartement",
          "Maison",
          "Maison",
          "Appartement",
          "Appartement",
          "Maison",
          "Appartement",
          "Villa",
          "Appartement",
          "Villa",
          "Appartement",
          "Appartement",
          "Appartement",
          "Appartement",
          "Appartement",
          "Appartement",
          "Villa",
          "Villa",
          "Maison",
          "Appartement",
          "Villa",
          "Appartement",
          "Appartement",
          "Appartement",
          "Appartement",
          "Appartement",
          "Villa",
          "Maison",
          "Appartement",
          "Appartement",
          "Appartement",
          "Appartement",
          "Appartement",
          "Appartement",
          "Appartement",
          "Appartement",
          "Villa",
          "Villa",
          "Appartement",
          "Appartement",
          "Appartement",
          "Villa",
          "Appartement",
          "Villa",
          "Maison",
          "Appartement",
          "Appartement",
          "Villa",
          "Appartement",
          "Maison",
          "Appartement",
          "Villa",
          "Appartement",
          "Villa",
          "Appartement",
          "Appartement",
          "Appartement",
          "Maison",
          "Appartement",
          "Maison",
          "Appartement",
          "Appartement",
          "Appartement",
          "Appartement",
          "Appartement",
          "Appartement",
          "Appartement",
          "Appartement",
          "Appartement",
          "Appartement",
          "Appartement",
          "Appartement",
          "Appartement",
          "Maison",
          "Maison",
          "Maison",
          "Villa",
          "Maison",
          "Appartement",
          "Appartement",
          "Villa",
          "Villa",
          "Appartement",
          "Appartement",
          "Appartement",
          "Appartement",
          "Villa",
          "Appartement",
          "Appartement",
          "Appartement",
          "Appartement",
          "Appartement",
          "Appartement",
          "Villa",
          "Maison",
          "Maison",
          "Appartement",
          "Maison",
          "Appartement",
          "Appartement",
          "Maison",
          "Appartement",
          "Appartement",
          "Appartement",
          "Appartement",
          "Appartement",
          "Maison",
          "Appartement",
          "Maison",
          "Maison",
          "Appartement",
          "Appartement",
          "Appartement",
          "Appartement",
          "Maison",
          "Appartement",
          "Appartement",
          "Appartement",
          "Appartement",
          "Appartement",
          "Appartement",
          "Villa",
          "Appartement",
          "Maison",
          "Appartement",
          "Appartement",
          "Appartement",
          "Appartement",
          "Appartement",
          "Appartement",
          "Villa",
          "Maison",
          "Appartement",
          "Appartement",
          "Appartement",
          "Appartement",
          "Villa",
          "Appartement",
          "Appartement",
          "Maison",
          "Maison",
          "Appartement",
          "Villa",
          "Appartement",
          "Maison",
          "Appartement",
          "Appartement",
          "Appartement",
          "Maison",
          "Appartement",
          "Appartement",
          "Appartement",
          "Villa",
          "Maison",
          "Appartement",
          "Maison",
          "Villa",
          "Appartement",
          "Appartement",
          "Appartement",
          "Appartement",
          "Appartement",
          "Appartement",
          "Appartement",
          "Appartement",
          "Appartement",
          "Appartement",
          "Appartement",
          "Appartement",
          "Appartement",
          "Appartement",
          "Appartement",
          "Maison",
          "Appartement",
          "Appartement",
          "Appartement",
          "Villa",
          "Maison",
          "Appartement",
          "Villa",
          "Maison",
          "Appartement",
          "Appartement",
          "Maison",
          "Appartement",
          "Appartement",
          "Maison",
          "Appartement",
          "Appartement",
          "Appartement",
          "Appartement",
          "Appartement",
          "Appartement",
          "Appartement",
          "Maison",
          "Appartement",
          "Appartement",
          "Appartement",
          "Appartement",
          "Appartement",
          "Appartement",
          "Appartement",
          "Appartement",
          "Appartement",
          "Appartement",
          "Appartement",
          "Maison",
          "Appartement",
          "Appartement",
          "Maison",
          "Appartement",
          "Appartement",
          "Appartement",
          "Appartement",
          "Appartement",
          "Appartement",
          "Maison",
          "Appartement",
          "Appartement",
          "Maison",
          "Appartement",
          "Appartement",
          "Appartement",
          "Appartement",
          "Appartement",
          "Appartement",
          "Villa",
          "Appartement",
          "Appartement",
          "Maison",
          "Maison",
          "Appartement",
          "Appartement",
          "Appartement",
          "Villa",
          "Appartement",
          "Appartement",
          "Appartement",
          "Maison",
          "Appartement",
          "Appartement",
          "Appartement",
          "Maison",
          "Maison",
          "Villa",
          "Maison",
          "Appartement",
          "Maison",
          "Appartement",
          "Appartement",
          "Appartement",
          "Appartement",
          "Appartement",
          "Appartement",
          "Appartement",
          "Appartement",
          "Appartement",
          "Maison",
          "Appartement",
          "Appartement",
          "Appartement",
          "Appartement",
          "Maison",
          "Appartement",
          "Villa",
          "Appartement",
          "Appartement",
          "Appartement",
          "Villa",
          "Appartement",
          "Appartement",
          "Villa",
          "Villa",
          "Appartement",
          "Appartement",
          "Villa",
          "Maison",
          "Appartement",
          "Appartement",
          "Villa",
          "Maison",
          "Maison",
          "Appartement",
          "Appartement",
          "Villa",
          "Appartement",
          "Appartement",
          "Appartement",
          "Appartement",
          "Villa",
          "Appartement",
          "Maison",
          "Appartement",
          "Maison",
          "Appartement",
          "Appartement",
          "Appartement",
          "Appartement",
          "Villa",
          "Appartement",
          "Villa",
          "Appartement",
          "Appartement",
          "Maison",
          "Appartement",
          "Appartement",
          "Appartement",
          "Appartement",
          "Villa",
          "Appartement",
          "Appartement",
          "Appartement",
          "Villa",
          "Appartement",
          "Appartement",
          "Appartement",
          "Appartement",
          "Appartement",
          "Villa",
          "Appartement",
          "Appartement",
          "Appartement",
          "Villa",
          "Appartement",
          "Appartement",
          "Appartement",
          "Appartement",
          "Appartement",
          "Villa",
          "Appartement",
          "Appartement",
          "Villa",
          "Appartement",
          "Appartement",
          "Appartement",
          "Appartement",
          "Appartement",
          "Appartement",
          "Appartement",
          "Villa",
          "Appartement",
          "Appartement",
          "Appartement",
          "Appartement",
          "Appartement",
          "Villa",
          "Villa",
          "Appartement",
          "Maison",
          "Appartement",
          "Appartement",
          "Villa",
          "Appartement",
          "Appartement",
          "Appartement",
          "Appartement",
          "Appartement",
          "Appartement",
          "Appartement",
          "Appartement",
          "Appartement",
          "Villa",
          "Maison",
          "Appartement",
          "Appartement",
          "Maison",
          "Appartement",
          "Appartement",
          "Appartement",
          "Appartement",
          "Appartement",
          "Appartement",
          "Villa",
          "Appartement",
          "Appartement",
          "Appartement",
          "Maison",
          "Appartement",
          "Appartement",
          "Appartement",
          "Appartement",
          "Appartement",
          "Appartement",
          "Appartement",
          "Appartement",
          "Maison",
          "Appartement",
          "Appartement",
          "Appartement",
          "Appartement",
          "Villa",
          "Villa",
          "Appartement",
          "Maison",
          "Villa",
          "Appartement",
          "Appartement",
          "Appartement",
          "Appartement",
          "Appartement",
          "Appartement",
          "Maison",
          "Maison",
          "Maison",
          "Appartement",
          "Maison",
          "Maison",
          "Appartement",
          "Appartement",
          "Appartement",
          "Appartement",
          "Appartement",
          "Appartement",
          "Appartement",
          "Appartement",
          "Appartement",
          "Maison",
          "Appartement",
          "Appartement",
          "Appartement",
          "Appartement",
          "Villa",
          "Appartement",
          "Villa",
          "Villa",
          "Appartement",
          "Appartement",
          "Appartement",
          "Appartement",
          "Villa",
          "Villa",
          "Maison",
          "Appartement",
          "Appartement",
          "Appartement",
          "Appartement",
          "Appartement",
          "Appartement",
          "Maison",
          "Appartement",
          "Appartement",
          "Appartement",
          "Appartement",
          "Appartement",
          "Appartement",
          "Appartement",
          "Appartement",
          "Appartement",
          "Appartement",
          "Maison",
          "Maison",
          "Appartement",
          "Maison",
          "Appartement",
          "Maison",
          "Appartement",
          "Villa",
          "Appartement",
          "Appartement",
          "Appartement",
          "Appartement",
          "Villa",
          "Appartement",
          "Appartement",
          "Appartement",
          "Appartement",
          "Appartement",
          "Appartement",
          "Appartement",
          "Appartement",
          "Appartement",
          "Appartement",
          "Villa",
          "Maison",
          "Appartement",
          "Appartement",
          "Appartement",
          "Appartement",
          "Maison",
          "Maison",
          "Maison",
          "Appartement",
          "Appartement",
          "Appartement",
          "Appartement",
          "Appartement",
          "Appartement",
          "Appartement",
          "Appartement",
          "Maison",
          "Appartement",
          "Appartement",
          "Villa",
          "Appartement",
          "Appartement",
          "Maison",
          "Villa",
          "Appartement",
          "Appartement",
          "Appartement",
          "Maison",
          "Appartement",
          "Appartement",
          "Appartement",
          "Appartement",
          "Appartement",
          "Appartement",
          "Appartement",
          "Appartement",
          "Appartement",
          "Appartement",
          "Appartement",
          "Appartement",
          "Appartement",
          "Appartement",
          "Appartement",
          "Appartement",
          "Appartement",
          "Villa",
          "Maison",
          "Appartement",
          "Appartement",
          "Appartement",
          "Maison",
          "Maison",
          "Appartement",
          "Appartement",
          "Appartement",
          "Appartement",
          "Appartement",
          "Appartement",
          "Appartement",
          "Appartement",
          "Appartement",
          "Maison",
          "Appartement",
          "Appartement",
          "Appartement",
          "Appartement",
          "Appartement",
          "Villa",
          "Appartement",
          "Appartement",
          "Maison",
          "Appartement",
          "Appartement",
          "Appartement",
          "Appartement",
          "Appartement",
          "Appartement",
          "Appartement",
          "Appartement",
          "Appartement",
          "Appartement",
          "Appartement",
          "Appartement",
          "Maison",
          "Maison",
          "Appartement",
          "Appartement",
          "Appartement",
          "Villa",
          "Appartement",
          "Appartement",
          "Villa",
          "Maison",
          "Appartement",
          "Villa"
         ],
         "x0": " ",
         "xaxis": "x",
         "y": [
          "11500.0",
          "9465.51724137931",
          "9600.0",
          "11000.0",
          "11000.0",
          "8666.666666666666",
          "6000.0",
          "25333.333333333332",
          "15143.478260869566",
          "15639.5",
          "11000.0",
          "11822.660098522167",
          "8750.0",
          "15420.5",
          "15270.76923076923",
          "15630.722891566265",
          "10987.654320987655",
          "22500.0",
          "15189.87341772152",
          "9000.0",
          "16388.88888888889",
          "15623.529411764706",
          "14166.666666666666",
          "17894.736842105263",
          "10461.538461538461",
          "25563.90977443609",
          "17894.736842105263",
          "15320.3125",
          "15000.0",
          "15668.292682926829",
          "9636.363636363636",
          "16146.285714285714",
          "14796.25",
          "20800.0",
          "11923.076923076924",
          "13235.29411764706",
          "14482.758620689656",
          "8854.166666666666",
          "15445.783132530121",
          "18055.555555555555",
          "14972.0",
          "15800.0",
          "7307.692307692308",
          "14166.666666666666",
          "15000.0",
          "9375.0",
          "7179.48717948718",
          "10625.0",
          "18954.24836601307",
          "11379.310344827587",
          "4000.0",
          "6000.0",
          "6000.0",
          "6000.0",
          "11288.180610889774",
          "36666.666666666664",
          "63.25301204819277",
          "13000.0",
          "12142.857142857143",
          "15714.285714285714",
          "21348.314606741573",
          "30246.913580246914",
          "27000.0",
          "25333.333333333332",
          "26000.0",
          "39189.18918918919",
          "10000.0",
          "4729.064039408867",
          "10891.089108910892",
          "46153.846153846156",
          "10666.666666666666",
          "23958.333333333332",
          "6785.714285714285",
          "9375.0",
          "9722.222222222223",
          "6062.5",
          "19000.0",
          "10461.538461538461",
          "11038.961038961039",
          "9577.464788732394",
          "24000002000.0",
          "9807.692307692309",
          "10200.0",
          "20667.726550079493",
          "7666.666666666667",
          "11337.209302325582",
          "9117.64705882353",
          "10694.444444444445",
          "6500.0",
          "9500.0",
          "10447.76119402985",
          "7875.0",
          "3267.97385620915",
          "8518.518518518518",
          "8400.0",
          "11347.517730496455",
          "25000.0",
          "16000.0",
          "11744.96644295302",
          "19277.10843373494",
          "24279.8353909465",
          "15500.0",
          "15600.0",
          "35943.77510040161",
          "20879.120879120877",
          "13586.95652173913",
          "12676.05633802817",
          "8750.0",
          "20000.0",
          "20183.48623853211",
          "15312.5",
          "16438.35616438356",
          "20000.0",
          "11777.777777777777",
          "16666.666666666668",
          "15483.870967741936",
          "13600.0",
          "11904.761904761905",
          "23046.875",
          "27205.882352941175",
          "19333.333333333332",
          "27611.940298507463",
          "11724.137931034482",
          "15957.446808510638",
          "16049.382716049382",
          "10617.283950617284",
          "4444.444444444444",
          "4444.444444444444",
          "25892.85714285714",
          "18750.0",
          "10769.23076923077",
          "8602.150537634408",
          "13953.488372093023",
          "23287.671232876713",
          "19101.123595505618",
          "7067.708333333333",
          "16363.636363636364",
          "10769.23076923077",
          "10000.0",
          "15625.0",
          "7307.692307692308",
          "5600.0",
          "4729.064039408867",
          "10733.944954128441",
          "20600.85836909871",
          "13868.61313868613",
          "11212.121212121212",
          "22500.0",
          "9166.666666666666",
          "15492.957746478873",
          "12921.348314606741",
          "10476.190476190477",
          "16000.0",
          "8750.0",
          "9285.714285714286",
          "10694.444444444445",
          "9523.809523809523",
          "8194.444444444445",
          "13037.974683544304",
          "20416.666666666668",
          "21666.666666666668",
          "6000.0",
          "13313.60946745562",
          "18229.166666666668",
          "8910.89108910891",
          "21484.375",
          "15037.593984962406",
          "25280.898876404495",
          "10000.0",
          "10115.606936416185",
          "8194.444444444445",
          "21818.18181818182",
          "11463.84479717813",
          "12380.952380952382",
          "5312.5",
          "9523.809523809523",
          "10571.42857142857",
          "11000.0",
          "21111.11111111111",
          "12213.740458015267",
          "25641.02564102564",
          "15000.0",
          "11428.57142857143",
          "16000.0",
          "11250.0",
          "9000.0",
          "8411.214953271028",
          "89285.71428571429",
          "17692.30769230769",
          "19000.0",
          "14193.548387096775",
          "15744.68085106383",
          "20588.235294117647",
          "20634.920634920636",
          "12000.0",
          "11142.857142857143",
          "18571.428571428572",
          "11020.833333333332",
          "17000.0",
          "7233.333333333333",
          "8260.869565217392",
          "12464.788732394367",
          "10606.060606060606",
          "9139.78494623656",
          "7127.659574468085",
          "8400.0",
          "8933.333333333334",
          "6803.571428571428",
          "19083.969465648854",
          "23750.0",
          "10000.0",
          "17000.0",
          "10964.912280701754",
          "10192.307692307691",
          "12077.922077922078",
          "10468.75",
          "14736.842105263158",
          "22685.185185185186",
          "14117.64705882353",
          "13333.333333333334",
          "13605.442176870747",
          "7021.653543307087",
          "10000.0",
          "11842.105263157895",
          "9750.0",
          "7600.0",
          "14750.0",
          "10169.49152542373",
          "8918.918918918918",
          "13392.857142857143",
          "16470.58823529412",
          "10625.0",
          "24285.714285714286",
          "6985.294117647059",
          "9375.0",
          "18518.51851851852",
          "9558.823529411764",
          "13139.48717948718",
          "15166.666666666666",
          "8636.363636363636",
          "17171.717171717173",
          "12500.0",
          "380.0",
          "11754.38596491228",
          "11174.242424242424",
          "9344.262295081968",
          "55106.382978723406",
          "9800.0",
          "15625.0",
          "6730.7692307692305",
          "40000.0",
          "7307.692307692308",
          "10617.283950617284",
          "6350.0",
          "7777.777777777777",
          "7187.5",
          "9500.0",
          "8653.846153846154",
          "10297.872340425532",
          "10500.0",
          "5000.0",
          "11343.283582089553",
          "9375.0",
          "10000.0",
          "30000.0",
          "52419.354838709674",
          "32098.765432098764",
          "7500.0",
          "14166.666666666666",
          "16666.666666666668",
          "14457.831325301206",
          "15000.0",
          "15000.0",
          "10862.068965517241",
          "15053.763440860215",
          "15957.446808510638",
          "18085.106382978724",
          "24074.074074074073",
          "15000.0",
          "11111.111111111111",
          "9117.64705882353",
          "11842.105263157895",
          "9042.553191489362",
          "8125.0",
          "13750.0",
          "16250.0",
          "16666.666666666668",
          "14845.360824742267",
          "23880.597014925374",
          "25000.0",
          "14117.64705882353",
          "16500.0",
          "16756.410256410258",
          "10588.235294117647",
          "9390.243902439024",
          "9734.513274336283",
          "12048.192771084337",
          "32500.0",
          "11780.82191780822",
          "20952.380952380954",
          "25850.340136054423",
          "11111.111111111111",
          "15300.0",
          "14018.691588785046",
          "9459.45945945946",
          "4836.88888888889",
          "10215.053763440861",
          "18421.052631578947",
          "21666.666666666668",
          "6769.2307692307695",
          "11000.0",
          "7162.1621621621625",
          "10588.235294117647",
          "8437.5",
          "18666.666666666668",
          "23931.62393162393",
          "7368.421052631579",
          "5600.0",
          "7222.222222222223",
          "8155.339805825242",
          "9285.714285714286",
          "25000.0",
          "20000.0",
          "11428.57142857143",
          "14893.617021276596",
          "8264.462809917355",
          "10714.285714285714",
          "13888.888888888889",
          "9032.258064516129",
          "7733.333333333333",
          "16666.666666666668",
          "36250.0",
          "14470.588235294117",
          "15000.0",
          "15104.166666666666",
          "13173.652694610779",
          "10547.945205479453",
          "11000.0",
          "11230.76923076923",
          "18666.666666666668",
          "11000.0",
          "10163.934426229509",
          "15000.0",
          "13303.212851405624",
          "17682.926829268294",
          "8831.16883116883",
          "16535.43307086614",
          "6082.4308614782185",
          "9800.0",
          "12755.102040816326",
          "8509.316770186335",
          "6600.0",
          "16000.0",
          "22400.0",
          "16954.545454545456",
          "10000.0",
          "13541.666666666666",
          "13524.590163934427",
          "7179.48717948718",
          "10833.333333333334",
          "13000.0",
          "9183.673469387755",
          "15957.446808510638",
          "70588.23529411765",
          "7600.0",
          "6090.909090909091",
          "7407.407407407408",
          "24761.904761904763",
          "25396.825396825396",
          "69000.0",
          "21604.938271604937",
          "23214.285714285714",
          "9349.59349593496",
          "9629.62962962963",
          "16513.761467889908",
          "9333.333333333334",
          "10326.08695652174",
          "16250.0",
          "9615.384615384615",
          "31818.18181818182",
          "22222.222222222223",
          "15000.0",
          "29203.53982300885",
          "11904.761904761905",
          "12195.121951219513",
          "13513.513513513513",
          "11500.0",
          "10468.75",
          "10000.0",
          "12396.694214876034",
          "18400.0",
          "13306.451612903225",
          "7027.027027027027",
          "30055.555555555555",
          "7000.0",
          "11805.555555555555",
          "10408.163265306122",
          "45185.18518518518",
          "8615.384615384615",
          "9545.454545454546",
          "14814.814814814816",
          "8750.0",
          "4687.5",
          "11343.283582089553",
          "16000.0",
          "9607.843137254902",
          "9787.5",
          "102574141.5954416",
          "6500.0",
          "14444.444444444445",
          "12030.075187969926",
          "10365.853658536585",
          "29870.12987012987",
          "9000.0",
          "8639.344262295082",
          "1562.5",
          "21276.59574468085",
          "13575.418994413409",
          "9142.857142857143",
          "27142.85714285714",
          "20000000.0",
          "7352.941176470588",
          "10666.666666666666",
          "13186.813186813188",
          "14772.727272727272",
          "11076.604554865424",
          "10416.666666666666",
          "8833.333333333334",
          "8403.361344537816",
          "11363.636363636364",
          "9504.950495049505",
          "8823.529411764706",
          "8000.0",
          "12030.075187969926",
          "26194.690265486726",
          "11467.88990825688",
          "21200.0",
          "13709.677419354839",
          "21250.0",
          "10294.117647058823",
          "8012.820512820513",
          "51913.04347826087",
          "2760.0",
          "14487.179487179486",
          "9166.666666666666",
          "9047.619047619048",
          "13392.857142857143",
          "12613.636363636364",
          "20000.0",
          "12931.034482758621",
          "28787.878787878788",
          "5803.571428571428",
          "16724.137931034482",
          "9935.897435897436",
          "11875.0",
          "30682.484567901232",
          "11481.481481481482",
          "10555.555555555555",
          "9090.90909090909",
          "9204.74537037037",
          "14485.981308411216",
          "21666.666666666668",
          "12571.42857142857",
          "7563.6942675159235",
          "5714.285714285715",
          "6908.823529411765",
          "14545.454545454546",
          "20000.0",
          "12857.142857142857",
          "9195.402298850575",
          "10000.0",
          "21428.571428571428",
          "16666.666666666668",
          "9166.666666666666",
          "12000.0",
          "43624.161073825504",
          "14296.875",
          "7428.571428571428",
          "11333.333333333334",
          "17187.5",
          "14375.0",
          "10131.578947368422",
          "9090.90909090909",
          "8571.42857142857",
          "30222.222222222223",
          "10752.032520325203",
          "17346.938775510203",
          "12500.0",
          "5000.0",
          "18333.333333333332",
          "7888.888888888889",
          "20000.0",
          "10625.0",
          "8000.0",
          "13777.777777777777",
          "10897.435897435897",
          "9230.76923076923",
          "13504.273504273504",
          "9259.25925925926",
          "15510.204081632653",
          "8530.805687203792",
          "7571.428571428572",
          "9402.985074626866",
          "16000.0",
          "9578.947368421053",
          "1200.0",
          "8666.666666666666",
          "1796.875",
          "8571.42857142857",
          "21666.666666666668",
          "8235.29411764706",
          "10322.58064516129",
          "132.7433628318584",
          "10857.142857142857",
          "10000.0",
          "14285.714285714286",
          "7346.938775510204",
          "10000.0",
          "7746.478873239436",
          "14970.059880239522",
          "6785.714285714285",
          "8166.666666666667",
          "18918.91891891892",
          "8076.923076923077",
          "7027.027027027027",
          "4130.434782608696",
          "13034.97340425532",
          "8712.121212121212",
          "1016.9491525423729",
          "10000.0",
          "14750.0",
          "6400.0",
          "5000.0",
          "8500.0",
          "11529.411764705883",
          "12295.081967213115",
          "30666.666666666668",
          "9441.233140655106",
          "29666.666666666668",
          "14000.0",
          "5937.5",
          "8275.862068965518",
          "10625.0",
          "9722.222222222223",
          "7241.379310344828",
          "14285.714285714286",
          "5741.071428571428",
          "9259.25925925926",
          "9114.583333333334",
          "5741.071428571428",
          "6072.519083969466",
          "9000.0",
          "8163.265306122449",
          "48421.05263157895",
          "13636.363636363636",
          "18750.0",
          "18266.666666666668",
          "10000.0",
          "18333.333333333332",
          "10344.827586206897",
          "8800.0",
          "6000.0",
          "7285.714285714285",
          "18750.0",
          "27906.976744186046",
          "15046.666666666666",
          "25000.0",
          "9074.074074074075",
          "8000.0",
          "8750.0",
          "9230.76923076923",
          "10000.0",
          "4090.909090909091",
          "9368.421052631578",
          "2800.0",
          "16000.0",
          "21851.851851851854",
          "8012.820512820513",
          "8270.676691729323",
          "8547.008547008547",
          "8974.358974358975",
          "13181.818181818182",
          "24253.731343283584",
          "76666.66666666667",
          "23809.52380952381",
          "20000.0",
          "14226.80412371134",
          "7894.736842105263",
          "10666.666666666666",
          "13636.363636363636",
          "9833.333333333334",
          "27142.85714285714",
          "21276.59574468085",
          "3267.97385620915",
          "41830.06535947712",
          "9062.5",
          "14062.5",
          "17000.0",
          "8292.682926829268",
          "8341.614906832297",
          "11793.893129770993",
          "9696.969696969696",
          "10700.0",
          "9692.307692307691",
          "10955.882352941177",
          "10461.538461538461",
          "15384.615384615385",
          "14583.333333333334",
          "12698.412698412698",
          "8965.51724137931",
          "12741.935483870968",
          "76666.66666666667",
          "34517.79513888889",
          "9322.033898305084",
          "12000.0",
          "22047.24409448819",
          "23706.896551724138",
          "12500.0",
          "8012.820512820513",
          "14084.507042253521",
          "6903.559027777777",
          "23456.79012345679",
          "25000.0",
          "8333.333333333334",
          "9893.617021276596",
          "10163.934426229509",
          "13333.333333333334",
          "8653.846153846154",
          "6521.739130434783",
          "22656.25",
          "8333.333333333334",
          "8548.387096774193",
          "8500.0",
          "6481.481481481482",
          "7777.777777777777",
          "5740.740740740741",
          "9629.62962962963",
          "11395.348837209302",
          "10645.161290322581",
          "10545.454545454546",
          "19000.0",
          "12030.075187969926",
          "9756.09756097561",
          "29629.62962962963",
          "10200.0",
          "11387.878787878788",
          "6533.333333333333",
          "1687.5",
          "10156.25",
          "9300.0",
          "10526.315789473685",
          "8235.29411764706",
          "22727.272727272728",
          "6785.714285714285",
          "13767.275280898877",
          "11475.409836065573",
          "10000.0",
          "9838.709677419354",
          "7800.0",
          "10000.0",
          "7413.793103448276",
          "7166.666666666667",
          "10769.23076923077",
          "17500.0",
          "19444.444444444445",
          "15294.117647058823",
          "13736.263736263736",
          "6000.0",
          "7909.090909090909",
          "10588.235294117647",
          "18888.88888888889",
          "21383.64779874214",
          "9933.774834437087",
          "7500.0",
          "12946.42857142857",
          "13265.30612244898",
          "11818.181818181818",
          "9174.311926605504",
          "7727.272727272727",
          "9864.864864864865",
          "5571.428571428572",
          "8000.0",
          "16058.39416058394",
          "16250.0",
          "12096.774193548386",
          "19354.83870967742",
          "16000.0",
          "19135.802469135804",
          "10483.870967741936",
          "12396.694214876034",
          "14625.850340136054",
          "24218.75",
          "1030769.2307692308",
          "8181.818181818182",
          "10471.204188481675",
          "6933.333333333333",
          "8904.109589041096",
          "730.0",
          "11000.0",
          "17289.719626168226",
          "14535.714285714286",
          "9375.0",
          "7058.823529411765",
          "8448.275862068966",
          "9375.0",
          "6181.818181818182",
          "14204.545454545454",
          "13440.860215053763",
          "9126.984126984127",
          "13076.923076923076",
          "6571.428571428572",
          "8275.862068965518",
          "9484.536082474227",
          "9843.75",
          "1832.0610687022902",
          "817307.6923076923",
          "5243.90243902439",
          "7755.102040816327",
          "12105.263157894737",
          "11000.0",
          "12340.425531914894",
          "9107.142857142857",
          "10196.078431372549",
          "7377.049180327869",
          "10000.0",
          "11333.333333333334",
          "6931.818181818182",
          "10425.531914893618",
          "10104.166666666666",
          "11031.914467625036",
          "9000.0",
          "11000.0",
          "6886.22754491018",
          "8392.857142857143",
          "19642.85714285714",
          "10480.318744243783",
          "10370.37037037037",
          "9770.114942528735",
          "215384.61538461538",
          "445723.6842105263",
          "11166.666666666666",
          "16562.5",
          "12805.970149253732",
          "9285.714285714286",
          "12500.0",
          "30000.0",
          "5444.444444444444",
          "30588.235294117647",
          "1076.5550239234449",
          "9375.0",
          "10697.67441860465",
          "12328.767123287671",
          "13333.333333333334",
          "10000.0",
          "9843.75",
          "11711.711711711712",
          "15000.0",
          "9349.59349593496",
          "3000.0"
         ],
         "y0": " ",
         "yaxis": "y"
        }
       ],
       "layout": {
        "boxmode": "group",
        "legend": {
         "tracegroupgap": 0
        },
        "template": {
         "data": {
          "bar": [
           {
            "error_x": {
             "color": "#2a3f5f"
            },
            "error_y": {
             "color": "#2a3f5f"
            },
            "marker": {
             "line": {
              "color": "#E5ECF6",
              "width": 0.5
             },
             "pattern": {
              "fillmode": "overlay",
              "size": 10,
              "solidity": 0.2
             }
            },
            "type": "bar"
           }
          ],
          "barpolar": [
           {
            "marker": {
             "line": {
              "color": "#E5ECF6",
              "width": 0.5
             },
             "pattern": {
              "fillmode": "overlay",
              "size": 10,
              "solidity": 0.2
             }
            },
            "type": "barpolar"
           }
          ],
          "carpet": [
           {
            "aaxis": {
             "endlinecolor": "#2a3f5f",
             "gridcolor": "white",
             "linecolor": "white",
             "minorgridcolor": "white",
             "startlinecolor": "#2a3f5f"
            },
            "baxis": {
             "endlinecolor": "#2a3f5f",
             "gridcolor": "white",
             "linecolor": "white",
             "minorgridcolor": "white",
             "startlinecolor": "#2a3f5f"
            },
            "type": "carpet"
           }
          ],
          "choropleth": [
           {
            "colorbar": {
             "outlinewidth": 0,
             "ticks": ""
            },
            "type": "choropleth"
           }
          ],
          "contour": [
           {
            "colorbar": {
             "outlinewidth": 0,
             "ticks": ""
            },
            "colorscale": [
             [
              0,
              "#0d0887"
             ],
             [
              0.1111111111111111,
              "#46039f"
             ],
             [
              0.2222222222222222,
              "#7201a8"
             ],
             [
              0.3333333333333333,
              "#9c179e"
             ],
             [
              0.4444444444444444,
              "#bd3786"
             ],
             [
              0.5555555555555556,
              "#d8576b"
             ],
             [
              0.6666666666666666,
              "#ed7953"
             ],
             [
              0.7777777777777778,
              "#fb9f3a"
             ],
             [
              0.8888888888888888,
              "#fdca26"
             ],
             [
              1,
              "#f0f921"
             ]
            ],
            "type": "contour"
           }
          ],
          "contourcarpet": [
           {
            "colorbar": {
             "outlinewidth": 0,
             "ticks": ""
            },
            "type": "contourcarpet"
           }
          ],
          "heatmap": [
           {
            "colorbar": {
             "outlinewidth": 0,
             "ticks": ""
            },
            "colorscale": [
             [
              0,
              "#0d0887"
             ],
             [
              0.1111111111111111,
              "#46039f"
             ],
             [
              0.2222222222222222,
              "#7201a8"
             ],
             [
              0.3333333333333333,
              "#9c179e"
             ],
             [
              0.4444444444444444,
              "#bd3786"
             ],
             [
              0.5555555555555556,
              "#d8576b"
             ],
             [
              0.6666666666666666,
              "#ed7953"
             ],
             [
              0.7777777777777778,
              "#fb9f3a"
             ],
             [
              0.8888888888888888,
              "#fdca26"
             ],
             [
              1,
              "#f0f921"
             ]
            ],
            "type": "heatmap"
           }
          ],
          "heatmapgl": [
           {
            "colorbar": {
             "outlinewidth": 0,
             "ticks": ""
            },
            "colorscale": [
             [
              0,
              "#0d0887"
             ],
             [
              0.1111111111111111,
              "#46039f"
             ],
             [
              0.2222222222222222,
              "#7201a8"
             ],
             [
              0.3333333333333333,
              "#9c179e"
             ],
             [
              0.4444444444444444,
              "#bd3786"
             ],
             [
              0.5555555555555556,
              "#d8576b"
             ],
             [
              0.6666666666666666,
              "#ed7953"
             ],
             [
              0.7777777777777778,
              "#fb9f3a"
             ],
             [
              0.8888888888888888,
              "#fdca26"
             ],
             [
              1,
              "#f0f921"
             ]
            ],
            "type": "heatmapgl"
           }
          ],
          "histogram": [
           {
            "marker": {
             "pattern": {
              "fillmode": "overlay",
              "size": 10,
              "solidity": 0.2
             }
            },
            "type": "histogram"
           }
          ],
          "histogram2d": [
           {
            "colorbar": {
             "outlinewidth": 0,
             "ticks": ""
            },
            "colorscale": [
             [
              0,
              "#0d0887"
             ],
             [
              0.1111111111111111,
              "#46039f"
             ],
             [
              0.2222222222222222,
              "#7201a8"
             ],
             [
              0.3333333333333333,
              "#9c179e"
             ],
             [
              0.4444444444444444,
              "#bd3786"
             ],
             [
              0.5555555555555556,
              "#d8576b"
             ],
             [
              0.6666666666666666,
              "#ed7953"
             ],
             [
              0.7777777777777778,
              "#fb9f3a"
             ],
             [
              0.8888888888888888,
              "#fdca26"
             ],
             [
              1,
              "#f0f921"
             ]
            ],
            "type": "histogram2d"
           }
          ],
          "histogram2dcontour": [
           {
            "colorbar": {
             "outlinewidth": 0,
             "ticks": ""
            },
            "colorscale": [
             [
              0,
              "#0d0887"
             ],
             [
              0.1111111111111111,
              "#46039f"
             ],
             [
              0.2222222222222222,
              "#7201a8"
             ],
             [
              0.3333333333333333,
              "#9c179e"
             ],
             [
              0.4444444444444444,
              "#bd3786"
             ],
             [
              0.5555555555555556,
              "#d8576b"
             ],
             [
              0.6666666666666666,
              "#ed7953"
             ],
             [
              0.7777777777777778,
              "#fb9f3a"
             ],
             [
              0.8888888888888888,
              "#fdca26"
             ],
             [
              1,
              "#f0f921"
             ]
            ],
            "type": "histogram2dcontour"
           }
          ],
          "mesh3d": [
           {
            "colorbar": {
             "outlinewidth": 0,
             "ticks": ""
            },
            "type": "mesh3d"
           }
          ],
          "parcoords": [
           {
            "line": {
             "colorbar": {
              "outlinewidth": 0,
              "ticks": ""
             }
            },
            "type": "parcoords"
           }
          ],
          "pie": [
           {
            "automargin": true,
            "type": "pie"
           }
          ],
          "scatter": [
           {
            "fillpattern": {
             "fillmode": "overlay",
             "size": 10,
             "solidity": 0.2
            },
            "type": "scatter"
           }
          ],
          "scatter3d": [
           {
            "line": {
             "colorbar": {
              "outlinewidth": 0,
              "ticks": ""
             }
            },
            "marker": {
             "colorbar": {
              "outlinewidth": 0,
              "ticks": ""
             }
            },
            "type": "scatter3d"
           }
          ],
          "scattercarpet": [
           {
            "marker": {
             "colorbar": {
              "outlinewidth": 0,
              "ticks": ""
             }
            },
            "type": "scattercarpet"
           }
          ],
          "scattergeo": [
           {
            "marker": {
             "colorbar": {
              "outlinewidth": 0,
              "ticks": ""
             }
            },
            "type": "scattergeo"
           }
          ],
          "scattergl": [
           {
            "marker": {
             "colorbar": {
              "outlinewidth": 0,
              "ticks": ""
             }
            },
            "type": "scattergl"
           }
          ],
          "scattermapbox": [
           {
            "marker": {
             "colorbar": {
              "outlinewidth": 0,
              "ticks": ""
             }
            },
            "type": "scattermapbox"
           }
          ],
          "scatterpolar": [
           {
            "marker": {
             "colorbar": {
              "outlinewidth": 0,
              "ticks": ""
             }
            },
            "type": "scatterpolar"
           }
          ],
          "scatterpolargl": [
           {
            "marker": {
             "colorbar": {
              "outlinewidth": 0,
              "ticks": ""
             }
            },
            "type": "scatterpolargl"
           }
          ],
          "scatterternary": [
           {
            "marker": {
             "colorbar": {
              "outlinewidth": 0,
              "ticks": ""
             }
            },
            "type": "scatterternary"
           }
          ],
          "surface": [
           {
            "colorbar": {
             "outlinewidth": 0,
             "ticks": ""
            },
            "colorscale": [
             [
              0,
              "#0d0887"
             ],
             [
              0.1111111111111111,
              "#46039f"
             ],
             [
              0.2222222222222222,
              "#7201a8"
             ],
             [
              0.3333333333333333,
              "#9c179e"
             ],
             [
              0.4444444444444444,
              "#bd3786"
             ],
             [
              0.5555555555555556,
              "#d8576b"
             ],
             [
              0.6666666666666666,
              "#ed7953"
             ],
             [
              0.7777777777777778,
              "#fb9f3a"
             ],
             [
              0.8888888888888888,
              "#fdca26"
             ],
             [
              1,
              "#f0f921"
             ]
            ],
            "type": "surface"
           }
          ],
          "table": [
           {
            "cells": {
             "fill": {
              "color": "#EBF0F8"
             },
             "line": {
              "color": "white"
             }
            },
            "header": {
             "fill": {
              "color": "#C8D4E3"
             },
             "line": {
              "color": "white"
             }
            },
            "type": "table"
           }
          ]
         },
         "layout": {
          "annotationdefaults": {
           "arrowcolor": "#2a3f5f",
           "arrowhead": 0,
           "arrowwidth": 1
          },
          "autotypenumbers": "strict",
          "coloraxis": {
           "colorbar": {
            "outlinewidth": 0,
            "ticks": ""
           }
          },
          "colorscale": {
           "diverging": [
            [
             0,
             "#8e0152"
            ],
            [
             0.1,
             "#c51b7d"
            ],
            [
             0.2,
             "#de77ae"
            ],
            [
             0.3,
             "#f1b6da"
            ],
            [
             0.4,
             "#fde0ef"
            ],
            [
             0.5,
             "#f7f7f7"
            ],
            [
             0.6,
             "#e6f5d0"
            ],
            [
             0.7,
             "#b8e186"
            ],
            [
             0.8,
             "#7fbc41"
            ],
            [
             0.9,
             "#4d9221"
            ],
            [
             1,
             "#276419"
            ]
           ],
           "sequential": [
            [
             0,
             "#0d0887"
            ],
            [
             0.1111111111111111,
             "#46039f"
            ],
            [
             0.2222222222222222,
             "#7201a8"
            ],
            [
             0.3333333333333333,
             "#9c179e"
            ],
            [
             0.4444444444444444,
             "#bd3786"
            ],
            [
             0.5555555555555556,
             "#d8576b"
            ],
            [
             0.6666666666666666,
             "#ed7953"
            ],
            [
             0.7777777777777778,
             "#fb9f3a"
            ],
            [
             0.8888888888888888,
             "#fdca26"
            ],
            [
             1,
             "#f0f921"
            ]
           ],
           "sequentialminus": [
            [
             0,
             "#0d0887"
            ],
            [
             0.1111111111111111,
             "#46039f"
            ],
            [
             0.2222222222222222,
             "#7201a8"
            ],
            [
             0.3333333333333333,
             "#9c179e"
            ],
            [
             0.4444444444444444,
             "#bd3786"
            ],
            [
             0.5555555555555556,
             "#d8576b"
            ],
            [
             0.6666666666666666,
             "#ed7953"
            ],
            [
             0.7777777777777778,
             "#fb9f3a"
            ],
            [
             0.8888888888888888,
             "#fdca26"
            ],
            [
             1,
             "#f0f921"
            ]
           ]
          },
          "colorway": [
           "#636efa",
           "#EF553B",
           "#00cc96",
           "#ab63fa",
           "#FFA15A",
           "#19d3f3",
           "#FF6692",
           "#B6E880",
           "#FF97FF",
           "#FECB52"
          ],
          "font": {
           "color": "#2a3f5f"
          },
          "geo": {
           "bgcolor": "white",
           "lakecolor": "white",
           "landcolor": "#E5ECF6",
           "showlakes": true,
           "showland": true,
           "subunitcolor": "white"
          },
          "hoverlabel": {
           "align": "left"
          },
          "hovermode": "closest",
          "mapbox": {
           "style": "light"
          },
          "paper_bgcolor": "white",
          "plot_bgcolor": "#E5ECF6",
          "polar": {
           "angularaxis": {
            "gridcolor": "white",
            "linecolor": "white",
            "ticks": ""
           },
           "bgcolor": "#E5ECF6",
           "radialaxis": {
            "gridcolor": "white",
            "linecolor": "white",
            "ticks": ""
           }
          },
          "scene": {
           "xaxis": {
            "backgroundcolor": "#E5ECF6",
            "gridcolor": "white",
            "gridwidth": 2,
            "linecolor": "white",
            "showbackground": true,
            "ticks": "",
            "zerolinecolor": "white"
           },
           "yaxis": {
            "backgroundcolor": "#E5ECF6",
            "gridcolor": "white",
            "gridwidth": 2,
            "linecolor": "white",
            "showbackground": true,
            "ticks": "",
            "zerolinecolor": "white"
           },
           "zaxis": {
            "backgroundcolor": "#E5ECF6",
            "gridcolor": "white",
            "gridwidth": 2,
            "linecolor": "white",
            "showbackground": true,
            "ticks": "",
            "zerolinecolor": "white"
           }
          },
          "shapedefaults": {
           "line": {
            "color": "#2a3f5f"
           }
          },
          "ternary": {
           "aaxis": {
            "gridcolor": "white",
            "linecolor": "white",
            "ticks": ""
           },
           "baxis": {
            "gridcolor": "white",
            "linecolor": "white",
            "ticks": ""
           },
           "bgcolor": "#E5ECF6",
           "caxis": {
            "gridcolor": "white",
            "linecolor": "white",
            "ticks": ""
           }
          },
          "title": {
           "x": 0.05
          },
          "xaxis": {
           "automargin": true,
           "gridcolor": "white",
           "linecolor": "white",
           "ticks": "",
           "title": {
            "standoff": 15
           },
           "zerolinecolor": "white",
           "zerolinewidth": 2
          },
          "yaxis": {
           "automargin": true,
           "gridcolor": "white",
           "linecolor": "white",
           "ticks": "",
           "title": {
            "standoff": 15
           },
           "zerolinecolor": "white",
           "zerolinewidth": 2
          }
         }
        },
        "title": {
         "text": "Price per Square Meter by Property Type"
        },
        "xaxis": {
         "anchor": "y",
         "domain": [
          0,
          1
         ],
         "title": {
          "text": "Type"
         }
        },
        "yaxis": {
         "anchor": "x",
         "domain": [
          0,
          1
         ],
         "title": {
          "text": "Price_m2"
         }
        }
       }
      }
     },
     "metadata": {},
     "output_type": "display_data"
    }
   ],
   "source": [
    "px.box(data1, x='Type', y='Price_m2', title='Price per Square Meter by Property Type').show()"
   ]
  },
  {
   "cell_type": "code",
   "execution_count": 16,
   "metadata": {},
   "outputs": [
    {
     "name": "stderr",
     "output_type": "stream",
     "text": [
      "C:\\Users\\hassa\\AppData\\Local\\Temp\\ipykernel_6384\\2799974871.py:4: SettingWithCopyWarning:\n",
      "\n",
      "\n",
      "A value is trying to be set on a copy of a slice from a DataFrame.\n",
      "Try using .loc[row_indexer,col_indexer] = value instead\n",
      "\n",
      "See the caveats in the documentation: https://pandas.pydata.org/pandas-docs/stable/user_guide/indexing.html#returning-a-view-versus-a-copy\n",
      "\n",
      "C:\\Users\\hassa\\AppData\\Local\\Temp\\ipykernel_6384\\2799974871.py:17: DeprecationWarning:\n",
      "\n",
      "DataFrameGroupBy.apply operated on the grouping columns. This behavior is deprecated, and in a future version of pandas the grouping columns will be excluded from the operation. Either pass `include_groups=False` to exclude the groupings or explicitly select the grouping columns after groupby to silence this warning.\n",
      "\n",
      "C:\\Users\\hassa\\AppData\\Local\\Temp\\ipykernel_6384\\2799974871.py:17: DeprecationWarning:\n",
      "\n",
      "DataFrameGroupBy.apply operated on the grouping columns. This behavior is deprecated, and in a future version of pandas the grouping columns will be excluded from the operation. Either pass `include_groups=False` to exclude the groupings or explicitly select the grouping columns after groupby to silence this warning.\n",
      "\n"
     ]
    },
    {
     "ename": "KeyError",
     "evalue": "'[0, 1, 2, 3, 4, 5, 6, 7, 8, 9, 10, 11, 12, 13, 14, 15, 16, 17, 18, 19, 20, 21, 22, 23, 24, 25, 26, 27, 28, 29, 30, 31, 32, 33, 34, 35, 36, 37, 38, 39, 40, 41, 42, 43, 44, 45, 46, 47, 48, 49, 50, 51, 52, 53, 54, 55, 56, 57, 58] not found in axis'",
     "output_type": "error",
     "traceback": [
      "\u001b[1;31m---------------------------------------------------------------------------\u001b[0m",
      "\u001b[1;31mKeyError\u001b[0m                                  Traceback (most recent call last)",
      "Cell \u001b[1;32mIn[16], line 25\u001b[0m\n\u001b[0;32m     23\u001b[0m \u001b[38;5;66;03m# Apply the function to remove outliers for 'Price' and 'Price_m2' for each property type\u001b[39;00m\n\u001b[0;32m     24\u001b[0m cleaned_data, outliers \u001b[38;5;241m=\u001b[39m identify_and_remove_outliers(data1, \u001b[38;5;124m'\u001b[39m\u001b[38;5;124mType\u001b[39m\u001b[38;5;124m'\u001b[39m, \u001b[38;5;124m'\u001b[39m\u001b[38;5;124mPrice\u001b[39m\u001b[38;5;124m'\u001b[39m)\n\u001b[1;32m---> 25\u001b[0m cleaned_data, outliers_price_m2 \u001b[38;5;241m=\u001b[39m \u001b[43midentify_and_remove_outliers\u001b[49m\u001b[43m(\u001b[49m\u001b[43mcleaned_data\u001b[49m\u001b[43m,\u001b[49m\u001b[43m \u001b[49m\u001b[38;5;124;43m'\u001b[39;49m\u001b[38;5;124;43mType\u001b[39;49m\u001b[38;5;124;43m'\u001b[39;49m\u001b[43m,\u001b[49m\u001b[43m \u001b[49m\u001b[38;5;124;43m'\u001b[39;49m\u001b[38;5;124;43mPrice_m2\u001b[39;49m\u001b[38;5;124;43m'\u001b[39;49m\u001b[43m)\u001b[49m\n\u001b[0;32m     27\u001b[0m \u001b[38;5;66;03m# Combine outliers\u001b[39;00m\n\u001b[0;32m     28\u001b[0m all_outliers \u001b[38;5;241m=\u001b[39m pd\u001b[38;5;241m.\u001b[39mconcat([outliers, outliers_price_m2])\u001b[38;5;241m.\u001b[39mdrop_duplicates()\n",
      "Cell \u001b[1;32mIn[16], line 19\u001b[0m, in \u001b[0;36midentify_and_remove_outliers\u001b[1;34m(df, group_col, target_col)\u001b[0m\n\u001b[0;32m     17\u001b[0m outliers \u001b[38;5;241m=\u001b[39m df\u001b[38;5;241m.\u001b[39mgroupby(group_col)\u001b[38;5;241m.\u001b[39mapply(iqr_outliers)\u001b[38;5;241m.\u001b[39mreset_index(drop\u001b[38;5;241m=\u001b[39m\u001b[38;5;28;01mTrue\u001b[39;00m)\n\u001b[0;32m     18\u001b[0m \u001b[38;5;66;03m# Remove outliers\u001b[39;00m\n\u001b[1;32m---> 19\u001b[0m cleaned_df \u001b[38;5;241m=\u001b[39m \u001b[43mdf\u001b[49m\u001b[38;5;241;43m.\u001b[39;49m\u001b[43mdrop\u001b[49m\u001b[43m(\u001b[49m\u001b[43moutliers\u001b[49m\u001b[38;5;241;43m.\u001b[39;49m\u001b[43mindex\u001b[49m\u001b[43m)\u001b[49m\n\u001b[0;32m     21\u001b[0m \u001b[38;5;28;01mreturn\u001b[39;00m cleaned_df, outliers\n",
      "File \u001b[1;32mc:\\Users\\hassa\\AppData\\Local\\Programs\\Python\\Python312\\Lib\\site-packages\\pandas\\core\\frame.py:5568\u001b[0m, in \u001b[0;36mDataFrame.drop\u001b[1;34m(self, labels, axis, index, columns, level, inplace, errors)\u001b[0m\n\u001b[0;32m   5420\u001b[0m \u001b[38;5;28;01mdef\u001b[39;00m \u001b[38;5;21mdrop\u001b[39m(\n\u001b[0;32m   5421\u001b[0m     \u001b[38;5;28mself\u001b[39m,\n\u001b[0;32m   5422\u001b[0m     labels: IndexLabel \u001b[38;5;241m|\u001b[39m \u001b[38;5;28;01mNone\u001b[39;00m \u001b[38;5;241m=\u001b[39m \u001b[38;5;28;01mNone\u001b[39;00m,\n\u001b[1;32m   (...)\u001b[0m\n\u001b[0;32m   5429\u001b[0m     errors: IgnoreRaise \u001b[38;5;241m=\u001b[39m \u001b[38;5;124m\"\u001b[39m\u001b[38;5;124mraise\u001b[39m\u001b[38;5;124m\"\u001b[39m,\n\u001b[0;32m   5430\u001b[0m ) \u001b[38;5;241m-\u001b[39m\u001b[38;5;241m>\u001b[39m DataFrame \u001b[38;5;241m|\u001b[39m \u001b[38;5;28;01mNone\u001b[39;00m:\n\u001b[0;32m   5431\u001b[0m \u001b[38;5;250m    \u001b[39m\u001b[38;5;124;03m\"\"\"\u001b[39;00m\n\u001b[0;32m   5432\u001b[0m \u001b[38;5;124;03m    Drop specified labels from rows or columns.\u001b[39;00m\n\u001b[0;32m   5433\u001b[0m \n\u001b[1;32m   (...)\u001b[0m\n\u001b[0;32m   5566\u001b[0m \u001b[38;5;124;03m            weight  1.0     0.8\u001b[39;00m\n\u001b[0;32m   5567\u001b[0m \u001b[38;5;124;03m    \"\"\"\u001b[39;00m\n\u001b[1;32m-> 5568\u001b[0m     \u001b[38;5;28;01mreturn\u001b[39;00m \u001b[38;5;28;43msuper\u001b[39;49m\u001b[43m(\u001b[49m\u001b[43m)\u001b[49m\u001b[38;5;241;43m.\u001b[39;49m\u001b[43mdrop\u001b[49m\u001b[43m(\u001b[49m\n\u001b[0;32m   5569\u001b[0m \u001b[43m        \u001b[49m\u001b[43mlabels\u001b[49m\u001b[38;5;241;43m=\u001b[39;49m\u001b[43mlabels\u001b[49m\u001b[43m,\u001b[49m\n\u001b[0;32m   5570\u001b[0m \u001b[43m        \u001b[49m\u001b[43maxis\u001b[49m\u001b[38;5;241;43m=\u001b[39;49m\u001b[43maxis\u001b[49m\u001b[43m,\u001b[49m\n\u001b[0;32m   5571\u001b[0m \u001b[43m        \u001b[49m\u001b[43mindex\u001b[49m\u001b[38;5;241;43m=\u001b[39;49m\u001b[43mindex\u001b[49m\u001b[43m,\u001b[49m\n\u001b[0;32m   5572\u001b[0m \u001b[43m        \u001b[49m\u001b[43mcolumns\u001b[49m\u001b[38;5;241;43m=\u001b[39;49m\u001b[43mcolumns\u001b[49m\u001b[43m,\u001b[49m\n\u001b[0;32m   5573\u001b[0m \u001b[43m        \u001b[49m\u001b[43mlevel\u001b[49m\u001b[38;5;241;43m=\u001b[39;49m\u001b[43mlevel\u001b[49m\u001b[43m,\u001b[49m\n\u001b[0;32m   5574\u001b[0m \u001b[43m        \u001b[49m\u001b[43minplace\u001b[49m\u001b[38;5;241;43m=\u001b[39;49m\u001b[43minplace\u001b[49m\u001b[43m,\u001b[49m\n\u001b[0;32m   5575\u001b[0m \u001b[43m        \u001b[49m\u001b[43merrors\u001b[49m\u001b[38;5;241;43m=\u001b[39;49m\u001b[43merrors\u001b[49m\u001b[43m,\u001b[49m\n\u001b[0;32m   5576\u001b[0m \u001b[43m    \u001b[49m\u001b[43m)\u001b[49m\n",
      "File \u001b[1;32mc:\\Users\\hassa\\AppData\\Local\\Programs\\Python\\Python312\\Lib\\site-packages\\pandas\\core\\generic.py:4785\u001b[0m, in \u001b[0;36mNDFrame.drop\u001b[1;34m(self, labels, axis, index, columns, level, inplace, errors)\u001b[0m\n\u001b[0;32m   4783\u001b[0m \u001b[38;5;28;01mfor\u001b[39;00m axis, labels \u001b[38;5;129;01min\u001b[39;00m axes\u001b[38;5;241m.\u001b[39mitems():\n\u001b[0;32m   4784\u001b[0m     \u001b[38;5;28;01mif\u001b[39;00m labels \u001b[38;5;129;01mis\u001b[39;00m \u001b[38;5;129;01mnot\u001b[39;00m \u001b[38;5;28;01mNone\u001b[39;00m:\n\u001b[1;32m-> 4785\u001b[0m         obj \u001b[38;5;241m=\u001b[39m \u001b[43mobj\u001b[49m\u001b[38;5;241;43m.\u001b[39;49m\u001b[43m_drop_axis\u001b[49m\u001b[43m(\u001b[49m\u001b[43mlabels\u001b[49m\u001b[43m,\u001b[49m\u001b[43m \u001b[49m\u001b[43maxis\u001b[49m\u001b[43m,\u001b[49m\u001b[43m \u001b[49m\u001b[43mlevel\u001b[49m\u001b[38;5;241;43m=\u001b[39;49m\u001b[43mlevel\u001b[49m\u001b[43m,\u001b[49m\u001b[43m \u001b[49m\u001b[43merrors\u001b[49m\u001b[38;5;241;43m=\u001b[39;49m\u001b[43merrors\u001b[49m\u001b[43m)\u001b[49m\n\u001b[0;32m   4787\u001b[0m \u001b[38;5;28;01mif\u001b[39;00m inplace:\n\u001b[0;32m   4788\u001b[0m     \u001b[38;5;28mself\u001b[39m\u001b[38;5;241m.\u001b[39m_update_inplace(obj)\n",
      "File \u001b[1;32mc:\\Users\\hassa\\AppData\\Local\\Programs\\Python\\Python312\\Lib\\site-packages\\pandas\\core\\generic.py:4827\u001b[0m, in \u001b[0;36mNDFrame._drop_axis\u001b[1;34m(self, labels, axis, level, errors, only_slice)\u001b[0m\n\u001b[0;32m   4825\u001b[0m         new_axis \u001b[38;5;241m=\u001b[39m axis\u001b[38;5;241m.\u001b[39mdrop(labels, level\u001b[38;5;241m=\u001b[39mlevel, errors\u001b[38;5;241m=\u001b[39merrors)\n\u001b[0;32m   4826\u001b[0m     \u001b[38;5;28;01melse\u001b[39;00m:\n\u001b[1;32m-> 4827\u001b[0m         new_axis \u001b[38;5;241m=\u001b[39m \u001b[43maxis\u001b[49m\u001b[38;5;241;43m.\u001b[39;49m\u001b[43mdrop\u001b[49m\u001b[43m(\u001b[49m\u001b[43mlabels\u001b[49m\u001b[43m,\u001b[49m\u001b[43m \u001b[49m\u001b[43merrors\u001b[49m\u001b[38;5;241;43m=\u001b[39;49m\u001b[43merrors\u001b[49m\u001b[43m)\u001b[49m\n\u001b[0;32m   4828\u001b[0m     indexer \u001b[38;5;241m=\u001b[39m axis\u001b[38;5;241m.\u001b[39mget_indexer(new_axis)\n\u001b[0;32m   4830\u001b[0m \u001b[38;5;66;03m# Case for non-unique axis\u001b[39;00m\n\u001b[0;32m   4831\u001b[0m \u001b[38;5;28;01melse\u001b[39;00m:\n",
      "File \u001b[1;32mc:\\Users\\hassa\\AppData\\Local\\Programs\\Python\\Python312\\Lib\\site-packages\\pandas\\core\\indexes\\base.py:7070\u001b[0m, in \u001b[0;36mIndex.drop\u001b[1;34m(self, labels, errors)\u001b[0m\n\u001b[0;32m   7068\u001b[0m \u001b[38;5;28;01mif\u001b[39;00m mask\u001b[38;5;241m.\u001b[39many():\n\u001b[0;32m   7069\u001b[0m     \u001b[38;5;28;01mif\u001b[39;00m errors \u001b[38;5;241m!=\u001b[39m \u001b[38;5;124m\"\u001b[39m\u001b[38;5;124mignore\u001b[39m\u001b[38;5;124m\"\u001b[39m:\n\u001b[1;32m-> 7070\u001b[0m         \u001b[38;5;28;01mraise\u001b[39;00m \u001b[38;5;167;01mKeyError\u001b[39;00m(\u001b[38;5;124mf\u001b[39m\u001b[38;5;124m\"\u001b[39m\u001b[38;5;132;01m{\u001b[39;00mlabels[mask]\u001b[38;5;241m.\u001b[39mtolist()\u001b[38;5;132;01m}\u001b[39;00m\u001b[38;5;124m not found in axis\u001b[39m\u001b[38;5;124m\"\u001b[39m)\n\u001b[0;32m   7071\u001b[0m     indexer \u001b[38;5;241m=\u001b[39m indexer[\u001b[38;5;241m~\u001b[39mmask]\n\u001b[0;32m   7072\u001b[0m \u001b[38;5;28;01mreturn\u001b[39;00m \u001b[38;5;28mself\u001b[39m\u001b[38;5;241m.\u001b[39mdelete(indexer)\n",
      "\u001b[1;31mKeyError\u001b[0m: '[0, 1, 2, 3, 4, 5, 6, 7, 8, 9, 10, 11, 12, 13, 14, 15, 16, 17, 18, 19, 20, 21, 22, 23, 24, 25, 26, 27, 28, 29, 30, 31, 32, 33, 34, 35, 36, 37, 38, 39, 40, 41, 42, 43, 44, 45, 46, 47, 48, 49, 50, 51, 52, 53, 54, 55, 56, 57, 58] not found in axis'"
     ]
    }
   ],
   "source": [
    "# Ensure numeric columns are properly converted\n",
    "numeric_columns = ['Price', 'Area', 'Price_m2']\n",
    "for column in numeric_columns:\n",
    "    data1[column] = pd.to_numeric(data1[column], errors='coerce')\n",
    "    \n",
    "# Function to identify outliers using IQR method for each property type\n",
    "def identify_and_remove_outliers(df, group_col, target_col):\n",
    "    def iqr_outliers(group):\n",
    "        Q1 = group[target_col].quantile(0.25)\n",
    "        Q3 = group[target_col].quantile(0.75)\n",
    "        IQR = Q3 - Q1\n",
    "        lower_bound = Q1 - 1.5 * IQR\n",
    "        upper_bound = Q3 + 1.5 * IQR\n",
    "        return group[(group[target_col] < lower_bound) | (group[target_col] > upper_bound)]\n",
    "    \n",
    "    # Identify outliers for each group\n",
    "    outliers = df.groupby(group_col).apply(iqr_outliers).reset_index(drop=True)\n",
    "    # Remove outliers\n",
    "    cleaned_df = df.drop(outliers.index)\n",
    "    \n",
    "    return cleaned_df, outliers\n",
    "\n",
    "# Apply the function to remove outliers for 'Price' and 'Price_m2' for each property type\n",
    "cleaned_data, outliers = identify_and_remove_outliers(data1, 'Type', 'Price')\n",
    "cleaned_data, outliers_price_m2 = identify_and_remove_outliers(cleaned_data, 'Type', 'Price_m2')\n",
    "\n",
    "# Combine outliers\n",
    "all_outliers = pd.concat([outliers, outliers_price_m2]).drop_duplicates()\n",
    "\n",
    "# Remove the outliers from the dataset\n",
    "cleaned_data = data.drop(all_outliers.index)\n",
    "\n",
    "\n"
   ]
  },
  {
   "cell_type": "code",
   "execution_count": 17,
   "metadata": {},
   "outputs": [
    {
     "name": "stdout",
     "output_type": "stream",
     "text": [
      "Original dataset shape: (759, 13)\n",
      "Cleaned dataset shape: (695, 13)\n"
     ]
    }
   ],
   "source": [
    "# Display the shape of the original and cleaned datasets\n",
    "\n",
    "print(f\"Original dataset shape: {data1.shape}\")\n",
    "print(f\"Cleaned dataset shape: {cleaned_data.shape}\")\n"
   ]
  },
  {
   "cell_type": "code",
   "execution_count": 24,
   "metadata": {},
   "outputs": [
    {
     "data": {
      "application/vnd.plotly.v1+json": {
       "config": {
        "plotlyServerURL": "https://plot.ly"
       },
       "data": [
        {
         "alignmentgroup": "True",
         "bingroup": "x",
         "hovertemplate": "Price=%{x}<br>count=%{y}<extra></extra>",
         "legendgroup": "",
         "marker": {
          "color": "#636efa",
          "pattern": {
           "shape": ""
          }
         },
         "name": "",
         "nbinsx": 50,
         "offsetgroup": "",
         "orientation": "v",
         "showlegend": false,
         "type": "histogram",
         "x": [
          966000,
          549000,
          624000,
          979000,
          957000,
          546000,
          480000,
          1900000,
          696600,
          1251160,
          1012000,
          2400000,
          630000,
          1233640,
          992600,
          1297350,
          890000,
          2250000,
          1200000,
          900000,
          2950000,
          1328000,
          680000,
          6800000,
          680000,
          3400000,
          6800000,
          980500,
          4500000,
          1284800,
          1060000,
          1695360,
          1183700,
          2600000,
          1550000,
          1350000,
          1260000,
          850000,
          1282000,
          650000,
          598880,
          790000,
          380000,
          680000,
          3000000,
          600000,
          560000,
          8500000,
          2900000,
          660000,
          400000,
          540000,
          720000,
          600000,
          17000000,
          2750000,
          10500,
          1560000,
          1700000,
          2200000,
          1900000,
          4900000,
          2700000,
          1900000,
          2600000,
          14500000,
          500000,
          960000,
          1100000,
          3000000,
          1600000,
          2300000,
          380000,
          600000,
          4200000,
          9700000,
          5700000,
          680000,
          850000,
          680000,
          1800000150000,
          510000,
          510000,
          13000000,
          460000,
          1950000,
          620000,
          770000,
          520000,
          570000,
          700000,
          630000,
          500000,
          4600000,
          420000,
          3200000,
          3000000,
          4800000,
          10500000,
          1600000,
          5900000,
          1550000,
          7800000,
          5966666.666666667,
          1900000,
          2500000,
          9000000,
          3500000,
          2500000,
          4400000,
          2450000,
          12000000,
          3000000,
          5300000,
          2000000,
          4800000,
          6800000,
          1250000,
          2950000,
          3700000,
          2900000,
          3700000,
          680000,
          1500000,
          2600000,
          860000,
          1320000,
          1320000,
          2900000,
          1200000,
          840000,
          800000,
          1200000,
          3400000,
          1700000,
          1357000,
          1800000,
          560000,
          960000,
          1250000,
          380000,
          560000,
          960000,
          1170000,
          4800000,
          1900000,
          2960000,
          1800000,
          550000,
          1100000,
          1150000,
          1100000,
          800000,
          560000,
          650000,
          770000,
          1000000,
          590000,
          1030000,
          4900000,
          3250000,
          900000,
          4500000,
          1750000,
          900000,
          2750000,
          2000000,
          4500000,
          3000000,
          1750000,
          590000,
          4800000,
          928571.4285714284,
          3900000,
          680000,
          800000,
          740000,
          660000,
          2850000,
          1600000,
          2000000,
          3300000,
          3200000,
          16000000,
          4500000,
          900000,
          900000,
          7500000,
          4600000,
          5700000,
          880000,
          1480000,
          3500000,
          2600000,
          660000,
          780000,
          1300000,
          881666.6666666666,
          3400000,
          434000,
          3800000,
          885000,
          700000,
          850000,
          670000,
          420000,
          670000,
          9525000,
          2500000,
          1900000,
          880000,
          3400000,
          1250000,
          530000,
          1860000,
          670000,
          1400000,
          4900000,
          2400000,
          1600000,
          1333333.3333333333,
          891750,
          600000,
          900000,
          780000,
          950000,
          885000,
          3600000,
          3300000,
          750000,
          2800000,
          680000,
          8500000,
          475000,
          3000000,
          1500000,
          650000,
          788369.2307692308,
          4550000,
          950000,
          1700000,
          1387500,
          3800000,
          1340000,
          2950000,
          570000,
          2590000,
          490000,
          1000000,
          350000,
          3200000,
          380000,
          860000,
          635000,
          420000,
          460000,
          570000,
          450000,
          968000,
          630000,
          300000,
          760000,
          750000,
          1750000,
          2400000,
          6500000,
          2600000,
          2700000,
          1700000,
          2000000,
          1200000,
          900000,
          5700000,
          630000,
          2800000,
          1500000,
          1700000,
          6500000,
          1245000,
          800000,
          620000,
          900000,
          850000,
          520000,
          1650000,
          1300000,
          2000000,
          1440000,
          1600000,
          2800000,
          1200000,
          1650000,
          1307000,
          900000,
          770000,
          1100000,
          1000000,
          2600000,
          860000,
          2200000,
          3800000,
          800000,
          1530000,
          1500000,
          700000,
          725533.3333333334,
          950000,
          1750000,
          2600000,
          440000,
          935000,
          530000,
          1800000,
          540000,
          1400000,
          2800000,
          420000,
          560000,
          1300000,
          840000,
          780000,
          2800000,
          2400000,
          1200000,
          1400000,
          1000000,
          750000,
          2500000,
          840000,
          580000,
          2000000,
          2900000,
          1230000,
          4500000,
          1450000,
          2200000,
          770000,
          1100000,
          1460000,
          1400000,
          880000,
          620000,
          1650000,
          4416666.666666667,
          1450000,
          680000,
          2100000,
          5522847.222222222,
          490000,
          1250000,
          1370000,
          660000,
          2240000,
          2800000,
          1305500,
          600000,
          1300000,
          1650000,
          1400000,
          650000,
          1950000,
          900000,
          1500000,
          3600000,
          380000,
          670000,
          400000,
          5200000,
          3200000,
          4140000,
          3500000,
          2600000,
          1150000,
          520000,
          3600000,
          560000,
          950000,
          1300000,
          750000,
          2100000,
          3000000,
          1500000,
          3300000,
          1500000,
          1500000,
          1500000,
          1150000,
          670000,
          880000,
          1500000,
          2300000,
          1650000,
          520000,
          3246000,
          350000,
          850000,
          510000,
          4880000,
          560000,
          840000,
          1600000,
          490000,
          750000,
          760000,
          1600000,
          980000,
          587250,
          46158363717.94872,
          390000,
          1300000,
          1600000,
          850000,
          2300000,
          900000,
          527000,
          100000,
          5000000,
          2430000,
          640000,
          1900000,
          1400000000,
          500000,
          800000,
          1200000,
          1950000,
          3566666.6666666665,
          500000,
          530000,
          1000000,
          2000000,
          960000,
          750000,
          440000,
          1600000,
          2960000,
          10000000,
          2650000,
          1700000,
          1700000,
          1050000,
          1250000,
          5970000,
          690000,
          1130000,
          550000,
          950000,
          1500000,
          1110000,
          3000000,
          1500000,
          1900000,
          650000,
          2425000,
          3100000,
          950000,
          5522847.222222222,
          930000,
          950000,
          600000,
          5522847.222222222,
          1550000,
          2600000,
          2200000,
          9500000,
          400000,
          587250,
          4800000,
          1400000,
          1350000,
          800000,
          8500000,
          1200000,
          2000000,
          550000,
          720000,
          32500000,
          1372500,
          520000,
          680000,
          1650000,
          2300000,
          770000,
          6000000,
          540000,
          6800000,
          881666.6666666666,
          1700000,
          800000,
          340000,
          2200000,
          710000,
          4000000,
          850000,
          400000,
          3100000,
          850000,
          960000,
          1580000,
          500000,
          3800000,
          1800000,
          530000,
          630000,
          4800000,
          910000,
          180000,
          520000,
          230000,
          1200000,
          6500000,
          560000,
          640000,
          15000,
          1900000,
          700000,
          1000000,
          360000,
          880000,
          550000,
          2500000,
          760000,
          490000,
          14000000,
          420000,
          520000,
          380000,
          1225287.5,
          575000,
          120000,
          600000,
          2950000,
          320000,
          350000,
          850000,
          980000,
          1500000,
          9200000,
          4900000,
          4450000,
          2800000,
          380000,
          480000,
          8500000,
          700000,
          420000,
          1000000,
          643000,
          500000,
          583333.3333333334,
          643000,
          795500,
          540000,
          2800000,
          4600000,
          1500000,
          4500000,
          1370000,
          950000,
          2200000,
          900000,
          660000,
          480000,
          510000,
          3000000,
          4800000,
          1128500,
          2750000,
          980000,
          1600000,
          560000,
          600000,
          460000,
          450000,
          890000,
          420000,
          3200000,
          1966666.6666666667,
          625000,
          1100000,
          1000000,
          700000,
          1450000,
          6500000,
          4140000,
          3000000,
          2600000,
          1380000,
          900000,
          800000,
          1350000,
          590000,
          1900000,
          1000000,
          500000,
          6400000,
          580000,
          900000,
          1700000,
          680000,
          583913.0434782609,
          1545000,
          640000,
          1070000,
          630000,
          1490000,
          680000,
          1200000,
          2100000,
          1600000,
          520000,
          790000,
          4140000,
          5522847.222222222,
          1100000,
          4800000,
          2800000,
          2750000,
          1675000,
          625000,
          1000000,
          5522847.222222222,
          7600000,
          2000000,
          600000,
          930000,
          620000,
          800000,
          450000,
          450000,
          1450000,
          950000,
          530000,
          510000,
          350000,
          420000,
          310000,
          1300000,
          980000,
          660000,
          580000,
          1900000,
          1600000,
          800000,
          3200000,
          510000,
          751600,
          490000,
          270000,
          650000,
          1050900,
          1600000,
          840000,
          7500000,
          380000,
          1225287.5,
          1400000,
          650000,
          610000,
          748800,
          900000,
          430000,
          430000,
          700000,
          3500000,
          2100000,
          1300000,
          1250000,
          330000,
          435000,
          1800000,
          1700000,
          3400000,
          1500000,
          750000,
          1450000,
          1300000,
          650000,
          1000000,
          340000,
          730000,
          1950000,
          960000,
          2200000,
          3900000,
          750000,
          1800000,
          800000,
          1550000,
          650000,
          1500000,
          2150000,
          3100000,
          67000000,
          900000,
          2000000,
          520000,
          650000,
          36500,
          880000,
          1850000,
          814000,
          900000,
          480000,
          490000,
          750000,
          340000,
          1250000,
          1250000,
          1150000,
          3400000,
          460000,
          480000,
          920000,
          630000,
          1200000,
          85000000,
          430000,
          380000,
          920000,
          924000,
          580000,
          510000,
          1040000,
          450000,
          600000,
          1700000,
          610000,
          980000,
          970000,
          1000000,
          630000,
          5500000,
          1150000,
          470000,
          2200000,
          950000,
          840000,
          850000,
          28000000,
          33875000,
          670000,
          1060000,
          1716000,
          650000,
          775000,
          1050000,
          490000,
          2600000,
          225000,
          600000,
          920000,
          900000,
          4000000,
          450000,
          630000,
          2600000,
          1800000,
          1150000,
          1800000
         ],
         "xaxis": "x",
         "yaxis": "y"
        }
       ],
       "layout": {
        "barmode": "relative",
        "legend": {
         "tracegroupgap": 0
        },
        "template": {
         "data": {
          "bar": [
           {
            "error_x": {
             "color": "#2a3f5f"
            },
            "error_y": {
             "color": "#2a3f5f"
            },
            "marker": {
             "line": {
              "color": "#E5ECF6",
              "width": 0.5
             },
             "pattern": {
              "fillmode": "overlay",
              "size": 10,
              "solidity": 0.2
             }
            },
            "type": "bar"
           }
          ],
          "barpolar": [
           {
            "marker": {
             "line": {
              "color": "#E5ECF6",
              "width": 0.5
             },
             "pattern": {
              "fillmode": "overlay",
              "size": 10,
              "solidity": 0.2
             }
            },
            "type": "barpolar"
           }
          ],
          "carpet": [
           {
            "aaxis": {
             "endlinecolor": "#2a3f5f",
             "gridcolor": "white",
             "linecolor": "white",
             "minorgridcolor": "white",
             "startlinecolor": "#2a3f5f"
            },
            "baxis": {
             "endlinecolor": "#2a3f5f",
             "gridcolor": "white",
             "linecolor": "white",
             "minorgridcolor": "white",
             "startlinecolor": "#2a3f5f"
            },
            "type": "carpet"
           }
          ],
          "choropleth": [
           {
            "colorbar": {
             "outlinewidth": 0,
             "ticks": ""
            },
            "type": "choropleth"
           }
          ],
          "contour": [
           {
            "colorbar": {
             "outlinewidth": 0,
             "ticks": ""
            },
            "colorscale": [
             [
              0,
              "#0d0887"
             ],
             [
              0.1111111111111111,
              "#46039f"
             ],
             [
              0.2222222222222222,
              "#7201a8"
             ],
             [
              0.3333333333333333,
              "#9c179e"
             ],
             [
              0.4444444444444444,
              "#bd3786"
             ],
             [
              0.5555555555555556,
              "#d8576b"
             ],
             [
              0.6666666666666666,
              "#ed7953"
             ],
             [
              0.7777777777777778,
              "#fb9f3a"
             ],
             [
              0.8888888888888888,
              "#fdca26"
             ],
             [
              1,
              "#f0f921"
             ]
            ],
            "type": "contour"
           }
          ],
          "contourcarpet": [
           {
            "colorbar": {
             "outlinewidth": 0,
             "ticks": ""
            },
            "type": "contourcarpet"
           }
          ],
          "heatmap": [
           {
            "colorbar": {
             "outlinewidth": 0,
             "ticks": ""
            },
            "colorscale": [
             [
              0,
              "#0d0887"
             ],
             [
              0.1111111111111111,
              "#46039f"
             ],
             [
              0.2222222222222222,
              "#7201a8"
             ],
             [
              0.3333333333333333,
              "#9c179e"
             ],
             [
              0.4444444444444444,
              "#bd3786"
             ],
             [
              0.5555555555555556,
              "#d8576b"
             ],
             [
              0.6666666666666666,
              "#ed7953"
             ],
             [
              0.7777777777777778,
              "#fb9f3a"
             ],
             [
              0.8888888888888888,
              "#fdca26"
             ],
             [
              1,
              "#f0f921"
             ]
            ],
            "type": "heatmap"
           }
          ],
          "heatmapgl": [
           {
            "colorbar": {
             "outlinewidth": 0,
             "ticks": ""
            },
            "colorscale": [
             [
              0,
              "#0d0887"
             ],
             [
              0.1111111111111111,
              "#46039f"
             ],
             [
              0.2222222222222222,
              "#7201a8"
             ],
             [
              0.3333333333333333,
              "#9c179e"
             ],
             [
              0.4444444444444444,
              "#bd3786"
             ],
             [
              0.5555555555555556,
              "#d8576b"
             ],
             [
              0.6666666666666666,
              "#ed7953"
             ],
             [
              0.7777777777777778,
              "#fb9f3a"
             ],
             [
              0.8888888888888888,
              "#fdca26"
             ],
             [
              1,
              "#f0f921"
             ]
            ],
            "type": "heatmapgl"
           }
          ],
          "histogram": [
           {
            "marker": {
             "pattern": {
              "fillmode": "overlay",
              "size": 10,
              "solidity": 0.2
             }
            },
            "type": "histogram"
           }
          ],
          "histogram2d": [
           {
            "colorbar": {
             "outlinewidth": 0,
             "ticks": ""
            },
            "colorscale": [
             [
              0,
              "#0d0887"
             ],
             [
              0.1111111111111111,
              "#46039f"
             ],
             [
              0.2222222222222222,
              "#7201a8"
             ],
             [
              0.3333333333333333,
              "#9c179e"
             ],
             [
              0.4444444444444444,
              "#bd3786"
             ],
             [
              0.5555555555555556,
              "#d8576b"
             ],
             [
              0.6666666666666666,
              "#ed7953"
             ],
             [
              0.7777777777777778,
              "#fb9f3a"
             ],
             [
              0.8888888888888888,
              "#fdca26"
             ],
             [
              1,
              "#f0f921"
             ]
            ],
            "type": "histogram2d"
           }
          ],
          "histogram2dcontour": [
           {
            "colorbar": {
             "outlinewidth": 0,
             "ticks": ""
            },
            "colorscale": [
             [
              0,
              "#0d0887"
             ],
             [
              0.1111111111111111,
              "#46039f"
             ],
             [
              0.2222222222222222,
              "#7201a8"
             ],
             [
              0.3333333333333333,
              "#9c179e"
             ],
             [
              0.4444444444444444,
              "#bd3786"
             ],
             [
              0.5555555555555556,
              "#d8576b"
             ],
             [
              0.6666666666666666,
              "#ed7953"
             ],
             [
              0.7777777777777778,
              "#fb9f3a"
             ],
             [
              0.8888888888888888,
              "#fdca26"
             ],
             [
              1,
              "#f0f921"
             ]
            ],
            "type": "histogram2dcontour"
           }
          ],
          "mesh3d": [
           {
            "colorbar": {
             "outlinewidth": 0,
             "ticks": ""
            },
            "type": "mesh3d"
           }
          ],
          "parcoords": [
           {
            "line": {
             "colorbar": {
              "outlinewidth": 0,
              "ticks": ""
             }
            },
            "type": "parcoords"
           }
          ],
          "pie": [
           {
            "automargin": true,
            "type": "pie"
           }
          ],
          "scatter": [
           {
            "fillpattern": {
             "fillmode": "overlay",
             "size": 10,
             "solidity": 0.2
            },
            "type": "scatter"
           }
          ],
          "scatter3d": [
           {
            "line": {
             "colorbar": {
              "outlinewidth": 0,
              "ticks": ""
             }
            },
            "marker": {
             "colorbar": {
              "outlinewidth": 0,
              "ticks": ""
             }
            },
            "type": "scatter3d"
           }
          ],
          "scattercarpet": [
           {
            "marker": {
             "colorbar": {
              "outlinewidth": 0,
              "ticks": ""
             }
            },
            "type": "scattercarpet"
           }
          ],
          "scattergeo": [
           {
            "marker": {
             "colorbar": {
              "outlinewidth": 0,
              "ticks": ""
             }
            },
            "type": "scattergeo"
           }
          ],
          "scattergl": [
           {
            "marker": {
             "colorbar": {
              "outlinewidth": 0,
              "ticks": ""
             }
            },
            "type": "scattergl"
           }
          ],
          "scattermapbox": [
           {
            "marker": {
             "colorbar": {
              "outlinewidth": 0,
              "ticks": ""
             }
            },
            "type": "scattermapbox"
           }
          ],
          "scatterpolar": [
           {
            "marker": {
             "colorbar": {
              "outlinewidth": 0,
              "ticks": ""
             }
            },
            "type": "scatterpolar"
           }
          ],
          "scatterpolargl": [
           {
            "marker": {
             "colorbar": {
              "outlinewidth": 0,
              "ticks": ""
             }
            },
            "type": "scatterpolargl"
           }
          ],
          "scatterternary": [
           {
            "marker": {
             "colorbar": {
              "outlinewidth": 0,
              "ticks": ""
             }
            },
            "type": "scatterternary"
           }
          ],
          "surface": [
           {
            "colorbar": {
             "outlinewidth": 0,
             "ticks": ""
            },
            "colorscale": [
             [
              0,
              "#0d0887"
             ],
             [
              0.1111111111111111,
              "#46039f"
             ],
             [
              0.2222222222222222,
              "#7201a8"
             ],
             [
              0.3333333333333333,
              "#9c179e"
             ],
             [
              0.4444444444444444,
              "#bd3786"
             ],
             [
              0.5555555555555556,
              "#d8576b"
             ],
             [
              0.6666666666666666,
              "#ed7953"
             ],
             [
              0.7777777777777778,
              "#fb9f3a"
             ],
             [
              0.8888888888888888,
              "#fdca26"
             ],
             [
              1,
              "#f0f921"
             ]
            ],
            "type": "surface"
           }
          ],
          "table": [
           {
            "cells": {
             "fill": {
              "color": "#EBF0F8"
             },
             "line": {
              "color": "white"
             }
            },
            "header": {
             "fill": {
              "color": "#C8D4E3"
             },
             "line": {
              "color": "white"
             }
            },
            "type": "table"
           }
          ]
         },
         "layout": {
          "annotationdefaults": {
           "arrowcolor": "#2a3f5f",
           "arrowhead": 0,
           "arrowwidth": 1
          },
          "autotypenumbers": "strict",
          "coloraxis": {
           "colorbar": {
            "outlinewidth": 0,
            "ticks": ""
           }
          },
          "colorscale": {
           "diverging": [
            [
             0,
             "#8e0152"
            ],
            [
             0.1,
             "#c51b7d"
            ],
            [
             0.2,
             "#de77ae"
            ],
            [
             0.3,
             "#f1b6da"
            ],
            [
             0.4,
             "#fde0ef"
            ],
            [
             0.5,
             "#f7f7f7"
            ],
            [
             0.6,
             "#e6f5d0"
            ],
            [
             0.7,
             "#b8e186"
            ],
            [
             0.8,
             "#7fbc41"
            ],
            [
             0.9,
             "#4d9221"
            ],
            [
             1,
             "#276419"
            ]
           ],
           "sequential": [
            [
             0,
             "#0d0887"
            ],
            [
             0.1111111111111111,
             "#46039f"
            ],
            [
             0.2222222222222222,
             "#7201a8"
            ],
            [
             0.3333333333333333,
             "#9c179e"
            ],
            [
             0.4444444444444444,
             "#bd3786"
            ],
            [
             0.5555555555555556,
             "#d8576b"
            ],
            [
             0.6666666666666666,
             "#ed7953"
            ],
            [
             0.7777777777777778,
             "#fb9f3a"
            ],
            [
             0.8888888888888888,
             "#fdca26"
            ],
            [
             1,
             "#f0f921"
            ]
           ],
           "sequentialminus": [
            [
             0,
             "#0d0887"
            ],
            [
             0.1111111111111111,
             "#46039f"
            ],
            [
             0.2222222222222222,
             "#7201a8"
            ],
            [
             0.3333333333333333,
             "#9c179e"
            ],
            [
             0.4444444444444444,
             "#bd3786"
            ],
            [
             0.5555555555555556,
             "#d8576b"
            ],
            [
             0.6666666666666666,
             "#ed7953"
            ],
            [
             0.7777777777777778,
             "#fb9f3a"
            ],
            [
             0.8888888888888888,
             "#fdca26"
            ],
            [
             1,
             "#f0f921"
            ]
           ]
          },
          "colorway": [
           "#636efa",
           "#EF553B",
           "#00cc96",
           "#ab63fa",
           "#FFA15A",
           "#19d3f3",
           "#FF6692",
           "#B6E880",
           "#FF97FF",
           "#FECB52"
          ],
          "font": {
           "color": "#2a3f5f"
          },
          "geo": {
           "bgcolor": "white",
           "lakecolor": "white",
           "landcolor": "#E5ECF6",
           "showlakes": true,
           "showland": true,
           "subunitcolor": "white"
          },
          "hoverlabel": {
           "align": "left"
          },
          "hovermode": "closest",
          "mapbox": {
           "style": "light"
          },
          "paper_bgcolor": "white",
          "plot_bgcolor": "#E5ECF6",
          "polar": {
           "angularaxis": {
            "gridcolor": "white",
            "linecolor": "white",
            "ticks": ""
           },
           "bgcolor": "#E5ECF6",
           "radialaxis": {
            "gridcolor": "white",
            "linecolor": "white",
            "ticks": ""
           }
          },
          "scene": {
           "xaxis": {
            "backgroundcolor": "#E5ECF6",
            "gridcolor": "white",
            "gridwidth": 2,
            "linecolor": "white",
            "showbackground": true,
            "ticks": "",
            "zerolinecolor": "white"
           },
           "yaxis": {
            "backgroundcolor": "#E5ECF6",
            "gridcolor": "white",
            "gridwidth": 2,
            "linecolor": "white",
            "showbackground": true,
            "ticks": "",
            "zerolinecolor": "white"
           },
           "zaxis": {
            "backgroundcolor": "#E5ECF6",
            "gridcolor": "white",
            "gridwidth": 2,
            "linecolor": "white",
            "showbackground": true,
            "ticks": "",
            "zerolinecolor": "white"
           }
          },
          "shapedefaults": {
           "line": {
            "color": "#2a3f5f"
           }
          },
          "ternary": {
           "aaxis": {
            "gridcolor": "white",
            "linecolor": "white",
            "ticks": ""
           },
           "baxis": {
            "gridcolor": "white",
            "linecolor": "white",
            "ticks": ""
           },
           "bgcolor": "#E5ECF6",
           "caxis": {
            "gridcolor": "white",
            "linecolor": "white",
            "ticks": ""
           }
          },
          "title": {
           "x": 0.05
          },
          "xaxis": {
           "automargin": true,
           "gridcolor": "white",
           "linecolor": "white",
           "ticks": "",
           "title": {
            "standoff": 15
           },
           "zerolinecolor": "white",
           "zerolinewidth": 2
          },
          "yaxis": {
           "automargin": true,
           "gridcolor": "white",
           "linecolor": "white",
           "ticks": "",
           "title": {
            "standoff": 15
           },
           "zerolinecolor": "white",
           "zerolinewidth": 2
          }
         }
        },
        "title": {
         "text": "Distribution of Property Prices (Before Outlier Removal)"
        },
        "xaxis": {
         "anchor": "y",
         "domain": [
          0,
          1
         ],
         "title": {
          "text": "Price"
         }
        },
        "yaxis": {
         "anchor": "x",
         "domain": [
          0,
          1
         ],
         "title": {
          "text": "count"
         }
        }
       }
      }
     },
     "metadata": {},
     "output_type": "display_data"
    }
   ],
   "source": [
    "# Plot price distribution before removing outliers\n",
    "px.histogram(data1, x='Price', nbins=50, title='Distribution of Property Prices (Before Outlier Removal)')\n"
   ]
  },
  {
   "cell_type": "code",
   "execution_count": 25,
   "metadata": {},
   "outputs": [
    {
     "data": {
      "application/vnd.plotly.v1+json": {
       "config": {
        "plotlyServerURL": "https://plot.ly"
       },
       "data": [
        {
         "alignmentgroup": "True",
         "bingroup": "x",
         "hovertemplate": "Price=%{x}<br>count=%{y}<extra></extra>",
         "legendgroup": "",
         "marker": {
          "color": "#636efa",
          "pattern": {
           "shape": ""
          }
         },
         "name": "",
         "nbinsx": 50,
         "offsetgroup": "",
         "orientation": "v",
         "showlegend": false,
         "type": "histogram",
         "x": [
          2600000,
          14500000,
          500000,
          960000,
          1100000,
          3000000,
          1600000,
          2300000,
          380000,
          600000,
          4200000,
          9700000,
          5700000,
          680000,
          850000,
          680000,
          1800000150000,
          510000,
          510000,
          13000000,
          460000,
          1950000,
          620000,
          770000,
          520000,
          570000,
          700000,
          630000,
          500000,
          4600000,
          420000,
          3200000,
          3000000,
          4800000,
          10500000,
          1600000,
          5900000,
          1550000,
          7800000,
          5966666.666666667,
          1900000,
          2500000,
          9000000,
          3500000,
          2500000,
          4400000,
          2450000,
          12000000,
          3000000,
          5300000,
          2000000,
          4800000,
          6800000,
          1250000,
          2950000,
          3700000,
          2900000,
          3700000,
          680000,
          1500000,
          2600000,
          860000,
          1320000,
          1320000,
          2900000,
          1200000,
          840000,
          800000,
          1200000,
          3400000,
          1700000,
          1357000,
          1800000,
          560000,
          960000,
          1250000,
          380000,
          560000,
          960000,
          1170000,
          4800000,
          1900000,
          2960000,
          1800000,
          550000,
          1100000,
          1150000,
          1100000,
          800000,
          560000,
          650000,
          770000,
          1000000,
          590000,
          1030000,
          4900000,
          3250000,
          900000,
          4500000,
          1750000,
          900000,
          2750000,
          2000000,
          4500000,
          3000000,
          1750000,
          590000,
          4800000,
          928571.4285714284,
          3900000,
          680000,
          800000,
          740000,
          660000,
          2850000,
          1600000,
          2000000,
          3300000,
          3200000,
          16000000,
          4500000,
          900000,
          900000,
          7500000,
          4600000,
          5700000,
          880000,
          1480000,
          3500000,
          2600000,
          660000,
          780000,
          1300000,
          881666.6666666666,
          3400000,
          434000,
          3800000,
          885000,
          700000,
          850000,
          670000,
          420000,
          670000,
          9525000,
          2500000,
          1900000,
          880000,
          3400000,
          1250000,
          530000,
          1860000,
          670000,
          1400000,
          4900000,
          2400000,
          1600000,
          1333333.3333333333,
          891750,
          600000,
          900000,
          780000,
          950000,
          885000,
          3600000,
          3300000,
          750000,
          2800000,
          680000,
          8500000,
          475000,
          3000000,
          1500000,
          650000,
          788369.2307692308,
          4550000,
          950000,
          1700000,
          1387500,
          3800000,
          1340000,
          2950000,
          570000,
          2590000,
          490000,
          1000000,
          350000,
          3200000,
          380000,
          860000,
          635000,
          420000,
          460000,
          570000,
          450000,
          968000,
          630000,
          300000,
          760000,
          750000,
          1750000,
          2400000,
          6500000,
          2600000,
          2700000,
          1700000,
          2000000,
          1200000,
          900000,
          5700000,
          630000,
          2800000,
          1500000,
          1700000,
          6500000,
          1245000,
          800000,
          620000,
          900000,
          850000,
          520000,
          1650000,
          1300000,
          2000000,
          1440000,
          1600000,
          2800000,
          1200000,
          1650000,
          1307000,
          900000,
          770000,
          1100000,
          1000000,
          2600000,
          860000,
          2200000,
          3800000,
          800000,
          1530000,
          1500000,
          700000,
          725533.3333333334,
          950000,
          1750000,
          2600000,
          440000,
          935000,
          530000,
          1800000,
          540000,
          1400000,
          2800000,
          420000,
          560000,
          1300000,
          840000,
          780000,
          2800000,
          2400000,
          1200000,
          1400000,
          1000000,
          750000,
          2500000,
          840000,
          580000,
          2000000,
          2900000,
          1230000,
          4500000,
          1450000,
          2200000,
          770000,
          1100000,
          1460000,
          1400000,
          880000,
          620000,
          1650000,
          4416666.666666667,
          1450000,
          680000,
          2100000,
          5522847.222222222,
          490000,
          1250000,
          1370000,
          660000,
          2240000,
          2800000,
          1305500,
          600000,
          1300000,
          1650000,
          1400000,
          650000,
          1950000,
          900000,
          1500000,
          3600000,
          380000,
          670000,
          400000,
          5200000,
          3200000,
          4140000,
          3500000,
          2600000,
          1150000,
          520000,
          3600000,
          560000,
          950000,
          1300000,
          750000,
          2100000,
          3000000,
          1500000,
          3300000,
          1500000,
          1500000,
          1500000,
          1150000,
          670000,
          880000,
          1500000,
          2300000,
          1650000,
          520000,
          3246000,
          350000,
          850000,
          510000,
          4880000,
          560000,
          840000,
          1600000,
          490000,
          750000,
          760000,
          1600000,
          980000,
          587250,
          46158363717.94872,
          390000,
          1300000,
          1600000,
          850000,
          2300000,
          900000,
          527000,
          100000,
          5000000,
          2430000,
          640000,
          1900000,
          1400000000,
          500000,
          800000,
          1200000,
          1950000,
          3566666.6666666665,
          500000,
          530000,
          1000000,
          2000000,
          960000,
          750000,
          440000,
          1600000,
          2960000,
          10000000,
          2650000,
          1700000,
          1700000,
          1050000,
          1250000,
          5970000,
          690000,
          1130000,
          550000,
          950000,
          1500000,
          1110000,
          3000000,
          1500000,
          1900000,
          650000,
          2425000,
          3100000,
          950000,
          5522847.222222222,
          930000,
          950000,
          600000,
          5522847.222222222,
          1550000,
          2600000,
          2200000,
          9500000,
          400000,
          587250,
          4800000,
          1400000,
          1350000,
          800000,
          8500000,
          1200000,
          2000000,
          550000,
          720000,
          32500000,
          1372500,
          520000,
          680000,
          1650000,
          2300000,
          770000,
          6000000,
          540000,
          6800000,
          881666.6666666666,
          1700000,
          800000,
          340000,
          2200000,
          710000,
          4000000,
          850000,
          400000,
          3100000,
          850000,
          960000,
          1580000,
          500000,
          3800000,
          1800000,
          530000,
          630000,
          4800000,
          910000,
          180000,
          520000,
          230000,
          1200000,
          6500000,
          560000,
          640000,
          15000,
          1900000,
          700000,
          1000000,
          360000,
          880000,
          550000,
          2500000,
          760000,
          490000,
          14000000,
          420000,
          520000,
          380000,
          1225287.5,
          575000,
          120000,
          600000,
          2950000,
          320000,
          350000,
          850000,
          980000,
          1500000,
          9200000,
          4900000,
          4450000,
          2800000,
          380000,
          480000,
          8500000,
          700000,
          420000,
          1000000,
          643000,
          500000,
          583333.3333333334,
          643000,
          795500,
          540000,
          2800000,
          4600000,
          1500000,
          4500000,
          1370000,
          950000,
          2200000,
          900000,
          660000,
          480000,
          510000,
          3000000,
          4800000,
          1128500,
          2750000,
          980000,
          1600000,
          560000,
          600000,
          460000,
          450000,
          890000,
          420000,
          3200000,
          1966666.6666666667,
          625000,
          1100000,
          1000000,
          700000,
          1450000,
          6500000,
          4140000,
          3000000,
          2600000,
          1380000,
          900000,
          800000,
          1350000,
          590000,
          1900000,
          1000000,
          500000,
          6400000,
          580000,
          900000,
          1700000,
          680000,
          583913.0434782609,
          1545000,
          640000,
          1070000,
          630000,
          1490000,
          680000,
          1200000,
          2100000,
          1600000,
          520000,
          790000,
          4140000,
          5522847.222222222,
          1100000,
          4800000,
          2800000,
          2750000,
          1675000,
          625000,
          1000000,
          5522847.222222222,
          7600000,
          2000000,
          600000,
          930000,
          620000,
          800000,
          450000,
          450000,
          1450000,
          950000,
          530000,
          510000,
          350000,
          420000,
          310000,
          1300000,
          980000,
          660000,
          580000,
          1900000,
          1600000,
          800000,
          3200000,
          510000,
          751600,
          490000,
          270000,
          650000,
          1050900,
          1600000,
          840000,
          7500000,
          380000,
          1225287.5,
          1400000,
          650000,
          610000,
          748800,
          900000,
          430000,
          430000,
          700000,
          3500000,
          2100000,
          1300000,
          1250000,
          330000,
          435000,
          1800000,
          1700000,
          3400000,
          1500000,
          750000,
          1450000,
          1300000,
          650000,
          1000000,
          340000,
          730000,
          1950000,
          960000,
          2200000,
          3900000,
          750000,
          1800000,
          800000,
          1550000,
          650000,
          1500000,
          2150000,
          3100000,
          67000000,
          900000,
          2000000,
          520000,
          650000,
          36500,
          880000,
          1850000,
          814000,
          900000,
          480000,
          490000,
          750000,
          340000,
          1250000,
          1250000,
          1150000,
          3400000,
          460000,
          480000,
          920000,
          630000,
          1200000,
          85000000,
          430000,
          380000,
          920000,
          924000,
          580000,
          510000,
          1040000,
          450000,
          600000,
          1700000,
          610000,
          980000,
          970000,
          1000000,
          630000,
          5500000,
          1150000,
          470000,
          2200000,
          950000,
          840000,
          850000,
          28000000,
          33875000,
          670000,
          1060000,
          1716000,
          650000,
          775000,
          1050000,
          490000,
          2600000,
          225000,
          600000,
          920000,
          900000,
          4000000,
          450000,
          630000,
          2600000,
          1800000,
          1150000,
          1800000
         ],
         "xaxis": "x",
         "yaxis": "y"
        }
       ],
       "layout": {
        "barmode": "relative",
        "legend": {
         "tracegroupgap": 0
        },
        "template": {
         "data": {
          "bar": [
           {
            "error_x": {
             "color": "#2a3f5f"
            },
            "error_y": {
             "color": "#2a3f5f"
            },
            "marker": {
             "line": {
              "color": "#E5ECF6",
              "width": 0.5
             },
             "pattern": {
              "fillmode": "overlay",
              "size": 10,
              "solidity": 0.2
             }
            },
            "type": "bar"
           }
          ],
          "barpolar": [
           {
            "marker": {
             "line": {
              "color": "#E5ECF6",
              "width": 0.5
             },
             "pattern": {
              "fillmode": "overlay",
              "size": 10,
              "solidity": 0.2
             }
            },
            "type": "barpolar"
           }
          ],
          "carpet": [
           {
            "aaxis": {
             "endlinecolor": "#2a3f5f",
             "gridcolor": "white",
             "linecolor": "white",
             "minorgridcolor": "white",
             "startlinecolor": "#2a3f5f"
            },
            "baxis": {
             "endlinecolor": "#2a3f5f",
             "gridcolor": "white",
             "linecolor": "white",
             "minorgridcolor": "white",
             "startlinecolor": "#2a3f5f"
            },
            "type": "carpet"
           }
          ],
          "choropleth": [
           {
            "colorbar": {
             "outlinewidth": 0,
             "ticks": ""
            },
            "type": "choropleth"
           }
          ],
          "contour": [
           {
            "colorbar": {
             "outlinewidth": 0,
             "ticks": ""
            },
            "colorscale": [
             [
              0,
              "#0d0887"
             ],
             [
              0.1111111111111111,
              "#46039f"
             ],
             [
              0.2222222222222222,
              "#7201a8"
             ],
             [
              0.3333333333333333,
              "#9c179e"
             ],
             [
              0.4444444444444444,
              "#bd3786"
             ],
             [
              0.5555555555555556,
              "#d8576b"
             ],
             [
              0.6666666666666666,
              "#ed7953"
             ],
             [
              0.7777777777777778,
              "#fb9f3a"
             ],
             [
              0.8888888888888888,
              "#fdca26"
             ],
             [
              1,
              "#f0f921"
             ]
            ],
            "type": "contour"
           }
          ],
          "contourcarpet": [
           {
            "colorbar": {
             "outlinewidth": 0,
             "ticks": ""
            },
            "type": "contourcarpet"
           }
          ],
          "heatmap": [
           {
            "colorbar": {
             "outlinewidth": 0,
             "ticks": ""
            },
            "colorscale": [
             [
              0,
              "#0d0887"
             ],
             [
              0.1111111111111111,
              "#46039f"
             ],
             [
              0.2222222222222222,
              "#7201a8"
             ],
             [
              0.3333333333333333,
              "#9c179e"
             ],
             [
              0.4444444444444444,
              "#bd3786"
             ],
             [
              0.5555555555555556,
              "#d8576b"
             ],
             [
              0.6666666666666666,
              "#ed7953"
             ],
             [
              0.7777777777777778,
              "#fb9f3a"
             ],
             [
              0.8888888888888888,
              "#fdca26"
             ],
             [
              1,
              "#f0f921"
             ]
            ],
            "type": "heatmap"
           }
          ],
          "heatmapgl": [
           {
            "colorbar": {
             "outlinewidth": 0,
             "ticks": ""
            },
            "colorscale": [
             [
              0,
              "#0d0887"
             ],
             [
              0.1111111111111111,
              "#46039f"
             ],
             [
              0.2222222222222222,
              "#7201a8"
             ],
             [
              0.3333333333333333,
              "#9c179e"
             ],
             [
              0.4444444444444444,
              "#bd3786"
             ],
             [
              0.5555555555555556,
              "#d8576b"
             ],
             [
              0.6666666666666666,
              "#ed7953"
             ],
             [
              0.7777777777777778,
              "#fb9f3a"
             ],
             [
              0.8888888888888888,
              "#fdca26"
             ],
             [
              1,
              "#f0f921"
             ]
            ],
            "type": "heatmapgl"
           }
          ],
          "histogram": [
           {
            "marker": {
             "pattern": {
              "fillmode": "overlay",
              "size": 10,
              "solidity": 0.2
             }
            },
            "type": "histogram"
           }
          ],
          "histogram2d": [
           {
            "colorbar": {
             "outlinewidth": 0,
             "ticks": ""
            },
            "colorscale": [
             [
              0,
              "#0d0887"
             ],
             [
              0.1111111111111111,
              "#46039f"
             ],
             [
              0.2222222222222222,
              "#7201a8"
             ],
             [
              0.3333333333333333,
              "#9c179e"
             ],
             [
              0.4444444444444444,
              "#bd3786"
             ],
             [
              0.5555555555555556,
              "#d8576b"
             ],
             [
              0.6666666666666666,
              "#ed7953"
             ],
             [
              0.7777777777777778,
              "#fb9f3a"
             ],
             [
              0.8888888888888888,
              "#fdca26"
             ],
             [
              1,
              "#f0f921"
             ]
            ],
            "type": "histogram2d"
           }
          ],
          "histogram2dcontour": [
           {
            "colorbar": {
             "outlinewidth": 0,
             "ticks": ""
            },
            "colorscale": [
             [
              0,
              "#0d0887"
             ],
             [
              0.1111111111111111,
              "#46039f"
             ],
             [
              0.2222222222222222,
              "#7201a8"
             ],
             [
              0.3333333333333333,
              "#9c179e"
             ],
             [
              0.4444444444444444,
              "#bd3786"
             ],
             [
              0.5555555555555556,
              "#d8576b"
             ],
             [
              0.6666666666666666,
              "#ed7953"
             ],
             [
              0.7777777777777778,
              "#fb9f3a"
             ],
             [
              0.8888888888888888,
              "#fdca26"
             ],
             [
              1,
              "#f0f921"
             ]
            ],
            "type": "histogram2dcontour"
           }
          ],
          "mesh3d": [
           {
            "colorbar": {
             "outlinewidth": 0,
             "ticks": ""
            },
            "type": "mesh3d"
           }
          ],
          "parcoords": [
           {
            "line": {
             "colorbar": {
              "outlinewidth": 0,
              "ticks": ""
             }
            },
            "type": "parcoords"
           }
          ],
          "pie": [
           {
            "automargin": true,
            "type": "pie"
           }
          ],
          "scatter": [
           {
            "fillpattern": {
             "fillmode": "overlay",
             "size": 10,
             "solidity": 0.2
            },
            "type": "scatter"
           }
          ],
          "scatter3d": [
           {
            "line": {
             "colorbar": {
              "outlinewidth": 0,
              "ticks": ""
             }
            },
            "marker": {
             "colorbar": {
              "outlinewidth": 0,
              "ticks": ""
             }
            },
            "type": "scatter3d"
           }
          ],
          "scattercarpet": [
           {
            "marker": {
             "colorbar": {
              "outlinewidth": 0,
              "ticks": ""
             }
            },
            "type": "scattercarpet"
           }
          ],
          "scattergeo": [
           {
            "marker": {
             "colorbar": {
              "outlinewidth": 0,
              "ticks": ""
             }
            },
            "type": "scattergeo"
           }
          ],
          "scattergl": [
           {
            "marker": {
             "colorbar": {
              "outlinewidth": 0,
              "ticks": ""
             }
            },
            "type": "scattergl"
           }
          ],
          "scattermapbox": [
           {
            "marker": {
             "colorbar": {
              "outlinewidth": 0,
              "ticks": ""
             }
            },
            "type": "scattermapbox"
           }
          ],
          "scatterpolar": [
           {
            "marker": {
             "colorbar": {
              "outlinewidth": 0,
              "ticks": ""
             }
            },
            "type": "scatterpolar"
           }
          ],
          "scatterpolargl": [
           {
            "marker": {
             "colorbar": {
              "outlinewidth": 0,
              "ticks": ""
             }
            },
            "type": "scatterpolargl"
           }
          ],
          "scatterternary": [
           {
            "marker": {
             "colorbar": {
              "outlinewidth": 0,
              "ticks": ""
             }
            },
            "type": "scatterternary"
           }
          ],
          "surface": [
           {
            "colorbar": {
             "outlinewidth": 0,
             "ticks": ""
            },
            "colorscale": [
             [
              0,
              "#0d0887"
             ],
             [
              0.1111111111111111,
              "#46039f"
             ],
             [
              0.2222222222222222,
              "#7201a8"
             ],
             [
              0.3333333333333333,
              "#9c179e"
             ],
             [
              0.4444444444444444,
              "#bd3786"
             ],
             [
              0.5555555555555556,
              "#d8576b"
             ],
             [
              0.6666666666666666,
              "#ed7953"
             ],
             [
              0.7777777777777778,
              "#fb9f3a"
             ],
             [
              0.8888888888888888,
              "#fdca26"
             ],
             [
              1,
              "#f0f921"
             ]
            ],
            "type": "surface"
           }
          ],
          "table": [
           {
            "cells": {
             "fill": {
              "color": "#EBF0F8"
             },
             "line": {
              "color": "white"
             }
            },
            "header": {
             "fill": {
              "color": "#C8D4E3"
             },
             "line": {
              "color": "white"
             }
            },
            "type": "table"
           }
          ]
         },
         "layout": {
          "annotationdefaults": {
           "arrowcolor": "#2a3f5f",
           "arrowhead": 0,
           "arrowwidth": 1
          },
          "autotypenumbers": "strict",
          "coloraxis": {
           "colorbar": {
            "outlinewidth": 0,
            "ticks": ""
           }
          },
          "colorscale": {
           "diverging": [
            [
             0,
             "#8e0152"
            ],
            [
             0.1,
             "#c51b7d"
            ],
            [
             0.2,
             "#de77ae"
            ],
            [
             0.3,
             "#f1b6da"
            ],
            [
             0.4,
             "#fde0ef"
            ],
            [
             0.5,
             "#f7f7f7"
            ],
            [
             0.6,
             "#e6f5d0"
            ],
            [
             0.7,
             "#b8e186"
            ],
            [
             0.8,
             "#7fbc41"
            ],
            [
             0.9,
             "#4d9221"
            ],
            [
             1,
             "#276419"
            ]
           ],
           "sequential": [
            [
             0,
             "#0d0887"
            ],
            [
             0.1111111111111111,
             "#46039f"
            ],
            [
             0.2222222222222222,
             "#7201a8"
            ],
            [
             0.3333333333333333,
             "#9c179e"
            ],
            [
             0.4444444444444444,
             "#bd3786"
            ],
            [
             0.5555555555555556,
             "#d8576b"
            ],
            [
             0.6666666666666666,
             "#ed7953"
            ],
            [
             0.7777777777777778,
             "#fb9f3a"
            ],
            [
             0.8888888888888888,
             "#fdca26"
            ],
            [
             1,
             "#f0f921"
            ]
           ],
           "sequentialminus": [
            [
             0,
             "#0d0887"
            ],
            [
             0.1111111111111111,
             "#46039f"
            ],
            [
             0.2222222222222222,
             "#7201a8"
            ],
            [
             0.3333333333333333,
             "#9c179e"
            ],
            [
             0.4444444444444444,
             "#bd3786"
            ],
            [
             0.5555555555555556,
             "#d8576b"
            ],
            [
             0.6666666666666666,
             "#ed7953"
            ],
            [
             0.7777777777777778,
             "#fb9f3a"
            ],
            [
             0.8888888888888888,
             "#fdca26"
            ],
            [
             1,
             "#f0f921"
            ]
           ]
          },
          "colorway": [
           "#636efa",
           "#EF553B",
           "#00cc96",
           "#ab63fa",
           "#FFA15A",
           "#19d3f3",
           "#FF6692",
           "#B6E880",
           "#FF97FF",
           "#FECB52"
          ],
          "font": {
           "color": "#2a3f5f"
          },
          "geo": {
           "bgcolor": "white",
           "lakecolor": "white",
           "landcolor": "#E5ECF6",
           "showlakes": true,
           "showland": true,
           "subunitcolor": "white"
          },
          "hoverlabel": {
           "align": "left"
          },
          "hovermode": "closest",
          "mapbox": {
           "style": "light"
          },
          "paper_bgcolor": "white",
          "plot_bgcolor": "#E5ECF6",
          "polar": {
           "angularaxis": {
            "gridcolor": "white",
            "linecolor": "white",
            "ticks": ""
           },
           "bgcolor": "#E5ECF6",
           "radialaxis": {
            "gridcolor": "white",
            "linecolor": "white",
            "ticks": ""
           }
          },
          "scene": {
           "xaxis": {
            "backgroundcolor": "#E5ECF6",
            "gridcolor": "white",
            "gridwidth": 2,
            "linecolor": "white",
            "showbackground": true,
            "ticks": "",
            "zerolinecolor": "white"
           },
           "yaxis": {
            "backgroundcolor": "#E5ECF6",
            "gridcolor": "white",
            "gridwidth": 2,
            "linecolor": "white",
            "showbackground": true,
            "ticks": "",
            "zerolinecolor": "white"
           },
           "zaxis": {
            "backgroundcolor": "#E5ECF6",
            "gridcolor": "white",
            "gridwidth": 2,
            "linecolor": "white",
            "showbackground": true,
            "ticks": "",
            "zerolinecolor": "white"
           }
          },
          "shapedefaults": {
           "line": {
            "color": "#2a3f5f"
           }
          },
          "ternary": {
           "aaxis": {
            "gridcolor": "white",
            "linecolor": "white",
            "ticks": ""
           },
           "baxis": {
            "gridcolor": "white",
            "linecolor": "white",
            "ticks": ""
           },
           "bgcolor": "#E5ECF6",
           "caxis": {
            "gridcolor": "white",
            "linecolor": "white",
            "ticks": ""
           }
          },
          "title": {
           "x": 0.05
          },
          "xaxis": {
           "automargin": true,
           "gridcolor": "white",
           "linecolor": "white",
           "ticks": "",
           "title": {
            "standoff": 15
           },
           "zerolinecolor": "white",
           "zerolinewidth": 2
          },
          "yaxis": {
           "automargin": true,
           "gridcolor": "white",
           "linecolor": "white",
           "ticks": "",
           "title": {
            "standoff": 15
           },
           "zerolinecolor": "white",
           "zerolinewidth": 2
          }
         }
        },
        "title": {
         "text": "Distribution of Property Prices (After Outlier Removal)"
        },
        "xaxis": {
         "anchor": "y",
         "domain": [
          0,
          1
         ],
         "title": {
          "text": "Price"
         }
        },
        "yaxis": {
         "anchor": "x",
         "domain": [
          0,
          1
         ],
         "title": {
          "text": "count"
         }
        }
       }
      }
     },
     "metadata": {},
     "output_type": "display_data"
    }
   ],
   "source": [
    "\n",
    "# Plot price distribution after removing outliers\n",
    "px.histogram(cleaned_data, x='Price', nbins=50, title='Distribution of Property Prices (After Outlier Removal)')"
   ]
  },
  {
   "cell_type": "code",
   "execution_count": 26,
   "metadata": {},
   "outputs": [
    {
     "data": {
      "application/vnd.plotly.v1+json": {
       "config": {
        "plotlyServerURL": "https://plot.ly"
       },
       "data": [
        {
         "hovertemplate": "Type=Appartement<br>Area=%{x}<br>Price=%{y}<extra></extra>",
         "legendgroup": "Appartement",
         "marker": {
          "color": "#636efa",
          "symbol": "circle"
         },
         "mode": "markers",
         "name": "Appartement",
         "orientation": "v",
         "showlegend": true,
         "type": "scatter",
         "x": [
          100,
          50,
          101,
          56,
          64,
          432,
          65,
          77,
          71,
          52,
          50,
          60,
          172,
          68,
          72,
          80,
          60,
          67,
          80,
          50,
          83,
          243,
          100,
          91,
          184,
          125,
          160,
          105,
          128,
          134,
          58,
          94,
          162,
          81,
          78,
          93,
          86,
          146,
          89,
          192,
          52,
          96,
          52,
          100,
          109,
          137,
          80,
          60,
          71,
          89,
          105,
          50,
          64,
          70,
          72,
          105,
          72,
          79,
          150,
          150,
          96,
          101,
          128,
          173,
          72,
          81,
          128,
          84,
          70,
          60,
          135,
          78,
          280,
          100,
          107,
          84,
          260,
          62,
          94,
          55,
          70,
          80,
          60,
          71,
          66,
          93,
          94,
          50,
          75,
          88,
          114,
          52,
          154,
          64,
          95,
          120,
          98,
          127,
          60,
          76,
          80,
          125,
          60,
          56,
          170,
          64,
          68,
          68,
          60,
          110,
          111,
          114,
          61,
          47,
          50,
          52,
          52,
          81,
          100,
          54,
          64,
          60,
          52,
          94,
          60,
          60,
          67,
          80,
          175,
          120,
          83,
          58,
          186,
          94,
          94,
          83,
          72,
          68,
          76,
          94,
          64,
          97,
          112,
          85,
          78,
          85,
          82,
          113,
          83,
          73,
          72,
          100,
          107,
          74,
          93,
          95,
          120,
          65,
          85,
          74,
          64,
          117,
          57,
          100,
          180,
          103,
          84,
          105,
          94,
          121,
          70,
          93,
          75,
          85,
          96,
          73,
          100,
          130,
          80,
          61,
          110,
          77,
          50,
          98,
          161,
          100,
          140,
          125,
          77,
          60,
          96,
          122,
          195,
          60,
          150,
          98,
          94,
          50,
          110,
          54,
          60,
          123,
          54,
          60,
          92,
          78,
          66,
          135,
          100,
          113,
          126,
          123,
          100,
          64,
          88,
          121,
          125,
          124,
          74,
          108,
          50,
          72,
          49,
          65,
          88,
          56,
          160,
          67,
          100,
          102,
          60,
          60,
          90,
          82,
          77,
          100,
          61,
          64,
          235,
          70,
          70,
          75,
          91,
          132,
          48,
          60,
          119,
          101,
          85,
          55,
          124,
          102,
          156,
          115,
          250,
          78,
          60,
          105,
          112,
          88,
          116,
          66,
          112,
          145,
          80,
          81,
          90,
          66,
          107,
          120,
          70,
          85,
          105,
          87,
          60,
          60,
          96,
          70,
          60,
          96,
          76,
          63,
          82,
          98,
          64,
          68,
          90,
          80,
          50,
          78,
          104,
          117,
          54,
          211,
          70,
          67,
          95,
          150,
          60,
          128,
          140,
          68,
          62,
          113,
          70,
          70,
          49,
          88,
          71,
          112,
          60,
          52,
          74,
          92,
          94,
          66,
          118,
          60,
          50,
          70,
          100,
          85,
          122,
          150,
          64,
          58,
          72,
          58,
          70,
          112,
          54,
          64,
          112,
          131,
          60,
          110,
          240,
          95,
          120,
          87,
          75,
          80,
          70,
          172,
          75,
          110,
          200,
          64,
          65,
          46,
          110,
          95,
          150,
          200,
          78,
          133,
          117,
          78,
          54,
          97,
          114,
          75,
          99,
          60,
          70,
          64,
          82,
          70,
          131,
          66,
          100,
          65,
          136,
          65,
          78,
          126,
          58,
          62,
          54,
          118,
          116,
          134,
          78,
          71,
          72,
          94,
          61,
          60,
          52,
          69,
          114,
          62,
          60,
          54,
          54,
          54,
          135,
          86,
          62,
          55,
          82,
          50,
          75,
          64,
          113,
          152,
          102,
          56,
          89,
          122,
          65,
          62,
          96,
          90,
          58,
          60,
          65,
          85,
          91,
          55,
          55,
          151,
          100,
          112,
          98,
          55,
          109,
          44,
          74,
          120,
          137,
          62,
          93,
          62,
          121,
          147,
          65,
          110,
          191,
          75,
          73,
          50,
          80,
          107,
          56,
          96,
          68,
          58,
          80,
          55,
          88,
          93,
          126,
          58,
          97,
          64,
          82,
          49,
          76,
          84,
          47,
          56,
          102,
          61,
          60,
          88,
          94,
          96,
          90.64609800362976,
          70,
          167,
          56,
          90.64609800362976,
          81,
          87,
          130,
          76,
          60,
          64,
          134,
          70,
          62,
          35,
          90,
          64,
          86,
          73,
          45,
          64,
          123
         ],
         "xaxis": "x",
         "y": [
          2600000,
          500000,
          1100000,
          380000,
          600000,
          4200000,
          680000,
          850000,
          680000,
          510000,
          510000,
          460000,
          1950000,
          620000,
          770000,
          520000,
          570000,
          700000,
          630000,
          420000,
          1600000,
          5900000,
          1550000,
          1900000,
          2500000,
          2500000,
          2450000,
          1250000,
          2950000,
          3700000,
          680000,
          1500000,
          2600000,
          860000,
          840000,
          800000,
          1200000,
          3400000,
          1700000,
          1357000,
          560000,
          960000,
          380000,
          560000,
          1170000,
          1900000,
          1800000,
          550000,
          1100000,
          1150000,
          1100000,
          800000,
          560000,
          650000,
          770000,
          1000000,
          590000,
          1030000,
          3250000,
          900000,
          1750000,
          900000,
          2750000,
          1750000,
          590000,
          928571.4285714284,
          680000,
          800000,
          740000,
          660000,
          2850000,
          2000000,
          3200000,
          900000,
          900000,
          7500000,
          4600000,
          880000,
          1480000,
          660000,
          780000,
          881666.6666666666,
          434000,
          885000,
          700000,
          850000,
          670000,
          420000,
          670000,
          880000,
          1250000,
          530000,
          1860000,
          670000,
          1400000,
          1600000,
          1333333.3333333333,
          891750,
          600000,
          900000,
          780000,
          950000,
          885000,
          750000,
          2800000,
          680000,
          475000,
          650000,
          788369.2307692308,
          950000,
          1387500,
          1340000,
          570000,
          2590000,
          490000,
          350000,
          380000,
          860000,
          635000,
          420000,
          460000,
          570000,
          450000,
          968000,
          630000,
          300000,
          760000,
          750000,
          1750000,
          2000000,
          1200000,
          630000,
          2800000,
          1500000,
          1700000,
          1245000,
          800000,
          620000,
          900000,
          850000,
          520000,
          1440000,
          2800000,
          1200000,
          1307000,
          900000,
          770000,
          1100000,
          1000000,
          860000,
          800000,
          1530000,
          1500000,
          700000,
          950000,
          1750000,
          2600000,
          440000,
          935000,
          530000,
          540000,
          2800000,
          420000,
          560000,
          1300000,
          840000,
          780000,
          1200000,
          1400000,
          1000000,
          750000,
          840000,
          580000,
          1230000,
          1450000,
          770000,
          1100000,
          1460000,
          880000,
          620000,
          1650000,
          680000,
          490000,
          1250000,
          1370000,
          660000,
          2240000,
          2800000,
          1305500,
          600000,
          1300000,
          1650000,
          1400000,
          650000,
          1950000,
          900000,
          1500000,
          380000,
          670000,
          400000,
          4140000,
          1150000,
          520000,
          560000,
          950000,
          750000,
          2100000,
          3000000,
          1500000,
          3300000,
          1500000,
          1500000,
          1150000,
          670000,
          880000,
          1500000,
          2300000,
          1650000,
          520000,
          3246000,
          350000,
          850000,
          510000,
          560000,
          840000,
          490000,
          750000,
          760000,
          1600000,
          980000,
          587250,
          390000,
          1300000,
          850000,
          2300000,
          900000,
          527000,
          100000,
          5000000,
          640000,
          1900000,
          800000,
          1200000,
          1950000,
          500000,
          530000,
          1000000,
          960000,
          750000,
          440000,
          1700000,
          1050000,
          1250000,
          5970000,
          690000,
          1130000,
          550000,
          950000,
          1500000,
          1110000,
          1500000,
          1900000,
          650000,
          2425000,
          950000,
          930000,
          950000,
          600000,
          1550000,
          2600000,
          400000,
          587250,
          1350000,
          800000,
          550000,
          720000,
          1372500,
          520000,
          680000,
          1650000,
          770000,
          540000,
          881666.6666666666,
          1700000,
          800000,
          340000,
          710000,
          850000,
          400000,
          850000,
          960000,
          1580000,
          500000,
          1800000,
          530000,
          630000,
          910000,
          180000,
          520000,
          230000,
          1200000,
          560000,
          640000,
          15000,
          700000,
          1000000,
          360000,
          880000,
          550000,
          760000,
          490000,
          420000,
          520000,
          380000,
          1225287.5,
          575000,
          120000,
          600000,
          320000,
          350000,
          850000,
          980000,
          1500000,
          4450000,
          380000,
          480000,
          700000,
          420000,
          1000000,
          643000,
          500000,
          583333.3333333334,
          643000,
          795500,
          540000,
          1500000,
          4500000,
          950000,
          2200000,
          900000,
          660000,
          480000,
          510000,
          4800000,
          1128500,
          2750000,
          1600000,
          560000,
          600000,
          460000,
          450000,
          890000,
          420000,
          3200000,
          625000,
          1100000,
          1000000,
          700000,
          4140000,
          1380000,
          900000,
          800000,
          1350000,
          590000,
          1900000,
          580000,
          680000,
          583913.0434782609,
          1545000,
          640000,
          1070000,
          630000,
          1490000,
          680000,
          1200000,
          1600000,
          520000,
          790000,
          4140000,
          1100000,
          2750000,
          1675000,
          625000,
          1000000,
          600000,
          930000,
          620000,
          800000,
          450000,
          450000,
          950000,
          530000,
          510000,
          350000,
          420000,
          310000,
          1300000,
          980000,
          660000,
          580000,
          800000,
          510000,
          490000,
          650000,
          1050900,
          1600000,
          840000,
          380000,
          1225287.5,
          1400000,
          650000,
          610000,
          748800,
          900000,
          430000,
          430000,
          700000,
          1300000,
          1250000,
          330000,
          435000,
          1500000,
          750000,
          1450000,
          1300000,
          650000,
          1000000,
          340000,
          730000,
          960000,
          2200000,
          750000,
          1800000,
          650000,
          1500000,
          2150000,
          67000000,
          900000,
          2000000,
          520000,
          650000,
          36500,
          880000,
          1850000,
          814000,
          900000,
          480000,
          490000,
          750000,
          340000,
          1250000,
          1250000,
          1150000,
          480000,
          920000,
          630000,
          430000,
          380000,
          920000,
          924000,
          580000,
          510000,
          1040000,
          450000,
          600000,
          610000,
          980000,
          970000,
          1000000,
          630000,
          1150000,
          470000,
          950000,
          840000,
          850000,
          28000000,
          33875000,
          670000,
          1060000,
          1716000,
          650000,
          775000,
          1050000,
          490000,
          600000,
          920000,
          900000,
          450000,
          630000,
          1150000
         ],
         "yaxis": "y"
        },
        {
         "hovertemplate": "Type=Villa<br>Area=%{x}<br>Price=%{y}<extra></extra>",
         "legendgroup": "Villa",
         "marker": {
          "color": "#EF553B",
          "symbol": "circle"
         },
         "mode": "markers",
         "name": "Villa",
         "orientation": "v",
         "showlegend": true,
         "type": "scatter",
         "x": [
          370,
          1600,
          300,
          629,
          282,
          120,
          300,
          894,
          500,
          166,
          710,
          218,
          730,
          150,
          450,
          120,
          310,
          500,
          136,
          150,
          233,
          264,
          240,
          338,
          178,
          220,
          315,
          131,
          220,
          1000,
          400,
          300,
          200,
          460,
          1400,
          131,
          200,
          216,
          354,
          370,
          350,
          320,
          300,
          10000,
          264,
          360,
          60,
          380,
          270,
          120,
          170,
          112,
          180,
          300,
          332,
          908,
          210,
          162,
          179,
          322,
          872,
          180,
          600,
          175,
          1256,
          330,
          850,
          745,
          160,
          120,
          200,
          245,
          300,
          300,
          175,
          167,
          740,
          200,
          300,
          519,
          800,
          343,
          160,
          110,
          268,
          130,
          160,
          400,
          127,
          800,
          324,
          160,
          330,
          200,
          240,
          81,
          260,
          500,
          300,
          222,
          600
         ],
         "xaxis": "x",
         "y": [
          14500000,
          9700000,
          5700000,
          13000000,
          3200000,
          3000000,
          4800000,
          10500000,
          7800000,
          5966666.666666667,
          9000000,
          4400000,
          12000000,
          3000000,
          5300000,
          2000000,
          4800000,
          6800000,
          3700000,
          2900000,
          4800000,
          2960000,
          4900000,
          4500000,
          4500000,
          4800000,
          3900000,
          1600000,
          3300000,
          16000000,
          4500000,
          5700000,
          3400000,
          3800000,
          9525000,
          2500000,
          3400000,
          4900000,
          3600000,
          3300000,
          8500000,
          3000000,
          4550000,
          3800000,
          2950000,
          2700000,
          900000,
          5700000,
          6500000,
          1650000,
          1800000,
          2800000,
          2500000,
          4500000,
          4416666.666666667,
          5522847.222222222,
          5200000,
          3500000,
          2430000,
          3566666.6666666665,
          10000000,
          5522847.222222222,
          5522847.222222222,
          2200000,
          9500000,
          4800000,
          8500000,
          32500000,
          2300000,
          2200000,
          4000000,
          3800000,
          4800000,
          6500000,
          1900000,
          2500000,
          14000000,
          2950000,
          9200000,
          4900000,
          8500000,
          2800000,
          3000000,
          1450000,
          6500000,
          2600000,
          5522847.222222222,
          4800000,
          2800000,
          5522847.222222222,
          7600000,
          270000,
          7500000,
          3500000,
          3900000,
          1550000,
          3400000,
          5500000,
          4000000,
          2600000,
          1800000
         ],
         "yaxis": "y"
        },
        {
         "hovertemplate": "Type=Maison<br>Area=%{x}<br>Price=%{y}<extra></extra>",
         "legendgroup": "Maison",
         "marker": {
          "color": "#00cc96",
          "symbol": "circle"
         },
         "mode": "markers",
         "name": "Maison",
         "orientation": "v",
         "showlegend": true,
         "type": "scatter",
         "x": [
          203,
          65,
          150,
          96,
          75,
          153,
          540,
          400,
          297,
          297,
          112,
          64,
          110,
          80,
          203,
          133,
          300,
          170,
          126,
          70,
          80,
          170,
          81,
          99,
          64,
          80,
          80,
          124,
          81,
          120,
          80,
          120,
          67,
          100,
          80,
          105,
          147,
          150,
          75,
          120,
          120,
          80,
          167,
          75,
          82,
          127,
          51,
          126,
          112,
          218,
          80,
          111,
          108,
          108,
          450,
          133,
          70,
          68,
          176,
          133,
          113,
          125,
          80,
          150,
          312,
          70,
          56,
          120,
          660,
          225,
          225,
          200,
          95,
          75,
          108,
          90,
          126,
          47,
          153,
          153,
          64,
          100,
          144,
          80,
          64,
          100,
          133,
          108,
          66,
          108,
          170,
          90,
          159,
          350,
          50,
          128,
          70,
          655,
          104,
          150,
          112,
          85,
          209,
          120
         ],
         "xaxis": "x",
         "y": [
          960000,
          3000000,
          1600000,
          2300000,
          1800000150000,
          500000,
          4600000,
          3500000,
          1320000,
          1320000,
          2900000,
          1200000,
          1800000,
          1250000,
          960000,
          2000000,
          3000000,
          3500000,
          2600000,
          1300000,
          1900000,
          2400000,
          1500000,
          1700000,
          1000000,
          3200000,
          2400000,
          6500000,
          2600000,
          1700000,
          1300000,
          2000000,
          1600000,
          1650000,
          2600000,
          2200000,
          3800000,
          725533.3333333334,
          1400000,
          2400000,
          2000000,
          2900000,
          2200000,
          1400000,
          1450000,
          2100000,
          3600000,
          3200000,
          2600000,
          3600000,
          1300000,
          1500000,
          4880000,
          1600000,
          46158363717.94872,
          1600000,
          1400000000,
          500000,
          2000000,
          1600000,
          2960000,
          2650000,
          1700000,
          3000000,
          3100000,
          1400000,
          1200000,
          2000000,
          6000000,
          6800000,
          3100000,
          2800000,
          4600000,
          1370000,
          980000,
          1966666.6666666667,
          3000000,
          1000000,
          500000,
          6400000,
          900000,
          1700000,
          2100000,
          2000000,
          1450000,
          1900000,
          1600000,
          3200000,
          751600,
          2100000,
          1800000,
          1700000,
          3400000,
          1950000,
          800000,
          3100000,
          460000,
          1200000,
          85000000,
          1700000,
          2200000,
          2600000,
          225000,
          1800000
         ],
         "yaxis": "y"
        }
       ],
       "layout": {
        "legend": {
         "title": {
          "text": "Type"
         },
         "tracegroupgap": 0
        },
        "template": {
         "data": {
          "bar": [
           {
            "error_x": {
             "color": "#2a3f5f"
            },
            "error_y": {
             "color": "#2a3f5f"
            },
            "marker": {
             "line": {
              "color": "#E5ECF6",
              "width": 0.5
             },
             "pattern": {
              "fillmode": "overlay",
              "size": 10,
              "solidity": 0.2
             }
            },
            "type": "bar"
           }
          ],
          "barpolar": [
           {
            "marker": {
             "line": {
              "color": "#E5ECF6",
              "width": 0.5
             },
             "pattern": {
              "fillmode": "overlay",
              "size": 10,
              "solidity": 0.2
             }
            },
            "type": "barpolar"
           }
          ],
          "carpet": [
           {
            "aaxis": {
             "endlinecolor": "#2a3f5f",
             "gridcolor": "white",
             "linecolor": "white",
             "minorgridcolor": "white",
             "startlinecolor": "#2a3f5f"
            },
            "baxis": {
             "endlinecolor": "#2a3f5f",
             "gridcolor": "white",
             "linecolor": "white",
             "minorgridcolor": "white",
             "startlinecolor": "#2a3f5f"
            },
            "type": "carpet"
           }
          ],
          "choropleth": [
           {
            "colorbar": {
             "outlinewidth": 0,
             "ticks": ""
            },
            "type": "choropleth"
           }
          ],
          "contour": [
           {
            "colorbar": {
             "outlinewidth": 0,
             "ticks": ""
            },
            "colorscale": [
             [
              0,
              "#0d0887"
             ],
             [
              0.1111111111111111,
              "#46039f"
             ],
             [
              0.2222222222222222,
              "#7201a8"
             ],
             [
              0.3333333333333333,
              "#9c179e"
             ],
             [
              0.4444444444444444,
              "#bd3786"
             ],
             [
              0.5555555555555556,
              "#d8576b"
             ],
             [
              0.6666666666666666,
              "#ed7953"
             ],
             [
              0.7777777777777778,
              "#fb9f3a"
             ],
             [
              0.8888888888888888,
              "#fdca26"
             ],
             [
              1,
              "#f0f921"
             ]
            ],
            "type": "contour"
           }
          ],
          "contourcarpet": [
           {
            "colorbar": {
             "outlinewidth": 0,
             "ticks": ""
            },
            "type": "contourcarpet"
           }
          ],
          "heatmap": [
           {
            "colorbar": {
             "outlinewidth": 0,
             "ticks": ""
            },
            "colorscale": [
             [
              0,
              "#0d0887"
             ],
             [
              0.1111111111111111,
              "#46039f"
             ],
             [
              0.2222222222222222,
              "#7201a8"
             ],
             [
              0.3333333333333333,
              "#9c179e"
             ],
             [
              0.4444444444444444,
              "#bd3786"
             ],
             [
              0.5555555555555556,
              "#d8576b"
             ],
             [
              0.6666666666666666,
              "#ed7953"
             ],
             [
              0.7777777777777778,
              "#fb9f3a"
             ],
             [
              0.8888888888888888,
              "#fdca26"
             ],
             [
              1,
              "#f0f921"
             ]
            ],
            "type": "heatmap"
           }
          ],
          "heatmapgl": [
           {
            "colorbar": {
             "outlinewidth": 0,
             "ticks": ""
            },
            "colorscale": [
             [
              0,
              "#0d0887"
             ],
             [
              0.1111111111111111,
              "#46039f"
             ],
             [
              0.2222222222222222,
              "#7201a8"
             ],
             [
              0.3333333333333333,
              "#9c179e"
             ],
             [
              0.4444444444444444,
              "#bd3786"
             ],
             [
              0.5555555555555556,
              "#d8576b"
             ],
             [
              0.6666666666666666,
              "#ed7953"
             ],
             [
              0.7777777777777778,
              "#fb9f3a"
             ],
             [
              0.8888888888888888,
              "#fdca26"
             ],
             [
              1,
              "#f0f921"
             ]
            ],
            "type": "heatmapgl"
           }
          ],
          "histogram": [
           {
            "marker": {
             "pattern": {
              "fillmode": "overlay",
              "size": 10,
              "solidity": 0.2
             }
            },
            "type": "histogram"
           }
          ],
          "histogram2d": [
           {
            "colorbar": {
             "outlinewidth": 0,
             "ticks": ""
            },
            "colorscale": [
             [
              0,
              "#0d0887"
             ],
             [
              0.1111111111111111,
              "#46039f"
             ],
             [
              0.2222222222222222,
              "#7201a8"
             ],
             [
              0.3333333333333333,
              "#9c179e"
             ],
             [
              0.4444444444444444,
              "#bd3786"
             ],
             [
              0.5555555555555556,
              "#d8576b"
             ],
             [
              0.6666666666666666,
              "#ed7953"
             ],
             [
              0.7777777777777778,
              "#fb9f3a"
             ],
             [
              0.8888888888888888,
              "#fdca26"
             ],
             [
              1,
              "#f0f921"
             ]
            ],
            "type": "histogram2d"
           }
          ],
          "histogram2dcontour": [
           {
            "colorbar": {
             "outlinewidth": 0,
             "ticks": ""
            },
            "colorscale": [
             [
              0,
              "#0d0887"
             ],
             [
              0.1111111111111111,
              "#46039f"
             ],
             [
              0.2222222222222222,
              "#7201a8"
             ],
             [
              0.3333333333333333,
              "#9c179e"
             ],
             [
              0.4444444444444444,
              "#bd3786"
             ],
             [
              0.5555555555555556,
              "#d8576b"
             ],
             [
              0.6666666666666666,
              "#ed7953"
             ],
             [
              0.7777777777777778,
              "#fb9f3a"
             ],
             [
              0.8888888888888888,
              "#fdca26"
             ],
             [
              1,
              "#f0f921"
             ]
            ],
            "type": "histogram2dcontour"
           }
          ],
          "mesh3d": [
           {
            "colorbar": {
             "outlinewidth": 0,
             "ticks": ""
            },
            "type": "mesh3d"
           }
          ],
          "parcoords": [
           {
            "line": {
             "colorbar": {
              "outlinewidth": 0,
              "ticks": ""
             }
            },
            "type": "parcoords"
           }
          ],
          "pie": [
           {
            "automargin": true,
            "type": "pie"
           }
          ],
          "scatter": [
           {
            "fillpattern": {
             "fillmode": "overlay",
             "size": 10,
             "solidity": 0.2
            },
            "type": "scatter"
           }
          ],
          "scatter3d": [
           {
            "line": {
             "colorbar": {
              "outlinewidth": 0,
              "ticks": ""
             }
            },
            "marker": {
             "colorbar": {
              "outlinewidth": 0,
              "ticks": ""
             }
            },
            "type": "scatter3d"
           }
          ],
          "scattercarpet": [
           {
            "marker": {
             "colorbar": {
              "outlinewidth": 0,
              "ticks": ""
             }
            },
            "type": "scattercarpet"
           }
          ],
          "scattergeo": [
           {
            "marker": {
             "colorbar": {
              "outlinewidth": 0,
              "ticks": ""
             }
            },
            "type": "scattergeo"
           }
          ],
          "scattergl": [
           {
            "marker": {
             "colorbar": {
              "outlinewidth": 0,
              "ticks": ""
             }
            },
            "type": "scattergl"
           }
          ],
          "scattermapbox": [
           {
            "marker": {
             "colorbar": {
              "outlinewidth": 0,
              "ticks": ""
             }
            },
            "type": "scattermapbox"
           }
          ],
          "scatterpolar": [
           {
            "marker": {
             "colorbar": {
              "outlinewidth": 0,
              "ticks": ""
             }
            },
            "type": "scatterpolar"
           }
          ],
          "scatterpolargl": [
           {
            "marker": {
             "colorbar": {
              "outlinewidth": 0,
              "ticks": ""
             }
            },
            "type": "scatterpolargl"
           }
          ],
          "scatterternary": [
           {
            "marker": {
             "colorbar": {
              "outlinewidth": 0,
              "ticks": ""
             }
            },
            "type": "scatterternary"
           }
          ],
          "surface": [
           {
            "colorbar": {
             "outlinewidth": 0,
             "ticks": ""
            },
            "colorscale": [
             [
              0,
              "#0d0887"
             ],
             [
              0.1111111111111111,
              "#46039f"
             ],
             [
              0.2222222222222222,
              "#7201a8"
             ],
             [
              0.3333333333333333,
              "#9c179e"
             ],
             [
              0.4444444444444444,
              "#bd3786"
             ],
             [
              0.5555555555555556,
              "#d8576b"
             ],
             [
              0.6666666666666666,
              "#ed7953"
             ],
             [
              0.7777777777777778,
              "#fb9f3a"
             ],
             [
              0.8888888888888888,
              "#fdca26"
             ],
             [
              1,
              "#f0f921"
             ]
            ],
            "type": "surface"
           }
          ],
          "table": [
           {
            "cells": {
             "fill": {
              "color": "#EBF0F8"
             },
             "line": {
              "color": "white"
             }
            },
            "header": {
             "fill": {
              "color": "#C8D4E3"
             },
             "line": {
              "color": "white"
             }
            },
            "type": "table"
           }
          ]
         },
         "layout": {
          "annotationdefaults": {
           "arrowcolor": "#2a3f5f",
           "arrowhead": 0,
           "arrowwidth": 1
          },
          "autotypenumbers": "strict",
          "coloraxis": {
           "colorbar": {
            "outlinewidth": 0,
            "ticks": ""
           }
          },
          "colorscale": {
           "diverging": [
            [
             0,
             "#8e0152"
            ],
            [
             0.1,
             "#c51b7d"
            ],
            [
             0.2,
             "#de77ae"
            ],
            [
             0.3,
             "#f1b6da"
            ],
            [
             0.4,
             "#fde0ef"
            ],
            [
             0.5,
             "#f7f7f7"
            ],
            [
             0.6,
             "#e6f5d0"
            ],
            [
             0.7,
             "#b8e186"
            ],
            [
             0.8,
             "#7fbc41"
            ],
            [
             0.9,
             "#4d9221"
            ],
            [
             1,
             "#276419"
            ]
           ],
           "sequential": [
            [
             0,
             "#0d0887"
            ],
            [
             0.1111111111111111,
             "#46039f"
            ],
            [
             0.2222222222222222,
             "#7201a8"
            ],
            [
             0.3333333333333333,
             "#9c179e"
            ],
            [
             0.4444444444444444,
             "#bd3786"
            ],
            [
             0.5555555555555556,
             "#d8576b"
            ],
            [
             0.6666666666666666,
             "#ed7953"
            ],
            [
             0.7777777777777778,
             "#fb9f3a"
            ],
            [
             0.8888888888888888,
             "#fdca26"
            ],
            [
             1,
             "#f0f921"
            ]
           ],
           "sequentialminus": [
            [
             0,
             "#0d0887"
            ],
            [
             0.1111111111111111,
             "#46039f"
            ],
            [
             0.2222222222222222,
             "#7201a8"
            ],
            [
             0.3333333333333333,
             "#9c179e"
            ],
            [
             0.4444444444444444,
             "#bd3786"
            ],
            [
             0.5555555555555556,
             "#d8576b"
            ],
            [
             0.6666666666666666,
             "#ed7953"
            ],
            [
             0.7777777777777778,
             "#fb9f3a"
            ],
            [
             0.8888888888888888,
             "#fdca26"
            ],
            [
             1,
             "#f0f921"
            ]
           ]
          },
          "colorway": [
           "#636efa",
           "#EF553B",
           "#00cc96",
           "#ab63fa",
           "#FFA15A",
           "#19d3f3",
           "#FF6692",
           "#B6E880",
           "#FF97FF",
           "#FECB52"
          ],
          "font": {
           "color": "#2a3f5f"
          },
          "geo": {
           "bgcolor": "white",
           "lakecolor": "white",
           "landcolor": "#E5ECF6",
           "showlakes": true,
           "showland": true,
           "subunitcolor": "white"
          },
          "hoverlabel": {
           "align": "left"
          },
          "hovermode": "closest",
          "mapbox": {
           "style": "light"
          },
          "paper_bgcolor": "white",
          "plot_bgcolor": "#E5ECF6",
          "polar": {
           "angularaxis": {
            "gridcolor": "white",
            "linecolor": "white",
            "ticks": ""
           },
           "bgcolor": "#E5ECF6",
           "radialaxis": {
            "gridcolor": "white",
            "linecolor": "white",
            "ticks": ""
           }
          },
          "scene": {
           "xaxis": {
            "backgroundcolor": "#E5ECF6",
            "gridcolor": "white",
            "gridwidth": 2,
            "linecolor": "white",
            "showbackground": true,
            "ticks": "",
            "zerolinecolor": "white"
           },
           "yaxis": {
            "backgroundcolor": "#E5ECF6",
            "gridcolor": "white",
            "gridwidth": 2,
            "linecolor": "white",
            "showbackground": true,
            "ticks": "",
            "zerolinecolor": "white"
           },
           "zaxis": {
            "backgroundcolor": "#E5ECF6",
            "gridcolor": "white",
            "gridwidth": 2,
            "linecolor": "white",
            "showbackground": true,
            "ticks": "",
            "zerolinecolor": "white"
           }
          },
          "shapedefaults": {
           "line": {
            "color": "#2a3f5f"
           }
          },
          "ternary": {
           "aaxis": {
            "gridcolor": "white",
            "linecolor": "white",
            "ticks": ""
           },
           "baxis": {
            "gridcolor": "white",
            "linecolor": "white",
            "ticks": ""
           },
           "bgcolor": "#E5ECF6",
           "caxis": {
            "gridcolor": "white",
            "linecolor": "white",
            "ticks": ""
           }
          },
          "title": {
           "x": 0.05
          },
          "xaxis": {
           "automargin": true,
           "gridcolor": "white",
           "linecolor": "white",
           "ticks": "",
           "title": {
            "standoff": 15
           },
           "zerolinecolor": "white",
           "zerolinewidth": 2
          },
          "yaxis": {
           "automargin": true,
           "gridcolor": "white",
           "linecolor": "white",
           "ticks": "",
           "title": {
            "standoff": 15
           },
           "zerolinecolor": "white",
           "zerolinewidth": 2
          }
         }
        },
        "title": {
         "text": "Price vs. Area"
        },
        "xaxis": {
         "anchor": "y",
         "domain": [
          0,
          1
         ],
         "title": {
          "text": "Area"
         }
        },
        "yaxis": {
         "anchor": "x",
         "domain": [
          0,
          1
         ],
         "title": {
          "text": "Price"
         }
        }
       }
      }
     },
     "metadata": {},
     "output_type": "display_data"
    }
   ],
   "source": [
    "px.scatter(cleaned_data, x='Area', y='Price', color='Type', title='Price vs. Area')"
   ]
  },
  {
   "cell_type": "code",
   "execution_count": 28,
   "metadata": {},
   "outputs": [],
   "source": [
    "# delete the villa who has area 10000\n",
    "cleaned_data = cleaned_data[cleaned_data['Area'] != 10000]"
   ]
  },
  {
   "cell_type": "code",
   "execution_count": 43,
   "metadata": {},
   "outputs": [],
   "source": [
    "cleaned_data = cleaned_data[cleaned_data['Price'] < 180000000000]"
   ]
  },
  {
   "cell_type": "code",
   "execution_count": 46,
   "metadata": {},
   "outputs": [],
   "source": [
    "cleaned_data = cleaned_data[cleaned_data['Area'] != 432 ]"
   ]
  },
  {
   "cell_type": "code",
   "execution_count": 53,
   "metadata": {},
   "outputs": [
    {
     "data": {
      "text/html": [
       "<div>\n",
       "<style scoped>\n",
       "    .dataframe tbody tr th:only-of-type {\n",
       "        vertical-align: middle;\n",
       "    }\n",
       "\n",
       "    .dataframe tbody tr th {\n",
       "        vertical-align: top;\n",
       "    }\n",
       "\n",
       "    .dataframe thead th {\n",
       "        text-align: right;\n",
       "    }\n",
       "</style>\n",
       "<table border=\"1\" class=\"dataframe\">\n",
       "  <thead>\n",
       "    <tr style=\"text-align: right;\">\n",
       "      <th></th>\n",
       "      <th>Type</th>\n",
       "      <th>Quartier</th>\n",
       "      <th>Price</th>\n",
       "      <th>Area</th>\n",
       "      <th>Rooms</th>\n",
       "      <th>Bedrooms</th>\n",
       "      <th>Bathrooms</th>\n",
       "      <th>Status</th>\n",
       "      <th>Property_State</th>\n",
       "      <th>Jardin</th>\n",
       "      <th>Piscine</th>\n",
       "      <th>Cuisine_equiped</th>\n",
       "      <th>Price_m2</th>\n",
       "    </tr>\n",
       "  </thead>\n",
       "  <tbody>\n",
       "    <tr>\n",
       "      <th>745</th>\n",
       "      <td>Appartement</td>\n",
       "      <td>Hay Salam</td>\n",
       "      <td>33875000.0</td>\n",
       "      <td>76.0</td>\n",
       "      <td>6.0</td>\n",
       "      <td>2</td>\n",
       "      <td>1</td>\n",
       "      <td>Bon état</td>\n",
       "      <td>5-10 ans</td>\n",
       "      <td>1</td>\n",
       "      <td>0</td>\n",
       "      <td>1</td>\n",
       "      <td>445723.684211</td>\n",
       "    </tr>\n",
       "  </tbody>\n",
       "</table>\n",
       "</div>"
      ],
      "text/plain": [
       "            Type   Quartier       Price  Area Rooms Bedrooms Bathrooms  \\\n",
       "745  Appartement  Hay Salam  33875000.0  76.0   6.0        2         1   \n",
       "\n",
       "       Status Property_State Jardin Piscine Cuisine_equiped       Price_m2  \n",
       "745  Bon état       5-10 ans      1       0               1  445723.684211  "
      ]
     },
     "execution_count": 53,
     "metadata": {},
     "output_type": "execute_result"
    }
   ],
   "source": []
  },
  {
   "cell_type": "code",
   "execution_count": 48,
   "metadata": {},
   "outputs": [],
   "source": [
    "cleaned_data = cleaned_data[cleaned_data['Price'] != 67000000 ]"
   ]
  },
  {
   "cell_type": "code",
   "execution_count": 54,
   "metadata": {},
   "outputs": [],
   "source": [
    "cleaned_data = cleaned_data[cleaned_data['Price'] != 33875000 ]"
   ]
  },
  {
   "cell_type": "code",
   "execution_count": 56,
   "metadata": {},
   "outputs": [],
   "source": [
    "cleaned_data = cleaned_data[cleaned_data['Price'] != 28000000 ]"
   ]
  },
  {
   "cell_type": "code",
   "execution_count": 58,
   "metadata": {},
   "outputs": [
    {
     "data": {
      "application/vnd.plotly.v1+json": {
       "config": {
        "plotlyServerURL": "https://plot.ly"
       },
       "data": [
        {
         "hovertemplate": "Type=Appartement<br>Quartier=%{x}<br>Price=%{y}<extra></extra>",
         "legendgroup": "Appartement",
         "marker": {
          "color": "#636efa",
          "symbol": "circle"
         },
         "mode": "markers",
         "name": "Appartement",
         "orientation": "v",
         "showlegend": true,
         "type": "scatter",
         "x": [
          "Secteur Touristique",
          "Hay Mohammadi",
          "Hay Mohammadi",
          "Hay Mohammadi",
          "Hay Mohammadi",
          "Hay Houda",
          "Abattoirs",
          "Hay Salam",
          "Hay Dakhla",
          "Hay Mohammadi",
          "Taddart Anza",
          "Hay Mohammadi",
          "Amsernate",
          "Riad Salam",
          "Hay Salam",
          "Hay Salam",
          "Hay Houda",
          "Hay Salam",
          "Hay Mohammadi",
          "Ville Nouvelle",
          "Founti",
          "Talborjt",
          "Secteur Touristique",
          "Ville Nouvelle",
          "Founti",
          "Haut Founty",
          "Haut Founty",
          "Secteur Touristique",
          "Haut Founty",
          "Hay Mohammadi",
          "Riad Salam",
          "Founti",
          "Hay Salam",
          "Tilila",
          "Hay Houda",
          "Hay Mohammadi",
          "Secteur Touristique",
          "Founti",
          "Zone Industrielle Agadir",
          "Hay Salam",
          "Hay Mohammadi",
          "Hay Mohammadi",
          "Hay Salam",
          "Haut Founty",
          "Secteur Touristique",
          "Secteur Touristique",
          "Hay Mohammadi",
          "Hay Mohammadi",
          "Al Wifaq",
          "Hay Houda",
          "Hay Mohammadi",
          "Haut Anza",
          "Hay Dakhla",
          "Amsernate",
          "Hay Najah",
          "Hay Mohammadi",
          "Abattoirs",
          "Secteur Touristique",
          "Hay Dakhla",
          "Founti",
          "Amsernate",
          "Secteur Touristique",
          "Hay Dakhla",
          "Hay Mohammadi",
          "Hay Houda",
          "Taddart Anza",
          "Hay Mohammadi",
          "Hay Mohammadi",
          "Hay Mohammadi",
          "Founti",
          "Secteur Touristique",
          "Haut Founty",
          "Lekhiam",
          "Zone Industrielle Agadir",
          "Cité Adrar",
          "Secteur Touristique",
          "Hay Salam",
          "Riad Salam",
          "Hay Mohammadi",
          "Tilila",
          "Hay Mohammadi",
          "Hay Mohammadi",
          "Hay Mohammadi",
          "Haut Founty",
          "Hay Mohammadi",
          "Hay Mohammadi",
          "Hay Mohammadi",
          "Hay Salam",
          "Hay Houda",
          "Hay Mohammadi",
          "Hay Mohammadi",
          "Hay Houda",
          "Hay Mohammadi",
          "Anza",
          "Hay Mohammadi",
          "Hay Houda",
          "Hay Mohammadi",
          "Ville Nouvelle",
          "Hay Salam",
          "Tilila",
          "Bouargane",
          "Hay Mohammadi",
          "Anza",
          "Secteur Touristique",
          "Hay Salam",
          "Hay Salam",
          "Amsernate",
          "Hay Mohammadi",
          "Riad Salam",
          "Hay Mohammadi",
          "Riad Salam",
          "Hay Mohammadi",
          "Secteur Touristique",
          "Hay Houda",
          "Cité Adrar",
          "Tilila",
          "Hay Houda",
          "Amsernate",
          "Hay Mohammadi",
          "Hay Salam",
          "Hay Mohammadi",
          "Hay Mohammadi",
          "Hay Dakhla",
          "Hay Salam",
          "Haut Anza",
          "Hay Mohammadi",
          "Hay Salam",
          "Hay Dakhla",
          "Secteur Touristique",
          "Hay Massira",
          "Talborjt",
          "Founti",
          "Riad Salam",
          "Founti",
          "Haut Founty",
          "Tilila",
          "Hay Houda",
          "Al Wifaq",
          "Hay Mohammadi",
          "Hay Salam",
          "Haut Founty",
          "Secteur Touristique",
          "Hay Massira",
          "Riad Salam",
          "Lekhiam",
          "Hay Mohammadi",
          "Extension Dakhla",
          "Hay Houda",
          "Ben Serguaou",
          "Lekhiam",
          "Amicales",
          "Founti",
          "Riad Salam",
          "Hay Mohammadi",
          "Secteur Touristique",
          "Founti",
          "Hay Salam",
          "Abattoirs",
          "Hay Salam",
          "Hay Salam",
          "Secteur Touristique",
          "Hay Mohammadi",
          "Hay Salam",
          "Hay Mohammadi",
          "Hay Mohammadi",
          "Cité Adrar",
          "Hay Houda",
          "Riad Salam",
          "Hay Mohammadi",
          "Hay Salam",
          "Hay Al Farah",
          "Hay Salam",
          "Haut Founty",
          "Riad Salam",
          "Hay Mohammadi",
          "Hay Mohammadi",
          "Hay Mohammadi",
          "Hay Mohammadi",
          "Hay Mohammadi",
          "Haut Founty",
          "Hay Al Farah",
          "Hay Houda",
          "Hay Houda",
          "Talborjt",
          "Hay Mohammadi",
          "Haut Founty",
          "Secteur Touristique",
          "Haut Founty",
          "Hay Mohammadi",
          "Hay Mohammadi",
          "Hay Salam",
          "Ville Nouvelle",
          "Anza",
          "Hay Mohammadi",
          "Al Wifaq",
          "Riad Salam",
          "Tilila",
          "Hay Mohammadi",
          "Hay Salam",
          "Cité Adrar",
          "Hay Dakhla",
          "Hay Mohammadi",
          "Al Wifaq",
          "Ville Nouvelle",
          "Hay Salam",
          "Founti",
          "Founti",
          "Haut Founty",
          "Founti",
          "Talborjt",
          "Extension Dakhla",
          "Hay Houda",
          "Hay Mohammadi",
          "Hay Houda",
          "Abattoirs",
          "Founti",
          "Talborjt",
          "Haut Anza",
          "Secteur Touristique",
          "Hay Mohammadi",
          "Tilila",
          "Hay Houda",
          "Zone Industrielle Agadir",
          "Hay Mohammadi",
          "Hay Mohammadi",
          "Hay Qods",
          "Hay Mohammadi",
          "Amicales",
          "Hay Mohammadi",
          "Hay Houda",
          "Hay Salam",
          "Extension Dakhla",
          "Hay Mohammadi",
          "Founti",
          "Hay Dakhla",
          "Hay Salam",
          "Ben Serguaou",
          "Ville Nouvelle",
          "Zone Industrielle Agadir",
          "Founti",
          "Hay Houda",
          "Hay Mohammadi",
          "Hay Mohammadi",
          "Hay Houda",
          "Hay Mohammadi",
          "Ben Serguaou",
          "Hay Mohammadi",
          "Hay Qods",
          "Hay Mohammadi",
          "Hay Mohammadi",
          "Hay Mohammadi",
          "Hay Mohammadi",
          "Ville Nouvelle",
          "Hay Mohammadi",
          "Haut Founty",
          "Hay Salam",
          "Hay Houda",
          "Abattoirs",
          "Taddart",
          "Hay Massira",
          "Secteur Touristique",
          "Hay Salam",
          "Haut Founty",
          "Hay Dakhla",
          "Hay Houda",
          "Hay Houda",
          "Cité Adrar",
          "Founti",
          "Secteur Touristique",
          "Tikiouine",
          "Hay Houda",
          "Hay Mohammadi",
          "Hay Houda",
          "Hay Mohammadi",
          "Cité Adrar",
          "Haut Founty",
          "Hay Salam",
          "Hay Mohammadi",
          "Secteur Touristique",
          "Hay Dakhla",
          "Hay Salam",
          "Hay Mohammadi",
          "Zone Industrielle Agadir",
          "Haut Founty",
          "Hay Salam",
          "Hay Massira",
          "Hay Mohammadi",
          "Ben Serguaou",
          "Tilila",
          "Hay Mohammadi",
          "Hay Mohammadi",
          "Hay Mohammadi",
          "Hay Mohammadi",
          "Hay Salam",
          "Hay Salam",
          "Hay Mohammadi",
          "Secteur Touristique",
          "Hay Salam",
          "Founti",
          "Hay Dakhla",
          "Hay Salam",
          "Hay Mohammadi",
          "Tilila",
          "Hay Mohammadi",
          "Haut Founty",
          "Hay Mohammadi",
          "Hay Houda",
          "Hay Dakhla",
          "Tilila",
          "Hay Salam",
          "Hay Houda",
          "Hay Salam",
          "Haut Anza",
          "Haut Founty",
          "Hay Mohammadi",
          "Hay Houda",
          "Hay Mohammadi",
          "Hay Mohammadi",
          "Ben Serguaou",
          "Tilila",
          "Hay Mohammadi",
          "Hay Mohammadi",
          "Founti",
          "Haut Anza",
          "Tilila",
          "Hay Houda",
          "Hay Mohammadi",
          "Zone Industrielle Agadir",
          "Tilila",
          "Hay Mohammadi",
          "Ben Serguaou",
          "Tilila",
          "Abattoirs",
          "Hay Salam",
          "Charaf",
          "Founti",
          "Hay Mohammadi",
          "Secteur Touristique",
          "Zone Industrielle Agadir",
          "Hay Salam",
          "Abattoirs",
          "Hay Mohammadi",
          "Secteur Touristique",
          "Riad Salam",
          "Secteur Touristique",
          "Ville Nouvelle",
          "Hay Mohammadi",
          "Hay Salam",
          "Hay Mohammadi",
          "Haut Anza",
          "Hay Al Wafaa",
          "Hay Mohammadi",
          "Hay Dakhla",
          "Hay Al Farah",
          "Hay Mohammadi",
          "Hay Houda",
          "Hay Salam",
          "Cité Adrar",
          "Abattoirs",
          "Hay Mohammadi",
          "Talborjt",
          "Hay Najah",
          "Hay Al Wafaa",
          "Secteur Touristique",
          "Extension Dakhla",
          "Hay Al Farah",
          "Hay Mohammadi",
          "Hay Houda",
          "Hay Salam",
          "Abattoirs",
          "Hay Mohammadi",
          "Secteur Touristique",
          "Hay Mohammadi",
          "Haut Founty",
          "Amsernate",
          "Tilila",
          "Cité Adrar",
          "Cité Adrar",
          "Hay Mohammadi",
          "Secteur Touristique",
          "Hay Dakhla",
          "Hay Al Farah",
          "Secteur Touristique",
          "Tilila",
          "Hay Mohammadi",
          "Al Wifaq",
          "Amsernate",
          "Hay Salam",
          "Ville Nouvelle",
          "Hay Mohammadi",
          "Hay Mohammadi",
          "Hay Mohammadi",
          "Hay Mohammadi",
          "Hay Mohammadi",
          "Hay Mohammadi",
          "Hay Mohammadi",
          "Haut Founty",
          "Hay Mohammadi",
          "Hay Mohammadi",
          "Hay Houda",
          "Hay Mohammadi",
          "Hay Mohammadi",
          "Hay Salam",
          "Hay Dakhla",
          "Amsernate",
          "Bouargane",
          "Hay Houda",
          "Haut Founty",
          "Hay Mohammadi",
          "Hay Salam",
          "Hay Mohammadi",
          "Hay Mohammadi",
          "Hay Mohammadi",
          "Al Wifaq",
          "Al Wifaq",
          "Hay Mohammadi",
          "Hay Mohammadi",
          "Abattoirs",
          "Taddart Anza",
          "Hay Mohammadi",
          "Tilila",
          "Hay Salam",
          "Riad Salam",
          "Hay Houda",
          "Hay Mohammadi",
          "Hay Mohammadi",
          "Hay Salam",
          "Hay Salam",
          "Riad Salam",
          "Secteur Touristique",
          "Tilila",
          "Founti",
          "Hay Salam",
          "Bouargane",
          "Hay Najah",
          "Hay Salam",
          "Hay Mohammadi",
          "Hay Mohammadi",
          "Tilila",
          "Hay Salam",
          "Hay Mohammadi",
          "Ville Nouvelle",
          "Hay Dakhla",
          "Hay Dakhla",
          "Extension Dakhla",
          "Hay Mohammadi",
          "Hay Qods",
          "Hay Salam",
          "Anza",
          "Abattoirs",
          "Amicales",
          "Al Wifaq",
          "Hay Mohammadi",
          "Hay Mohammadi",
          "Al Wifaq",
          "Hay Houda",
          "Tilila",
          "Hay Mohammadi",
          "Hay Mohammadi",
          "Hay Salam",
          "Hay Mohammadi",
          "Cité Adrar",
          "Hay Mohammadi",
          "Hay Al Farah",
          "Hay Mohammadi",
          "Hay Houda",
          "Anza",
          "Hay Mohammadi",
          "Al Wifaq",
          "Hay Salam",
          "Hay Dakhla",
          "Hay Houda",
          "Hay Mohammadi",
          "Hay Houda",
          "Hay Mohammadi",
          "Extension Dakhla",
          "Hay Salam",
          "Hay Salam",
          "Al Wifaq",
          "Taddart Anza",
          "Hay Mohammadi",
          "Hay Massira",
          "Anza",
          "Cité Adrar",
          "Hay Mohammadi",
          "Hay Houda"
         ],
         "xaxis": "x",
         "y": [
          2600000,
          500000,
          1100000,
          380000,
          600000,
          680000,
          850000,
          680000,
          510000,
          510000,
          460000,
          1950000,
          620000,
          770000,
          520000,
          570000,
          700000,
          630000,
          420000,
          1600000,
          5900000,
          1550000,
          1900000,
          2500000,
          2500000,
          2450000,
          1250000,
          2950000,
          3700000,
          680000,
          1500000,
          2600000,
          860000,
          840000,
          800000,
          1200000,
          3400000,
          1700000,
          1357000,
          560000,
          960000,
          380000,
          560000,
          1170000,
          1900000,
          1800000,
          550000,
          1100000,
          1150000,
          1100000,
          800000,
          560000,
          650000,
          770000,
          1000000,
          590000,
          1030000,
          3250000,
          900000,
          1750000,
          900000,
          2750000,
          1750000,
          590000,
          928571.4285714284,
          680000,
          800000,
          740000,
          660000,
          2850000,
          2000000,
          3200000,
          900000,
          900000,
          7500000,
          4600000,
          880000,
          1480000,
          660000,
          780000,
          881666.6666666666,
          434000,
          885000,
          700000,
          850000,
          670000,
          420000,
          670000,
          880000,
          1250000,
          530000,
          1860000,
          670000,
          1400000,
          1600000,
          1333333.3333333333,
          891750,
          600000,
          900000,
          780000,
          950000,
          885000,
          750000,
          2800000,
          680000,
          475000,
          650000,
          788369.2307692308,
          950000,
          1387500,
          1340000,
          570000,
          2590000,
          490000,
          350000,
          380000,
          860000,
          635000,
          420000,
          460000,
          570000,
          450000,
          968000,
          630000,
          300000,
          760000,
          750000,
          1750000,
          2000000,
          1200000,
          630000,
          2800000,
          1500000,
          1700000,
          1245000,
          800000,
          620000,
          900000,
          850000,
          520000,
          1440000,
          2800000,
          1200000,
          1307000,
          900000,
          770000,
          1100000,
          1000000,
          860000,
          800000,
          1530000,
          1500000,
          700000,
          950000,
          1750000,
          2600000,
          440000,
          935000,
          530000,
          540000,
          2800000,
          420000,
          560000,
          1300000,
          840000,
          780000,
          1200000,
          1400000,
          1000000,
          750000,
          840000,
          580000,
          1230000,
          1450000,
          770000,
          1100000,
          1460000,
          880000,
          620000,
          1650000,
          680000,
          490000,
          1250000,
          1370000,
          660000,
          2240000,
          2800000,
          1305500,
          600000,
          1300000,
          1650000,
          1400000,
          650000,
          1950000,
          900000,
          1500000,
          380000,
          670000,
          400000,
          4140000,
          1150000,
          520000,
          560000,
          950000,
          750000,
          2100000,
          3000000,
          1500000,
          3300000,
          1500000,
          1500000,
          1150000,
          670000,
          880000,
          1500000,
          2300000,
          1650000,
          520000,
          3246000,
          350000,
          850000,
          510000,
          560000,
          840000,
          490000,
          750000,
          760000,
          1600000,
          980000,
          587250,
          390000,
          1300000,
          850000,
          2300000,
          900000,
          527000,
          100000,
          5000000,
          640000,
          1900000,
          800000,
          1200000,
          1950000,
          500000,
          530000,
          1000000,
          960000,
          750000,
          440000,
          1700000,
          1050000,
          1250000,
          5970000,
          690000,
          1130000,
          550000,
          950000,
          1500000,
          1110000,
          1500000,
          1900000,
          650000,
          2425000,
          950000,
          930000,
          950000,
          600000,
          1550000,
          2600000,
          400000,
          587250,
          1350000,
          800000,
          550000,
          720000,
          1372500,
          520000,
          680000,
          1650000,
          770000,
          540000,
          881666.6666666666,
          1700000,
          800000,
          340000,
          710000,
          850000,
          400000,
          850000,
          960000,
          1580000,
          500000,
          1800000,
          530000,
          630000,
          910000,
          180000,
          520000,
          230000,
          1200000,
          560000,
          640000,
          15000,
          700000,
          1000000,
          360000,
          880000,
          550000,
          760000,
          490000,
          420000,
          520000,
          380000,
          1225287.5,
          575000,
          120000,
          600000,
          320000,
          350000,
          850000,
          980000,
          1500000,
          4450000,
          380000,
          480000,
          700000,
          420000,
          1000000,
          643000,
          500000,
          583333.3333333334,
          643000,
          795500,
          540000,
          1500000,
          4500000,
          950000,
          2200000,
          900000,
          660000,
          480000,
          510000,
          4800000,
          1128500,
          2750000,
          1600000,
          560000,
          600000,
          460000,
          450000,
          890000,
          420000,
          3200000,
          625000,
          1100000,
          1000000,
          700000,
          4140000,
          1380000,
          900000,
          800000,
          1350000,
          590000,
          1900000,
          580000,
          680000,
          583913.0434782609,
          1545000,
          640000,
          1070000,
          630000,
          1490000,
          680000,
          1200000,
          1600000,
          520000,
          790000,
          4140000,
          1100000,
          2750000,
          1675000,
          625000,
          1000000,
          600000,
          930000,
          620000,
          800000,
          450000,
          450000,
          950000,
          530000,
          510000,
          350000,
          420000,
          310000,
          1300000,
          980000,
          660000,
          580000,
          800000,
          510000,
          490000,
          650000,
          1050900,
          1600000,
          840000,
          380000,
          1225287.5,
          1400000,
          650000,
          610000,
          748800,
          900000,
          430000,
          430000,
          700000,
          1300000,
          1250000,
          330000,
          435000,
          1500000,
          750000,
          1450000,
          1300000,
          650000,
          1000000,
          340000,
          730000,
          960000,
          2200000,
          750000,
          1800000,
          650000,
          1500000,
          2150000,
          900000,
          2000000,
          520000,
          650000,
          36500,
          880000,
          1850000,
          814000,
          900000,
          480000,
          490000,
          750000,
          340000,
          1250000,
          1250000,
          1150000,
          480000,
          920000,
          630000,
          430000,
          380000,
          920000,
          924000,
          580000,
          510000,
          1040000,
          450000,
          600000,
          610000,
          980000,
          970000,
          1000000,
          630000,
          1150000,
          470000,
          950000,
          840000,
          850000,
          670000,
          1060000,
          1716000,
          650000,
          775000,
          1050000,
          490000,
          600000,
          920000,
          900000,
          450000,
          630000,
          1150000
         ],
         "yaxis": "y"
        },
        {
         "hovertemplate": "Type=Villa<br>Quartier=%{x}<br>Price=%{y}<extra></extra>",
         "legendgroup": "Villa",
         "marker": {
          "color": "#EF553B",
          "symbol": "circle"
         },
         "mode": "markers",
         "name": "Villa",
         "orientation": "v",
         "showlegend": true,
         "type": "scatter",
         "x": [
          "Illigh",
          "Siusse",
          "Founti",
          "Illigh",
          "Taddart",
          "Charaf",
          "Secteur Touristique",
          "Illigh",
          "Secteur Touristique",
          "Founti",
          "Founti",
          "Founti",
          "Founti",
          "Taddart",
          "Ben Serguaou",
          "Charaf",
          "Siusse",
          "Siusse",
          "Haut Founty",
          "Taddart",
          "Hay Dakhla",
          "Hay Mohammadi",
          "Secteur Touristique",
          "Ben Serguaou",
          "Founti",
          "Illigh",
          "Hay Najah",
          "Cité Adrar",
          "Taddart",
          "Illigh",
          "Founti",
          "Secteur Touristique",
          "Hay Najah",
          "Hay Houda",
          "Illigh",
          "Tilila",
          "Hay Najah",
          "Founti",
          "Hay Najah",
          "Hay Dakhla",
          "Illigh",
          "Tilila",
          "Ben Serguaou",
          "Hay Mohammadi",
          "Hay Dakhla",
          "Taddart Anza",
          "Founti",
          "Founti",
          "Charaf",
          "Tilila",
          "Tilila",
          "Charaf",
          "Tilila",
          "Hay Najah",
          "Ville Nouvelle",
          "Hay Mohammadi",
          "Founti",
          "Anza",
          "Hay Dakhla",
          "Illigh",
          "Al Wifaq",
          "Ville Nouvelle",
          "Hay Mohammadi",
          "Illigh",
          "Hay Najah",
          "Illigh",
          "Secteur Touristique",
          "Charaf",
          "Charaf",
          "Taddart",
          "Ben Serguaou",
          "Hay Najah",
          "Hay Najah",
          "Tilila",
          "Charaf",
          "Founti",
          "Tilila",
          "Siusse",
          "Ben Serguaou",
          "Illigh",
          "Secteur Touristique",
          "Founti",
          "Taddart Anza",
          "Illigh",
          "Tilila",
          "Al Wifaq",
          "Tilila",
          "Cité Adrar",
          "Tikiouine",
          "Founti",
          "Ben Serguaou",
          "Hay Houda",
          "Taddart",
          "Haut Founty",
          "Cité Adrar",
          "Hay Dakhla",
          "Ben Serguaou",
          "Hay Najah",
          "Hay Dakhla",
          "Illigh"
         ],
         "xaxis": "x",
         "y": [
          14500000,
          9700000,
          5700000,
          13000000,
          3200000,
          3000000,
          4800000,
          10500000,
          7800000,
          5966666.666666667,
          9000000,
          4400000,
          12000000,
          3000000,
          5300000,
          2000000,
          4800000,
          6800000,
          3700000,
          2900000,
          4800000,
          2960000,
          4900000,
          4500000,
          4500000,
          4800000,
          3900000,
          1600000,
          3300000,
          16000000,
          4500000,
          5700000,
          3400000,
          3800000,
          9525000,
          2500000,
          3400000,
          4900000,
          3600000,
          3300000,
          8500000,
          3000000,
          4550000,
          2950000,
          2700000,
          900000,
          5700000,
          6500000,
          1650000,
          1800000,
          2800000,
          2500000,
          4500000,
          4416666.666666667,
          5522847.222222222,
          5200000,
          3500000,
          2430000,
          3566666.6666666665,
          10000000,
          5522847.222222222,
          5522847.222222222,
          2200000,
          9500000,
          4800000,
          8500000,
          32500000,
          2300000,
          2200000,
          4000000,
          3800000,
          4800000,
          6500000,
          1900000,
          2500000,
          14000000,
          2950000,
          9200000,
          4900000,
          8500000,
          2800000,
          3000000,
          1450000,
          6500000,
          2600000,
          5522847.222222222,
          4800000,
          2800000,
          5522847.222222222,
          7600000,
          270000,
          7500000,
          3500000,
          3900000,
          1550000,
          3400000,
          5500000,
          4000000,
          2600000,
          1800000
         ],
         "yaxis": "y"
        },
        {
         "hovertemplate": "Type=Maison<br>Quartier=%{x}<br>Price=%{y}<extra></extra>",
         "legendgroup": "Maison",
         "marker": {
          "color": "#00cc96",
          "symbol": "circle"
         },
         "mode": "markers",
         "name": "Maison",
         "orientation": "v",
         "showlegend": true,
         "type": "scatter",
         "x": [
          "Haut Anza",
          "Talborjt",
          "Hay Dakhla",
          "Hay Salam",
          "Hay Al Wafaa",
          "Talborjt",
          "Riad Salam",
          "Taddart Anza",
          "Haut Anza",
          "Tilila",
          "Cité Adrar",
          "Ben Serguaou",
          "Lekhiam",
          "Haut Anza",
          "Hay Dakhla",
          "Tilila",
          "Al Wifaq",
          "Ben Serguaou",
          "Talborjt",
          "Cité Adrar",
          "Hay Dakhla",
          "Hay Massira",
          "Charaf",
          "Cité Adrar",
          "Cité Adrar",
          "Zone Industrielle Agadir",
          "Hay Salam",
          "Hay Massira",
          "Hay Houda",
          "Lekhiam",
          "Al Wifaq",
          "Cité Adrar",
          "Founti",
          "Cité Adrar",
          "Hay Salam",
          "Haut Founty",
          "Abattoirs",
          "Hay Mohammadi",
          "Tikiouine",
          "Al Wifaq",
          "Cité Adrar",
          "Charaf",
          "Hay Mohammadi",
          "Lekhiam",
          "Riad Salam",
          "Secteur Touristique",
          "Riad Salam",
          "Tilila",
          "Secteur Touristique",
          "Lekhiam",
          "Taddart Anza",
          "Hay Mohammadi",
          "Hay Massira",
          "Ville Nouvelle",
          "Hay Qods",
          "Bouargane",
          "Hay Al Wafaa",
          "Anza",
          "Hay Qods",
          "Hay Mohammadi",
          "Riad Salam",
          "Hay Salam",
          "Hay Mohammadi",
          "Extension Dakhla",
          "Bouargane",
          "Riad Salam",
          "Al Wifaq",
          "Hay Dakhla",
          "Hay Mohammadi",
          "Al Wifaq",
          "Hay Dakhla",
          "Talborjt",
          "Hay Dakhla",
          "Tikiouine",
          "Hay Salam",
          "Talborjt",
          "Ben Serguaou",
          "Hay Al Wafaa",
          "Hay Mohammadi",
          "Cité Adrar",
          "Hay Salam",
          "Secteur Touristique",
          "Anza",
          "Hay Mohammadi",
          "Hay Salam",
          "Hay Qods",
          "Hay Mohammadi",
          "Abattoirs",
          "Zone Industrielle Agadir",
          "Riad Salam",
          "Hay Massira",
          "Riad Salam",
          "Al Wifaq",
          "Tikiouine",
          "Hay Mohammadi",
          "Tikiouine",
          "Abattoirs",
          "Anza",
          "Charaf",
          "Tilila",
          "Amicales",
          "Abattoirs",
          "Zone Industrielle Agadir"
         ],
         "xaxis": "x",
         "y": [
          960000,
          3000000,
          1600000,
          2300000,
          500000,
          4600000,
          3500000,
          1320000,
          1320000,
          2900000,
          1200000,
          1800000,
          1250000,
          960000,
          2000000,
          3000000,
          3500000,
          2600000,
          1300000,
          1900000,
          2400000,
          1500000,
          1700000,
          1000000,
          3200000,
          2400000,
          6500000,
          2600000,
          1700000,
          1300000,
          2000000,
          1600000,
          1650000,
          2600000,
          2200000,
          3800000,
          725533.3333333334,
          1400000,
          2400000,
          2000000,
          2900000,
          2200000,
          1400000,
          1450000,
          2100000,
          3600000,
          3200000,
          2600000,
          3600000,
          1300000,
          1500000,
          4880000,
          1600000,
          46158363717.94872,
          1600000,
          1400000000,
          500000,
          2000000,
          1600000,
          2960000,
          2650000,
          1700000,
          3000000,
          3100000,
          1400000,
          1200000,
          2000000,
          6000000,
          6800000,
          3100000,
          2800000,
          4600000,
          1370000,
          980000,
          1966666.6666666667,
          3000000,
          1000000,
          500000,
          6400000,
          900000,
          1700000,
          2100000,
          2000000,
          1450000,
          1900000,
          1600000,
          3200000,
          751600,
          2100000,
          1800000,
          1700000,
          3400000,
          1950000,
          800000,
          3100000,
          460000,
          1200000,
          85000000,
          1700000,
          2200000,
          2600000,
          225000,
          1800000
         ],
         "yaxis": "y"
        }
       ],
       "layout": {
        "legend": {
         "title": {
          "text": "Type"
         },
         "tracegroupgap": 0
        },
        "template": {
         "data": {
          "bar": [
           {
            "error_x": {
             "color": "#2a3f5f"
            },
            "error_y": {
             "color": "#2a3f5f"
            },
            "marker": {
             "line": {
              "color": "#E5ECF6",
              "width": 0.5
             },
             "pattern": {
              "fillmode": "overlay",
              "size": 10,
              "solidity": 0.2
             }
            },
            "type": "bar"
           }
          ],
          "barpolar": [
           {
            "marker": {
             "line": {
              "color": "#E5ECF6",
              "width": 0.5
             },
             "pattern": {
              "fillmode": "overlay",
              "size": 10,
              "solidity": 0.2
             }
            },
            "type": "barpolar"
           }
          ],
          "carpet": [
           {
            "aaxis": {
             "endlinecolor": "#2a3f5f",
             "gridcolor": "white",
             "linecolor": "white",
             "minorgridcolor": "white",
             "startlinecolor": "#2a3f5f"
            },
            "baxis": {
             "endlinecolor": "#2a3f5f",
             "gridcolor": "white",
             "linecolor": "white",
             "minorgridcolor": "white",
             "startlinecolor": "#2a3f5f"
            },
            "type": "carpet"
           }
          ],
          "choropleth": [
           {
            "colorbar": {
             "outlinewidth": 0,
             "ticks": ""
            },
            "type": "choropleth"
           }
          ],
          "contour": [
           {
            "colorbar": {
             "outlinewidth": 0,
             "ticks": ""
            },
            "colorscale": [
             [
              0,
              "#0d0887"
             ],
             [
              0.1111111111111111,
              "#46039f"
             ],
             [
              0.2222222222222222,
              "#7201a8"
             ],
             [
              0.3333333333333333,
              "#9c179e"
             ],
             [
              0.4444444444444444,
              "#bd3786"
             ],
             [
              0.5555555555555556,
              "#d8576b"
             ],
             [
              0.6666666666666666,
              "#ed7953"
             ],
             [
              0.7777777777777778,
              "#fb9f3a"
             ],
             [
              0.8888888888888888,
              "#fdca26"
             ],
             [
              1,
              "#f0f921"
             ]
            ],
            "type": "contour"
           }
          ],
          "contourcarpet": [
           {
            "colorbar": {
             "outlinewidth": 0,
             "ticks": ""
            },
            "type": "contourcarpet"
           }
          ],
          "heatmap": [
           {
            "colorbar": {
             "outlinewidth": 0,
             "ticks": ""
            },
            "colorscale": [
             [
              0,
              "#0d0887"
             ],
             [
              0.1111111111111111,
              "#46039f"
             ],
             [
              0.2222222222222222,
              "#7201a8"
             ],
             [
              0.3333333333333333,
              "#9c179e"
             ],
             [
              0.4444444444444444,
              "#bd3786"
             ],
             [
              0.5555555555555556,
              "#d8576b"
             ],
             [
              0.6666666666666666,
              "#ed7953"
             ],
             [
              0.7777777777777778,
              "#fb9f3a"
             ],
             [
              0.8888888888888888,
              "#fdca26"
             ],
             [
              1,
              "#f0f921"
             ]
            ],
            "type": "heatmap"
           }
          ],
          "heatmapgl": [
           {
            "colorbar": {
             "outlinewidth": 0,
             "ticks": ""
            },
            "colorscale": [
             [
              0,
              "#0d0887"
             ],
             [
              0.1111111111111111,
              "#46039f"
             ],
             [
              0.2222222222222222,
              "#7201a8"
             ],
             [
              0.3333333333333333,
              "#9c179e"
             ],
             [
              0.4444444444444444,
              "#bd3786"
             ],
             [
              0.5555555555555556,
              "#d8576b"
             ],
             [
              0.6666666666666666,
              "#ed7953"
             ],
             [
              0.7777777777777778,
              "#fb9f3a"
             ],
             [
              0.8888888888888888,
              "#fdca26"
             ],
             [
              1,
              "#f0f921"
             ]
            ],
            "type": "heatmapgl"
           }
          ],
          "histogram": [
           {
            "marker": {
             "pattern": {
              "fillmode": "overlay",
              "size": 10,
              "solidity": 0.2
             }
            },
            "type": "histogram"
           }
          ],
          "histogram2d": [
           {
            "colorbar": {
             "outlinewidth": 0,
             "ticks": ""
            },
            "colorscale": [
             [
              0,
              "#0d0887"
             ],
             [
              0.1111111111111111,
              "#46039f"
             ],
             [
              0.2222222222222222,
              "#7201a8"
             ],
             [
              0.3333333333333333,
              "#9c179e"
             ],
             [
              0.4444444444444444,
              "#bd3786"
             ],
             [
              0.5555555555555556,
              "#d8576b"
             ],
             [
              0.6666666666666666,
              "#ed7953"
             ],
             [
              0.7777777777777778,
              "#fb9f3a"
             ],
             [
              0.8888888888888888,
              "#fdca26"
             ],
             [
              1,
              "#f0f921"
             ]
            ],
            "type": "histogram2d"
           }
          ],
          "histogram2dcontour": [
           {
            "colorbar": {
             "outlinewidth": 0,
             "ticks": ""
            },
            "colorscale": [
             [
              0,
              "#0d0887"
             ],
             [
              0.1111111111111111,
              "#46039f"
             ],
             [
              0.2222222222222222,
              "#7201a8"
             ],
             [
              0.3333333333333333,
              "#9c179e"
             ],
             [
              0.4444444444444444,
              "#bd3786"
             ],
             [
              0.5555555555555556,
              "#d8576b"
             ],
             [
              0.6666666666666666,
              "#ed7953"
             ],
             [
              0.7777777777777778,
              "#fb9f3a"
             ],
             [
              0.8888888888888888,
              "#fdca26"
             ],
             [
              1,
              "#f0f921"
             ]
            ],
            "type": "histogram2dcontour"
           }
          ],
          "mesh3d": [
           {
            "colorbar": {
             "outlinewidth": 0,
             "ticks": ""
            },
            "type": "mesh3d"
           }
          ],
          "parcoords": [
           {
            "line": {
             "colorbar": {
              "outlinewidth": 0,
              "ticks": ""
             }
            },
            "type": "parcoords"
           }
          ],
          "pie": [
           {
            "automargin": true,
            "type": "pie"
           }
          ],
          "scatter": [
           {
            "fillpattern": {
             "fillmode": "overlay",
             "size": 10,
             "solidity": 0.2
            },
            "type": "scatter"
           }
          ],
          "scatter3d": [
           {
            "line": {
             "colorbar": {
              "outlinewidth": 0,
              "ticks": ""
             }
            },
            "marker": {
             "colorbar": {
              "outlinewidth": 0,
              "ticks": ""
             }
            },
            "type": "scatter3d"
           }
          ],
          "scattercarpet": [
           {
            "marker": {
             "colorbar": {
              "outlinewidth": 0,
              "ticks": ""
             }
            },
            "type": "scattercarpet"
           }
          ],
          "scattergeo": [
           {
            "marker": {
             "colorbar": {
              "outlinewidth": 0,
              "ticks": ""
             }
            },
            "type": "scattergeo"
           }
          ],
          "scattergl": [
           {
            "marker": {
             "colorbar": {
              "outlinewidth": 0,
              "ticks": ""
             }
            },
            "type": "scattergl"
           }
          ],
          "scattermapbox": [
           {
            "marker": {
             "colorbar": {
              "outlinewidth": 0,
              "ticks": ""
             }
            },
            "type": "scattermapbox"
           }
          ],
          "scatterpolar": [
           {
            "marker": {
             "colorbar": {
              "outlinewidth": 0,
              "ticks": ""
             }
            },
            "type": "scatterpolar"
           }
          ],
          "scatterpolargl": [
           {
            "marker": {
             "colorbar": {
              "outlinewidth": 0,
              "ticks": ""
             }
            },
            "type": "scatterpolargl"
           }
          ],
          "scatterternary": [
           {
            "marker": {
             "colorbar": {
              "outlinewidth": 0,
              "ticks": ""
             }
            },
            "type": "scatterternary"
           }
          ],
          "surface": [
           {
            "colorbar": {
             "outlinewidth": 0,
             "ticks": ""
            },
            "colorscale": [
             [
              0,
              "#0d0887"
             ],
             [
              0.1111111111111111,
              "#46039f"
             ],
             [
              0.2222222222222222,
              "#7201a8"
             ],
             [
              0.3333333333333333,
              "#9c179e"
             ],
             [
              0.4444444444444444,
              "#bd3786"
             ],
             [
              0.5555555555555556,
              "#d8576b"
             ],
             [
              0.6666666666666666,
              "#ed7953"
             ],
             [
              0.7777777777777778,
              "#fb9f3a"
             ],
             [
              0.8888888888888888,
              "#fdca26"
             ],
             [
              1,
              "#f0f921"
             ]
            ],
            "type": "surface"
           }
          ],
          "table": [
           {
            "cells": {
             "fill": {
              "color": "#EBF0F8"
             },
             "line": {
              "color": "white"
             }
            },
            "header": {
             "fill": {
              "color": "#C8D4E3"
             },
             "line": {
              "color": "white"
             }
            },
            "type": "table"
           }
          ]
         },
         "layout": {
          "annotationdefaults": {
           "arrowcolor": "#2a3f5f",
           "arrowhead": 0,
           "arrowwidth": 1
          },
          "autotypenumbers": "strict",
          "coloraxis": {
           "colorbar": {
            "outlinewidth": 0,
            "ticks": ""
           }
          },
          "colorscale": {
           "diverging": [
            [
             0,
             "#8e0152"
            ],
            [
             0.1,
             "#c51b7d"
            ],
            [
             0.2,
             "#de77ae"
            ],
            [
             0.3,
             "#f1b6da"
            ],
            [
             0.4,
             "#fde0ef"
            ],
            [
             0.5,
             "#f7f7f7"
            ],
            [
             0.6,
             "#e6f5d0"
            ],
            [
             0.7,
             "#b8e186"
            ],
            [
             0.8,
             "#7fbc41"
            ],
            [
             0.9,
             "#4d9221"
            ],
            [
             1,
             "#276419"
            ]
           ],
           "sequential": [
            [
             0,
             "#0d0887"
            ],
            [
             0.1111111111111111,
             "#46039f"
            ],
            [
             0.2222222222222222,
             "#7201a8"
            ],
            [
             0.3333333333333333,
             "#9c179e"
            ],
            [
             0.4444444444444444,
             "#bd3786"
            ],
            [
             0.5555555555555556,
             "#d8576b"
            ],
            [
             0.6666666666666666,
             "#ed7953"
            ],
            [
             0.7777777777777778,
             "#fb9f3a"
            ],
            [
             0.8888888888888888,
             "#fdca26"
            ],
            [
             1,
             "#f0f921"
            ]
           ],
           "sequentialminus": [
            [
             0,
             "#0d0887"
            ],
            [
             0.1111111111111111,
             "#46039f"
            ],
            [
             0.2222222222222222,
             "#7201a8"
            ],
            [
             0.3333333333333333,
             "#9c179e"
            ],
            [
             0.4444444444444444,
             "#bd3786"
            ],
            [
             0.5555555555555556,
             "#d8576b"
            ],
            [
             0.6666666666666666,
             "#ed7953"
            ],
            [
             0.7777777777777778,
             "#fb9f3a"
            ],
            [
             0.8888888888888888,
             "#fdca26"
            ],
            [
             1,
             "#f0f921"
            ]
           ]
          },
          "colorway": [
           "#636efa",
           "#EF553B",
           "#00cc96",
           "#ab63fa",
           "#FFA15A",
           "#19d3f3",
           "#FF6692",
           "#B6E880",
           "#FF97FF",
           "#FECB52"
          ],
          "font": {
           "color": "#2a3f5f"
          },
          "geo": {
           "bgcolor": "white",
           "lakecolor": "white",
           "landcolor": "#E5ECF6",
           "showlakes": true,
           "showland": true,
           "subunitcolor": "white"
          },
          "hoverlabel": {
           "align": "left"
          },
          "hovermode": "closest",
          "mapbox": {
           "style": "light"
          },
          "paper_bgcolor": "white",
          "plot_bgcolor": "#E5ECF6",
          "polar": {
           "angularaxis": {
            "gridcolor": "white",
            "linecolor": "white",
            "ticks": ""
           },
           "bgcolor": "#E5ECF6",
           "radialaxis": {
            "gridcolor": "white",
            "linecolor": "white",
            "ticks": ""
           }
          },
          "scene": {
           "xaxis": {
            "backgroundcolor": "#E5ECF6",
            "gridcolor": "white",
            "gridwidth": 2,
            "linecolor": "white",
            "showbackground": true,
            "ticks": "",
            "zerolinecolor": "white"
           },
           "yaxis": {
            "backgroundcolor": "#E5ECF6",
            "gridcolor": "white",
            "gridwidth": 2,
            "linecolor": "white",
            "showbackground": true,
            "ticks": "",
            "zerolinecolor": "white"
           },
           "zaxis": {
            "backgroundcolor": "#E5ECF6",
            "gridcolor": "white",
            "gridwidth": 2,
            "linecolor": "white",
            "showbackground": true,
            "ticks": "",
            "zerolinecolor": "white"
           }
          },
          "shapedefaults": {
           "line": {
            "color": "#2a3f5f"
           }
          },
          "ternary": {
           "aaxis": {
            "gridcolor": "white",
            "linecolor": "white",
            "ticks": ""
           },
           "baxis": {
            "gridcolor": "white",
            "linecolor": "white",
            "ticks": ""
           },
           "bgcolor": "#E5ECF6",
           "caxis": {
            "gridcolor": "white",
            "linecolor": "white",
            "ticks": ""
           }
          },
          "title": {
           "x": 0.05
          },
          "xaxis": {
           "automargin": true,
           "gridcolor": "white",
           "linecolor": "white",
           "ticks": "",
           "title": {
            "standoff": 15
           },
           "zerolinecolor": "white",
           "zerolinewidth": 2
          },
          "yaxis": {
           "automargin": true,
           "gridcolor": "white",
           "linecolor": "white",
           "ticks": "",
           "title": {
            "standoff": 15
           },
           "zerolinecolor": "white",
           "zerolinewidth": 2
          }
         }
        },
        "title": {
         "text": "Price vs. Area"
        },
        "xaxis": {
         "anchor": "y",
         "domain": [
          0,
          1
         ],
         "title": {
          "text": "Quartier"
         }
        },
        "yaxis": {
         "anchor": "x",
         "domain": [
          0,
          1
         ],
         "title": {
          "text": "Price"
         }
        }
       }
      }
     },
     "metadata": {},
     "output_type": "display_data"
    }
   ],
   "source": [
    "px.scatter(cleaned_data, x='Quartier', y='Price', color='Type', title='Price vs. Area')"
   ]
  },
  {
   "cell_type": "code",
   "execution_count": 60,
   "metadata": {},
   "outputs": [],
   "source": [
    "cleaned_data = cleaned_data[cleaned_data['Price'] != 32500000 ]"
   ]
  },
  {
   "cell_type": "code",
   "execution_count": 61,
   "metadata": {},
   "outputs": [
    {
     "data": {
      "application/vnd.plotly.v1+json": {
       "config": {
        "plotlyServerURL": "https://plot.ly"
       },
       "data": [
        {
         "hovertemplate": "Type=Appartement<br>Quartier=%{x}<br>Price=%{y}<extra></extra>",
         "legendgroup": "Appartement",
         "marker": {
          "color": "#636efa",
          "symbol": "circle"
         },
         "mode": "markers",
         "name": "Appartement",
         "orientation": "v",
         "showlegend": true,
         "type": "scatter",
         "x": [
          "Secteur Touristique",
          "Hay Mohammadi",
          "Hay Mohammadi",
          "Hay Mohammadi",
          "Hay Mohammadi",
          "Hay Houda",
          "Abattoirs",
          "Hay Salam",
          "Hay Dakhla",
          "Hay Mohammadi",
          "Taddart Anza",
          "Hay Mohammadi",
          "Amsernate",
          "Riad Salam",
          "Hay Salam",
          "Hay Salam",
          "Hay Houda",
          "Hay Salam",
          "Hay Mohammadi",
          "Ville Nouvelle",
          "Founti",
          "Talborjt",
          "Secteur Touristique",
          "Ville Nouvelle",
          "Founti",
          "Haut Founty",
          "Haut Founty",
          "Secteur Touristique",
          "Haut Founty",
          "Hay Mohammadi",
          "Riad Salam",
          "Founti",
          "Hay Salam",
          "Tilila",
          "Hay Houda",
          "Hay Mohammadi",
          "Secteur Touristique",
          "Founti",
          "Zone Industrielle Agadir",
          "Hay Salam",
          "Hay Mohammadi",
          "Hay Mohammadi",
          "Hay Salam",
          "Haut Founty",
          "Secteur Touristique",
          "Secteur Touristique",
          "Hay Mohammadi",
          "Hay Mohammadi",
          "Al Wifaq",
          "Hay Houda",
          "Hay Mohammadi",
          "Haut Anza",
          "Hay Dakhla",
          "Amsernate",
          "Hay Najah",
          "Hay Mohammadi",
          "Abattoirs",
          "Secteur Touristique",
          "Hay Dakhla",
          "Founti",
          "Amsernate",
          "Secteur Touristique",
          "Hay Dakhla",
          "Hay Mohammadi",
          "Hay Houda",
          "Taddart Anza",
          "Hay Mohammadi",
          "Hay Mohammadi",
          "Hay Mohammadi",
          "Founti",
          "Secteur Touristique",
          "Haut Founty",
          "Lekhiam",
          "Zone Industrielle Agadir",
          "Cité Adrar",
          "Secteur Touristique",
          "Hay Salam",
          "Riad Salam",
          "Hay Mohammadi",
          "Tilila",
          "Hay Mohammadi",
          "Hay Mohammadi",
          "Hay Mohammadi",
          "Haut Founty",
          "Hay Mohammadi",
          "Hay Mohammadi",
          "Hay Mohammadi",
          "Hay Salam",
          "Hay Houda",
          "Hay Mohammadi",
          "Hay Mohammadi",
          "Hay Houda",
          "Hay Mohammadi",
          "Anza",
          "Hay Mohammadi",
          "Hay Houda",
          "Hay Mohammadi",
          "Ville Nouvelle",
          "Hay Salam",
          "Tilila",
          "Bouargane",
          "Hay Mohammadi",
          "Anza",
          "Secteur Touristique",
          "Hay Salam",
          "Hay Salam",
          "Amsernate",
          "Hay Mohammadi",
          "Riad Salam",
          "Hay Mohammadi",
          "Riad Salam",
          "Hay Mohammadi",
          "Secteur Touristique",
          "Hay Houda",
          "Cité Adrar",
          "Tilila",
          "Hay Houda",
          "Amsernate",
          "Hay Mohammadi",
          "Hay Salam",
          "Hay Mohammadi",
          "Hay Mohammadi",
          "Hay Dakhla",
          "Hay Salam",
          "Haut Anza",
          "Hay Mohammadi",
          "Hay Salam",
          "Hay Dakhla",
          "Secteur Touristique",
          "Hay Massira",
          "Talborjt",
          "Founti",
          "Riad Salam",
          "Founti",
          "Haut Founty",
          "Tilila",
          "Hay Houda",
          "Al Wifaq",
          "Hay Mohammadi",
          "Hay Salam",
          "Haut Founty",
          "Secteur Touristique",
          "Hay Massira",
          "Riad Salam",
          "Lekhiam",
          "Hay Mohammadi",
          "Extension Dakhla",
          "Hay Houda",
          "Ben Serguaou",
          "Lekhiam",
          "Amicales",
          "Founti",
          "Riad Salam",
          "Hay Mohammadi",
          "Secteur Touristique",
          "Founti",
          "Hay Salam",
          "Abattoirs",
          "Hay Salam",
          "Hay Salam",
          "Secteur Touristique",
          "Hay Mohammadi",
          "Hay Salam",
          "Hay Mohammadi",
          "Hay Mohammadi",
          "Cité Adrar",
          "Hay Houda",
          "Riad Salam",
          "Hay Mohammadi",
          "Hay Salam",
          "Hay Al Farah",
          "Hay Salam",
          "Haut Founty",
          "Riad Salam",
          "Hay Mohammadi",
          "Hay Mohammadi",
          "Hay Mohammadi",
          "Hay Mohammadi",
          "Hay Mohammadi",
          "Haut Founty",
          "Hay Al Farah",
          "Hay Houda",
          "Hay Houda",
          "Talborjt",
          "Hay Mohammadi",
          "Haut Founty",
          "Secteur Touristique",
          "Haut Founty",
          "Hay Mohammadi",
          "Hay Mohammadi",
          "Hay Salam",
          "Ville Nouvelle",
          "Anza",
          "Hay Mohammadi",
          "Al Wifaq",
          "Riad Salam",
          "Tilila",
          "Hay Mohammadi",
          "Hay Salam",
          "Cité Adrar",
          "Hay Dakhla",
          "Hay Mohammadi",
          "Al Wifaq",
          "Ville Nouvelle",
          "Hay Salam",
          "Founti",
          "Founti",
          "Haut Founty",
          "Founti",
          "Talborjt",
          "Extension Dakhla",
          "Hay Houda",
          "Hay Mohammadi",
          "Hay Houda",
          "Abattoirs",
          "Founti",
          "Talborjt",
          "Haut Anza",
          "Secteur Touristique",
          "Hay Mohammadi",
          "Tilila",
          "Hay Houda",
          "Zone Industrielle Agadir",
          "Hay Mohammadi",
          "Hay Mohammadi",
          "Hay Qods",
          "Hay Mohammadi",
          "Amicales",
          "Hay Mohammadi",
          "Hay Houda",
          "Hay Salam",
          "Extension Dakhla",
          "Hay Mohammadi",
          "Founti",
          "Hay Dakhla",
          "Hay Salam",
          "Ben Serguaou",
          "Ville Nouvelle",
          "Zone Industrielle Agadir",
          "Founti",
          "Hay Houda",
          "Hay Mohammadi",
          "Hay Mohammadi",
          "Hay Houda",
          "Hay Mohammadi",
          "Ben Serguaou",
          "Hay Mohammadi",
          "Hay Qods",
          "Hay Mohammadi",
          "Hay Mohammadi",
          "Hay Mohammadi",
          "Hay Mohammadi",
          "Ville Nouvelle",
          "Hay Mohammadi",
          "Haut Founty",
          "Hay Salam",
          "Hay Houda",
          "Abattoirs",
          "Taddart",
          "Hay Massira",
          "Secteur Touristique",
          "Hay Salam",
          "Haut Founty",
          "Hay Dakhla",
          "Hay Houda",
          "Hay Houda",
          "Cité Adrar",
          "Founti",
          "Secteur Touristique",
          "Tikiouine",
          "Hay Houda",
          "Hay Mohammadi",
          "Hay Houda",
          "Hay Mohammadi",
          "Cité Adrar",
          "Haut Founty",
          "Hay Salam",
          "Hay Mohammadi",
          "Secteur Touristique",
          "Hay Dakhla",
          "Hay Salam",
          "Hay Mohammadi",
          "Zone Industrielle Agadir",
          "Haut Founty",
          "Hay Salam",
          "Hay Massira",
          "Hay Mohammadi",
          "Ben Serguaou",
          "Tilila",
          "Hay Mohammadi",
          "Hay Mohammadi",
          "Hay Mohammadi",
          "Hay Mohammadi",
          "Hay Salam",
          "Hay Salam",
          "Hay Mohammadi",
          "Secteur Touristique",
          "Hay Salam",
          "Founti",
          "Hay Dakhla",
          "Hay Salam",
          "Hay Mohammadi",
          "Tilila",
          "Hay Mohammadi",
          "Haut Founty",
          "Hay Mohammadi",
          "Hay Houda",
          "Hay Dakhla",
          "Tilila",
          "Hay Salam",
          "Hay Houda",
          "Hay Salam",
          "Haut Anza",
          "Haut Founty",
          "Hay Mohammadi",
          "Hay Houda",
          "Hay Mohammadi",
          "Hay Mohammadi",
          "Ben Serguaou",
          "Tilila",
          "Hay Mohammadi",
          "Hay Mohammadi",
          "Founti",
          "Haut Anza",
          "Tilila",
          "Hay Houda",
          "Hay Mohammadi",
          "Zone Industrielle Agadir",
          "Tilila",
          "Hay Mohammadi",
          "Ben Serguaou",
          "Tilila",
          "Abattoirs",
          "Hay Salam",
          "Charaf",
          "Founti",
          "Hay Mohammadi",
          "Secteur Touristique",
          "Zone Industrielle Agadir",
          "Hay Salam",
          "Abattoirs",
          "Hay Mohammadi",
          "Secteur Touristique",
          "Riad Salam",
          "Secteur Touristique",
          "Ville Nouvelle",
          "Hay Mohammadi",
          "Hay Salam",
          "Hay Mohammadi",
          "Haut Anza",
          "Hay Al Wafaa",
          "Hay Mohammadi",
          "Hay Dakhla",
          "Hay Al Farah",
          "Hay Mohammadi",
          "Hay Houda",
          "Hay Salam",
          "Cité Adrar",
          "Abattoirs",
          "Hay Mohammadi",
          "Talborjt",
          "Hay Najah",
          "Hay Al Wafaa",
          "Secteur Touristique",
          "Extension Dakhla",
          "Hay Al Farah",
          "Hay Mohammadi",
          "Hay Houda",
          "Hay Salam",
          "Abattoirs",
          "Hay Mohammadi",
          "Secteur Touristique",
          "Hay Mohammadi",
          "Haut Founty",
          "Amsernate",
          "Tilila",
          "Cité Adrar",
          "Cité Adrar",
          "Hay Mohammadi",
          "Secteur Touristique",
          "Hay Dakhla",
          "Hay Al Farah",
          "Secteur Touristique",
          "Tilila",
          "Hay Mohammadi",
          "Al Wifaq",
          "Amsernate",
          "Hay Salam",
          "Ville Nouvelle",
          "Hay Mohammadi",
          "Hay Mohammadi",
          "Hay Mohammadi",
          "Hay Mohammadi",
          "Hay Mohammadi",
          "Hay Mohammadi",
          "Hay Mohammadi",
          "Haut Founty",
          "Hay Mohammadi",
          "Hay Mohammadi",
          "Hay Houda",
          "Hay Mohammadi",
          "Hay Mohammadi",
          "Hay Salam",
          "Hay Dakhla",
          "Amsernate",
          "Bouargane",
          "Hay Houda",
          "Haut Founty",
          "Hay Mohammadi",
          "Hay Salam",
          "Hay Mohammadi",
          "Hay Mohammadi",
          "Hay Mohammadi",
          "Al Wifaq",
          "Al Wifaq",
          "Hay Mohammadi",
          "Hay Mohammadi",
          "Abattoirs",
          "Taddart Anza",
          "Hay Mohammadi",
          "Tilila",
          "Hay Salam",
          "Riad Salam",
          "Hay Houda",
          "Hay Mohammadi",
          "Hay Mohammadi",
          "Hay Salam",
          "Hay Salam",
          "Riad Salam",
          "Secteur Touristique",
          "Tilila",
          "Founti",
          "Hay Salam",
          "Bouargane",
          "Hay Najah",
          "Hay Salam",
          "Hay Mohammadi",
          "Hay Mohammadi",
          "Tilila",
          "Hay Salam",
          "Hay Mohammadi",
          "Ville Nouvelle",
          "Hay Dakhla",
          "Hay Dakhla",
          "Extension Dakhla",
          "Hay Mohammadi",
          "Hay Qods",
          "Hay Salam",
          "Anza",
          "Abattoirs",
          "Amicales",
          "Al Wifaq",
          "Hay Mohammadi",
          "Hay Mohammadi",
          "Al Wifaq",
          "Hay Houda",
          "Tilila",
          "Hay Mohammadi",
          "Hay Mohammadi",
          "Hay Salam",
          "Hay Mohammadi",
          "Cité Adrar",
          "Hay Mohammadi",
          "Hay Al Farah",
          "Hay Mohammadi",
          "Hay Houda",
          "Anza",
          "Hay Mohammadi",
          "Al Wifaq",
          "Hay Salam",
          "Hay Dakhla",
          "Hay Houda",
          "Hay Mohammadi",
          "Hay Houda",
          "Hay Mohammadi",
          "Extension Dakhla",
          "Hay Salam",
          "Hay Salam",
          "Al Wifaq",
          "Taddart Anza",
          "Hay Mohammadi",
          "Hay Massira",
          "Anza",
          "Cité Adrar",
          "Hay Mohammadi",
          "Hay Houda"
         ],
         "xaxis": "x",
         "y": [
          2600000,
          500000,
          1100000,
          380000,
          600000,
          680000,
          850000,
          680000,
          510000,
          510000,
          460000,
          1950000,
          620000,
          770000,
          520000,
          570000,
          700000,
          630000,
          420000,
          1600000,
          5900000,
          1550000,
          1900000,
          2500000,
          2500000,
          2450000,
          1250000,
          2950000,
          3700000,
          680000,
          1500000,
          2600000,
          860000,
          840000,
          800000,
          1200000,
          3400000,
          1700000,
          1357000,
          560000,
          960000,
          380000,
          560000,
          1170000,
          1900000,
          1800000,
          550000,
          1100000,
          1150000,
          1100000,
          800000,
          560000,
          650000,
          770000,
          1000000,
          590000,
          1030000,
          3250000,
          900000,
          1750000,
          900000,
          2750000,
          1750000,
          590000,
          928571.4285714284,
          680000,
          800000,
          740000,
          660000,
          2850000,
          2000000,
          3200000,
          900000,
          900000,
          7500000,
          4600000,
          880000,
          1480000,
          660000,
          780000,
          881666.6666666666,
          434000,
          885000,
          700000,
          850000,
          670000,
          420000,
          670000,
          880000,
          1250000,
          530000,
          1860000,
          670000,
          1400000,
          1600000,
          1333333.3333333333,
          891750,
          600000,
          900000,
          780000,
          950000,
          885000,
          750000,
          2800000,
          680000,
          475000,
          650000,
          788369.2307692308,
          950000,
          1387500,
          1340000,
          570000,
          2590000,
          490000,
          350000,
          380000,
          860000,
          635000,
          420000,
          460000,
          570000,
          450000,
          968000,
          630000,
          300000,
          760000,
          750000,
          1750000,
          2000000,
          1200000,
          630000,
          2800000,
          1500000,
          1700000,
          1245000,
          800000,
          620000,
          900000,
          850000,
          520000,
          1440000,
          2800000,
          1200000,
          1307000,
          900000,
          770000,
          1100000,
          1000000,
          860000,
          800000,
          1530000,
          1500000,
          700000,
          950000,
          1750000,
          2600000,
          440000,
          935000,
          530000,
          540000,
          2800000,
          420000,
          560000,
          1300000,
          840000,
          780000,
          1200000,
          1400000,
          1000000,
          750000,
          840000,
          580000,
          1230000,
          1450000,
          770000,
          1100000,
          1460000,
          880000,
          620000,
          1650000,
          680000,
          490000,
          1250000,
          1370000,
          660000,
          2240000,
          2800000,
          1305500,
          600000,
          1300000,
          1650000,
          1400000,
          650000,
          1950000,
          900000,
          1500000,
          380000,
          670000,
          400000,
          4140000,
          1150000,
          520000,
          560000,
          950000,
          750000,
          2100000,
          3000000,
          1500000,
          3300000,
          1500000,
          1500000,
          1150000,
          670000,
          880000,
          1500000,
          2300000,
          1650000,
          520000,
          3246000,
          350000,
          850000,
          510000,
          560000,
          840000,
          490000,
          750000,
          760000,
          1600000,
          980000,
          587250,
          390000,
          1300000,
          850000,
          2300000,
          900000,
          527000,
          100000,
          5000000,
          640000,
          1900000,
          800000,
          1200000,
          1950000,
          500000,
          530000,
          1000000,
          960000,
          750000,
          440000,
          1700000,
          1050000,
          1250000,
          5970000,
          690000,
          1130000,
          550000,
          950000,
          1500000,
          1110000,
          1500000,
          1900000,
          650000,
          2425000,
          950000,
          930000,
          950000,
          600000,
          1550000,
          2600000,
          400000,
          587250,
          1350000,
          800000,
          550000,
          720000,
          1372500,
          520000,
          680000,
          1650000,
          770000,
          540000,
          881666.6666666666,
          1700000,
          800000,
          340000,
          710000,
          850000,
          400000,
          850000,
          960000,
          1580000,
          500000,
          1800000,
          530000,
          630000,
          910000,
          180000,
          520000,
          230000,
          1200000,
          560000,
          640000,
          15000,
          700000,
          1000000,
          360000,
          880000,
          550000,
          760000,
          490000,
          420000,
          520000,
          380000,
          1225287.5,
          575000,
          120000,
          600000,
          320000,
          350000,
          850000,
          980000,
          1500000,
          4450000,
          380000,
          480000,
          700000,
          420000,
          1000000,
          643000,
          500000,
          583333.3333333334,
          643000,
          795500,
          540000,
          1500000,
          4500000,
          950000,
          2200000,
          900000,
          660000,
          480000,
          510000,
          4800000,
          1128500,
          2750000,
          1600000,
          560000,
          600000,
          460000,
          450000,
          890000,
          420000,
          3200000,
          625000,
          1100000,
          1000000,
          700000,
          4140000,
          1380000,
          900000,
          800000,
          1350000,
          590000,
          1900000,
          580000,
          680000,
          583913.0434782609,
          1545000,
          640000,
          1070000,
          630000,
          1490000,
          680000,
          1200000,
          1600000,
          520000,
          790000,
          4140000,
          1100000,
          2750000,
          1675000,
          625000,
          1000000,
          600000,
          930000,
          620000,
          800000,
          450000,
          450000,
          950000,
          530000,
          510000,
          350000,
          420000,
          310000,
          1300000,
          980000,
          660000,
          580000,
          800000,
          510000,
          490000,
          650000,
          1050900,
          1600000,
          840000,
          380000,
          1225287.5,
          1400000,
          650000,
          610000,
          748800,
          900000,
          430000,
          430000,
          700000,
          1300000,
          1250000,
          330000,
          435000,
          1500000,
          750000,
          1450000,
          1300000,
          650000,
          1000000,
          340000,
          730000,
          960000,
          2200000,
          750000,
          1800000,
          650000,
          1500000,
          2150000,
          900000,
          2000000,
          520000,
          650000,
          36500,
          880000,
          1850000,
          814000,
          900000,
          480000,
          490000,
          750000,
          340000,
          1250000,
          1250000,
          1150000,
          480000,
          920000,
          630000,
          430000,
          380000,
          920000,
          924000,
          580000,
          510000,
          1040000,
          450000,
          600000,
          610000,
          980000,
          970000,
          1000000,
          630000,
          1150000,
          470000,
          950000,
          840000,
          850000,
          670000,
          1060000,
          1716000,
          650000,
          775000,
          1050000,
          490000,
          600000,
          920000,
          900000,
          450000,
          630000,
          1150000
         ],
         "yaxis": "y"
        },
        {
         "hovertemplate": "Type=Villa<br>Quartier=%{x}<br>Price=%{y}<extra></extra>",
         "legendgroup": "Villa",
         "marker": {
          "color": "#EF553B",
          "symbol": "circle"
         },
         "mode": "markers",
         "name": "Villa",
         "orientation": "v",
         "showlegend": true,
         "type": "scatter",
         "x": [
          "Illigh",
          "Siusse",
          "Founti",
          "Illigh",
          "Taddart",
          "Charaf",
          "Secteur Touristique",
          "Illigh",
          "Secteur Touristique",
          "Founti",
          "Founti",
          "Founti",
          "Founti",
          "Taddart",
          "Ben Serguaou",
          "Charaf",
          "Siusse",
          "Siusse",
          "Haut Founty",
          "Taddart",
          "Hay Dakhla",
          "Hay Mohammadi",
          "Secteur Touristique",
          "Ben Serguaou",
          "Founti",
          "Illigh",
          "Hay Najah",
          "Cité Adrar",
          "Taddart",
          "Illigh",
          "Founti",
          "Secteur Touristique",
          "Hay Najah",
          "Hay Houda",
          "Illigh",
          "Tilila",
          "Hay Najah",
          "Founti",
          "Hay Najah",
          "Hay Dakhla",
          "Illigh",
          "Tilila",
          "Ben Serguaou",
          "Hay Mohammadi",
          "Hay Dakhla",
          "Taddart Anza",
          "Founti",
          "Founti",
          "Charaf",
          "Tilila",
          "Tilila",
          "Charaf",
          "Tilila",
          "Hay Najah",
          "Ville Nouvelle",
          "Hay Mohammadi",
          "Founti",
          "Anza",
          "Hay Dakhla",
          "Illigh",
          "Al Wifaq",
          "Ville Nouvelle",
          "Hay Mohammadi",
          "Illigh",
          "Hay Najah",
          "Illigh",
          "Charaf",
          "Charaf",
          "Taddart",
          "Ben Serguaou",
          "Hay Najah",
          "Hay Najah",
          "Tilila",
          "Charaf",
          "Founti",
          "Tilila",
          "Siusse",
          "Ben Serguaou",
          "Illigh",
          "Secteur Touristique",
          "Founti",
          "Taddart Anza",
          "Illigh",
          "Tilila",
          "Al Wifaq",
          "Tilila",
          "Cité Adrar",
          "Tikiouine",
          "Founti",
          "Ben Serguaou",
          "Hay Houda",
          "Taddart",
          "Haut Founty",
          "Cité Adrar",
          "Hay Dakhla",
          "Ben Serguaou",
          "Hay Najah",
          "Hay Dakhla",
          "Illigh"
         ],
         "xaxis": "x",
         "y": [
          14500000,
          9700000,
          5700000,
          13000000,
          3200000,
          3000000,
          4800000,
          10500000,
          7800000,
          5966666.666666667,
          9000000,
          4400000,
          12000000,
          3000000,
          5300000,
          2000000,
          4800000,
          6800000,
          3700000,
          2900000,
          4800000,
          2960000,
          4900000,
          4500000,
          4500000,
          4800000,
          3900000,
          1600000,
          3300000,
          16000000,
          4500000,
          5700000,
          3400000,
          3800000,
          9525000,
          2500000,
          3400000,
          4900000,
          3600000,
          3300000,
          8500000,
          3000000,
          4550000,
          2950000,
          2700000,
          900000,
          5700000,
          6500000,
          1650000,
          1800000,
          2800000,
          2500000,
          4500000,
          4416666.666666667,
          5522847.222222222,
          5200000,
          3500000,
          2430000,
          3566666.6666666665,
          10000000,
          5522847.222222222,
          5522847.222222222,
          2200000,
          9500000,
          4800000,
          8500000,
          2300000,
          2200000,
          4000000,
          3800000,
          4800000,
          6500000,
          1900000,
          2500000,
          14000000,
          2950000,
          9200000,
          4900000,
          8500000,
          2800000,
          3000000,
          1450000,
          6500000,
          2600000,
          5522847.222222222,
          4800000,
          2800000,
          5522847.222222222,
          7600000,
          270000,
          7500000,
          3500000,
          3900000,
          1550000,
          3400000,
          5500000,
          4000000,
          2600000,
          1800000
         ],
         "yaxis": "y"
        },
        {
         "hovertemplate": "Type=Maison<br>Quartier=%{x}<br>Price=%{y}<extra></extra>",
         "legendgroup": "Maison",
         "marker": {
          "color": "#00cc96",
          "symbol": "circle"
         },
         "mode": "markers",
         "name": "Maison",
         "orientation": "v",
         "showlegend": true,
         "type": "scatter",
         "x": [
          "Haut Anza",
          "Talborjt",
          "Hay Dakhla",
          "Hay Salam",
          "Hay Al Wafaa",
          "Talborjt",
          "Riad Salam",
          "Taddart Anza",
          "Haut Anza",
          "Tilila",
          "Cité Adrar",
          "Ben Serguaou",
          "Lekhiam",
          "Haut Anza",
          "Hay Dakhla",
          "Tilila",
          "Al Wifaq",
          "Ben Serguaou",
          "Talborjt",
          "Cité Adrar",
          "Hay Dakhla",
          "Hay Massira",
          "Charaf",
          "Cité Adrar",
          "Cité Adrar",
          "Zone Industrielle Agadir",
          "Hay Salam",
          "Hay Massira",
          "Hay Houda",
          "Lekhiam",
          "Al Wifaq",
          "Cité Adrar",
          "Founti",
          "Cité Adrar",
          "Hay Salam",
          "Haut Founty",
          "Abattoirs",
          "Hay Mohammadi",
          "Tikiouine",
          "Al Wifaq",
          "Cité Adrar",
          "Charaf",
          "Hay Mohammadi",
          "Lekhiam",
          "Riad Salam",
          "Secteur Touristique",
          "Riad Salam",
          "Tilila",
          "Secteur Touristique",
          "Lekhiam",
          "Taddart Anza",
          "Hay Mohammadi",
          "Hay Massira",
          "Ville Nouvelle",
          "Hay Qods",
          "Bouargane",
          "Hay Al Wafaa",
          "Anza",
          "Hay Qods",
          "Hay Mohammadi",
          "Riad Salam",
          "Hay Salam",
          "Hay Mohammadi",
          "Extension Dakhla",
          "Bouargane",
          "Riad Salam",
          "Al Wifaq",
          "Hay Dakhla",
          "Hay Mohammadi",
          "Al Wifaq",
          "Hay Dakhla",
          "Talborjt",
          "Hay Dakhla",
          "Tikiouine",
          "Hay Salam",
          "Talborjt",
          "Ben Serguaou",
          "Hay Al Wafaa",
          "Hay Mohammadi",
          "Cité Adrar",
          "Hay Salam",
          "Secteur Touristique",
          "Anza",
          "Hay Mohammadi",
          "Hay Salam",
          "Hay Qods",
          "Hay Mohammadi",
          "Abattoirs",
          "Zone Industrielle Agadir",
          "Riad Salam",
          "Hay Massira",
          "Riad Salam",
          "Al Wifaq",
          "Tikiouine",
          "Hay Mohammadi",
          "Tikiouine",
          "Abattoirs",
          "Anza",
          "Charaf",
          "Tilila",
          "Amicales",
          "Abattoirs",
          "Zone Industrielle Agadir"
         ],
         "xaxis": "x",
         "y": [
          960000,
          3000000,
          1600000,
          2300000,
          500000,
          4600000,
          3500000,
          1320000,
          1320000,
          2900000,
          1200000,
          1800000,
          1250000,
          960000,
          2000000,
          3000000,
          3500000,
          2600000,
          1300000,
          1900000,
          2400000,
          1500000,
          1700000,
          1000000,
          3200000,
          2400000,
          6500000,
          2600000,
          1700000,
          1300000,
          2000000,
          1600000,
          1650000,
          2600000,
          2200000,
          3800000,
          725533.3333333334,
          1400000,
          2400000,
          2000000,
          2900000,
          2200000,
          1400000,
          1450000,
          2100000,
          3600000,
          3200000,
          2600000,
          3600000,
          1300000,
          1500000,
          4880000,
          1600000,
          46158363717.94872,
          1600000,
          1400000000,
          500000,
          2000000,
          1600000,
          2960000,
          2650000,
          1700000,
          3000000,
          3100000,
          1400000,
          1200000,
          2000000,
          6000000,
          6800000,
          3100000,
          2800000,
          4600000,
          1370000,
          980000,
          1966666.6666666667,
          3000000,
          1000000,
          500000,
          6400000,
          900000,
          1700000,
          2100000,
          2000000,
          1450000,
          1900000,
          1600000,
          3200000,
          751600,
          2100000,
          1800000,
          1700000,
          3400000,
          1950000,
          800000,
          3100000,
          460000,
          1200000,
          85000000,
          1700000,
          2200000,
          2600000,
          225000,
          1800000
         ],
         "yaxis": "y"
        }
       ],
       "layout": {
        "legend": {
         "title": {
          "text": "Type"
         },
         "tracegroupgap": 0
        },
        "template": {
         "data": {
          "bar": [
           {
            "error_x": {
             "color": "#2a3f5f"
            },
            "error_y": {
             "color": "#2a3f5f"
            },
            "marker": {
             "line": {
              "color": "#E5ECF6",
              "width": 0.5
             },
             "pattern": {
              "fillmode": "overlay",
              "size": 10,
              "solidity": 0.2
             }
            },
            "type": "bar"
           }
          ],
          "barpolar": [
           {
            "marker": {
             "line": {
              "color": "#E5ECF6",
              "width": 0.5
             },
             "pattern": {
              "fillmode": "overlay",
              "size": 10,
              "solidity": 0.2
             }
            },
            "type": "barpolar"
           }
          ],
          "carpet": [
           {
            "aaxis": {
             "endlinecolor": "#2a3f5f",
             "gridcolor": "white",
             "linecolor": "white",
             "minorgridcolor": "white",
             "startlinecolor": "#2a3f5f"
            },
            "baxis": {
             "endlinecolor": "#2a3f5f",
             "gridcolor": "white",
             "linecolor": "white",
             "minorgridcolor": "white",
             "startlinecolor": "#2a3f5f"
            },
            "type": "carpet"
           }
          ],
          "choropleth": [
           {
            "colorbar": {
             "outlinewidth": 0,
             "ticks": ""
            },
            "type": "choropleth"
           }
          ],
          "contour": [
           {
            "colorbar": {
             "outlinewidth": 0,
             "ticks": ""
            },
            "colorscale": [
             [
              0,
              "#0d0887"
             ],
             [
              0.1111111111111111,
              "#46039f"
             ],
             [
              0.2222222222222222,
              "#7201a8"
             ],
             [
              0.3333333333333333,
              "#9c179e"
             ],
             [
              0.4444444444444444,
              "#bd3786"
             ],
             [
              0.5555555555555556,
              "#d8576b"
             ],
             [
              0.6666666666666666,
              "#ed7953"
             ],
             [
              0.7777777777777778,
              "#fb9f3a"
             ],
             [
              0.8888888888888888,
              "#fdca26"
             ],
             [
              1,
              "#f0f921"
             ]
            ],
            "type": "contour"
           }
          ],
          "contourcarpet": [
           {
            "colorbar": {
             "outlinewidth": 0,
             "ticks": ""
            },
            "type": "contourcarpet"
           }
          ],
          "heatmap": [
           {
            "colorbar": {
             "outlinewidth": 0,
             "ticks": ""
            },
            "colorscale": [
             [
              0,
              "#0d0887"
             ],
             [
              0.1111111111111111,
              "#46039f"
             ],
             [
              0.2222222222222222,
              "#7201a8"
             ],
             [
              0.3333333333333333,
              "#9c179e"
             ],
             [
              0.4444444444444444,
              "#bd3786"
             ],
             [
              0.5555555555555556,
              "#d8576b"
             ],
             [
              0.6666666666666666,
              "#ed7953"
             ],
             [
              0.7777777777777778,
              "#fb9f3a"
             ],
             [
              0.8888888888888888,
              "#fdca26"
             ],
             [
              1,
              "#f0f921"
             ]
            ],
            "type": "heatmap"
           }
          ],
          "heatmapgl": [
           {
            "colorbar": {
             "outlinewidth": 0,
             "ticks": ""
            },
            "colorscale": [
             [
              0,
              "#0d0887"
             ],
             [
              0.1111111111111111,
              "#46039f"
             ],
             [
              0.2222222222222222,
              "#7201a8"
             ],
             [
              0.3333333333333333,
              "#9c179e"
             ],
             [
              0.4444444444444444,
              "#bd3786"
             ],
             [
              0.5555555555555556,
              "#d8576b"
             ],
             [
              0.6666666666666666,
              "#ed7953"
             ],
             [
              0.7777777777777778,
              "#fb9f3a"
             ],
             [
              0.8888888888888888,
              "#fdca26"
             ],
             [
              1,
              "#f0f921"
             ]
            ],
            "type": "heatmapgl"
           }
          ],
          "histogram": [
           {
            "marker": {
             "pattern": {
              "fillmode": "overlay",
              "size": 10,
              "solidity": 0.2
             }
            },
            "type": "histogram"
           }
          ],
          "histogram2d": [
           {
            "colorbar": {
             "outlinewidth": 0,
             "ticks": ""
            },
            "colorscale": [
             [
              0,
              "#0d0887"
             ],
             [
              0.1111111111111111,
              "#46039f"
             ],
             [
              0.2222222222222222,
              "#7201a8"
             ],
             [
              0.3333333333333333,
              "#9c179e"
             ],
             [
              0.4444444444444444,
              "#bd3786"
             ],
             [
              0.5555555555555556,
              "#d8576b"
             ],
             [
              0.6666666666666666,
              "#ed7953"
             ],
             [
              0.7777777777777778,
              "#fb9f3a"
             ],
             [
              0.8888888888888888,
              "#fdca26"
             ],
             [
              1,
              "#f0f921"
             ]
            ],
            "type": "histogram2d"
           }
          ],
          "histogram2dcontour": [
           {
            "colorbar": {
             "outlinewidth": 0,
             "ticks": ""
            },
            "colorscale": [
             [
              0,
              "#0d0887"
             ],
             [
              0.1111111111111111,
              "#46039f"
             ],
             [
              0.2222222222222222,
              "#7201a8"
             ],
             [
              0.3333333333333333,
              "#9c179e"
             ],
             [
              0.4444444444444444,
              "#bd3786"
             ],
             [
              0.5555555555555556,
              "#d8576b"
             ],
             [
              0.6666666666666666,
              "#ed7953"
             ],
             [
              0.7777777777777778,
              "#fb9f3a"
             ],
             [
              0.8888888888888888,
              "#fdca26"
             ],
             [
              1,
              "#f0f921"
             ]
            ],
            "type": "histogram2dcontour"
           }
          ],
          "mesh3d": [
           {
            "colorbar": {
             "outlinewidth": 0,
             "ticks": ""
            },
            "type": "mesh3d"
           }
          ],
          "parcoords": [
           {
            "line": {
             "colorbar": {
              "outlinewidth": 0,
              "ticks": ""
             }
            },
            "type": "parcoords"
           }
          ],
          "pie": [
           {
            "automargin": true,
            "type": "pie"
           }
          ],
          "scatter": [
           {
            "fillpattern": {
             "fillmode": "overlay",
             "size": 10,
             "solidity": 0.2
            },
            "type": "scatter"
           }
          ],
          "scatter3d": [
           {
            "line": {
             "colorbar": {
              "outlinewidth": 0,
              "ticks": ""
             }
            },
            "marker": {
             "colorbar": {
              "outlinewidth": 0,
              "ticks": ""
             }
            },
            "type": "scatter3d"
           }
          ],
          "scattercarpet": [
           {
            "marker": {
             "colorbar": {
              "outlinewidth": 0,
              "ticks": ""
             }
            },
            "type": "scattercarpet"
           }
          ],
          "scattergeo": [
           {
            "marker": {
             "colorbar": {
              "outlinewidth": 0,
              "ticks": ""
             }
            },
            "type": "scattergeo"
           }
          ],
          "scattergl": [
           {
            "marker": {
             "colorbar": {
              "outlinewidth": 0,
              "ticks": ""
             }
            },
            "type": "scattergl"
           }
          ],
          "scattermapbox": [
           {
            "marker": {
             "colorbar": {
              "outlinewidth": 0,
              "ticks": ""
             }
            },
            "type": "scattermapbox"
           }
          ],
          "scatterpolar": [
           {
            "marker": {
             "colorbar": {
              "outlinewidth": 0,
              "ticks": ""
             }
            },
            "type": "scatterpolar"
           }
          ],
          "scatterpolargl": [
           {
            "marker": {
             "colorbar": {
              "outlinewidth": 0,
              "ticks": ""
             }
            },
            "type": "scatterpolargl"
           }
          ],
          "scatterternary": [
           {
            "marker": {
             "colorbar": {
              "outlinewidth": 0,
              "ticks": ""
             }
            },
            "type": "scatterternary"
           }
          ],
          "surface": [
           {
            "colorbar": {
             "outlinewidth": 0,
             "ticks": ""
            },
            "colorscale": [
             [
              0,
              "#0d0887"
             ],
             [
              0.1111111111111111,
              "#46039f"
             ],
             [
              0.2222222222222222,
              "#7201a8"
             ],
             [
              0.3333333333333333,
              "#9c179e"
             ],
             [
              0.4444444444444444,
              "#bd3786"
             ],
             [
              0.5555555555555556,
              "#d8576b"
             ],
             [
              0.6666666666666666,
              "#ed7953"
             ],
             [
              0.7777777777777778,
              "#fb9f3a"
             ],
             [
              0.8888888888888888,
              "#fdca26"
             ],
             [
              1,
              "#f0f921"
             ]
            ],
            "type": "surface"
           }
          ],
          "table": [
           {
            "cells": {
             "fill": {
              "color": "#EBF0F8"
             },
             "line": {
              "color": "white"
             }
            },
            "header": {
             "fill": {
              "color": "#C8D4E3"
             },
             "line": {
              "color": "white"
             }
            },
            "type": "table"
           }
          ]
         },
         "layout": {
          "annotationdefaults": {
           "arrowcolor": "#2a3f5f",
           "arrowhead": 0,
           "arrowwidth": 1
          },
          "autotypenumbers": "strict",
          "coloraxis": {
           "colorbar": {
            "outlinewidth": 0,
            "ticks": ""
           }
          },
          "colorscale": {
           "diverging": [
            [
             0,
             "#8e0152"
            ],
            [
             0.1,
             "#c51b7d"
            ],
            [
             0.2,
             "#de77ae"
            ],
            [
             0.3,
             "#f1b6da"
            ],
            [
             0.4,
             "#fde0ef"
            ],
            [
             0.5,
             "#f7f7f7"
            ],
            [
             0.6,
             "#e6f5d0"
            ],
            [
             0.7,
             "#b8e186"
            ],
            [
             0.8,
             "#7fbc41"
            ],
            [
             0.9,
             "#4d9221"
            ],
            [
             1,
             "#276419"
            ]
           ],
           "sequential": [
            [
             0,
             "#0d0887"
            ],
            [
             0.1111111111111111,
             "#46039f"
            ],
            [
             0.2222222222222222,
             "#7201a8"
            ],
            [
             0.3333333333333333,
             "#9c179e"
            ],
            [
             0.4444444444444444,
             "#bd3786"
            ],
            [
             0.5555555555555556,
             "#d8576b"
            ],
            [
             0.6666666666666666,
             "#ed7953"
            ],
            [
             0.7777777777777778,
             "#fb9f3a"
            ],
            [
             0.8888888888888888,
             "#fdca26"
            ],
            [
             1,
             "#f0f921"
            ]
           ],
           "sequentialminus": [
            [
             0,
             "#0d0887"
            ],
            [
             0.1111111111111111,
             "#46039f"
            ],
            [
             0.2222222222222222,
             "#7201a8"
            ],
            [
             0.3333333333333333,
             "#9c179e"
            ],
            [
             0.4444444444444444,
             "#bd3786"
            ],
            [
             0.5555555555555556,
             "#d8576b"
            ],
            [
             0.6666666666666666,
             "#ed7953"
            ],
            [
             0.7777777777777778,
             "#fb9f3a"
            ],
            [
             0.8888888888888888,
             "#fdca26"
            ],
            [
             1,
             "#f0f921"
            ]
           ]
          },
          "colorway": [
           "#636efa",
           "#EF553B",
           "#00cc96",
           "#ab63fa",
           "#FFA15A",
           "#19d3f3",
           "#FF6692",
           "#B6E880",
           "#FF97FF",
           "#FECB52"
          ],
          "font": {
           "color": "#2a3f5f"
          },
          "geo": {
           "bgcolor": "white",
           "lakecolor": "white",
           "landcolor": "#E5ECF6",
           "showlakes": true,
           "showland": true,
           "subunitcolor": "white"
          },
          "hoverlabel": {
           "align": "left"
          },
          "hovermode": "closest",
          "mapbox": {
           "style": "light"
          },
          "paper_bgcolor": "white",
          "plot_bgcolor": "#E5ECF6",
          "polar": {
           "angularaxis": {
            "gridcolor": "white",
            "linecolor": "white",
            "ticks": ""
           },
           "bgcolor": "#E5ECF6",
           "radialaxis": {
            "gridcolor": "white",
            "linecolor": "white",
            "ticks": ""
           }
          },
          "scene": {
           "xaxis": {
            "backgroundcolor": "#E5ECF6",
            "gridcolor": "white",
            "gridwidth": 2,
            "linecolor": "white",
            "showbackground": true,
            "ticks": "",
            "zerolinecolor": "white"
           },
           "yaxis": {
            "backgroundcolor": "#E5ECF6",
            "gridcolor": "white",
            "gridwidth": 2,
            "linecolor": "white",
            "showbackground": true,
            "ticks": "",
            "zerolinecolor": "white"
           },
           "zaxis": {
            "backgroundcolor": "#E5ECF6",
            "gridcolor": "white",
            "gridwidth": 2,
            "linecolor": "white",
            "showbackground": true,
            "ticks": "",
            "zerolinecolor": "white"
           }
          },
          "shapedefaults": {
           "line": {
            "color": "#2a3f5f"
           }
          },
          "ternary": {
           "aaxis": {
            "gridcolor": "white",
            "linecolor": "white",
            "ticks": ""
           },
           "baxis": {
            "gridcolor": "white",
            "linecolor": "white",
            "ticks": ""
           },
           "bgcolor": "#E5ECF6",
           "caxis": {
            "gridcolor": "white",
            "linecolor": "white",
            "ticks": ""
           }
          },
          "title": {
           "x": 0.05
          },
          "xaxis": {
           "automargin": true,
           "gridcolor": "white",
           "linecolor": "white",
           "ticks": "",
           "title": {
            "standoff": 15
           },
           "zerolinecolor": "white",
           "zerolinewidth": 2
          },
          "yaxis": {
           "automargin": true,
           "gridcolor": "white",
           "linecolor": "white",
           "ticks": "",
           "title": {
            "standoff": 15
           },
           "zerolinecolor": "white",
           "zerolinewidth": 2
          }
         }
        },
        "title": {
         "text": "Price vs. Area"
        },
        "xaxis": {
         "anchor": "y",
         "domain": [
          0,
          1
         ],
         "title": {
          "text": "Quartier"
         }
        },
        "yaxis": {
         "anchor": "x",
         "domain": [
          0,
          1
         ],
         "title": {
          "text": "Price"
         }
        }
       }
      }
     },
     "metadata": {},
     "output_type": "display_data"
    }
   ],
   "source": [
    "px.scatter(cleaned_data, x='Quartier', y='Price', color='Type', title='Price vs. Area')"
   ]
  },
  {
   "cell_type": "code",
   "execution_count": 63,
   "metadata": {},
   "outputs": [],
   "source": [
    "cleaned_data = cleaned_data[cleaned_data['Price'] < 46000000000 ]"
   ]
  },
  {
   "cell_type": "code",
   "execution_count": 64,
   "metadata": {},
   "outputs": [
    {
     "data": {
      "application/vnd.plotly.v1+json": {
       "config": {
        "plotlyServerURL": "https://plot.ly"
       },
       "data": [
        {
         "hovertemplate": "Type=Appartement<br>Quartier=%{x}<br>Price=%{y}<extra></extra>",
         "legendgroup": "Appartement",
         "marker": {
          "color": "#636efa",
          "symbol": "circle"
         },
         "mode": "markers",
         "name": "Appartement",
         "orientation": "v",
         "showlegend": true,
         "type": "scatter",
         "x": [
          "Secteur Touristique",
          "Hay Mohammadi",
          "Hay Mohammadi",
          "Hay Mohammadi",
          "Hay Mohammadi",
          "Hay Houda",
          "Abattoirs",
          "Hay Salam",
          "Hay Dakhla",
          "Hay Mohammadi",
          "Taddart Anza",
          "Hay Mohammadi",
          "Amsernate",
          "Riad Salam",
          "Hay Salam",
          "Hay Salam",
          "Hay Houda",
          "Hay Salam",
          "Hay Mohammadi",
          "Ville Nouvelle",
          "Founti",
          "Talborjt",
          "Secteur Touristique",
          "Ville Nouvelle",
          "Founti",
          "Haut Founty",
          "Haut Founty",
          "Secteur Touristique",
          "Haut Founty",
          "Hay Mohammadi",
          "Riad Salam",
          "Founti",
          "Hay Salam",
          "Tilila",
          "Hay Houda",
          "Hay Mohammadi",
          "Secteur Touristique",
          "Founti",
          "Zone Industrielle Agadir",
          "Hay Salam",
          "Hay Mohammadi",
          "Hay Mohammadi",
          "Hay Salam",
          "Haut Founty",
          "Secteur Touristique",
          "Secteur Touristique",
          "Hay Mohammadi",
          "Hay Mohammadi",
          "Al Wifaq",
          "Hay Houda",
          "Hay Mohammadi",
          "Haut Anza",
          "Hay Dakhla",
          "Amsernate",
          "Hay Najah",
          "Hay Mohammadi",
          "Abattoirs",
          "Secteur Touristique",
          "Hay Dakhla",
          "Founti",
          "Amsernate",
          "Secteur Touristique",
          "Hay Dakhla",
          "Hay Mohammadi",
          "Hay Houda",
          "Taddart Anza",
          "Hay Mohammadi",
          "Hay Mohammadi",
          "Hay Mohammadi",
          "Founti",
          "Secteur Touristique",
          "Haut Founty",
          "Lekhiam",
          "Zone Industrielle Agadir",
          "Cité Adrar",
          "Secteur Touristique",
          "Hay Salam",
          "Riad Salam",
          "Hay Mohammadi",
          "Tilila",
          "Hay Mohammadi",
          "Hay Mohammadi",
          "Hay Mohammadi",
          "Haut Founty",
          "Hay Mohammadi",
          "Hay Mohammadi",
          "Hay Mohammadi",
          "Hay Salam",
          "Hay Houda",
          "Hay Mohammadi",
          "Hay Mohammadi",
          "Hay Houda",
          "Hay Mohammadi",
          "Anza",
          "Hay Mohammadi",
          "Hay Houda",
          "Hay Mohammadi",
          "Ville Nouvelle",
          "Hay Salam",
          "Tilila",
          "Bouargane",
          "Hay Mohammadi",
          "Anza",
          "Secteur Touristique",
          "Hay Salam",
          "Hay Salam",
          "Amsernate",
          "Hay Mohammadi",
          "Riad Salam",
          "Hay Mohammadi",
          "Riad Salam",
          "Hay Mohammadi",
          "Secteur Touristique",
          "Hay Houda",
          "Cité Adrar",
          "Tilila",
          "Hay Houda",
          "Amsernate",
          "Hay Mohammadi",
          "Hay Salam",
          "Hay Mohammadi",
          "Hay Mohammadi",
          "Hay Dakhla",
          "Hay Salam",
          "Haut Anza",
          "Hay Mohammadi",
          "Hay Salam",
          "Hay Dakhla",
          "Secteur Touristique",
          "Hay Massira",
          "Talborjt",
          "Founti",
          "Riad Salam",
          "Founti",
          "Haut Founty",
          "Tilila",
          "Hay Houda",
          "Al Wifaq",
          "Hay Mohammadi",
          "Hay Salam",
          "Haut Founty",
          "Secteur Touristique",
          "Hay Massira",
          "Riad Salam",
          "Lekhiam",
          "Hay Mohammadi",
          "Extension Dakhla",
          "Hay Houda",
          "Ben Serguaou",
          "Lekhiam",
          "Amicales",
          "Founti",
          "Riad Salam",
          "Hay Mohammadi",
          "Secteur Touristique",
          "Founti",
          "Hay Salam",
          "Abattoirs",
          "Hay Salam",
          "Hay Salam",
          "Secteur Touristique",
          "Hay Mohammadi",
          "Hay Salam",
          "Hay Mohammadi",
          "Hay Mohammadi",
          "Cité Adrar",
          "Hay Houda",
          "Riad Salam",
          "Hay Mohammadi",
          "Hay Salam",
          "Hay Al Farah",
          "Hay Salam",
          "Haut Founty",
          "Riad Salam",
          "Hay Mohammadi",
          "Hay Mohammadi",
          "Hay Mohammadi",
          "Hay Mohammadi",
          "Hay Mohammadi",
          "Haut Founty",
          "Hay Al Farah",
          "Hay Houda",
          "Hay Houda",
          "Talborjt",
          "Hay Mohammadi",
          "Haut Founty",
          "Secteur Touristique",
          "Haut Founty",
          "Hay Mohammadi",
          "Hay Mohammadi",
          "Hay Salam",
          "Ville Nouvelle",
          "Anza",
          "Hay Mohammadi",
          "Al Wifaq",
          "Riad Salam",
          "Tilila",
          "Hay Mohammadi",
          "Hay Salam",
          "Cité Adrar",
          "Hay Dakhla",
          "Hay Mohammadi",
          "Al Wifaq",
          "Ville Nouvelle",
          "Hay Salam",
          "Founti",
          "Founti",
          "Haut Founty",
          "Founti",
          "Talborjt",
          "Extension Dakhla",
          "Hay Houda",
          "Hay Mohammadi",
          "Hay Houda",
          "Abattoirs",
          "Founti",
          "Talborjt",
          "Haut Anza",
          "Secteur Touristique",
          "Hay Mohammadi",
          "Tilila",
          "Hay Houda",
          "Zone Industrielle Agadir",
          "Hay Mohammadi",
          "Hay Mohammadi",
          "Hay Qods",
          "Hay Mohammadi",
          "Amicales",
          "Hay Mohammadi",
          "Hay Houda",
          "Hay Salam",
          "Extension Dakhla",
          "Hay Mohammadi",
          "Founti",
          "Hay Dakhla",
          "Hay Salam",
          "Ben Serguaou",
          "Ville Nouvelle",
          "Zone Industrielle Agadir",
          "Founti",
          "Hay Houda",
          "Hay Mohammadi",
          "Hay Mohammadi",
          "Hay Houda",
          "Hay Mohammadi",
          "Ben Serguaou",
          "Hay Mohammadi",
          "Hay Qods",
          "Hay Mohammadi",
          "Hay Mohammadi",
          "Hay Mohammadi",
          "Hay Mohammadi",
          "Ville Nouvelle",
          "Hay Mohammadi",
          "Haut Founty",
          "Hay Salam",
          "Hay Houda",
          "Abattoirs",
          "Taddart",
          "Hay Massira",
          "Secteur Touristique",
          "Hay Salam",
          "Haut Founty",
          "Hay Dakhla",
          "Hay Houda",
          "Hay Houda",
          "Cité Adrar",
          "Founti",
          "Secteur Touristique",
          "Tikiouine",
          "Hay Houda",
          "Hay Mohammadi",
          "Hay Houda",
          "Hay Mohammadi",
          "Cité Adrar",
          "Haut Founty",
          "Hay Salam",
          "Hay Mohammadi",
          "Secteur Touristique",
          "Hay Dakhla",
          "Hay Salam",
          "Hay Mohammadi",
          "Zone Industrielle Agadir",
          "Haut Founty",
          "Hay Salam",
          "Hay Massira",
          "Hay Mohammadi",
          "Ben Serguaou",
          "Tilila",
          "Hay Mohammadi",
          "Hay Mohammadi",
          "Hay Mohammadi",
          "Hay Mohammadi",
          "Hay Salam",
          "Hay Salam",
          "Hay Mohammadi",
          "Secteur Touristique",
          "Hay Salam",
          "Founti",
          "Hay Dakhla",
          "Hay Salam",
          "Hay Mohammadi",
          "Tilila",
          "Hay Mohammadi",
          "Haut Founty",
          "Hay Mohammadi",
          "Hay Houda",
          "Hay Dakhla",
          "Tilila",
          "Hay Salam",
          "Hay Houda",
          "Hay Salam",
          "Haut Anza",
          "Haut Founty",
          "Hay Mohammadi",
          "Hay Houda",
          "Hay Mohammadi",
          "Hay Mohammadi",
          "Ben Serguaou",
          "Tilila",
          "Hay Mohammadi",
          "Hay Mohammadi",
          "Founti",
          "Haut Anza",
          "Tilila",
          "Hay Houda",
          "Hay Mohammadi",
          "Zone Industrielle Agadir",
          "Tilila",
          "Hay Mohammadi",
          "Ben Serguaou",
          "Tilila",
          "Abattoirs",
          "Hay Salam",
          "Charaf",
          "Founti",
          "Hay Mohammadi",
          "Secteur Touristique",
          "Zone Industrielle Agadir",
          "Hay Salam",
          "Abattoirs",
          "Hay Mohammadi",
          "Secteur Touristique",
          "Riad Salam",
          "Secteur Touristique",
          "Ville Nouvelle",
          "Hay Mohammadi",
          "Hay Salam",
          "Hay Mohammadi",
          "Haut Anza",
          "Hay Al Wafaa",
          "Hay Mohammadi",
          "Hay Dakhla",
          "Hay Al Farah",
          "Hay Mohammadi",
          "Hay Houda",
          "Hay Salam",
          "Cité Adrar",
          "Abattoirs",
          "Hay Mohammadi",
          "Talborjt",
          "Hay Najah",
          "Hay Al Wafaa",
          "Secteur Touristique",
          "Extension Dakhla",
          "Hay Al Farah",
          "Hay Mohammadi",
          "Hay Houda",
          "Hay Salam",
          "Abattoirs",
          "Hay Mohammadi",
          "Secteur Touristique",
          "Hay Mohammadi",
          "Haut Founty",
          "Amsernate",
          "Tilila",
          "Cité Adrar",
          "Cité Adrar",
          "Hay Mohammadi",
          "Secteur Touristique",
          "Hay Dakhla",
          "Hay Al Farah",
          "Secteur Touristique",
          "Tilila",
          "Hay Mohammadi",
          "Al Wifaq",
          "Amsernate",
          "Hay Salam",
          "Ville Nouvelle",
          "Hay Mohammadi",
          "Hay Mohammadi",
          "Hay Mohammadi",
          "Hay Mohammadi",
          "Hay Mohammadi",
          "Hay Mohammadi",
          "Hay Mohammadi",
          "Haut Founty",
          "Hay Mohammadi",
          "Hay Mohammadi",
          "Hay Houda",
          "Hay Mohammadi",
          "Hay Mohammadi",
          "Hay Salam",
          "Hay Dakhla",
          "Amsernate",
          "Bouargane",
          "Hay Houda",
          "Haut Founty",
          "Hay Mohammadi",
          "Hay Salam",
          "Hay Mohammadi",
          "Hay Mohammadi",
          "Hay Mohammadi",
          "Al Wifaq",
          "Al Wifaq",
          "Hay Mohammadi",
          "Hay Mohammadi",
          "Abattoirs",
          "Taddart Anza",
          "Hay Mohammadi",
          "Tilila",
          "Hay Salam",
          "Riad Salam",
          "Hay Houda",
          "Hay Mohammadi",
          "Hay Mohammadi",
          "Hay Salam",
          "Hay Salam",
          "Riad Salam",
          "Secteur Touristique",
          "Tilila",
          "Founti",
          "Hay Salam",
          "Bouargane",
          "Hay Najah",
          "Hay Salam",
          "Hay Mohammadi",
          "Hay Mohammadi",
          "Tilila",
          "Hay Salam",
          "Hay Mohammadi",
          "Ville Nouvelle",
          "Hay Dakhla",
          "Hay Dakhla",
          "Extension Dakhla",
          "Hay Mohammadi",
          "Hay Qods",
          "Hay Salam",
          "Anza",
          "Abattoirs",
          "Amicales",
          "Al Wifaq",
          "Hay Mohammadi",
          "Hay Mohammadi",
          "Al Wifaq",
          "Hay Houda",
          "Tilila",
          "Hay Mohammadi",
          "Hay Mohammadi",
          "Hay Salam",
          "Hay Mohammadi",
          "Cité Adrar",
          "Hay Mohammadi",
          "Hay Al Farah",
          "Hay Mohammadi",
          "Hay Houda",
          "Anza",
          "Hay Mohammadi",
          "Al Wifaq",
          "Hay Salam",
          "Hay Dakhla",
          "Hay Houda",
          "Hay Mohammadi",
          "Hay Houda",
          "Hay Mohammadi",
          "Extension Dakhla",
          "Hay Salam",
          "Hay Salam",
          "Al Wifaq",
          "Taddart Anza",
          "Hay Mohammadi",
          "Hay Massira",
          "Anza",
          "Cité Adrar",
          "Hay Mohammadi",
          "Hay Houda"
         ],
         "xaxis": "x",
         "y": [
          2600000,
          500000,
          1100000,
          380000,
          600000,
          680000,
          850000,
          680000,
          510000,
          510000,
          460000,
          1950000,
          620000,
          770000,
          520000,
          570000,
          700000,
          630000,
          420000,
          1600000,
          5900000,
          1550000,
          1900000,
          2500000,
          2500000,
          2450000,
          1250000,
          2950000,
          3700000,
          680000,
          1500000,
          2600000,
          860000,
          840000,
          800000,
          1200000,
          3400000,
          1700000,
          1357000,
          560000,
          960000,
          380000,
          560000,
          1170000,
          1900000,
          1800000,
          550000,
          1100000,
          1150000,
          1100000,
          800000,
          560000,
          650000,
          770000,
          1000000,
          590000,
          1030000,
          3250000,
          900000,
          1750000,
          900000,
          2750000,
          1750000,
          590000,
          928571.4285714284,
          680000,
          800000,
          740000,
          660000,
          2850000,
          2000000,
          3200000,
          900000,
          900000,
          7500000,
          4600000,
          880000,
          1480000,
          660000,
          780000,
          881666.6666666666,
          434000,
          885000,
          700000,
          850000,
          670000,
          420000,
          670000,
          880000,
          1250000,
          530000,
          1860000,
          670000,
          1400000,
          1600000,
          1333333.3333333333,
          891750,
          600000,
          900000,
          780000,
          950000,
          885000,
          750000,
          2800000,
          680000,
          475000,
          650000,
          788369.2307692308,
          950000,
          1387500,
          1340000,
          570000,
          2590000,
          490000,
          350000,
          380000,
          860000,
          635000,
          420000,
          460000,
          570000,
          450000,
          968000,
          630000,
          300000,
          760000,
          750000,
          1750000,
          2000000,
          1200000,
          630000,
          2800000,
          1500000,
          1700000,
          1245000,
          800000,
          620000,
          900000,
          850000,
          520000,
          1440000,
          2800000,
          1200000,
          1307000,
          900000,
          770000,
          1100000,
          1000000,
          860000,
          800000,
          1530000,
          1500000,
          700000,
          950000,
          1750000,
          2600000,
          440000,
          935000,
          530000,
          540000,
          2800000,
          420000,
          560000,
          1300000,
          840000,
          780000,
          1200000,
          1400000,
          1000000,
          750000,
          840000,
          580000,
          1230000,
          1450000,
          770000,
          1100000,
          1460000,
          880000,
          620000,
          1650000,
          680000,
          490000,
          1250000,
          1370000,
          660000,
          2240000,
          2800000,
          1305500,
          600000,
          1300000,
          1650000,
          1400000,
          650000,
          1950000,
          900000,
          1500000,
          380000,
          670000,
          400000,
          4140000,
          1150000,
          520000,
          560000,
          950000,
          750000,
          2100000,
          3000000,
          1500000,
          3300000,
          1500000,
          1500000,
          1150000,
          670000,
          880000,
          1500000,
          2300000,
          1650000,
          520000,
          3246000,
          350000,
          850000,
          510000,
          560000,
          840000,
          490000,
          750000,
          760000,
          1600000,
          980000,
          587250,
          390000,
          1300000,
          850000,
          2300000,
          900000,
          527000,
          100000,
          5000000,
          640000,
          1900000,
          800000,
          1200000,
          1950000,
          500000,
          530000,
          1000000,
          960000,
          750000,
          440000,
          1700000,
          1050000,
          1250000,
          5970000,
          690000,
          1130000,
          550000,
          950000,
          1500000,
          1110000,
          1500000,
          1900000,
          650000,
          2425000,
          950000,
          930000,
          950000,
          600000,
          1550000,
          2600000,
          400000,
          587250,
          1350000,
          800000,
          550000,
          720000,
          1372500,
          520000,
          680000,
          1650000,
          770000,
          540000,
          881666.6666666666,
          1700000,
          800000,
          340000,
          710000,
          850000,
          400000,
          850000,
          960000,
          1580000,
          500000,
          1800000,
          530000,
          630000,
          910000,
          180000,
          520000,
          230000,
          1200000,
          560000,
          640000,
          15000,
          700000,
          1000000,
          360000,
          880000,
          550000,
          760000,
          490000,
          420000,
          520000,
          380000,
          1225287.5,
          575000,
          120000,
          600000,
          320000,
          350000,
          850000,
          980000,
          1500000,
          4450000,
          380000,
          480000,
          700000,
          420000,
          1000000,
          643000,
          500000,
          583333.3333333334,
          643000,
          795500,
          540000,
          1500000,
          4500000,
          950000,
          2200000,
          900000,
          660000,
          480000,
          510000,
          4800000,
          1128500,
          2750000,
          1600000,
          560000,
          600000,
          460000,
          450000,
          890000,
          420000,
          3200000,
          625000,
          1100000,
          1000000,
          700000,
          4140000,
          1380000,
          900000,
          800000,
          1350000,
          590000,
          1900000,
          580000,
          680000,
          583913.0434782609,
          1545000,
          640000,
          1070000,
          630000,
          1490000,
          680000,
          1200000,
          1600000,
          520000,
          790000,
          4140000,
          1100000,
          2750000,
          1675000,
          625000,
          1000000,
          600000,
          930000,
          620000,
          800000,
          450000,
          450000,
          950000,
          530000,
          510000,
          350000,
          420000,
          310000,
          1300000,
          980000,
          660000,
          580000,
          800000,
          510000,
          490000,
          650000,
          1050900,
          1600000,
          840000,
          380000,
          1225287.5,
          1400000,
          650000,
          610000,
          748800,
          900000,
          430000,
          430000,
          700000,
          1300000,
          1250000,
          330000,
          435000,
          1500000,
          750000,
          1450000,
          1300000,
          650000,
          1000000,
          340000,
          730000,
          960000,
          2200000,
          750000,
          1800000,
          650000,
          1500000,
          2150000,
          900000,
          2000000,
          520000,
          650000,
          36500,
          880000,
          1850000,
          814000,
          900000,
          480000,
          490000,
          750000,
          340000,
          1250000,
          1250000,
          1150000,
          480000,
          920000,
          630000,
          430000,
          380000,
          920000,
          924000,
          580000,
          510000,
          1040000,
          450000,
          600000,
          610000,
          980000,
          970000,
          1000000,
          630000,
          1150000,
          470000,
          950000,
          840000,
          850000,
          670000,
          1060000,
          1716000,
          650000,
          775000,
          1050000,
          490000,
          600000,
          920000,
          900000,
          450000,
          630000,
          1150000
         ],
         "yaxis": "y"
        },
        {
         "hovertemplate": "Type=Villa<br>Quartier=%{x}<br>Price=%{y}<extra></extra>",
         "legendgroup": "Villa",
         "marker": {
          "color": "#EF553B",
          "symbol": "circle"
         },
         "mode": "markers",
         "name": "Villa",
         "orientation": "v",
         "showlegend": true,
         "type": "scatter",
         "x": [
          "Illigh",
          "Siusse",
          "Founti",
          "Illigh",
          "Taddart",
          "Charaf",
          "Secteur Touristique",
          "Illigh",
          "Secteur Touristique",
          "Founti",
          "Founti",
          "Founti",
          "Founti",
          "Taddart",
          "Ben Serguaou",
          "Charaf",
          "Siusse",
          "Siusse",
          "Haut Founty",
          "Taddart",
          "Hay Dakhla",
          "Hay Mohammadi",
          "Secteur Touristique",
          "Ben Serguaou",
          "Founti",
          "Illigh",
          "Hay Najah",
          "Cité Adrar",
          "Taddart",
          "Illigh",
          "Founti",
          "Secteur Touristique",
          "Hay Najah",
          "Hay Houda",
          "Illigh",
          "Tilila",
          "Hay Najah",
          "Founti",
          "Hay Najah",
          "Hay Dakhla",
          "Illigh",
          "Tilila",
          "Ben Serguaou",
          "Hay Mohammadi",
          "Hay Dakhla",
          "Taddart Anza",
          "Founti",
          "Founti",
          "Charaf",
          "Tilila",
          "Tilila",
          "Charaf",
          "Tilila",
          "Hay Najah",
          "Ville Nouvelle",
          "Hay Mohammadi",
          "Founti",
          "Anza",
          "Hay Dakhla",
          "Illigh",
          "Al Wifaq",
          "Ville Nouvelle",
          "Hay Mohammadi",
          "Illigh",
          "Hay Najah",
          "Illigh",
          "Charaf",
          "Charaf",
          "Taddart",
          "Ben Serguaou",
          "Hay Najah",
          "Hay Najah",
          "Tilila",
          "Charaf",
          "Founti",
          "Tilila",
          "Siusse",
          "Ben Serguaou",
          "Illigh",
          "Secteur Touristique",
          "Founti",
          "Taddart Anza",
          "Illigh",
          "Tilila",
          "Al Wifaq",
          "Tilila",
          "Cité Adrar",
          "Tikiouine",
          "Founti",
          "Ben Serguaou",
          "Hay Houda",
          "Taddart",
          "Haut Founty",
          "Cité Adrar",
          "Hay Dakhla",
          "Ben Serguaou",
          "Hay Najah",
          "Hay Dakhla",
          "Illigh"
         ],
         "xaxis": "x",
         "y": [
          14500000,
          9700000,
          5700000,
          13000000,
          3200000,
          3000000,
          4800000,
          10500000,
          7800000,
          5966666.666666667,
          9000000,
          4400000,
          12000000,
          3000000,
          5300000,
          2000000,
          4800000,
          6800000,
          3700000,
          2900000,
          4800000,
          2960000,
          4900000,
          4500000,
          4500000,
          4800000,
          3900000,
          1600000,
          3300000,
          16000000,
          4500000,
          5700000,
          3400000,
          3800000,
          9525000,
          2500000,
          3400000,
          4900000,
          3600000,
          3300000,
          8500000,
          3000000,
          4550000,
          2950000,
          2700000,
          900000,
          5700000,
          6500000,
          1650000,
          1800000,
          2800000,
          2500000,
          4500000,
          4416666.666666667,
          5522847.222222222,
          5200000,
          3500000,
          2430000,
          3566666.6666666665,
          10000000,
          5522847.222222222,
          5522847.222222222,
          2200000,
          9500000,
          4800000,
          8500000,
          2300000,
          2200000,
          4000000,
          3800000,
          4800000,
          6500000,
          1900000,
          2500000,
          14000000,
          2950000,
          9200000,
          4900000,
          8500000,
          2800000,
          3000000,
          1450000,
          6500000,
          2600000,
          5522847.222222222,
          4800000,
          2800000,
          5522847.222222222,
          7600000,
          270000,
          7500000,
          3500000,
          3900000,
          1550000,
          3400000,
          5500000,
          4000000,
          2600000,
          1800000
         ],
         "yaxis": "y"
        },
        {
         "hovertemplate": "Type=Maison<br>Quartier=%{x}<br>Price=%{y}<extra></extra>",
         "legendgroup": "Maison",
         "marker": {
          "color": "#00cc96",
          "symbol": "circle"
         },
         "mode": "markers",
         "name": "Maison",
         "orientation": "v",
         "showlegend": true,
         "type": "scatter",
         "x": [
          "Haut Anza",
          "Talborjt",
          "Hay Dakhla",
          "Hay Salam",
          "Hay Al Wafaa",
          "Talborjt",
          "Riad Salam",
          "Taddart Anza",
          "Haut Anza",
          "Tilila",
          "Cité Adrar",
          "Ben Serguaou",
          "Lekhiam",
          "Haut Anza",
          "Hay Dakhla",
          "Tilila",
          "Al Wifaq",
          "Ben Serguaou",
          "Talborjt",
          "Cité Adrar",
          "Hay Dakhla",
          "Hay Massira",
          "Charaf",
          "Cité Adrar",
          "Cité Adrar",
          "Zone Industrielle Agadir",
          "Hay Salam",
          "Hay Massira",
          "Hay Houda",
          "Lekhiam",
          "Al Wifaq",
          "Cité Adrar",
          "Founti",
          "Cité Adrar",
          "Hay Salam",
          "Haut Founty",
          "Abattoirs",
          "Hay Mohammadi",
          "Tikiouine",
          "Al Wifaq",
          "Cité Adrar",
          "Charaf",
          "Hay Mohammadi",
          "Lekhiam",
          "Riad Salam",
          "Secteur Touristique",
          "Riad Salam",
          "Tilila",
          "Secteur Touristique",
          "Lekhiam",
          "Taddart Anza",
          "Hay Mohammadi",
          "Hay Massira",
          "Hay Qods",
          "Bouargane",
          "Hay Al Wafaa",
          "Anza",
          "Hay Qods",
          "Hay Mohammadi",
          "Riad Salam",
          "Hay Salam",
          "Hay Mohammadi",
          "Extension Dakhla",
          "Bouargane",
          "Riad Salam",
          "Al Wifaq",
          "Hay Dakhla",
          "Hay Mohammadi",
          "Al Wifaq",
          "Hay Dakhla",
          "Talborjt",
          "Hay Dakhla",
          "Tikiouine",
          "Hay Salam",
          "Talborjt",
          "Ben Serguaou",
          "Hay Al Wafaa",
          "Hay Mohammadi",
          "Cité Adrar",
          "Hay Salam",
          "Secteur Touristique",
          "Anza",
          "Hay Mohammadi",
          "Hay Salam",
          "Hay Qods",
          "Hay Mohammadi",
          "Abattoirs",
          "Zone Industrielle Agadir",
          "Riad Salam",
          "Hay Massira",
          "Riad Salam",
          "Al Wifaq",
          "Tikiouine",
          "Hay Mohammadi",
          "Tikiouine",
          "Abattoirs",
          "Anza",
          "Charaf",
          "Tilila",
          "Amicales",
          "Abattoirs",
          "Zone Industrielle Agadir"
         ],
         "xaxis": "x",
         "y": [
          960000,
          3000000,
          1600000,
          2300000,
          500000,
          4600000,
          3500000,
          1320000,
          1320000,
          2900000,
          1200000,
          1800000,
          1250000,
          960000,
          2000000,
          3000000,
          3500000,
          2600000,
          1300000,
          1900000,
          2400000,
          1500000,
          1700000,
          1000000,
          3200000,
          2400000,
          6500000,
          2600000,
          1700000,
          1300000,
          2000000,
          1600000,
          1650000,
          2600000,
          2200000,
          3800000,
          725533.3333333334,
          1400000,
          2400000,
          2000000,
          2900000,
          2200000,
          1400000,
          1450000,
          2100000,
          3600000,
          3200000,
          2600000,
          3600000,
          1300000,
          1500000,
          4880000,
          1600000,
          1600000,
          1400000000,
          500000,
          2000000,
          1600000,
          2960000,
          2650000,
          1700000,
          3000000,
          3100000,
          1400000,
          1200000,
          2000000,
          6000000,
          6800000,
          3100000,
          2800000,
          4600000,
          1370000,
          980000,
          1966666.6666666667,
          3000000,
          1000000,
          500000,
          6400000,
          900000,
          1700000,
          2100000,
          2000000,
          1450000,
          1900000,
          1600000,
          3200000,
          751600,
          2100000,
          1800000,
          1700000,
          3400000,
          1950000,
          800000,
          3100000,
          460000,
          1200000,
          85000000,
          1700000,
          2200000,
          2600000,
          225000,
          1800000
         ],
         "yaxis": "y"
        }
       ],
       "layout": {
        "legend": {
         "title": {
          "text": "Type"
         },
         "tracegroupgap": 0
        },
        "template": {
         "data": {
          "bar": [
           {
            "error_x": {
             "color": "#2a3f5f"
            },
            "error_y": {
             "color": "#2a3f5f"
            },
            "marker": {
             "line": {
              "color": "#E5ECF6",
              "width": 0.5
             },
             "pattern": {
              "fillmode": "overlay",
              "size": 10,
              "solidity": 0.2
             }
            },
            "type": "bar"
           }
          ],
          "barpolar": [
           {
            "marker": {
             "line": {
              "color": "#E5ECF6",
              "width": 0.5
             },
             "pattern": {
              "fillmode": "overlay",
              "size": 10,
              "solidity": 0.2
             }
            },
            "type": "barpolar"
           }
          ],
          "carpet": [
           {
            "aaxis": {
             "endlinecolor": "#2a3f5f",
             "gridcolor": "white",
             "linecolor": "white",
             "minorgridcolor": "white",
             "startlinecolor": "#2a3f5f"
            },
            "baxis": {
             "endlinecolor": "#2a3f5f",
             "gridcolor": "white",
             "linecolor": "white",
             "minorgridcolor": "white",
             "startlinecolor": "#2a3f5f"
            },
            "type": "carpet"
           }
          ],
          "choropleth": [
           {
            "colorbar": {
             "outlinewidth": 0,
             "ticks": ""
            },
            "type": "choropleth"
           }
          ],
          "contour": [
           {
            "colorbar": {
             "outlinewidth": 0,
             "ticks": ""
            },
            "colorscale": [
             [
              0,
              "#0d0887"
             ],
             [
              0.1111111111111111,
              "#46039f"
             ],
             [
              0.2222222222222222,
              "#7201a8"
             ],
             [
              0.3333333333333333,
              "#9c179e"
             ],
             [
              0.4444444444444444,
              "#bd3786"
             ],
             [
              0.5555555555555556,
              "#d8576b"
             ],
             [
              0.6666666666666666,
              "#ed7953"
             ],
             [
              0.7777777777777778,
              "#fb9f3a"
             ],
             [
              0.8888888888888888,
              "#fdca26"
             ],
             [
              1,
              "#f0f921"
             ]
            ],
            "type": "contour"
           }
          ],
          "contourcarpet": [
           {
            "colorbar": {
             "outlinewidth": 0,
             "ticks": ""
            },
            "type": "contourcarpet"
           }
          ],
          "heatmap": [
           {
            "colorbar": {
             "outlinewidth": 0,
             "ticks": ""
            },
            "colorscale": [
             [
              0,
              "#0d0887"
             ],
             [
              0.1111111111111111,
              "#46039f"
             ],
             [
              0.2222222222222222,
              "#7201a8"
             ],
             [
              0.3333333333333333,
              "#9c179e"
             ],
             [
              0.4444444444444444,
              "#bd3786"
             ],
             [
              0.5555555555555556,
              "#d8576b"
             ],
             [
              0.6666666666666666,
              "#ed7953"
             ],
             [
              0.7777777777777778,
              "#fb9f3a"
             ],
             [
              0.8888888888888888,
              "#fdca26"
             ],
             [
              1,
              "#f0f921"
             ]
            ],
            "type": "heatmap"
           }
          ],
          "heatmapgl": [
           {
            "colorbar": {
             "outlinewidth": 0,
             "ticks": ""
            },
            "colorscale": [
             [
              0,
              "#0d0887"
             ],
             [
              0.1111111111111111,
              "#46039f"
             ],
             [
              0.2222222222222222,
              "#7201a8"
             ],
             [
              0.3333333333333333,
              "#9c179e"
             ],
             [
              0.4444444444444444,
              "#bd3786"
             ],
             [
              0.5555555555555556,
              "#d8576b"
             ],
             [
              0.6666666666666666,
              "#ed7953"
             ],
             [
              0.7777777777777778,
              "#fb9f3a"
             ],
             [
              0.8888888888888888,
              "#fdca26"
             ],
             [
              1,
              "#f0f921"
             ]
            ],
            "type": "heatmapgl"
           }
          ],
          "histogram": [
           {
            "marker": {
             "pattern": {
              "fillmode": "overlay",
              "size": 10,
              "solidity": 0.2
             }
            },
            "type": "histogram"
           }
          ],
          "histogram2d": [
           {
            "colorbar": {
             "outlinewidth": 0,
             "ticks": ""
            },
            "colorscale": [
             [
              0,
              "#0d0887"
             ],
             [
              0.1111111111111111,
              "#46039f"
             ],
             [
              0.2222222222222222,
              "#7201a8"
             ],
             [
              0.3333333333333333,
              "#9c179e"
             ],
             [
              0.4444444444444444,
              "#bd3786"
             ],
             [
              0.5555555555555556,
              "#d8576b"
             ],
             [
              0.6666666666666666,
              "#ed7953"
             ],
             [
              0.7777777777777778,
              "#fb9f3a"
             ],
             [
              0.8888888888888888,
              "#fdca26"
             ],
             [
              1,
              "#f0f921"
             ]
            ],
            "type": "histogram2d"
           }
          ],
          "histogram2dcontour": [
           {
            "colorbar": {
             "outlinewidth": 0,
             "ticks": ""
            },
            "colorscale": [
             [
              0,
              "#0d0887"
             ],
             [
              0.1111111111111111,
              "#46039f"
             ],
             [
              0.2222222222222222,
              "#7201a8"
             ],
             [
              0.3333333333333333,
              "#9c179e"
             ],
             [
              0.4444444444444444,
              "#bd3786"
             ],
             [
              0.5555555555555556,
              "#d8576b"
             ],
             [
              0.6666666666666666,
              "#ed7953"
             ],
             [
              0.7777777777777778,
              "#fb9f3a"
             ],
             [
              0.8888888888888888,
              "#fdca26"
             ],
             [
              1,
              "#f0f921"
             ]
            ],
            "type": "histogram2dcontour"
           }
          ],
          "mesh3d": [
           {
            "colorbar": {
             "outlinewidth": 0,
             "ticks": ""
            },
            "type": "mesh3d"
           }
          ],
          "parcoords": [
           {
            "line": {
             "colorbar": {
              "outlinewidth": 0,
              "ticks": ""
             }
            },
            "type": "parcoords"
           }
          ],
          "pie": [
           {
            "automargin": true,
            "type": "pie"
           }
          ],
          "scatter": [
           {
            "fillpattern": {
             "fillmode": "overlay",
             "size": 10,
             "solidity": 0.2
            },
            "type": "scatter"
           }
          ],
          "scatter3d": [
           {
            "line": {
             "colorbar": {
              "outlinewidth": 0,
              "ticks": ""
             }
            },
            "marker": {
             "colorbar": {
              "outlinewidth": 0,
              "ticks": ""
             }
            },
            "type": "scatter3d"
           }
          ],
          "scattercarpet": [
           {
            "marker": {
             "colorbar": {
              "outlinewidth": 0,
              "ticks": ""
             }
            },
            "type": "scattercarpet"
           }
          ],
          "scattergeo": [
           {
            "marker": {
             "colorbar": {
              "outlinewidth": 0,
              "ticks": ""
             }
            },
            "type": "scattergeo"
           }
          ],
          "scattergl": [
           {
            "marker": {
             "colorbar": {
              "outlinewidth": 0,
              "ticks": ""
             }
            },
            "type": "scattergl"
           }
          ],
          "scattermapbox": [
           {
            "marker": {
             "colorbar": {
              "outlinewidth": 0,
              "ticks": ""
             }
            },
            "type": "scattermapbox"
           }
          ],
          "scatterpolar": [
           {
            "marker": {
             "colorbar": {
              "outlinewidth": 0,
              "ticks": ""
             }
            },
            "type": "scatterpolar"
           }
          ],
          "scatterpolargl": [
           {
            "marker": {
             "colorbar": {
              "outlinewidth": 0,
              "ticks": ""
             }
            },
            "type": "scatterpolargl"
           }
          ],
          "scatterternary": [
           {
            "marker": {
             "colorbar": {
              "outlinewidth": 0,
              "ticks": ""
             }
            },
            "type": "scatterternary"
           }
          ],
          "surface": [
           {
            "colorbar": {
             "outlinewidth": 0,
             "ticks": ""
            },
            "colorscale": [
             [
              0,
              "#0d0887"
             ],
             [
              0.1111111111111111,
              "#46039f"
             ],
             [
              0.2222222222222222,
              "#7201a8"
             ],
             [
              0.3333333333333333,
              "#9c179e"
             ],
             [
              0.4444444444444444,
              "#bd3786"
             ],
             [
              0.5555555555555556,
              "#d8576b"
             ],
             [
              0.6666666666666666,
              "#ed7953"
             ],
             [
              0.7777777777777778,
              "#fb9f3a"
             ],
             [
              0.8888888888888888,
              "#fdca26"
             ],
             [
              1,
              "#f0f921"
             ]
            ],
            "type": "surface"
           }
          ],
          "table": [
           {
            "cells": {
             "fill": {
              "color": "#EBF0F8"
             },
             "line": {
              "color": "white"
             }
            },
            "header": {
             "fill": {
              "color": "#C8D4E3"
             },
             "line": {
              "color": "white"
             }
            },
            "type": "table"
           }
          ]
         },
         "layout": {
          "annotationdefaults": {
           "arrowcolor": "#2a3f5f",
           "arrowhead": 0,
           "arrowwidth": 1
          },
          "autotypenumbers": "strict",
          "coloraxis": {
           "colorbar": {
            "outlinewidth": 0,
            "ticks": ""
           }
          },
          "colorscale": {
           "diverging": [
            [
             0,
             "#8e0152"
            ],
            [
             0.1,
             "#c51b7d"
            ],
            [
             0.2,
             "#de77ae"
            ],
            [
             0.3,
             "#f1b6da"
            ],
            [
             0.4,
             "#fde0ef"
            ],
            [
             0.5,
             "#f7f7f7"
            ],
            [
             0.6,
             "#e6f5d0"
            ],
            [
             0.7,
             "#b8e186"
            ],
            [
             0.8,
             "#7fbc41"
            ],
            [
             0.9,
             "#4d9221"
            ],
            [
             1,
             "#276419"
            ]
           ],
           "sequential": [
            [
             0,
             "#0d0887"
            ],
            [
             0.1111111111111111,
             "#46039f"
            ],
            [
             0.2222222222222222,
             "#7201a8"
            ],
            [
             0.3333333333333333,
             "#9c179e"
            ],
            [
             0.4444444444444444,
             "#bd3786"
            ],
            [
             0.5555555555555556,
             "#d8576b"
            ],
            [
             0.6666666666666666,
             "#ed7953"
            ],
            [
             0.7777777777777778,
             "#fb9f3a"
            ],
            [
             0.8888888888888888,
             "#fdca26"
            ],
            [
             1,
             "#f0f921"
            ]
           ],
           "sequentialminus": [
            [
             0,
             "#0d0887"
            ],
            [
             0.1111111111111111,
             "#46039f"
            ],
            [
             0.2222222222222222,
             "#7201a8"
            ],
            [
             0.3333333333333333,
             "#9c179e"
            ],
            [
             0.4444444444444444,
             "#bd3786"
            ],
            [
             0.5555555555555556,
             "#d8576b"
            ],
            [
             0.6666666666666666,
             "#ed7953"
            ],
            [
             0.7777777777777778,
             "#fb9f3a"
            ],
            [
             0.8888888888888888,
             "#fdca26"
            ],
            [
             1,
             "#f0f921"
            ]
           ]
          },
          "colorway": [
           "#636efa",
           "#EF553B",
           "#00cc96",
           "#ab63fa",
           "#FFA15A",
           "#19d3f3",
           "#FF6692",
           "#B6E880",
           "#FF97FF",
           "#FECB52"
          ],
          "font": {
           "color": "#2a3f5f"
          },
          "geo": {
           "bgcolor": "white",
           "lakecolor": "white",
           "landcolor": "#E5ECF6",
           "showlakes": true,
           "showland": true,
           "subunitcolor": "white"
          },
          "hoverlabel": {
           "align": "left"
          },
          "hovermode": "closest",
          "mapbox": {
           "style": "light"
          },
          "paper_bgcolor": "white",
          "plot_bgcolor": "#E5ECF6",
          "polar": {
           "angularaxis": {
            "gridcolor": "white",
            "linecolor": "white",
            "ticks": ""
           },
           "bgcolor": "#E5ECF6",
           "radialaxis": {
            "gridcolor": "white",
            "linecolor": "white",
            "ticks": ""
           }
          },
          "scene": {
           "xaxis": {
            "backgroundcolor": "#E5ECF6",
            "gridcolor": "white",
            "gridwidth": 2,
            "linecolor": "white",
            "showbackground": true,
            "ticks": "",
            "zerolinecolor": "white"
           },
           "yaxis": {
            "backgroundcolor": "#E5ECF6",
            "gridcolor": "white",
            "gridwidth": 2,
            "linecolor": "white",
            "showbackground": true,
            "ticks": "",
            "zerolinecolor": "white"
           },
           "zaxis": {
            "backgroundcolor": "#E5ECF6",
            "gridcolor": "white",
            "gridwidth": 2,
            "linecolor": "white",
            "showbackground": true,
            "ticks": "",
            "zerolinecolor": "white"
           }
          },
          "shapedefaults": {
           "line": {
            "color": "#2a3f5f"
           }
          },
          "ternary": {
           "aaxis": {
            "gridcolor": "white",
            "linecolor": "white",
            "ticks": ""
           },
           "baxis": {
            "gridcolor": "white",
            "linecolor": "white",
            "ticks": ""
           },
           "bgcolor": "#E5ECF6",
           "caxis": {
            "gridcolor": "white",
            "linecolor": "white",
            "ticks": ""
           }
          },
          "title": {
           "x": 0.05
          },
          "xaxis": {
           "automargin": true,
           "gridcolor": "white",
           "linecolor": "white",
           "ticks": "",
           "title": {
            "standoff": 15
           },
           "zerolinecolor": "white",
           "zerolinewidth": 2
          },
          "yaxis": {
           "automargin": true,
           "gridcolor": "white",
           "linecolor": "white",
           "ticks": "",
           "title": {
            "standoff": 15
           },
           "zerolinecolor": "white",
           "zerolinewidth": 2
          }
         }
        },
        "title": {
         "text": "Price vs. Area"
        },
        "xaxis": {
         "anchor": "y",
         "domain": [
          0,
          1
         ],
         "title": {
          "text": "Quartier"
         }
        },
        "yaxis": {
         "anchor": "x",
         "domain": [
          0,
          1
         ],
         "title": {
          "text": "Price"
         }
        }
       }
      }
     },
     "metadata": {},
     "output_type": "display_data"
    }
   ],
   "source": [
    "px.scatter(cleaned_data, x='Quartier', y='Price', color='Type', title='Price vs. Area')"
   ]
  },
  {
   "cell_type": "code",
   "execution_count": 67,
   "metadata": {},
   "outputs": [],
   "source": [
    "cleaned_data = cleaned_data[cleaned_data['Price'] < 140000000 ]"
   ]
  },
  {
   "cell_type": "code",
   "execution_count": 68,
   "metadata": {},
   "outputs": [
    {
     "data": {
      "application/vnd.plotly.v1+json": {
       "config": {
        "plotlyServerURL": "https://plot.ly"
       },
       "data": [
        {
         "hovertemplate": "Type=Appartement<br>Quartier=%{x}<br>Price=%{y}<extra></extra>",
         "legendgroup": "Appartement",
         "marker": {
          "color": "#636efa",
          "symbol": "circle"
         },
         "mode": "markers",
         "name": "Appartement",
         "orientation": "v",
         "showlegend": true,
         "type": "scatter",
         "x": [
          "Secteur Touristique",
          "Hay Mohammadi",
          "Hay Mohammadi",
          "Hay Mohammadi",
          "Hay Mohammadi",
          "Hay Houda",
          "Abattoirs",
          "Hay Salam",
          "Hay Dakhla",
          "Hay Mohammadi",
          "Taddart Anza",
          "Hay Mohammadi",
          "Amsernate",
          "Riad Salam",
          "Hay Salam",
          "Hay Salam",
          "Hay Houda",
          "Hay Salam",
          "Hay Mohammadi",
          "Ville Nouvelle",
          "Founti",
          "Talborjt",
          "Secteur Touristique",
          "Ville Nouvelle",
          "Founti",
          "Haut Founty",
          "Haut Founty",
          "Secteur Touristique",
          "Haut Founty",
          "Hay Mohammadi",
          "Riad Salam",
          "Founti",
          "Hay Salam",
          "Tilila",
          "Hay Houda",
          "Hay Mohammadi",
          "Secteur Touristique",
          "Founti",
          "Zone Industrielle Agadir",
          "Hay Salam",
          "Hay Mohammadi",
          "Hay Mohammadi",
          "Hay Salam",
          "Haut Founty",
          "Secteur Touristique",
          "Secteur Touristique",
          "Hay Mohammadi",
          "Hay Mohammadi",
          "Al Wifaq",
          "Hay Houda",
          "Hay Mohammadi",
          "Haut Anza",
          "Hay Dakhla",
          "Amsernate",
          "Hay Najah",
          "Hay Mohammadi",
          "Abattoirs",
          "Secteur Touristique",
          "Hay Dakhla",
          "Founti",
          "Amsernate",
          "Secteur Touristique",
          "Hay Dakhla",
          "Hay Mohammadi",
          "Hay Houda",
          "Taddart Anza",
          "Hay Mohammadi",
          "Hay Mohammadi",
          "Hay Mohammadi",
          "Founti",
          "Secteur Touristique",
          "Haut Founty",
          "Lekhiam",
          "Zone Industrielle Agadir",
          "Cité Adrar",
          "Secteur Touristique",
          "Hay Salam",
          "Riad Salam",
          "Hay Mohammadi",
          "Tilila",
          "Hay Mohammadi",
          "Hay Mohammadi",
          "Hay Mohammadi",
          "Haut Founty",
          "Hay Mohammadi",
          "Hay Mohammadi",
          "Hay Mohammadi",
          "Hay Salam",
          "Hay Houda",
          "Hay Mohammadi",
          "Hay Mohammadi",
          "Hay Houda",
          "Hay Mohammadi",
          "Anza",
          "Hay Mohammadi",
          "Hay Houda",
          "Hay Mohammadi",
          "Ville Nouvelle",
          "Hay Salam",
          "Tilila",
          "Bouargane",
          "Hay Mohammadi",
          "Anza",
          "Secteur Touristique",
          "Hay Salam",
          "Hay Salam",
          "Amsernate",
          "Hay Mohammadi",
          "Riad Salam",
          "Hay Mohammadi",
          "Riad Salam",
          "Hay Mohammadi",
          "Secteur Touristique",
          "Hay Houda",
          "Cité Adrar",
          "Tilila",
          "Hay Houda",
          "Amsernate",
          "Hay Mohammadi",
          "Hay Salam",
          "Hay Mohammadi",
          "Hay Mohammadi",
          "Hay Dakhla",
          "Hay Salam",
          "Haut Anza",
          "Hay Mohammadi",
          "Hay Salam",
          "Hay Dakhla",
          "Secteur Touristique",
          "Hay Massira",
          "Talborjt",
          "Founti",
          "Riad Salam",
          "Founti",
          "Haut Founty",
          "Tilila",
          "Hay Houda",
          "Al Wifaq",
          "Hay Mohammadi",
          "Hay Salam",
          "Haut Founty",
          "Secteur Touristique",
          "Hay Massira",
          "Riad Salam",
          "Lekhiam",
          "Hay Mohammadi",
          "Extension Dakhla",
          "Hay Houda",
          "Ben Serguaou",
          "Lekhiam",
          "Amicales",
          "Founti",
          "Riad Salam",
          "Hay Mohammadi",
          "Secteur Touristique",
          "Founti",
          "Hay Salam",
          "Abattoirs",
          "Hay Salam",
          "Hay Salam",
          "Secteur Touristique",
          "Hay Mohammadi",
          "Hay Salam",
          "Hay Mohammadi",
          "Hay Mohammadi",
          "Cité Adrar",
          "Hay Houda",
          "Riad Salam",
          "Hay Mohammadi",
          "Hay Salam",
          "Hay Al Farah",
          "Hay Salam",
          "Haut Founty",
          "Riad Salam",
          "Hay Mohammadi",
          "Hay Mohammadi",
          "Hay Mohammadi",
          "Hay Mohammadi",
          "Hay Mohammadi",
          "Haut Founty",
          "Hay Al Farah",
          "Hay Houda",
          "Hay Houda",
          "Talborjt",
          "Hay Mohammadi",
          "Haut Founty",
          "Secteur Touristique",
          "Haut Founty",
          "Hay Mohammadi",
          "Hay Mohammadi",
          "Hay Salam",
          "Ville Nouvelle",
          "Anza",
          "Hay Mohammadi",
          "Al Wifaq",
          "Riad Salam",
          "Tilila",
          "Hay Mohammadi",
          "Hay Salam",
          "Cité Adrar",
          "Hay Dakhla",
          "Hay Mohammadi",
          "Al Wifaq",
          "Ville Nouvelle",
          "Hay Salam",
          "Founti",
          "Founti",
          "Haut Founty",
          "Founti",
          "Talborjt",
          "Extension Dakhla",
          "Hay Houda",
          "Hay Mohammadi",
          "Hay Houda",
          "Abattoirs",
          "Founti",
          "Talborjt",
          "Haut Anza",
          "Secteur Touristique",
          "Hay Mohammadi",
          "Tilila",
          "Hay Houda",
          "Zone Industrielle Agadir",
          "Hay Mohammadi",
          "Hay Mohammadi",
          "Hay Qods",
          "Hay Mohammadi",
          "Amicales",
          "Hay Mohammadi",
          "Hay Houda",
          "Hay Salam",
          "Extension Dakhla",
          "Hay Mohammadi",
          "Founti",
          "Hay Dakhla",
          "Hay Salam",
          "Ben Serguaou",
          "Ville Nouvelle",
          "Zone Industrielle Agadir",
          "Founti",
          "Hay Houda",
          "Hay Mohammadi",
          "Hay Mohammadi",
          "Hay Houda",
          "Hay Mohammadi",
          "Ben Serguaou",
          "Hay Mohammadi",
          "Hay Qods",
          "Hay Mohammadi",
          "Hay Mohammadi",
          "Hay Mohammadi",
          "Hay Mohammadi",
          "Ville Nouvelle",
          "Hay Mohammadi",
          "Haut Founty",
          "Hay Salam",
          "Hay Houda",
          "Abattoirs",
          "Taddart",
          "Hay Massira",
          "Secteur Touristique",
          "Hay Salam",
          "Haut Founty",
          "Hay Dakhla",
          "Hay Houda",
          "Hay Houda",
          "Cité Adrar",
          "Founti",
          "Secteur Touristique",
          "Tikiouine",
          "Hay Houda",
          "Hay Mohammadi",
          "Hay Houda",
          "Hay Mohammadi",
          "Cité Adrar",
          "Haut Founty",
          "Hay Salam",
          "Hay Mohammadi",
          "Secteur Touristique",
          "Hay Dakhla",
          "Hay Salam",
          "Hay Mohammadi",
          "Zone Industrielle Agadir",
          "Haut Founty",
          "Hay Salam",
          "Hay Massira",
          "Hay Mohammadi",
          "Ben Serguaou",
          "Tilila",
          "Hay Mohammadi",
          "Hay Mohammadi",
          "Hay Mohammadi",
          "Hay Mohammadi",
          "Hay Salam",
          "Hay Salam",
          "Hay Mohammadi",
          "Secteur Touristique",
          "Hay Salam",
          "Founti",
          "Hay Dakhla",
          "Hay Salam",
          "Hay Mohammadi",
          "Tilila",
          "Hay Mohammadi",
          "Haut Founty",
          "Hay Mohammadi",
          "Hay Houda",
          "Hay Dakhla",
          "Tilila",
          "Hay Salam",
          "Hay Houda",
          "Hay Salam",
          "Haut Anza",
          "Haut Founty",
          "Hay Mohammadi",
          "Hay Houda",
          "Hay Mohammadi",
          "Hay Mohammadi",
          "Ben Serguaou",
          "Tilila",
          "Hay Mohammadi",
          "Hay Mohammadi",
          "Founti",
          "Haut Anza",
          "Tilila",
          "Hay Houda",
          "Hay Mohammadi",
          "Zone Industrielle Agadir",
          "Tilila",
          "Hay Mohammadi",
          "Ben Serguaou",
          "Tilila",
          "Abattoirs",
          "Hay Salam",
          "Charaf",
          "Founti",
          "Hay Mohammadi",
          "Secteur Touristique",
          "Zone Industrielle Agadir",
          "Hay Salam",
          "Abattoirs",
          "Hay Mohammadi",
          "Secteur Touristique",
          "Riad Salam",
          "Secteur Touristique",
          "Ville Nouvelle",
          "Hay Mohammadi",
          "Hay Salam",
          "Hay Mohammadi",
          "Haut Anza",
          "Hay Al Wafaa",
          "Hay Mohammadi",
          "Hay Dakhla",
          "Hay Al Farah",
          "Hay Mohammadi",
          "Hay Houda",
          "Hay Salam",
          "Cité Adrar",
          "Abattoirs",
          "Hay Mohammadi",
          "Talborjt",
          "Hay Najah",
          "Hay Al Wafaa",
          "Secteur Touristique",
          "Extension Dakhla",
          "Hay Al Farah",
          "Hay Mohammadi",
          "Hay Houda",
          "Hay Salam",
          "Abattoirs",
          "Hay Mohammadi",
          "Secteur Touristique",
          "Hay Mohammadi",
          "Haut Founty",
          "Amsernate",
          "Tilila",
          "Cité Adrar",
          "Cité Adrar",
          "Hay Mohammadi",
          "Secteur Touristique",
          "Hay Dakhla",
          "Hay Al Farah",
          "Secteur Touristique",
          "Tilila",
          "Hay Mohammadi",
          "Al Wifaq",
          "Amsernate",
          "Hay Salam",
          "Ville Nouvelle",
          "Hay Mohammadi",
          "Hay Mohammadi",
          "Hay Mohammadi",
          "Hay Mohammadi",
          "Hay Mohammadi",
          "Hay Mohammadi",
          "Hay Mohammadi",
          "Haut Founty",
          "Hay Mohammadi",
          "Hay Mohammadi",
          "Hay Houda",
          "Hay Mohammadi",
          "Hay Mohammadi",
          "Hay Salam",
          "Hay Dakhla",
          "Amsernate",
          "Bouargane",
          "Hay Houda",
          "Haut Founty",
          "Hay Mohammadi",
          "Hay Salam",
          "Hay Mohammadi",
          "Hay Mohammadi",
          "Hay Mohammadi",
          "Al Wifaq",
          "Al Wifaq",
          "Hay Mohammadi",
          "Hay Mohammadi",
          "Abattoirs",
          "Taddart Anza",
          "Hay Mohammadi",
          "Tilila",
          "Hay Salam",
          "Riad Salam",
          "Hay Houda",
          "Hay Mohammadi",
          "Hay Mohammadi",
          "Hay Salam",
          "Hay Salam",
          "Riad Salam",
          "Secteur Touristique",
          "Tilila",
          "Founti",
          "Hay Salam",
          "Bouargane",
          "Hay Najah",
          "Hay Salam",
          "Hay Mohammadi",
          "Hay Mohammadi",
          "Tilila",
          "Hay Salam",
          "Hay Mohammadi",
          "Ville Nouvelle",
          "Hay Dakhla",
          "Hay Dakhla",
          "Extension Dakhla",
          "Hay Mohammadi",
          "Hay Qods",
          "Hay Salam",
          "Anza",
          "Abattoirs",
          "Amicales",
          "Al Wifaq",
          "Hay Mohammadi",
          "Hay Mohammadi",
          "Al Wifaq",
          "Hay Houda",
          "Tilila",
          "Hay Mohammadi",
          "Hay Mohammadi",
          "Hay Salam",
          "Hay Mohammadi",
          "Cité Adrar",
          "Hay Mohammadi",
          "Hay Al Farah",
          "Hay Mohammadi",
          "Hay Houda",
          "Anza",
          "Hay Mohammadi",
          "Al Wifaq",
          "Hay Salam",
          "Hay Dakhla",
          "Hay Houda",
          "Hay Mohammadi",
          "Hay Houda",
          "Hay Mohammadi",
          "Extension Dakhla",
          "Hay Salam",
          "Hay Salam",
          "Al Wifaq",
          "Taddart Anza",
          "Hay Mohammadi",
          "Hay Massira",
          "Anza",
          "Cité Adrar",
          "Hay Mohammadi",
          "Hay Houda"
         ],
         "xaxis": "x",
         "y": [
          2600000,
          500000,
          1100000,
          380000,
          600000,
          680000,
          850000,
          680000,
          510000,
          510000,
          460000,
          1950000,
          620000,
          770000,
          520000,
          570000,
          700000,
          630000,
          420000,
          1600000,
          5900000,
          1550000,
          1900000,
          2500000,
          2500000,
          2450000,
          1250000,
          2950000,
          3700000,
          680000,
          1500000,
          2600000,
          860000,
          840000,
          800000,
          1200000,
          3400000,
          1700000,
          1357000,
          560000,
          960000,
          380000,
          560000,
          1170000,
          1900000,
          1800000,
          550000,
          1100000,
          1150000,
          1100000,
          800000,
          560000,
          650000,
          770000,
          1000000,
          590000,
          1030000,
          3250000,
          900000,
          1750000,
          900000,
          2750000,
          1750000,
          590000,
          928571.4285714284,
          680000,
          800000,
          740000,
          660000,
          2850000,
          2000000,
          3200000,
          900000,
          900000,
          7500000,
          4600000,
          880000,
          1480000,
          660000,
          780000,
          881666.6666666666,
          434000,
          885000,
          700000,
          850000,
          670000,
          420000,
          670000,
          880000,
          1250000,
          530000,
          1860000,
          670000,
          1400000,
          1600000,
          1333333.3333333333,
          891750,
          600000,
          900000,
          780000,
          950000,
          885000,
          750000,
          2800000,
          680000,
          475000,
          650000,
          788369.2307692308,
          950000,
          1387500,
          1340000,
          570000,
          2590000,
          490000,
          350000,
          380000,
          860000,
          635000,
          420000,
          460000,
          570000,
          450000,
          968000,
          630000,
          300000,
          760000,
          750000,
          1750000,
          2000000,
          1200000,
          630000,
          2800000,
          1500000,
          1700000,
          1245000,
          800000,
          620000,
          900000,
          850000,
          520000,
          1440000,
          2800000,
          1200000,
          1307000,
          900000,
          770000,
          1100000,
          1000000,
          860000,
          800000,
          1530000,
          1500000,
          700000,
          950000,
          1750000,
          2600000,
          440000,
          935000,
          530000,
          540000,
          2800000,
          420000,
          560000,
          1300000,
          840000,
          780000,
          1200000,
          1400000,
          1000000,
          750000,
          840000,
          580000,
          1230000,
          1450000,
          770000,
          1100000,
          1460000,
          880000,
          620000,
          1650000,
          680000,
          490000,
          1250000,
          1370000,
          660000,
          2240000,
          2800000,
          1305500,
          600000,
          1300000,
          1650000,
          1400000,
          650000,
          1950000,
          900000,
          1500000,
          380000,
          670000,
          400000,
          4140000,
          1150000,
          520000,
          560000,
          950000,
          750000,
          2100000,
          3000000,
          1500000,
          3300000,
          1500000,
          1500000,
          1150000,
          670000,
          880000,
          1500000,
          2300000,
          1650000,
          520000,
          3246000,
          350000,
          850000,
          510000,
          560000,
          840000,
          490000,
          750000,
          760000,
          1600000,
          980000,
          587250,
          390000,
          1300000,
          850000,
          2300000,
          900000,
          527000,
          100000,
          5000000,
          640000,
          1900000,
          800000,
          1200000,
          1950000,
          500000,
          530000,
          1000000,
          960000,
          750000,
          440000,
          1700000,
          1050000,
          1250000,
          5970000,
          690000,
          1130000,
          550000,
          950000,
          1500000,
          1110000,
          1500000,
          1900000,
          650000,
          2425000,
          950000,
          930000,
          950000,
          600000,
          1550000,
          2600000,
          400000,
          587250,
          1350000,
          800000,
          550000,
          720000,
          1372500,
          520000,
          680000,
          1650000,
          770000,
          540000,
          881666.6666666666,
          1700000,
          800000,
          340000,
          710000,
          850000,
          400000,
          850000,
          960000,
          1580000,
          500000,
          1800000,
          530000,
          630000,
          910000,
          180000,
          520000,
          230000,
          1200000,
          560000,
          640000,
          15000,
          700000,
          1000000,
          360000,
          880000,
          550000,
          760000,
          490000,
          420000,
          520000,
          380000,
          1225287.5,
          575000,
          120000,
          600000,
          320000,
          350000,
          850000,
          980000,
          1500000,
          4450000,
          380000,
          480000,
          700000,
          420000,
          1000000,
          643000,
          500000,
          583333.3333333334,
          643000,
          795500,
          540000,
          1500000,
          4500000,
          950000,
          2200000,
          900000,
          660000,
          480000,
          510000,
          4800000,
          1128500,
          2750000,
          1600000,
          560000,
          600000,
          460000,
          450000,
          890000,
          420000,
          3200000,
          625000,
          1100000,
          1000000,
          700000,
          4140000,
          1380000,
          900000,
          800000,
          1350000,
          590000,
          1900000,
          580000,
          680000,
          583913.0434782609,
          1545000,
          640000,
          1070000,
          630000,
          1490000,
          680000,
          1200000,
          1600000,
          520000,
          790000,
          4140000,
          1100000,
          2750000,
          1675000,
          625000,
          1000000,
          600000,
          930000,
          620000,
          800000,
          450000,
          450000,
          950000,
          530000,
          510000,
          350000,
          420000,
          310000,
          1300000,
          980000,
          660000,
          580000,
          800000,
          510000,
          490000,
          650000,
          1050900,
          1600000,
          840000,
          380000,
          1225287.5,
          1400000,
          650000,
          610000,
          748800,
          900000,
          430000,
          430000,
          700000,
          1300000,
          1250000,
          330000,
          435000,
          1500000,
          750000,
          1450000,
          1300000,
          650000,
          1000000,
          340000,
          730000,
          960000,
          2200000,
          750000,
          1800000,
          650000,
          1500000,
          2150000,
          900000,
          2000000,
          520000,
          650000,
          36500,
          880000,
          1850000,
          814000,
          900000,
          480000,
          490000,
          750000,
          340000,
          1250000,
          1250000,
          1150000,
          480000,
          920000,
          630000,
          430000,
          380000,
          920000,
          924000,
          580000,
          510000,
          1040000,
          450000,
          600000,
          610000,
          980000,
          970000,
          1000000,
          630000,
          1150000,
          470000,
          950000,
          840000,
          850000,
          670000,
          1060000,
          1716000,
          650000,
          775000,
          1050000,
          490000,
          600000,
          920000,
          900000,
          450000,
          630000,
          1150000
         ],
         "yaxis": "y"
        },
        {
         "hovertemplate": "Type=Villa<br>Quartier=%{x}<br>Price=%{y}<extra></extra>",
         "legendgroup": "Villa",
         "marker": {
          "color": "#EF553B",
          "symbol": "circle"
         },
         "mode": "markers",
         "name": "Villa",
         "orientation": "v",
         "showlegend": true,
         "type": "scatter",
         "x": [
          "Illigh",
          "Siusse",
          "Founti",
          "Illigh",
          "Taddart",
          "Charaf",
          "Secteur Touristique",
          "Illigh",
          "Secteur Touristique",
          "Founti",
          "Founti",
          "Founti",
          "Founti",
          "Taddart",
          "Ben Serguaou",
          "Charaf",
          "Siusse",
          "Siusse",
          "Haut Founty",
          "Taddart",
          "Hay Dakhla",
          "Hay Mohammadi",
          "Secteur Touristique",
          "Ben Serguaou",
          "Founti",
          "Illigh",
          "Hay Najah",
          "Cité Adrar",
          "Taddart",
          "Illigh",
          "Founti",
          "Secteur Touristique",
          "Hay Najah",
          "Hay Houda",
          "Illigh",
          "Tilila",
          "Hay Najah",
          "Founti",
          "Hay Najah",
          "Hay Dakhla",
          "Illigh",
          "Tilila",
          "Ben Serguaou",
          "Hay Mohammadi",
          "Hay Dakhla",
          "Taddart Anza",
          "Founti",
          "Founti",
          "Charaf",
          "Tilila",
          "Tilila",
          "Charaf",
          "Tilila",
          "Hay Najah",
          "Ville Nouvelle",
          "Hay Mohammadi",
          "Founti",
          "Anza",
          "Hay Dakhla",
          "Illigh",
          "Al Wifaq",
          "Ville Nouvelle",
          "Hay Mohammadi",
          "Illigh",
          "Hay Najah",
          "Illigh",
          "Charaf",
          "Charaf",
          "Taddart",
          "Ben Serguaou",
          "Hay Najah",
          "Hay Najah",
          "Tilila",
          "Charaf",
          "Founti",
          "Tilila",
          "Siusse",
          "Ben Serguaou",
          "Illigh",
          "Secteur Touristique",
          "Founti",
          "Taddart Anza",
          "Illigh",
          "Tilila",
          "Al Wifaq",
          "Tilila",
          "Cité Adrar",
          "Tikiouine",
          "Founti",
          "Ben Serguaou",
          "Hay Houda",
          "Taddart",
          "Haut Founty",
          "Cité Adrar",
          "Hay Dakhla",
          "Ben Serguaou",
          "Hay Najah",
          "Hay Dakhla",
          "Illigh"
         ],
         "xaxis": "x",
         "y": [
          14500000,
          9700000,
          5700000,
          13000000,
          3200000,
          3000000,
          4800000,
          10500000,
          7800000,
          5966666.666666667,
          9000000,
          4400000,
          12000000,
          3000000,
          5300000,
          2000000,
          4800000,
          6800000,
          3700000,
          2900000,
          4800000,
          2960000,
          4900000,
          4500000,
          4500000,
          4800000,
          3900000,
          1600000,
          3300000,
          16000000,
          4500000,
          5700000,
          3400000,
          3800000,
          9525000,
          2500000,
          3400000,
          4900000,
          3600000,
          3300000,
          8500000,
          3000000,
          4550000,
          2950000,
          2700000,
          900000,
          5700000,
          6500000,
          1650000,
          1800000,
          2800000,
          2500000,
          4500000,
          4416666.666666667,
          5522847.222222222,
          5200000,
          3500000,
          2430000,
          3566666.6666666665,
          10000000,
          5522847.222222222,
          5522847.222222222,
          2200000,
          9500000,
          4800000,
          8500000,
          2300000,
          2200000,
          4000000,
          3800000,
          4800000,
          6500000,
          1900000,
          2500000,
          14000000,
          2950000,
          9200000,
          4900000,
          8500000,
          2800000,
          3000000,
          1450000,
          6500000,
          2600000,
          5522847.222222222,
          4800000,
          2800000,
          5522847.222222222,
          7600000,
          270000,
          7500000,
          3500000,
          3900000,
          1550000,
          3400000,
          5500000,
          4000000,
          2600000,
          1800000
         ],
         "yaxis": "y"
        },
        {
         "hovertemplate": "Type=Maison<br>Quartier=%{x}<br>Price=%{y}<extra></extra>",
         "legendgroup": "Maison",
         "marker": {
          "color": "#00cc96",
          "symbol": "circle"
         },
         "mode": "markers",
         "name": "Maison",
         "orientation": "v",
         "showlegend": true,
         "type": "scatter",
         "x": [
          "Haut Anza",
          "Talborjt",
          "Hay Dakhla",
          "Hay Salam",
          "Hay Al Wafaa",
          "Talborjt",
          "Riad Salam",
          "Taddart Anza",
          "Haut Anza",
          "Tilila",
          "Cité Adrar",
          "Ben Serguaou",
          "Lekhiam",
          "Haut Anza",
          "Hay Dakhla",
          "Tilila",
          "Al Wifaq",
          "Ben Serguaou",
          "Talborjt",
          "Cité Adrar",
          "Hay Dakhla",
          "Hay Massira",
          "Charaf",
          "Cité Adrar",
          "Cité Adrar",
          "Zone Industrielle Agadir",
          "Hay Salam",
          "Hay Massira",
          "Hay Houda",
          "Lekhiam",
          "Al Wifaq",
          "Cité Adrar",
          "Founti",
          "Cité Adrar",
          "Hay Salam",
          "Haut Founty",
          "Abattoirs",
          "Hay Mohammadi",
          "Tikiouine",
          "Al Wifaq",
          "Cité Adrar",
          "Charaf",
          "Hay Mohammadi",
          "Lekhiam",
          "Riad Salam",
          "Secteur Touristique",
          "Riad Salam",
          "Tilila",
          "Secteur Touristique",
          "Lekhiam",
          "Taddart Anza",
          "Hay Mohammadi",
          "Hay Massira",
          "Hay Qods",
          "Hay Al Wafaa",
          "Anza",
          "Hay Qods",
          "Hay Mohammadi",
          "Riad Salam",
          "Hay Salam",
          "Hay Mohammadi",
          "Extension Dakhla",
          "Bouargane",
          "Riad Salam",
          "Al Wifaq",
          "Hay Dakhla",
          "Hay Mohammadi",
          "Al Wifaq",
          "Hay Dakhla",
          "Talborjt",
          "Hay Dakhla",
          "Tikiouine",
          "Hay Salam",
          "Talborjt",
          "Ben Serguaou",
          "Hay Al Wafaa",
          "Hay Mohammadi",
          "Cité Adrar",
          "Hay Salam",
          "Secteur Touristique",
          "Anza",
          "Hay Mohammadi",
          "Hay Salam",
          "Hay Qods",
          "Hay Mohammadi",
          "Abattoirs",
          "Zone Industrielle Agadir",
          "Riad Salam",
          "Hay Massira",
          "Riad Salam",
          "Al Wifaq",
          "Tikiouine",
          "Hay Mohammadi",
          "Tikiouine",
          "Abattoirs",
          "Anza",
          "Charaf",
          "Tilila",
          "Amicales",
          "Abattoirs",
          "Zone Industrielle Agadir"
         ],
         "xaxis": "x",
         "y": [
          960000,
          3000000,
          1600000,
          2300000,
          500000,
          4600000,
          3500000,
          1320000,
          1320000,
          2900000,
          1200000,
          1800000,
          1250000,
          960000,
          2000000,
          3000000,
          3500000,
          2600000,
          1300000,
          1900000,
          2400000,
          1500000,
          1700000,
          1000000,
          3200000,
          2400000,
          6500000,
          2600000,
          1700000,
          1300000,
          2000000,
          1600000,
          1650000,
          2600000,
          2200000,
          3800000,
          725533.3333333334,
          1400000,
          2400000,
          2000000,
          2900000,
          2200000,
          1400000,
          1450000,
          2100000,
          3600000,
          3200000,
          2600000,
          3600000,
          1300000,
          1500000,
          4880000,
          1600000,
          1600000,
          500000,
          2000000,
          1600000,
          2960000,
          2650000,
          1700000,
          3000000,
          3100000,
          1400000,
          1200000,
          2000000,
          6000000,
          6800000,
          3100000,
          2800000,
          4600000,
          1370000,
          980000,
          1966666.6666666667,
          3000000,
          1000000,
          500000,
          6400000,
          900000,
          1700000,
          2100000,
          2000000,
          1450000,
          1900000,
          1600000,
          3200000,
          751600,
          2100000,
          1800000,
          1700000,
          3400000,
          1950000,
          800000,
          3100000,
          460000,
          1200000,
          85000000,
          1700000,
          2200000,
          2600000,
          225000,
          1800000
         ],
         "yaxis": "y"
        }
       ],
       "layout": {
        "legend": {
         "title": {
          "text": "Type"
         },
         "tracegroupgap": 0
        },
        "template": {
         "data": {
          "bar": [
           {
            "error_x": {
             "color": "#2a3f5f"
            },
            "error_y": {
             "color": "#2a3f5f"
            },
            "marker": {
             "line": {
              "color": "#E5ECF6",
              "width": 0.5
             },
             "pattern": {
              "fillmode": "overlay",
              "size": 10,
              "solidity": 0.2
             }
            },
            "type": "bar"
           }
          ],
          "barpolar": [
           {
            "marker": {
             "line": {
              "color": "#E5ECF6",
              "width": 0.5
             },
             "pattern": {
              "fillmode": "overlay",
              "size": 10,
              "solidity": 0.2
             }
            },
            "type": "barpolar"
           }
          ],
          "carpet": [
           {
            "aaxis": {
             "endlinecolor": "#2a3f5f",
             "gridcolor": "white",
             "linecolor": "white",
             "minorgridcolor": "white",
             "startlinecolor": "#2a3f5f"
            },
            "baxis": {
             "endlinecolor": "#2a3f5f",
             "gridcolor": "white",
             "linecolor": "white",
             "minorgridcolor": "white",
             "startlinecolor": "#2a3f5f"
            },
            "type": "carpet"
           }
          ],
          "choropleth": [
           {
            "colorbar": {
             "outlinewidth": 0,
             "ticks": ""
            },
            "type": "choropleth"
           }
          ],
          "contour": [
           {
            "colorbar": {
             "outlinewidth": 0,
             "ticks": ""
            },
            "colorscale": [
             [
              0,
              "#0d0887"
             ],
             [
              0.1111111111111111,
              "#46039f"
             ],
             [
              0.2222222222222222,
              "#7201a8"
             ],
             [
              0.3333333333333333,
              "#9c179e"
             ],
             [
              0.4444444444444444,
              "#bd3786"
             ],
             [
              0.5555555555555556,
              "#d8576b"
             ],
             [
              0.6666666666666666,
              "#ed7953"
             ],
             [
              0.7777777777777778,
              "#fb9f3a"
             ],
             [
              0.8888888888888888,
              "#fdca26"
             ],
             [
              1,
              "#f0f921"
             ]
            ],
            "type": "contour"
           }
          ],
          "contourcarpet": [
           {
            "colorbar": {
             "outlinewidth": 0,
             "ticks": ""
            },
            "type": "contourcarpet"
           }
          ],
          "heatmap": [
           {
            "colorbar": {
             "outlinewidth": 0,
             "ticks": ""
            },
            "colorscale": [
             [
              0,
              "#0d0887"
             ],
             [
              0.1111111111111111,
              "#46039f"
             ],
             [
              0.2222222222222222,
              "#7201a8"
             ],
             [
              0.3333333333333333,
              "#9c179e"
             ],
             [
              0.4444444444444444,
              "#bd3786"
             ],
             [
              0.5555555555555556,
              "#d8576b"
             ],
             [
              0.6666666666666666,
              "#ed7953"
             ],
             [
              0.7777777777777778,
              "#fb9f3a"
             ],
             [
              0.8888888888888888,
              "#fdca26"
             ],
             [
              1,
              "#f0f921"
             ]
            ],
            "type": "heatmap"
           }
          ],
          "heatmapgl": [
           {
            "colorbar": {
             "outlinewidth": 0,
             "ticks": ""
            },
            "colorscale": [
             [
              0,
              "#0d0887"
             ],
             [
              0.1111111111111111,
              "#46039f"
             ],
             [
              0.2222222222222222,
              "#7201a8"
             ],
             [
              0.3333333333333333,
              "#9c179e"
             ],
             [
              0.4444444444444444,
              "#bd3786"
             ],
             [
              0.5555555555555556,
              "#d8576b"
             ],
             [
              0.6666666666666666,
              "#ed7953"
             ],
             [
              0.7777777777777778,
              "#fb9f3a"
             ],
             [
              0.8888888888888888,
              "#fdca26"
             ],
             [
              1,
              "#f0f921"
             ]
            ],
            "type": "heatmapgl"
           }
          ],
          "histogram": [
           {
            "marker": {
             "pattern": {
              "fillmode": "overlay",
              "size": 10,
              "solidity": 0.2
             }
            },
            "type": "histogram"
           }
          ],
          "histogram2d": [
           {
            "colorbar": {
             "outlinewidth": 0,
             "ticks": ""
            },
            "colorscale": [
             [
              0,
              "#0d0887"
             ],
             [
              0.1111111111111111,
              "#46039f"
             ],
             [
              0.2222222222222222,
              "#7201a8"
             ],
             [
              0.3333333333333333,
              "#9c179e"
             ],
             [
              0.4444444444444444,
              "#bd3786"
             ],
             [
              0.5555555555555556,
              "#d8576b"
             ],
             [
              0.6666666666666666,
              "#ed7953"
             ],
             [
              0.7777777777777778,
              "#fb9f3a"
             ],
             [
              0.8888888888888888,
              "#fdca26"
             ],
             [
              1,
              "#f0f921"
             ]
            ],
            "type": "histogram2d"
           }
          ],
          "histogram2dcontour": [
           {
            "colorbar": {
             "outlinewidth": 0,
             "ticks": ""
            },
            "colorscale": [
             [
              0,
              "#0d0887"
             ],
             [
              0.1111111111111111,
              "#46039f"
             ],
             [
              0.2222222222222222,
              "#7201a8"
             ],
             [
              0.3333333333333333,
              "#9c179e"
             ],
             [
              0.4444444444444444,
              "#bd3786"
             ],
             [
              0.5555555555555556,
              "#d8576b"
             ],
             [
              0.6666666666666666,
              "#ed7953"
             ],
             [
              0.7777777777777778,
              "#fb9f3a"
             ],
             [
              0.8888888888888888,
              "#fdca26"
             ],
             [
              1,
              "#f0f921"
             ]
            ],
            "type": "histogram2dcontour"
           }
          ],
          "mesh3d": [
           {
            "colorbar": {
             "outlinewidth": 0,
             "ticks": ""
            },
            "type": "mesh3d"
           }
          ],
          "parcoords": [
           {
            "line": {
             "colorbar": {
              "outlinewidth": 0,
              "ticks": ""
             }
            },
            "type": "parcoords"
           }
          ],
          "pie": [
           {
            "automargin": true,
            "type": "pie"
           }
          ],
          "scatter": [
           {
            "fillpattern": {
             "fillmode": "overlay",
             "size": 10,
             "solidity": 0.2
            },
            "type": "scatter"
           }
          ],
          "scatter3d": [
           {
            "line": {
             "colorbar": {
              "outlinewidth": 0,
              "ticks": ""
             }
            },
            "marker": {
             "colorbar": {
              "outlinewidth": 0,
              "ticks": ""
             }
            },
            "type": "scatter3d"
           }
          ],
          "scattercarpet": [
           {
            "marker": {
             "colorbar": {
              "outlinewidth": 0,
              "ticks": ""
             }
            },
            "type": "scattercarpet"
           }
          ],
          "scattergeo": [
           {
            "marker": {
             "colorbar": {
              "outlinewidth": 0,
              "ticks": ""
             }
            },
            "type": "scattergeo"
           }
          ],
          "scattergl": [
           {
            "marker": {
             "colorbar": {
              "outlinewidth": 0,
              "ticks": ""
             }
            },
            "type": "scattergl"
           }
          ],
          "scattermapbox": [
           {
            "marker": {
             "colorbar": {
              "outlinewidth": 0,
              "ticks": ""
             }
            },
            "type": "scattermapbox"
           }
          ],
          "scatterpolar": [
           {
            "marker": {
             "colorbar": {
              "outlinewidth": 0,
              "ticks": ""
             }
            },
            "type": "scatterpolar"
           }
          ],
          "scatterpolargl": [
           {
            "marker": {
             "colorbar": {
              "outlinewidth": 0,
              "ticks": ""
             }
            },
            "type": "scatterpolargl"
           }
          ],
          "scatterternary": [
           {
            "marker": {
             "colorbar": {
              "outlinewidth": 0,
              "ticks": ""
             }
            },
            "type": "scatterternary"
           }
          ],
          "surface": [
           {
            "colorbar": {
             "outlinewidth": 0,
             "ticks": ""
            },
            "colorscale": [
             [
              0,
              "#0d0887"
             ],
             [
              0.1111111111111111,
              "#46039f"
             ],
             [
              0.2222222222222222,
              "#7201a8"
             ],
             [
              0.3333333333333333,
              "#9c179e"
             ],
             [
              0.4444444444444444,
              "#bd3786"
             ],
             [
              0.5555555555555556,
              "#d8576b"
             ],
             [
              0.6666666666666666,
              "#ed7953"
             ],
             [
              0.7777777777777778,
              "#fb9f3a"
             ],
             [
              0.8888888888888888,
              "#fdca26"
             ],
             [
              1,
              "#f0f921"
             ]
            ],
            "type": "surface"
           }
          ],
          "table": [
           {
            "cells": {
             "fill": {
              "color": "#EBF0F8"
             },
             "line": {
              "color": "white"
             }
            },
            "header": {
             "fill": {
              "color": "#C8D4E3"
             },
             "line": {
              "color": "white"
             }
            },
            "type": "table"
           }
          ]
         },
         "layout": {
          "annotationdefaults": {
           "arrowcolor": "#2a3f5f",
           "arrowhead": 0,
           "arrowwidth": 1
          },
          "autotypenumbers": "strict",
          "coloraxis": {
           "colorbar": {
            "outlinewidth": 0,
            "ticks": ""
           }
          },
          "colorscale": {
           "diverging": [
            [
             0,
             "#8e0152"
            ],
            [
             0.1,
             "#c51b7d"
            ],
            [
             0.2,
             "#de77ae"
            ],
            [
             0.3,
             "#f1b6da"
            ],
            [
             0.4,
             "#fde0ef"
            ],
            [
             0.5,
             "#f7f7f7"
            ],
            [
             0.6,
             "#e6f5d0"
            ],
            [
             0.7,
             "#b8e186"
            ],
            [
             0.8,
             "#7fbc41"
            ],
            [
             0.9,
             "#4d9221"
            ],
            [
             1,
             "#276419"
            ]
           ],
           "sequential": [
            [
             0,
             "#0d0887"
            ],
            [
             0.1111111111111111,
             "#46039f"
            ],
            [
             0.2222222222222222,
             "#7201a8"
            ],
            [
             0.3333333333333333,
             "#9c179e"
            ],
            [
             0.4444444444444444,
             "#bd3786"
            ],
            [
             0.5555555555555556,
             "#d8576b"
            ],
            [
             0.6666666666666666,
             "#ed7953"
            ],
            [
             0.7777777777777778,
             "#fb9f3a"
            ],
            [
             0.8888888888888888,
             "#fdca26"
            ],
            [
             1,
             "#f0f921"
            ]
           ],
           "sequentialminus": [
            [
             0,
             "#0d0887"
            ],
            [
             0.1111111111111111,
             "#46039f"
            ],
            [
             0.2222222222222222,
             "#7201a8"
            ],
            [
             0.3333333333333333,
             "#9c179e"
            ],
            [
             0.4444444444444444,
             "#bd3786"
            ],
            [
             0.5555555555555556,
             "#d8576b"
            ],
            [
             0.6666666666666666,
             "#ed7953"
            ],
            [
             0.7777777777777778,
             "#fb9f3a"
            ],
            [
             0.8888888888888888,
             "#fdca26"
            ],
            [
             1,
             "#f0f921"
            ]
           ]
          },
          "colorway": [
           "#636efa",
           "#EF553B",
           "#00cc96",
           "#ab63fa",
           "#FFA15A",
           "#19d3f3",
           "#FF6692",
           "#B6E880",
           "#FF97FF",
           "#FECB52"
          ],
          "font": {
           "color": "#2a3f5f"
          },
          "geo": {
           "bgcolor": "white",
           "lakecolor": "white",
           "landcolor": "#E5ECF6",
           "showlakes": true,
           "showland": true,
           "subunitcolor": "white"
          },
          "hoverlabel": {
           "align": "left"
          },
          "hovermode": "closest",
          "mapbox": {
           "style": "light"
          },
          "paper_bgcolor": "white",
          "plot_bgcolor": "#E5ECF6",
          "polar": {
           "angularaxis": {
            "gridcolor": "white",
            "linecolor": "white",
            "ticks": ""
           },
           "bgcolor": "#E5ECF6",
           "radialaxis": {
            "gridcolor": "white",
            "linecolor": "white",
            "ticks": ""
           }
          },
          "scene": {
           "xaxis": {
            "backgroundcolor": "#E5ECF6",
            "gridcolor": "white",
            "gridwidth": 2,
            "linecolor": "white",
            "showbackground": true,
            "ticks": "",
            "zerolinecolor": "white"
           },
           "yaxis": {
            "backgroundcolor": "#E5ECF6",
            "gridcolor": "white",
            "gridwidth": 2,
            "linecolor": "white",
            "showbackground": true,
            "ticks": "",
            "zerolinecolor": "white"
           },
           "zaxis": {
            "backgroundcolor": "#E5ECF6",
            "gridcolor": "white",
            "gridwidth": 2,
            "linecolor": "white",
            "showbackground": true,
            "ticks": "",
            "zerolinecolor": "white"
           }
          },
          "shapedefaults": {
           "line": {
            "color": "#2a3f5f"
           }
          },
          "ternary": {
           "aaxis": {
            "gridcolor": "white",
            "linecolor": "white",
            "ticks": ""
           },
           "baxis": {
            "gridcolor": "white",
            "linecolor": "white",
            "ticks": ""
           },
           "bgcolor": "#E5ECF6",
           "caxis": {
            "gridcolor": "white",
            "linecolor": "white",
            "ticks": ""
           }
          },
          "title": {
           "x": 0.05
          },
          "xaxis": {
           "automargin": true,
           "gridcolor": "white",
           "linecolor": "white",
           "ticks": "",
           "title": {
            "standoff": 15
           },
           "zerolinecolor": "white",
           "zerolinewidth": 2
          },
          "yaxis": {
           "automargin": true,
           "gridcolor": "white",
           "linecolor": "white",
           "ticks": "",
           "title": {
            "standoff": 15
           },
           "zerolinecolor": "white",
           "zerolinewidth": 2
          }
         }
        },
        "title": {
         "text": "Price vs. Area"
        },
        "xaxis": {
         "anchor": "y",
         "domain": [
          0,
          1
         ],
         "title": {
          "text": "Quartier"
         }
        },
        "yaxis": {
         "anchor": "x",
         "domain": [
          0,
          1
         ],
         "title": {
          "text": "Price"
         }
        }
       }
      }
     },
     "metadata": {},
     "output_type": "display_data"
    }
   ],
   "source": [
    "px.scatter(cleaned_data, x='Quartier', y='Price', color='Type', title='Price vs. Area')"
   ]
  },
  {
   "cell_type": "code",
   "execution_count": 70,
   "metadata": {},
   "outputs": [],
   "source": [
    "cleaned_data = cleaned_data[cleaned_data['Price'] != 85000000 ]"
   ]
  },
  {
   "cell_type": "code",
   "execution_count": 71,
   "metadata": {},
   "outputs": [
    {
     "data": {
      "application/vnd.plotly.v1+json": {
       "config": {
        "plotlyServerURL": "https://plot.ly"
       },
       "data": [
        {
         "hovertemplate": "Type=Appartement<br>Quartier=%{x}<br>Price=%{y}<extra></extra>",
         "legendgroup": "Appartement",
         "marker": {
          "color": "#636efa",
          "symbol": "circle"
         },
         "mode": "markers",
         "name": "Appartement",
         "orientation": "v",
         "showlegend": true,
         "type": "scatter",
         "x": [
          "Secteur Touristique",
          "Hay Mohammadi",
          "Hay Mohammadi",
          "Hay Mohammadi",
          "Hay Mohammadi",
          "Hay Houda",
          "Abattoirs",
          "Hay Salam",
          "Hay Dakhla",
          "Hay Mohammadi",
          "Taddart Anza",
          "Hay Mohammadi",
          "Amsernate",
          "Riad Salam",
          "Hay Salam",
          "Hay Salam",
          "Hay Houda",
          "Hay Salam",
          "Hay Mohammadi",
          "Ville Nouvelle",
          "Founti",
          "Talborjt",
          "Secteur Touristique",
          "Ville Nouvelle",
          "Founti",
          "Haut Founty",
          "Haut Founty",
          "Secteur Touristique",
          "Haut Founty",
          "Hay Mohammadi",
          "Riad Salam",
          "Founti",
          "Hay Salam",
          "Tilila",
          "Hay Houda",
          "Hay Mohammadi",
          "Secteur Touristique",
          "Founti",
          "Zone Industrielle Agadir",
          "Hay Salam",
          "Hay Mohammadi",
          "Hay Mohammadi",
          "Hay Salam",
          "Haut Founty",
          "Secteur Touristique",
          "Secteur Touristique",
          "Hay Mohammadi",
          "Hay Mohammadi",
          "Al Wifaq",
          "Hay Houda",
          "Hay Mohammadi",
          "Haut Anza",
          "Hay Dakhla",
          "Amsernate",
          "Hay Najah",
          "Hay Mohammadi",
          "Abattoirs",
          "Secteur Touristique",
          "Hay Dakhla",
          "Founti",
          "Amsernate",
          "Secteur Touristique",
          "Hay Dakhla",
          "Hay Mohammadi",
          "Hay Houda",
          "Taddart Anza",
          "Hay Mohammadi",
          "Hay Mohammadi",
          "Hay Mohammadi",
          "Founti",
          "Secteur Touristique",
          "Haut Founty",
          "Lekhiam",
          "Zone Industrielle Agadir",
          "Cité Adrar",
          "Secteur Touristique",
          "Hay Salam",
          "Riad Salam",
          "Hay Mohammadi",
          "Tilila",
          "Hay Mohammadi",
          "Hay Mohammadi",
          "Hay Mohammadi",
          "Haut Founty",
          "Hay Mohammadi",
          "Hay Mohammadi",
          "Hay Mohammadi",
          "Hay Salam",
          "Hay Houda",
          "Hay Mohammadi",
          "Hay Mohammadi",
          "Hay Houda",
          "Hay Mohammadi",
          "Anza",
          "Hay Mohammadi",
          "Hay Houda",
          "Hay Mohammadi",
          "Ville Nouvelle",
          "Hay Salam",
          "Tilila",
          "Bouargane",
          "Hay Mohammadi",
          "Anza",
          "Secteur Touristique",
          "Hay Salam",
          "Hay Salam",
          "Amsernate",
          "Hay Mohammadi",
          "Riad Salam",
          "Hay Mohammadi",
          "Riad Salam",
          "Hay Mohammadi",
          "Secteur Touristique",
          "Hay Houda",
          "Cité Adrar",
          "Tilila",
          "Hay Houda",
          "Amsernate",
          "Hay Mohammadi",
          "Hay Salam",
          "Hay Mohammadi",
          "Hay Mohammadi",
          "Hay Dakhla",
          "Hay Salam",
          "Haut Anza",
          "Hay Mohammadi",
          "Hay Salam",
          "Hay Dakhla",
          "Secteur Touristique",
          "Hay Massira",
          "Talborjt",
          "Founti",
          "Riad Salam",
          "Founti",
          "Haut Founty",
          "Tilila",
          "Hay Houda",
          "Al Wifaq",
          "Hay Mohammadi",
          "Hay Salam",
          "Haut Founty",
          "Secteur Touristique",
          "Hay Massira",
          "Riad Salam",
          "Lekhiam",
          "Hay Mohammadi",
          "Extension Dakhla",
          "Hay Houda",
          "Ben Serguaou",
          "Lekhiam",
          "Amicales",
          "Founti",
          "Riad Salam",
          "Hay Mohammadi",
          "Secteur Touristique",
          "Founti",
          "Hay Salam",
          "Abattoirs",
          "Hay Salam",
          "Hay Salam",
          "Secteur Touristique",
          "Hay Mohammadi",
          "Hay Salam",
          "Hay Mohammadi",
          "Hay Mohammadi",
          "Cité Adrar",
          "Hay Houda",
          "Riad Salam",
          "Hay Mohammadi",
          "Hay Salam",
          "Hay Al Farah",
          "Hay Salam",
          "Haut Founty",
          "Riad Salam",
          "Hay Mohammadi",
          "Hay Mohammadi",
          "Hay Mohammadi",
          "Hay Mohammadi",
          "Hay Mohammadi",
          "Haut Founty",
          "Hay Al Farah",
          "Hay Houda",
          "Hay Houda",
          "Talborjt",
          "Hay Mohammadi",
          "Haut Founty",
          "Secteur Touristique",
          "Haut Founty",
          "Hay Mohammadi",
          "Hay Mohammadi",
          "Hay Salam",
          "Ville Nouvelle",
          "Anza",
          "Hay Mohammadi",
          "Al Wifaq",
          "Riad Salam",
          "Tilila",
          "Hay Mohammadi",
          "Hay Salam",
          "Cité Adrar",
          "Hay Dakhla",
          "Hay Mohammadi",
          "Al Wifaq",
          "Ville Nouvelle",
          "Hay Salam",
          "Founti",
          "Founti",
          "Haut Founty",
          "Founti",
          "Talborjt",
          "Extension Dakhla",
          "Hay Houda",
          "Hay Mohammadi",
          "Hay Houda",
          "Abattoirs",
          "Founti",
          "Talborjt",
          "Haut Anza",
          "Secteur Touristique",
          "Hay Mohammadi",
          "Tilila",
          "Hay Houda",
          "Zone Industrielle Agadir",
          "Hay Mohammadi",
          "Hay Mohammadi",
          "Hay Qods",
          "Hay Mohammadi",
          "Amicales",
          "Hay Mohammadi",
          "Hay Houda",
          "Hay Salam",
          "Extension Dakhla",
          "Hay Mohammadi",
          "Founti",
          "Hay Dakhla",
          "Hay Salam",
          "Ben Serguaou",
          "Ville Nouvelle",
          "Zone Industrielle Agadir",
          "Founti",
          "Hay Houda",
          "Hay Mohammadi",
          "Hay Mohammadi",
          "Hay Houda",
          "Hay Mohammadi",
          "Ben Serguaou",
          "Hay Mohammadi",
          "Hay Qods",
          "Hay Mohammadi",
          "Hay Mohammadi",
          "Hay Mohammadi",
          "Hay Mohammadi",
          "Ville Nouvelle",
          "Hay Mohammadi",
          "Haut Founty",
          "Hay Salam",
          "Hay Houda",
          "Abattoirs",
          "Taddart",
          "Hay Massira",
          "Secteur Touristique",
          "Hay Salam",
          "Haut Founty",
          "Hay Dakhla",
          "Hay Houda",
          "Hay Houda",
          "Cité Adrar",
          "Founti",
          "Secteur Touristique",
          "Tikiouine",
          "Hay Houda",
          "Hay Mohammadi",
          "Hay Houda",
          "Hay Mohammadi",
          "Cité Adrar",
          "Haut Founty",
          "Hay Salam",
          "Hay Mohammadi",
          "Secteur Touristique",
          "Hay Dakhla",
          "Hay Salam",
          "Hay Mohammadi",
          "Zone Industrielle Agadir",
          "Haut Founty",
          "Hay Salam",
          "Hay Massira",
          "Hay Mohammadi",
          "Ben Serguaou",
          "Tilila",
          "Hay Mohammadi",
          "Hay Mohammadi",
          "Hay Mohammadi",
          "Hay Mohammadi",
          "Hay Salam",
          "Hay Salam",
          "Hay Mohammadi",
          "Secteur Touristique",
          "Hay Salam",
          "Founti",
          "Hay Dakhla",
          "Hay Salam",
          "Hay Mohammadi",
          "Tilila",
          "Hay Mohammadi",
          "Haut Founty",
          "Hay Mohammadi",
          "Hay Houda",
          "Hay Dakhla",
          "Tilila",
          "Hay Salam",
          "Hay Houda",
          "Hay Salam",
          "Haut Anza",
          "Haut Founty",
          "Hay Mohammadi",
          "Hay Houda",
          "Hay Mohammadi",
          "Hay Mohammadi",
          "Ben Serguaou",
          "Tilila",
          "Hay Mohammadi",
          "Hay Mohammadi",
          "Founti",
          "Haut Anza",
          "Tilila",
          "Hay Houda",
          "Hay Mohammadi",
          "Zone Industrielle Agadir",
          "Tilila",
          "Hay Mohammadi",
          "Ben Serguaou",
          "Tilila",
          "Abattoirs",
          "Hay Salam",
          "Charaf",
          "Founti",
          "Hay Mohammadi",
          "Secteur Touristique",
          "Zone Industrielle Agadir",
          "Hay Salam",
          "Abattoirs",
          "Hay Mohammadi",
          "Secteur Touristique",
          "Riad Salam",
          "Secteur Touristique",
          "Ville Nouvelle",
          "Hay Mohammadi",
          "Hay Salam",
          "Hay Mohammadi",
          "Haut Anza",
          "Hay Al Wafaa",
          "Hay Mohammadi",
          "Hay Dakhla",
          "Hay Al Farah",
          "Hay Mohammadi",
          "Hay Houda",
          "Hay Salam",
          "Cité Adrar",
          "Abattoirs",
          "Hay Mohammadi",
          "Talborjt",
          "Hay Najah",
          "Hay Al Wafaa",
          "Secteur Touristique",
          "Extension Dakhla",
          "Hay Al Farah",
          "Hay Mohammadi",
          "Hay Houda",
          "Hay Salam",
          "Abattoirs",
          "Hay Mohammadi",
          "Secteur Touristique",
          "Hay Mohammadi",
          "Haut Founty",
          "Amsernate",
          "Tilila",
          "Cité Adrar",
          "Cité Adrar",
          "Hay Mohammadi",
          "Secteur Touristique",
          "Hay Dakhla",
          "Hay Al Farah",
          "Secteur Touristique",
          "Tilila",
          "Hay Mohammadi",
          "Al Wifaq",
          "Amsernate",
          "Hay Salam",
          "Ville Nouvelle",
          "Hay Mohammadi",
          "Hay Mohammadi",
          "Hay Mohammadi",
          "Hay Mohammadi",
          "Hay Mohammadi",
          "Hay Mohammadi",
          "Hay Mohammadi",
          "Haut Founty",
          "Hay Mohammadi",
          "Hay Mohammadi",
          "Hay Houda",
          "Hay Mohammadi",
          "Hay Mohammadi",
          "Hay Salam",
          "Hay Dakhla",
          "Amsernate",
          "Bouargane",
          "Hay Houda",
          "Haut Founty",
          "Hay Mohammadi",
          "Hay Salam",
          "Hay Mohammadi",
          "Hay Mohammadi",
          "Hay Mohammadi",
          "Al Wifaq",
          "Al Wifaq",
          "Hay Mohammadi",
          "Hay Mohammadi",
          "Abattoirs",
          "Taddart Anza",
          "Hay Mohammadi",
          "Tilila",
          "Hay Salam",
          "Riad Salam",
          "Hay Houda",
          "Hay Mohammadi",
          "Hay Mohammadi",
          "Hay Salam",
          "Hay Salam",
          "Riad Salam",
          "Secteur Touristique",
          "Tilila",
          "Founti",
          "Hay Salam",
          "Bouargane",
          "Hay Najah",
          "Hay Salam",
          "Hay Mohammadi",
          "Hay Mohammadi",
          "Tilila",
          "Hay Salam",
          "Hay Mohammadi",
          "Ville Nouvelle",
          "Hay Dakhla",
          "Hay Dakhla",
          "Extension Dakhla",
          "Hay Mohammadi",
          "Hay Qods",
          "Hay Salam",
          "Anza",
          "Abattoirs",
          "Amicales",
          "Al Wifaq",
          "Hay Mohammadi",
          "Hay Mohammadi",
          "Al Wifaq",
          "Hay Houda",
          "Tilila",
          "Hay Mohammadi",
          "Hay Mohammadi",
          "Hay Salam",
          "Hay Mohammadi",
          "Cité Adrar",
          "Hay Mohammadi",
          "Hay Al Farah",
          "Hay Mohammadi",
          "Hay Houda",
          "Anza",
          "Hay Mohammadi",
          "Al Wifaq",
          "Hay Salam",
          "Hay Dakhla",
          "Hay Houda",
          "Hay Mohammadi",
          "Hay Houda",
          "Hay Mohammadi",
          "Extension Dakhla",
          "Hay Salam",
          "Hay Salam",
          "Al Wifaq",
          "Taddart Anza",
          "Hay Mohammadi",
          "Hay Massira",
          "Anza",
          "Cité Adrar",
          "Hay Mohammadi",
          "Hay Houda"
         ],
         "xaxis": "x",
         "y": [
          2600000,
          500000,
          1100000,
          380000,
          600000,
          680000,
          850000,
          680000,
          510000,
          510000,
          460000,
          1950000,
          620000,
          770000,
          520000,
          570000,
          700000,
          630000,
          420000,
          1600000,
          5900000,
          1550000,
          1900000,
          2500000,
          2500000,
          2450000,
          1250000,
          2950000,
          3700000,
          680000,
          1500000,
          2600000,
          860000,
          840000,
          800000,
          1200000,
          3400000,
          1700000,
          1357000,
          560000,
          960000,
          380000,
          560000,
          1170000,
          1900000,
          1800000,
          550000,
          1100000,
          1150000,
          1100000,
          800000,
          560000,
          650000,
          770000,
          1000000,
          590000,
          1030000,
          3250000,
          900000,
          1750000,
          900000,
          2750000,
          1750000,
          590000,
          928571.4285714284,
          680000,
          800000,
          740000,
          660000,
          2850000,
          2000000,
          3200000,
          900000,
          900000,
          7500000,
          4600000,
          880000,
          1480000,
          660000,
          780000,
          881666.6666666666,
          434000,
          885000,
          700000,
          850000,
          670000,
          420000,
          670000,
          880000,
          1250000,
          530000,
          1860000,
          670000,
          1400000,
          1600000,
          1333333.3333333333,
          891750,
          600000,
          900000,
          780000,
          950000,
          885000,
          750000,
          2800000,
          680000,
          475000,
          650000,
          788369.2307692308,
          950000,
          1387500,
          1340000,
          570000,
          2590000,
          490000,
          350000,
          380000,
          860000,
          635000,
          420000,
          460000,
          570000,
          450000,
          968000,
          630000,
          300000,
          760000,
          750000,
          1750000,
          2000000,
          1200000,
          630000,
          2800000,
          1500000,
          1700000,
          1245000,
          800000,
          620000,
          900000,
          850000,
          520000,
          1440000,
          2800000,
          1200000,
          1307000,
          900000,
          770000,
          1100000,
          1000000,
          860000,
          800000,
          1530000,
          1500000,
          700000,
          950000,
          1750000,
          2600000,
          440000,
          935000,
          530000,
          540000,
          2800000,
          420000,
          560000,
          1300000,
          840000,
          780000,
          1200000,
          1400000,
          1000000,
          750000,
          840000,
          580000,
          1230000,
          1450000,
          770000,
          1100000,
          1460000,
          880000,
          620000,
          1650000,
          680000,
          490000,
          1250000,
          1370000,
          660000,
          2240000,
          2800000,
          1305500,
          600000,
          1300000,
          1650000,
          1400000,
          650000,
          1950000,
          900000,
          1500000,
          380000,
          670000,
          400000,
          4140000,
          1150000,
          520000,
          560000,
          950000,
          750000,
          2100000,
          3000000,
          1500000,
          3300000,
          1500000,
          1500000,
          1150000,
          670000,
          880000,
          1500000,
          2300000,
          1650000,
          520000,
          3246000,
          350000,
          850000,
          510000,
          560000,
          840000,
          490000,
          750000,
          760000,
          1600000,
          980000,
          587250,
          390000,
          1300000,
          850000,
          2300000,
          900000,
          527000,
          100000,
          5000000,
          640000,
          1900000,
          800000,
          1200000,
          1950000,
          500000,
          530000,
          1000000,
          960000,
          750000,
          440000,
          1700000,
          1050000,
          1250000,
          5970000,
          690000,
          1130000,
          550000,
          950000,
          1500000,
          1110000,
          1500000,
          1900000,
          650000,
          2425000,
          950000,
          930000,
          950000,
          600000,
          1550000,
          2600000,
          400000,
          587250,
          1350000,
          800000,
          550000,
          720000,
          1372500,
          520000,
          680000,
          1650000,
          770000,
          540000,
          881666.6666666666,
          1700000,
          800000,
          340000,
          710000,
          850000,
          400000,
          850000,
          960000,
          1580000,
          500000,
          1800000,
          530000,
          630000,
          910000,
          180000,
          520000,
          230000,
          1200000,
          560000,
          640000,
          15000,
          700000,
          1000000,
          360000,
          880000,
          550000,
          760000,
          490000,
          420000,
          520000,
          380000,
          1225287.5,
          575000,
          120000,
          600000,
          320000,
          350000,
          850000,
          980000,
          1500000,
          4450000,
          380000,
          480000,
          700000,
          420000,
          1000000,
          643000,
          500000,
          583333.3333333334,
          643000,
          795500,
          540000,
          1500000,
          4500000,
          950000,
          2200000,
          900000,
          660000,
          480000,
          510000,
          4800000,
          1128500,
          2750000,
          1600000,
          560000,
          600000,
          460000,
          450000,
          890000,
          420000,
          3200000,
          625000,
          1100000,
          1000000,
          700000,
          4140000,
          1380000,
          900000,
          800000,
          1350000,
          590000,
          1900000,
          580000,
          680000,
          583913.0434782609,
          1545000,
          640000,
          1070000,
          630000,
          1490000,
          680000,
          1200000,
          1600000,
          520000,
          790000,
          4140000,
          1100000,
          2750000,
          1675000,
          625000,
          1000000,
          600000,
          930000,
          620000,
          800000,
          450000,
          450000,
          950000,
          530000,
          510000,
          350000,
          420000,
          310000,
          1300000,
          980000,
          660000,
          580000,
          800000,
          510000,
          490000,
          650000,
          1050900,
          1600000,
          840000,
          380000,
          1225287.5,
          1400000,
          650000,
          610000,
          748800,
          900000,
          430000,
          430000,
          700000,
          1300000,
          1250000,
          330000,
          435000,
          1500000,
          750000,
          1450000,
          1300000,
          650000,
          1000000,
          340000,
          730000,
          960000,
          2200000,
          750000,
          1800000,
          650000,
          1500000,
          2150000,
          900000,
          2000000,
          520000,
          650000,
          36500,
          880000,
          1850000,
          814000,
          900000,
          480000,
          490000,
          750000,
          340000,
          1250000,
          1250000,
          1150000,
          480000,
          920000,
          630000,
          430000,
          380000,
          920000,
          924000,
          580000,
          510000,
          1040000,
          450000,
          600000,
          610000,
          980000,
          970000,
          1000000,
          630000,
          1150000,
          470000,
          950000,
          840000,
          850000,
          670000,
          1060000,
          1716000,
          650000,
          775000,
          1050000,
          490000,
          600000,
          920000,
          900000,
          450000,
          630000,
          1150000
         ],
         "yaxis": "y"
        },
        {
         "hovertemplate": "Type=Villa<br>Quartier=%{x}<br>Price=%{y}<extra></extra>",
         "legendgroup": "Villa",
         "marker": {
          "color": "#EF553B",
          "symbol": "circle"
         },
         "mode": "markers",
         "name": "Villa",
         "orientation": "v",
         "showlegend": true,
         "type": "scatter",
         "x": [
          "Illigh",
          "Siusse",
          "Founti",
          "Illigh",
          "Taddart",
          "Charaf",
          "Secteur Touristique",
          "Illigh",
          "Secteur Touristique",
          "Founti",
          "Founti",
          "Founti",
          "Founti",
          "Taddart",
          "Ben Serguaou",
          "Charaf",
          "Siusse",
          "Siusse",
          "Haut Founty",
          "Taddart",
          "Hay Dakhla",
          "Hay Mohammadi",
          "Secteur Touristique",
          "Ben Serguaou",
          "Founti",
          "Illigh",
          "Hay Najah",
          "Cité Adrar",
          "Taddart",
          "Illigh",
          "Founti",
          "Secteur Touristique",
          "Hay Najah",
          "Hay Houda",
          "Illigh",
          "Tilila",
          "Hay Najah",
          "Founti",
          "Hay Najah",
          "Hay Dakhla",
          "Illigh",
          "Tilila",
          "Ben Serguaou",
          "Hay Mohammadi",
          "Hay Dakhla",
          "Taddart Anza",
          "Founti",
          "Founti",
          "Charaf",
          "Tilila",
          "Tilila",
          "Charaf",
          "Tilila",
          "Hay Najah",
          "Ville Nouvelle",
          "Hay Mohammadi",
          "Founti",
          "Anza",
          "Hay Dakhla",
          "Illigh",
          "Al Wifaq",
          "Ville Nouvelle",
          "Hay Mohammadi",
          "Illigh",
          "Hay Najah",
          "Illigh",
          "Charaf",
          "Charaf",
          "Taddart",
          "Ben Serguaou",
          "Hay Najah",
          "Hay Najah",
          "Tilila",
          "Charaf",
          "Founti",
          "Tilila",
          "Siusse",
          "Ben Serguaou",
          "Illigh",
          "Secteur Touristique",
          "Founti",
          "Taddart Anza",
          "Illigh",
          "Tilila",
          "Al Wifaq",
          "Tilila",
          "Cité Adrar",
          "Tikiouine",
          "Founti",
          "Ben Serguaou",
          "Hay Houda",
          "Taddart",
          "Haut Founty",
          "Cité Adrar",
          "Hay Dakhla",
          "Ben Serguaou",
          "Hay Najah",
          "Hay Dakhla",
          "Illigh"
         ],
         "xaxis": "x",
         "y": [
          14500000,
          9700000,
          5700000,
          13000000,
          3200000,
          3000000,
          4800000,
          10500000,
          7800000,
          5966666.666666667,
          9000000,
          4400000,
          12000000,
          3000000,
          5300000,
          2000000,
          4800000,
          6800000,
          3700000,
          2900000,
          4800000,
          2960000,
          4900000,
          4500000,
          4500000,
          4800000,
          3900000,
          1600000,
          3300000,
          16000000,
          4500000,
          5700000,
          3400000,
          3800000,
          9525000,
          2500000,
          3400000,
          4900000,
          3600000,
          3300000,
          8500000,
          3000000,
          4550000,
          2950000,
          2700000,
          900000,
          5700000,
          6500000,
          1650000,
          1800000,
          2800000,
          2500000,
          4500000,
          4416666.666666667,
          5522847.222222222,
          5200000,
          3500000,
          2430000,
          3566666.6666666665,
          10000000,
          5522847.222222222,
          5522847.222222222,
          2200000,
          9500000,
          4800000,
          8500000,
          2300000,
          2200000,
          4000000,
          3800000,
          4800000,
          6500000,
          1900000,
          2500000,
          14000000,
          2950000,
          9200000,
          4900000,
          8500000,
          2800000,
          3000000,
          1450000,
          6500000,
          2600000,
          5522847.222222222,
          4800000,
          2800000,
          5522847.222222222,
          7600000,
          270000,
          7500000,
          3500000,
          3900000,
          1550000,
          3400000,
          5500000,
          4000000,
          2600000,
          1800000
         ],
         "yaxis": "y"
        },
        {
         "hovertemplate": "Type=Maison<br>Quartier=%{x}<br>Price=%{y}<extra></extra>",
         "legendgroup": "Maison",
         "marker": {
          "color": "#00cc96",
          "symbol": "circle"
         },
         "mode": "markers",
         "name": "Maison",
         "orientation": "v",
         "showlegend": true,
         "type": "scatter",
         "x": [
          "Haut Anza",
          "Talborjt",
          "Hay Dakhla",
          "Hay Salam",
          "Hay Al Wafaa",
          "Talborjt",
          "Riad Salam",
          "Taddart Anza",
          "Haut Anza",
          "Tilila",
          "Cité Adrar",
          "Ben Serguaou",
          "Lekhiam",
          "Haut Anza",
          "Hay Dakhla",
          "Tilila",
          "Al Wifaq",
          "Ben Serguaou",
          "Talborjt",
          "Cité Adrar",
          "Hay Dakhla",
          "Hay Massira",
          "Charaf",
          "Cité Adrar",
          "Cité Adrar",
          "Zone Industrielle Agadir",
          "Hay Salam",
          "Hay Massira",
          "Hay Houda",
          "Lekhiam",
          "Al Wifaq",
          "Cité Adrar",
          "Founti",
          "Cité Adrar",
          "Hay Salam",
          "Haut Founty",
          "Abattoirs",
          "Hay Mohammadi",
          "Tikiouine",
          "Al Wifaq",
          "Cité Adrar",
          "Charaf",
          "Hay Mohammadi",
          "Lekhiam",
          "Riad Salam",
          "Secteur Touristique",
          "Riad Salam",
          "Tilila",
          "Secteur Touristique",
          "Lekhiam",
          "Taddart Anza",
          "Hay Mohammadi",
          "Hay Massira",
          "Hay Qods",
          "Hay Al Wafaa",
          "Anza",
          "Hay Qods",
          "Hay Mohammadi",
          "Riad Salam",
          "Hay Salam",
          "Hay Mohammadi",
          "Extension Dakhla",
          "Bouargane",
          "Riad Salam",
          "Al Wifaq",
          "Hay Dakhla",
          "Hay Mohammadi",
          "Al Wifaq",
          "Hay Dakhla",
          "Talborjt",
          "Hay Dakhla",
          "Tikiouine",
          "Hay Salam",
          "Talborjt",
          "Ben Serguaou",
          "Hay Al Wafaa",
          "Hay Mohammadi",
          "Cité Adrar",
          "Hay Salam",
          "Secteur Touristique",
          "Anza",
          "Hay Mohammadi",
          "Hay Salam",
          "Hay Qods",
          "Hay Mohammadi",
          "Abattoirs",
          "Zone Industrielle Agadir",
          "Riad Salam",
          "Hay Massira",
          "Riad Salam",
          "Al Wifaq",
          "Tikiouine",
          "Hay Mohammadi",
          "Tikiouine",
          "Abattoirs",
          "Charaf",
          "Tilila",
          "Amicales",
          "Abattoirs",
          "Zone Industrielle Agadir"
         ],
         "xaxis": "x",
         "y": [
          960000,
          3000000,
          1600000,
          2300000,
          500000,
          4600000,
          3500000,
          1320000,
          1320000,
          2900000,
          1200000,
          1800000,
          1250000,
          960000,
          2000000,
          3000000,
          3500000,
          2600000,
          1300000,
          1900000,
          2400000,
          1500000,
          1700000,
          1000000,
          3200000,
          2400000,
          6500000,
          2600000,
          1700000,
          1300000,
          2000000,
          1600000,
          1650000,
          2600000,
          2200000,
          3800000,
          725533.3333333334,
          1400000,
          2400000,
          2000000,
          2900000,
          2200000,
          1400000,
          1450000,
          2100000,
          3600000,
          3200000,
          2600000,
          3600000,
          1300000,
          1500000,
          4880000,
          1600000,
          1600000,
          500000,
          2000000,
          1600000,
          2960000,
          2650000,
          1700000,
          3000000,
          3100000,
          1400000,
          1200000,
          2000000,
          6000000,
          6800000,
          3100000,
          2800000,
          4600000,
          1370000,
          980000,
          1966666.6666666667,
          3000000,
          1000000,
          500000,
          6400000,
          900000,
          1700000,
          2100000,
          2000000,
          1450000,
          1900000,
          1600000,
          3200000,
          751600,
          2100000,
          1800000,
          1700000,
          3400000,
          1950000,
          800000,
          3100000,
          460000,
          1200000,
          1700000,
          2200000,
          2600000,
          225000,
          1800000
         ],
         "yaxis": "y"
        }
       ],
       "layout": {
        "legend": {
         "title": {
          "text": "Type"
         },
         "tracegroupgap": 0
        },
        "template": {
         "data": {
          "bar": [
           {
            "error_x": {
             "color": "#2a3f5f"
            },
            "error_y": {
             "color": "#2a3f5f"
            },
            "marker": {
             "line": {
              "color": "#E5ECF6",
              "width": 0.5
             },
             "pattern": {
              "fillmode": "overlay",
              "size": 10,
              "solidity": 0.2
             }
            },
            "type": "bar"
           }
          ],
          "barpolar": [
           {
            "marker": {
             "line": {
              "color": "#E5ECF6",
              "width": 0.5
             },
             "pattern": {
              "fillmode": "overlay",
              "size": 10,
              "solidity": 0.2
             }
            },
            "type": "barpolar"
           }
          ],
          "carpet": [
           {
            "aaxis": {
             "endlinecolor": "#2a3f5f",
             "gridcolor": "white",
             "linecolor": "white",
             "minorgridcolor": "white",
             "startlinecolor": "#2a3f5f"
            },
            "baxis": {
             "endlinecolor": "#2a3f5f",
             "gridcolor": "white",
             "linecolor": "white",
             "minorgridcolor": "white",
             "startlinecolor": "#2a3f5f"
            },
            "type": "carpet"
           }
          ],
          "choropleth": [
           {
            "colorbar": {
             "outlinewidth": 0,
             "ticks": ""
            },
            "type": "choropleth"
           }
          ],
          "contour": [
           {
            "colorbar": {
             "outlinewidth": 0,
             "ticks": ""
            },
            "colorscale": [
             [
              0,
              "#0d0887"
             ],
             [
              0.1111111111111111,
              "#46039f"
             ],
             [
              0.2222222222222222,
              "#7201a8"
             ],
             [
              0.3333333333333333,
              "#9c179e"
             ],
             [
              0.4444444444444444,
              "#bd3786"
             ],
             [
              0.5555555555555556,
              "#d8576b"
             ],
             [
              0.6666666666666666,
              "#ed7953"
             ],
             [
              0.7777777777777778,
              "#fb9f3a"
             ],
             [
              0.8888888888888888,
              "#fdca26"
             ],
             [
              1,
              "#f0f921"
             ]
            ],
            "type": "contour"
           }
          ],
          "contourcarpet": [
           {
            "colorbar": {
             "outlinewidth": 0,
             "ticks": ""
            },
            "type": "contourcarpet"
           }
          ],
          "heatmap": [
           {
            "colorbar": {
             "outlinewidth": 0,
             "ticks": ""
            },
            "colorscale": [
             [
              0,
              "#0d0887"
             ],
             [
              0.1111111111111111,
              "#46039f"
             ],
             [
              0.2222222222222222,
              "#7201a8"
             ],
             [
              0.3333333333333333,
              "#9c179e"
             ],
             [
              0.4444444444444444,
              "#bd3786"
             ],
             [
              0.5555555555555556,
              "#d8576b"
             ],
             [
              0.6666666666666666,
              "#ed7953"
             ],
             [
              0.7777777777777778,
              "#fb9f3a"
             ],
             [
              0.8888888888888888,
              "#fdca26"
             ],
             [
              1,
              "#f0f921"
             ]
            ],
            "type": "heatmap"
           }
          ],
          "heatmapgl": [
           {
            "colorbar": {
             "outlinewidth": 0,
             "ticks": ""
            },
            "colorscale": [
             [
              0,
              "#0d0887"
             ],
             [
              0.1111111111111111,
              "#46039f"
             ],
             [
              0.2222222222222222,
              "#7201a8"
             ],
             [
              0.3333333333333333,
              "#9c179e"
             ],
             [
              0.4444444444444444,
              "#bd3786"
             ],
             [
              0.5555555555555556,
              "#d8576b"
             ],
             [
              0.6666666666666666,
              "#ed7953"
             ],
             [
              0.7777777777777778,
              "#fb9f3a"
             ],
             [
              0.8888888888888888,
              "#fdca26"
             ],
             [
              1,
              "#f0f921"
             ]
            ],
            "type": "heatmapgl"
           }
          ],
          "histogram": [
           {
            "marker": {
             "pattern": {
              "fillmode": "overlay",
              "size": 10,
              "solidity": 0.2
             }
            },
            "type": "histogram"
           }
          ],
          "histogram2d": [
           {
            "colorbar": {
             "outlinewidth": 0,
             "ticks": ""
            },
            "colorscale": [
             [
              0,
              "#0d0887"
             ],
             [
              0.1111111111111111,
              "#46039f"
             ],
             [
              0.2222222222222222,
              "#7201a8"
             ],
             [
              0.3333333333333333,
              "#9c179e"
             ],
             [
              0.4444444444444444,
              "#bd3786"
             ],
             [
              0.5555555555555556,
              "#d8576b"
             ],
             [
              0.6666666666666666,
              "#ed7953"
             ],
             [
              0.7777777777777778,
              "#fb9f3a"
             ],
             [
              0.8888888888888888,
              "#fdca26"
             ],
             [
              1,
              "#f0f921"
             ]
            ],
            "type": "histogram2d"
           }
          ],
          "histogram2dcontour": [
           {
            "colorbar": {
             "outlinewidth": 0,
             "ticks": ""
            },
            "colorscale": [
             [
              0,
              "#0d0887"
             ],
             [
              0.1111111111111111,
              "#46039f"
             ],
             [
              0.2222222222222222,
              "#7201a8"
             ],
             [
              0.3333333333333333,
              "#9c179e"
             ],
             [
              0.4444444444444444,
              "#bd3786"
             ],
             [
              0.5555555555555556,
              "#d8576b"
             ],
             [
              0.6666666666666666,
              "#ed7953"
             ],
             [
              0.7777777777777778,
              "#fb9f3a"
             ],
             [
              0.8888888888888888,
              "#fdca26"
             ],
             [
              1,
              "#f0f921"
             ]
            ],
            "type": "histogram2dcontour"
           }
          ],
          "mesh3d": [
           {
            "colorbar": {
             "outlinewidth": 0,
             "ticks": ""
            },
            "type": "mesh3d"
           }
          ],
          "parcoords": [
           {
            "line": {
             "colorbar": {
              "outlinewidth": 0,
              "ticks": ""
             }
            },
            "type": "parcoords"
           }
          ],
          "pie": [
           {
            "automargin": true,
            "type": "pie"
           }
          ],
          "scatter": [
           {
            "fillpattern": {
             "fillmode": "overlay",
             "size": 10,
             "solidity": 0.2
            },
            "type": "scatter"
           }
          ],
          "scatter3d": [
           {
            "line": {
             "colorbar": {
              "outlinewidth": 0,
              "ticks": ""
             }
            },
            "marker": {
             "colorbar": {
              "outlinewidth": 0,
              "ticks": ""
             }
            },
            "type": "scatter3d"
           }
          ],
          "scattercarpet": [
           {
            "marker": {
             "colorbar": {
              "outlinewidth": 0,
              "ticks": ""
             }
            },
            "type": "scattercarpet"
           }
          ],
          "scattergeo": [
           {
            "marker": {
             "colorbar": {
              "outlinewidth": 0,
              "ticks": ""
             }
            },
            "type": "scattergeo"
           }
          ],
          "scattergl": [
           {
            "marker": {
             "colorbar": {
              "outlinewidth": 0,
              "ticks": ""
             }
            },
            "type": "scattergl"
           }
          ],
          "scattermapbox": [
           {
            "marker": {
             "colorbar": {
              "outlinewidth": 0,
              "ticks": ""
             }
            },
            "type": "scattermapbox"
           }
          ],
          "scatterpolar": [
           {
            "marker": {
             "colorbar": {
              "outlinewidth": 0,
              "ticks": ""
             }
            },
            "type": "scatterpolar"
           }
          ],
          "scatterpolargl": [
           {
            "marker": {
             "colorbar": {
              "outlinewidth": 0,
              "ticks": ""
             }
            },
            "type": "scatterpolargl"
           }
          ],
          "scatterternary": [
           {
            "marker": {
             "colorbar": {
              "outlinewidth": 0,
              "ticks": ""
             }
            },
            "type": "scatterternary"
           }
          ],
          "surface": [
           {
            "colorbar": {
             "outlinewidth": 0,
             "ticks": ""
            },
            "colorscale": [
             [
              0,
              "#0d0887"
             ],
             [
              0.1111111111111111,
              "#46039f"
             ],
             [
              0.2222222222222222,
              "#7201a8"
             ],
             [
              0.3333333333333333,
              "#9c179e"
             ],
             [
              0.4444444444444444,
              "#bd3786"
             ],
             [
              0.5555555555555556,
              "#d8576b"
             ],
             [
              0.6666666666666666,
              "#ed7953"
             ],
             [
              0.7777777777777778,
              "#fb9f3a"
             ],
             [
              0.8888888888888888,
              "#fdca26"
             ],
             [
              1,
              "#f0f921"
             ]
            ],
            "type": "surface"
           }
          ],
          "table": [
           {
            "cells": {
             "fill": {
              "color": "#EBF0F8"
             },
             "line": {
              "color": "white"
             }
            },
            "header": {
             "fill": {
              "color": "#C8D4E3"
             },
             "line": {
              "color": "white"
             }
            },
            "type": "table"
           }
          ]
         },
         "layout": {
          "annotationdefaults": {
           "arrowcolor": "#2a3f5f",
           "arrowhead": 0,
           "arrowwidth": 1
          },
          "autotypenumbers": "strict",
          "coloraxis": {
           "colorbar": {
            "outlinewidth": 0,
            "ticks": ""
           }
          },
          "colorscale": {
           "diverging": [
            [
             0,
             "#8e0152"
            ],
            [
             0.1,
             "#c51b7d"
            ],
            [
             0.2,
             "#de77ae"
            ],
            [
             0.3,
             "#f1b6da"
            ],
            [
             0.4,
             "#fde0ef"
            ],
            [
             0.5,
             "#f7f7f7"
            ],
            [
             0.6,
             "#e6f5d0"
            ],
            [
             0.7,
             "#b8e186"
            ],
            [
             0.8,
             "#7fbc41"
            ],
            [
             0.9,
             "#4d9221"
            ],
            [
             1,
             "#276419"
            ]
           ],
           "sequential": [
            [
             0,
             "#0d0887"
            ],
            [
             0.1111111111111111,
             "#46039f"
            ],
            [
             0.2222222222222222,
             "#7201a8"
            ],
            [
             0.3333333333333333,
             "#9c179e"
            ],
            [
             0.4444444444444444,
             "#bd3786"
            ],
            [
             0.5555555555555556,
             "#d8576b"
            ],
            [
             0.6666666666666666,
             "#ed7953"
            ],
            [
             0.7777777777777778,
             "#fb9f3a"
            ],
            [
             0.8888888888888888,
             "#fdca26"
            ],
            [
             1,
             "#f0f921"
            ]
           ],
           "sequentialminus": [
            [
             0,
             "#0d0887"
            ],
            [
             0.1111111111111111,
             "#46039f"
            ],
            [
             0.2222222222222222,
             "#7201a8"
            ],
            [
             0.3333333333333333,
             "#9c179e"
            ],
            [
             0.4444444444444444,
             "#bd3786"
            ],
            [
             0.5555555555555556,
             "#d8576b"
            ],
            [
             0.6666666666666666,
             "#ed7953"
            ],
            [
             0.7777777777777778,
             "#fb9f3a"
            ],
            [
             0.8888888888888888,
             "#fdca26"
            ],
            [
             1,
             "#f0f921"
            ]
           ]
          },
          "colorway": [
           "#636efa",
           "#EF553B",
           "#00cc96",
           "#ab63fa",
           "#FFA15A",
           "#19d3f3",
           "#FF6692",
           "#B6E880",
           "#FF97FF",
           "#FECB52"
          ],
          "font": {
           "color": "#2a3f5f"
          },
          "geo": {
           "bgcolor": "white",
           "lakecolor": "white",
           "landcolor": "#E5ECF6",
           "showlakes": true,
           "showland": true,
           "subunitcolor": "white"
          },
          "hoverlabel": {
           "align": "left"
          },
          "hovermode": "closest",
          "mapbox": {
           "style": "light"
          },
          "paper_bgcolor": "white",
          "plot_bgcolor": "#E5ECF6",
          "polar": {
           "angularaxis": {
            "gridcolor": "white",
            "linecolor": "white",
            "ticks": ""
           },
           "bgcolor": "#E5ECF6",
           "radialaxis": {
            "gridcolor": "white",
            "linecolor": "white",
            "ticks": ""
           }
          },
          "scene": {
           "xaxis": {
            "backgroundcolor": "#E5ECF6",
            "gridcolor": "white",
            "gridwidth": 2,
            "linecolor": "white",
            "showbackground": true,
            "ticks": "",
            "zerolinecolor": "white"
           },
           "yaxis": {
            "backgroundcolor": "#E5ECF6",
            "gridcolor": "white",
            "gridwidth": 2,
            "linecolor": "white",
            "showbackground": true,
            "ticks": "",
            "zerolinecolor": "white"
           },
           "zaxis": {
            "backgroundcolor": "#E5ECF6",
            "gridcolor": "white",
            "gridwidth": 2,
            "linecolor": "white",
            "showbackground": true,
            "ticks": "",
            "zerolinecolor": "white"
           }
          },
          "shapedefaults": {
           "line": {
            "color": "#2a3f5f"
           }
          },
          "ternary": {
           "aaxis": {
            "gridcolor": "white",
            "linecolor": "white",
            "ticks": ""
           },
           "baxis": {
            "gridcolor": "white",
            "linecolor": "white",
            "ticks": ""
           },
           "bgcolor": "#E5ECF6",
           "caxis": {
            "gridcolor": "white",
            "linecolor": "white",
            "ticks": ""
           }
          },
          "title": {
           "x": 0.05
          },
          "xaxis": {
           "automargin": true,
           "gridcolor": "white",
           "linecolor": "white",
           "ticks": "",
           "title": {
            "standoff": 15
           },
           "zerolinecolor": "white",
           "zerolinewidth": 2
          },
          "yaxis": {
           "automargin": true,
           "gridcolor": "white",
           "linecolor": "white",
           "ticks": "",
           "title": {
            "standoff": 15
           },
           "zerolinecolor": "white",
           "zerolinewidth": 2
          }
         }
        },
        "title": {
         "text": "Price vs. Area"
        },
        "xaxis": {
         "anchor": "y",
         "domain": [
          0,
          1
         ],
         "title": {
          "text": "Quartier"
         }
        },
        "yaxis": {
         "anchor": "x",
         "domain": [
          0,
          1
         ],
         "title": {
          "text": "Price"
         }
        }
       }
      }
     },
     "metadata": {},
     "output_type": "display_data"
    }
   ],
   "source": [
    "px.scatter(cleaned_data, x='Quartier', y='Price', color='Type', title='Price vs. Area')"
   ]
  },
  {
   "cell_type": "code",
   "execution_count": 72,
   "metadata": {},
   "outputs": [
    {
     "data": {
      "application/vnd.plotly.v1+json": {
       "config": {
        "plotlyServerURL": "https://plot.ly"
       },
       "data": [
        {
         "hovertemplate": "Type=Appartement<br>Area=%{x}<br>Price=%{y}<extra></extra>",
         "legendgroup": "Appartement",
         "marker": {
          "color": "#636efa",
          "symbol": "circle"
         },
         "mode": "markers",
         "name": "Appartement",
         "orientation": "v",
         "showlegend": true,
         "type": "scatter",
         "x": [
          100,
          50,
          101,
          56,
          64,
          65,
          77,
          71,
          52,
          50,
          60,
          172,
          68,
          72,
          80,
          60,
          67,
          80,
          50,
          83,
          243,
          100,
          91,
          184,
          125,
          160,
          105,
          128,
          134,
          58,
          94,
          162,
          81,
          78,
          93,
          86,
          146,
          89,
          192,
          52,
          96,
          52,
          100,
          109,
          137,
          80,
          60,
          71,
          89,
          105,
          50,
          64,
          70,
          72,
          105,
          72,
          79,
          150,
          150,
          96,
          101,
          128,
          173,
          72,
          81,
          128,
          84,
          70,
          60,
          135,
          78,
          280,
          100,
          107,
          84,
          260,
          62,
          94,
          55,
          70,
          80,
          60,
          71,
          66,
          93,
          94,
          50,
          75,
          88,
          114,
          52,
          154,
          64,
          95,
          120,
          98,
          127,
          60,
          76,
          80,
          125,
          60,
          56,
          170,
          64,
          68,
          68,
          60,
          110,
          111,
          114,
          61,
          47,
          50,
          52,
          52,
          81,
          100,
          54,
          64,
          60,
          52,
          94,
          60,
          60,
          67,
          80,
          175,
          120,
          83,
          58,
          186,
          94,
          94,
          83,
          72,
          68,
          76,
          94,
          64,
          97,
          112,
          85,
          78,
          85,
          82,
          113,
          83,
          73,
          72,
          100,
          107,
          74,
          93,
          95,
          120,
          65,
          85,
          74,
          64,
          117,
          57,
          100,
          180,
          103,
          84,
          105,
          94,
          121,
          70,
          93,
          75,
          85,
          96,
          73,
          100,
          130,
          80,
          61,
          110,
          77,
          50,
          98,
          161,
          100,
          140,
          125,
          77,
          60,
          96,
          122,
          195,
          60,
          150,
          98,
          94,
          50,
          110,
          54,
          60,
          123,
          54,
          60,
          92,
          78,
          66,
          135,
          100,
          113,
          126,
          123,
          100,
          64,
          88,
          121,
          125,
          124,
          74,
          108,
          50,
          72,
          49,
          65,
          88,
          56,
          160,
          67,
          100,
          102,
          60,
          60,
          90,
          82,
          77,
          100,
          61,
          64,
          235,
          70,
          70,
          75,
          91,
          132,
          48,
          60,
          119,
          101,
          85,
          55,
          124,
          102,
          156,
          115,
          250,
          78,
          60,
          105,
          112,
          88,
          116,
          66,
          112,
          145,
          80,
          81,
          90,
          66,
          107,
          120,
          70,
          85,
          105,
          87,
          60,
          60,
          96,
          70,
          60,
          96,
          76,
          63,
          82,
          98,
          64,
          68,
          90,
          80,
          50,
          78,
          104,
          117,
          54,
          211,
          70,
          67,
          95,
          150,
          60,
          128,
          140,
          68,
          62,
          113,
          70,
          70,
          49,
          88,
          71,
          112,
          60,
          52,
          74,
          92,
          94,
          66,
          118,
          60,
          50,
          70,
          100,
          85,
          122,
          150,
          64,
          58,
          72,
          58,
          70,
          112,
          54,
          64,
          112,
          131,
          60,
          110,
          240,
          95,
          120,
          87,
          75,
          80,
          70,
          172,
          75,
          110,
          200,
          64,
          65,
          46,
          110,
          95,
          150,
          200,
          78,
          133,
          117,
          78,
          54,
          97,
          114,
          75,
          99,
          60,
          70,
          64,
          82,
          70,
          131,
          66,
          100,
          65,
          136,
          65,
          78,
          126,
          58,
          62,
          54,
          118,
          116,
          134,
          78,
          71,
          72,
          94,
          61,
          60,
          52,
          69,
          114,
          62,
          60,
          54,
          54,
          54,
          135,
          86,
          62,
          55,
          82,
          50,
          75,
          64,
          113,
          152,
          102,
          56,
          89,
          122,
          65,
          62,
          96,
          90,
          58,
          60,
          65,
          85,
          91,
          55,
          55,
          151,
          100,
          112,
          98,
          55,
          109,
          44,
          74,
          120,
          137,
          62,
          93,
          62,
          121,
          147,
          110,
          191,
          75,
          73,
          50,
          80,
          107,
          56,
          96,
          68,
          58,
          80,
          55,
          88,
          93,
          126,
          58,
          97,
          64,
          82,
          49,
          76,
          84,
          47,
          56,
          102,
          61,
          60,
          88,
          94,
          96,
          90.64609800362976,
          70,
          167,
          56,
          90.64609800362976,
          81,
          87,
          60,
          64,
          134,
          70,
          62,
          35,
          90,
          64,
          86,
          73,
          45,
          64,
          123
         ],
         "xaxis": "x",
         "y": [
          2600000,
          500000,
          1100000,
          380000,
          600000,
          680000,
          850000,
          680000,
          510000,
          510000,
          460000,
          1950000,
          620000,
          770000,
          520000,
          570000,
          700000,
          630000,
          420000,
          1600000,
          5900000,
          1550000,
          1900000,
          2500000,
          2500000,
          2450000,
          1250000,
          2950000,
          3700000,
          680000,
          1500000,
          2600000,
          860000,
          840000,
          800000,
          1200000,
          3400000,
          1700000,
          1357000,
          560000,
          960000,
          380000,
          560000,
          1170000,
          1900000,
          1800000,
          550000,
          1100000,
          1150000,
          1100000,
          800000,
          560000,
          650000,
          770000,
          1000000,
          590000,
          1030000,
          3250000,
          900000,
          1750000,
          900000,
          2750000,
          1750000,
          590000,
          928571.4285714284,
          680000,
          800000,
          740000,
          660000,
          2850000,
          2000000,
          3200000,
          900000,
          900000,
          7500000,
          4600000,
          880000,
          1480000,
          660000,
          780000,
          881666.6666666666,
          434000,
          885000,
          700000,
          850000,
          670000,
          420000,
          670000,
          880000,
          1250000,
          530000,
          1860000,
          670000,
          1400000,
          1600000,
          1333333.3333333333,
          891750,
          600000,
          900000,
          780000,
          950000,
          885000,
          750000,
          2800000,
          680000,
          475000,
          650000,
          788369.2307692308,
          950000,
          1387500,
          1340000,
          570000,
          2590000,
          490000,
          350000,
          380000,
          860000,
          635000,
          420000,
          460000,
          570000,
          450000,
          968000,
          630000,
          300000,
          760000,
          750000,
          1750000,
          2000000,
          1200000,
          630000,
          2800000,
          1500000,
          1700000,
          1245000,
          800000,
          620000,
          900000,
          850000,
          520000,
          1440000,
          2800000,
          1200000,
          1307000,
          900000,
          770000,
          1100000,
          1000000,
          860000,
          800000,
          1530000,
          1500000,
          700000,
          950000,
          1750000,
          2600000,
          440000,
          935000,
          530000,
          540000,
          2800000,
          420000,
          560000,
          1300000,
          840000,
          780000,
          1200000,
          1400000,
          1000000,
          750000,
          840000,
          580000,
          1230000,
          1450000,
          770000,
          1100000,
          1460000,
          880000,
          620000,
          1650000,
          680000,
          490000,
          1250000,
          1370000,
          660000,
          2240000,
          2800000,
          1305500,
          600000,
          1300000,
          1650000,
          1400000,
          650000,
          1950000,
          900000,
          1500000,
          380000,
          670000,
          400000,
          4140000,
          1150000,
          520000,
          560000,
          950000,
          750000,
          2100000,
          3000000,
          1500000,
          3300000,
          1500000,
          1500000,
          1150000,
          670000,
          880000,
          1500000,
          2300000,
          1650000,
          520000,
          3246000,
          350000,
          850000,
          510000,
          560000,
          840000,
          490000,
          750000,
          760000,
          1600000,
          980000,
          587250,
          390000,
          1300000,
          850000,
          2300000,
          900000,
          527000,
          100000,
          5000000,
          640000,
          1900000,
          800000,
          1200000,
          1950000,
          500000,
          530000,
          1000000,
          960000,
          750000,
          440000,
          1700000,
          1050000,
          1250000,
          5970000,
          690000,
          1130000,
          550000,
          950000,
          1500000,
          1110000,
          1500000,
          1900000,
          650000,
          2425000,
          950000,
          930000,
          950000,
          600000,
          1550000,
          2600000,
          400000,
          587250,
          1350000,
          800000,
          550000,
          720000,
          1372500,
          520000,
          680000,
          1650000,
          770000,
          540000,
          881666.6666666666,
          1700000,
          800000,
          340000,
          710000,
          850000,
          400000,
          850000,
          960000,
          1580000,
          500000,
          1800000,
          530000,
          630000,
          910000,
          180000,
          520000,
          230000,
          1200000,
          560000,
          640000,
          15000,
          700000,
          1000000,
          360000,
          880000,
          550000,
          760000,
          490000,
          420000,
          520000,
          380000,
          1225287.5,
          575000,
          120000,
          600000,
          320000,
          350000,
          850000,
          980000,
          1500000,
          4450000,
          380000,
          480000,
          700000,
          420000,
          1000000,
          643000,
          500000,
          583333.3333333334,
          643000,
          795500,
          540000,
          1500000,
          4500000,
          950000,
          2200000,
          900000,
          660000,
          480000,
          510000,
          4800000,
          1128500,
          2750000,
          1600000,
          560000,
          600000,
          460000,
          450000,
          890000,
          420000,
          3200000,
          625000,
          1100000,
          1000000,
          700000,
          4140000,
          1380000,
          900000,
          800000,
          1350000,
          590000,
          1900000,
          580000,
          680000,
          583913.0434782609,
          1545000,
          640000,
          1070000,
          630000,
          1490000,
          680000,
          1200000,
          1600000,
          520000,
          790000,
          4140000,
          1100000,
          2750000,
          1675000,
          625000,
          1000000,
          600000,
          930000,
          620000,
          800000,
          450000,
          450000,
          950000,
          530000,
          510000,
          350000,
          420000,
          310000,
          1300000,
          980000,
          660000,
          580000,
          800000,
          510000,
          490000,
          650000,
          1050900,
          1600000,
          840000,
          380000,
          1225287.5,
          1400000,
          650000,
          610000,
          748800,
          900000,
          430000,
          430000,
          700000,
          1300000,
          1250000,
          330000,
          435000,
          1500000,
          750000,
          1450000,
          1300000,
          650000,
          1000000,
          340000,
          730000,
          960000,
          2200000,
          750000,
          1800000,
          650000,
          1500000,
          2150000,
          900000,
          2000000,
          520000,
          650000,
          36500,
          880000,
          1850000,
          814000,
          900000,
          480000,
          490000,
          750000,
          340000,
          1250000,
          1250000,
          1150000,
          480000,
          920000,
          630000,
          430000,
          380000,
          920000,
          924000,
          580000,
          510000,
          1040000,
          450000,
          600000,
          610000,
          980000,
          970000,
          1000000,
          630000,
          1150000,
          470000,
          950000,
          840000,
          850000,
          670000,
          1060000,
          1716000,
          650000,
          775000,
          1050000,
          490000,
          600000,
          920000,
          900000,
          450000,
          630000,
          1150000
         ],
         "yaxis": "y"
        },
        {
         "hovertemplate": "Type=Villa<br>Area=%{x}<br>Price=%{y}<extra></extra>",
         "legendgroup": "Villa",
         "marker": {
          "color": "#EF553B",
          "symbol": "circle"
         },
         "mode": "markers",
         "name": "Villa",
         "orientation": "v",
         "showlegend": true,
         "type": "scatter",
         "x": [
          370,
          1600,
          300,
          629,
          282,
          120,
          300,
          894,
          500,
          166,
          710,
          218,
          730,
          150,
          450,
          120,
          310,
          500,
          136,
          150,
          233,
          264,
          240,
          338,
          178,
          220,
          315,
          131,
          220,
          1000,
          400,
          300,
          200,
          460,
          1400,
          131,
          200,
          216,
          354,
          370,
          350,
          320,
          300,
          264,
          360,
          60,
          380,
          270,
          120,
          170,
          112,
          180,
          300,
          332,
          908,
          210,
          162,
          179,
          322,
          872,
          180,
          600,
          175,
          1256,
          330,
          850,
          160,
          120,
          200,
          245,
          300,
          300,
          175,
          167,
          740,
          200,
          300,
          519,
          800,
          343,
          160,
          110,
          268,
          130,
          160,
          400,
          127,
          800,
          324,
          160,
          330,
          200,
          240,
          81,
          260,
          500,
          300,
          222,
          600
         ],
         "xaxis": "x",
         "y": [
          14500000,
          9700000,
          5700000,
          13000000,
          3200000,
          3000000,
          4800000,
          10500000,
          7800000,
          5966666.666666667,
          9000000,
          4400000,
          12000000,
          3000000,
          5300000,
          2000000,
          4800000,
          6800000,
          3700000,
          2900000,
          4800000,
          2960000,
          4900000,
          4500000,
          4500000,
          4800000,
          3900000,
          1600000,
          3300000,
          16000000,
          4500000,
          5700000,
          3400000,
          3800000,
          9525000,
          2500000,
          3400000,
          4900000,
          3600000,
          3300000,
          8500000,
          3000000,
          4550000,
          2950000,
          2700000,
          900000,
          5700000,
          6500000,
          1650000,
          1800000,
          2800000,
          2500000,
          4500000,
          4416666.666666667,
          5522847.222222222,
          5200000,
          3500000,
          2430000,
          3566666.6666666665,
          10000000,
          5522847.222222222,
          5522847.222222222,
          2200000,
          9500000,
          4800000,
          8500000,
          2300000,
          2200000,
          4000000,
          3800000,
          4800000,
          6500000,
          1900000,
          2500000,
          14000000,
          2950000,
          9200000,
          4900000,
          8500000,
          2800000,
          3000000,
          1450000,
          6500000,
          2600000,
          5522847.222222222,
          4800000,
          2800000,
          5522847.222222222,
          7600000,
          270000,
          7500000,
          3500000,
          3900000,
          1550000,
          3400000,
          5500000,
          4000000,
          2600000,
          1800000
         ],
         "yaxis": "y"
        },
        {
         "hovertemplate": "Type=Maison<br>Area=%{x}<br>Price=%{y}<extra></extra>",
         "legendgroup": "Maison",
         "marker": {
          "color": "#00cc96",
          "symbol": "circle"
         },
         "mode": "markers",
         "name": "Maison",
         "orientation": "v",
         "showlegend": true,
         "type": "scatter",
         "x": [
          203,
          65,
          150,
          96,
          153,
          540,
          400,
          297,
          297,
          112,
          64,
          110,
          80,
          203,
          133,
          300,
          170,
          126,
          70,
          80,
          170,
          81,
          99,
          64,
          80,
          80,
          124,
          81,
          120,
          80,
          120,
          67,
          100,
          80,
          105,
          147,
          150,
          75,
          120,
          120,
          80,
          167,
          75,
          82,
          127,
          51,
          126,
          112,
          218,
          80,
          111,
          108,
          108,
          133,
          68,
          176,
          133,
          113,
          125,
          80,
          150,
          312,
          70,
          56,
          120,
          660,
          225,
          225,
          200,
          95,
          75,
          108,
          90,
          126,
          47,
          153,
          153,
          64,
          100,
          144,
          80,
          64,
          100,
          133,
          108,
          66,
          108,
          170,
          90,
          159,
          350,
          50,
          128,
          70,
          655,
          150,
          112,
          85,
          209,
          120
         ],
         "xaxis": "x",
         "y": [
          960000,
          3000000,
          1600000,
          2300000,
          500000,
          4600000,
          3500000,
          1320000,
          1320000,
          2900000,
          1200000,
          1800000,
          1250000,
          960000,
          2000000,
          3000000,
          3500000,
          2600000,
          1300000,
          1900000,
          2400000,
          1500000,
          1700000,
          1000000,
          3200000,
          2400000,
          6500000,
          2600000,
          1700000,
          1300000,
          2000000,
          1600000,
          1650000,
          2600000,
          2200000,
          3800000,
          725533.3333333334,
          1400000,
          2400000,
          2000000,
          2900000,
          2200000,
          1400000,
          1450000,
          2100000,
          3600000,
          3200000,
          2600000,
          3600000,
          1300000,
          1500000,
          4880000,
          1600000,
          1600000,
          500000,
          2000000,
          1600000,
          2960000,
          2650000,
          1700000,
          3000000,
          3100000,
          1400000,
          1200000,
          2000000,
          6000000,
          6800000,
          3100000,
          2800000,
          4600000,
          1370000,
          980000,
          1966666.6666666667,
          3000000,
          1000000,
          500000,
          6400000,
          900000,
          1700000,
          2100000,
          2000000,
          1450000,
          1900000,
          1600000,
          3200000,
          751600,
          2100000,
          1800000,
          1700000,
          3400000,
          1950000,
          800000,
          3100000,
          460000,
          1200000,
          1700000,
          2200000,
          2600000,
          225000,
          1800000
         ],
         "yaxis": "y"
        }
       ],
       "layout": {
        "legend": {
         "title": {
          "text": "Type"
         },
         "tracegroupgap": 0
        },
        "template": {
         "data": {
          "bar": [
           {
            "error_x": {
             "color": "#2a3f5f"
            },
            "error_y": {
             "color": "#2a3f5f"
            },
            "marker": {
             "line": {
              "color": "#E5ECF6",
              "width": 0.5
             },
             "pattern": {
              "fillmode": "overlay",
              "size": 10,
              "solidity": 0.2
             }
            },
            "type": "bar"
           }
          ],
          "barpolar": [
           {
            "marker": {
             "line": {
              "color": "#E5ECF6",
              "width": 0.5
             },
             "pattern": {
              "fillmode": "overlay",
              "size": 10,
              "solidity": 0.2
             }
            },
            "type": "barpolar"
           }
          ],
          "carpet": [
           {
            "aaxis": {
             "endlinecolor": "#2a3f5f",
             "gridcolor": "white",
             "linecolor": "white",
             "minorgridcolor": "white",
             "startlinecolor": "#2a3f5f"
            },
            "baxis": {
             "endlinecolor": "#2a3f5f",
             "gridcolor": "white",
             "linecolor": "white",
             "minorgridcolor": "white",
             "startlinecolor": "#2a3f5f"
            },
            "type": "carpet"
           }
          ],
          "choropleth": [
           {
            "colorbar": {
             "outlinewidth": 0,
             "ticks": ""
            },
            "type": "choropleth"
           }
          ],
          "contour": [
           {
            "colorbar": {
             "outlinewidth": 0,
             "ticks": ""
            },
            "colorscale": [
             [
              0,
              "#0d0887"
             ],
             [
              0.1111111111111111,
              "#46039f"
             ],
             [
              0.2222222222222222,
              "#7201a8"
             ],
             [
              0.3333333333333333,
              "#9c179e"
             ],
             [
              0.4444444444444444,
              "#bd3786"
             ],
             [
              0.5555555555555556,
              "#d8576b"
             ],
             [
              0.6666666666666666,
              "#ed7953"
             ],
             [
              0.7777777777777778,
              "#fb9f3a"
             ],
             [
              0.8888888888888888,
              "#fdca26"
             ],
             [
              1,
              "#f0f921"
             ]
            ],
            "type": "contour"
           }
          ],
          "contourcarpet": [
           {
            "colorbar": {
             "outlinewidth": 0,
             "ticks": ""
            },
            "type": "contourcarpet"
           }
          ],
          "heatmap": [
           {
            "colorbar": {
             "outlinewidth": 0,
             "ticks": ""
            },
            "colorscale": [
             [
              0,
              "#0d0887"
             ],
             [
              0.1111111111111111,
              "#46039f"
             ],
             [
              0.2222222222222222,
              "#7201a8"
             ],
             [
              0.3333333333333333,
              "#9c179e"
             ],
             [
              0.4444444444444444,
              "#bd3786"
             ],
             [
              0.5555555555555556,
              "#d8576b"
             ],
             [
              0.6666666666666666,
              "#ed7953"
             ],
             [
              0.7777777777777778,
              "#fb9f3a"
             ],
             [
              0.8888888888888888,
              "#fdca26"
             ],
             [
              1,
              "#f0f921"
             ]
            ],
            "type": "heatmap"
           }
          ],
          "heatmapgl": [
           {
            "colorbar": {
             "outlinewidth": 0,
             "ticks": ""
            },
            "colorscale": [
             [
              0,
              "#0d0887"
             ],
             [
              0.1111111111111111,
              "#46039f"
             ],
             [
              0.2222222222222222,
              "#7201a8"
             ],
             [
              0.3333333333333333,
              "#9c179e"
             ],
             [
              0.4444444444444444,
              "#bd3786"
             ],
             [
              0.5555555555555556,
              "#d8576b"
             ],
             [
              0.6666666666666666,
              "#ed7953"
             ],
             [
              0.7777777777777778,
              "#fb9f3a"
             ],
             [
              0.8888888888888888,
              "#fdca26"
             ],
             [
              1,
              "#f0f921"
             ]
            ],
            "type": "heatmapgl"
           }
          ],
          "histogram": [
           {
            "marker": {
             "pattern": {
              "fillmode": "overlay",
              "size": 10,
              "solidity": 0.2
             }
            },
            "type": "histogram"
           }
          ],
          "histogram2d": [
           {
            "colorbar": {
             "outlinewidth": 0,
             "ticks": ""
            },
            "colorscale": [
             [
              0,
              "#0d0887"
             ],
             [
              0.1111111111111111,
              "#46039f"
             ],
             [
              0.2222222222222222,
              "#7201a8"
             ],
             [
              0.3333333333333333,
              "#9c179e"
             ],
             [
              0.4444444444444444,
              "#bd3786"
             ],
             [
              0.5555555555555556,
              "#d8576b"
             ],
             [
              0.6666666666666666,
              "#ed7953"
             ],
             [
              0.7777777777777778,
              "#fb9f3a"
             ],
             [
              0.8888888888888888,
              "#fdca26"
             ],
             [
              1,
              "#f0f921"
             ]
            ],
            "type": "histogram2d"
           }
          ],
          "histogram2dcontour": [
           {
            "colorbar": {
             "outlinewidth": 0,
             "ticks": ""
            },
            "colorscale": [
             [
              0,
              "#0d0887"
             ],
             [
              0.1111111111111111,
              "#46039f"
             ],
             [
              0.2222222222222222,
              "#7201a8"
             ],
             [
              0.3333333333333333,
              "#9c179e"
             ],
             [
              0.4444444444444444,
              "#bd3786"
             ],
             [
              0.5555555555555556,
              "#d8576b"
             ],
             [
              0.6666666666666666,
              "#ed7953"
             ],
             [
              0.7777777777777778,
              "#fb9f3a"
             ],
             [
              0.8888888888888888,
              "#fdca26"
             ],
             [
              1,
              "#f0f921"
             ]
            ],
            "type": "histogram2dcontour"
           }
          ],
          "mesh3d": [
           {
            "colorbar": {
             "outlinewidth": 0,
             "ticks": ""
            },
            "type": "mesh3d"
           }
          ],
          "parcoords": [
           {
            "line": {
             "colorbar": {
              "outlinewidth": 0,
              "ticks": ""
             }
            },
            "type": "parcoords"
           }
          ],
          "pie": [
           {
            "automargin": true,
            "type": "pie"
           }
          ],
          "scatter": [
           {
            "fillpattern": {
             "fillmode": "overlay",
             "size": 10,
             "solidity": 0.2
            },
            "type": "scatter"
           }
          ],
          "scatter3d": [
           {
            "line": {
             "colorbar": {
              "outlinewidth": 0,
              "ticks": ""
             }
            },
            "marker": {
             "colorbar": {
              "outlinewidth": 0,
              "ticks": ""
             }
            },
            "type": "scatter3d"
           }
          ],
          "scattercarpet": [
           {
            "marker": {
             "colorbar": {
              "outlinewidth": 0,
              "ticks": ""
             }
            },
            "type": "scattercarpet"
           }
          ],
          "scattergeo": [
           {
            "marker": {
             "colorbar": {
              "outlinewidth": 0,
              "ticks": ""
             }
            },
            "type": "scattergeo"
           }
          ],
          "scattergl": [
           {
            "marker": {
             "colorbar": {
              "outlinewidth": 0,
              "ticks": ""
             }
            },
            "type": "scattergl"
           }
          ],
          "scattermapbox": [
           {
            "marker": {
             "colorbar": {
              "outlinewidth": 0,
              "ticks": ""
             }
            },
            "type": "scattermapbox"
           }
          ],
          "scatterpolar": [
           {
            "marker": {
             "colorbar": {
              "outlinewidth": 0,
              "ticks": ""
             }
            },
            "type": "scatterpolar"
           }
          ],
          "scatterpolargl": [
           {
            "marker": {
             "colorbar": {
              "outlinewidth": 0,
              "ticks": ""
             }
            },
            "type": "scatterpolargl"
           }
          ],
          "scatterternary": [
           {
            "marker": {
             "colorbar": {
              "outlinewidth": 0,
              "ticks": ""
             }
            },
            "type": "scatterternary"
           }
          ],
          "surface": [
           {
            "colorbar": {
             "outlinewidth": 0,
             "ticks": ""
            },
            "colorscale": [
             [
              0,
              "#0d0887"
             ],
             [
              0.1111111111111111,
              "#46039f"
             ],
             [
              0.2222222222222222,
              "#7201a8"
             ],
             [
              0.3333333333333333,
              "#9c179e"
             ],
             [
              0.4444444444444444,
              "#bd3786"
             ],
             [
              0.5555555555555556,
              "#d8576b"
             ],
             [
              0.6666666666666666,
              "#ed7953"
             ],
             [
              0.7777777777777778,
              "#fb9f3a"
             ],
             [
              0.8888888888888888,
              "#fdca26"
             ],
             [
              1,
              "#f0f921"
             ]
            ],
            "type": "surface"
           }
          ],
          "table": [
           {
            "cells": {
             "fill": {
              "color": "#EBF0F8"
             },
             "line": {
              "color": "white"
             }
            },
            "header": {
             "fill": {
              "color": "#C8D4E3"
             },
             "line": {
              "color": "white"
             }
            },
            "type": "table"
           }
          ]
         },
         "layout": {
          "annotationdefaults": {
           "arrowcolor": "#2a3f5f",
           "arrowhead": 0,
           "arrowwidth": 1
          },
          "autotypenumbers": "strict",
          "coloraxis": {
           "colorbar": {
            "outlinewidth": 0,
            "ticks": ""
           }
          },
          "colorscale": {
           "diverging": [
            [
             0,
             "#8e0152"
            ],
            [
             0.1,
             "#c51b7d"
            ],
            [
             0.2,
             "#de77ae"
            ],
            [
             0.3,
             "#f1b6da"
            ],
            [
             0.4,
             "#fde0ef"
            ],
            [
             0.5,
             "#f7f7f7"
            ],
            [
             0.6,
             "#e6f5d0"
            ],
            [
             0.7,
             "#b8e186"
            ],
            [
             0.8,
             "#7fbc41"
            ],
            [
             0.9,
             "#4d9221"
            ],
            [
             1,
             "#276419"
            ]
           ],
           "sequential": [
            [
             0,
             "#0d0887"
            ],
            [
             0.1111111111111111,
             "#46039f"
            ],
            [
             0.2222222222222222,
             "#7201a8"
            ],
            [
             0.3333333333333333,
             "#9c179e"
            ],
            [
             0.4444444444444444,
             "#bd3786"
            ],
            [
             0.5555555555555556,
             "#d8576b"
            ],
            [
             0.6666666666666666,
             "#ed7953"
            ],
            [
             0.7777777777777778,
             "#fb9f3a"
            ],
            [
             0.8888888888888888,
             "#fdca26"
            ],
            [
             1,
             "#f0f921"
            ]
           ],
           "sequentialminus": [
            [
             0,
             "#0d0887"
            ],
            [
             0.1111111111111111,
             "#46039f"
            ],
            [
             0.2222222222222222,
             "#7201a8"
            ],
            [
             0.3333333333333333,
             "#9c179e"
            ],
            [
             0.4444444444444444,
             "#bd3786"
            ],
            [
             0.5555555555555556,
             "#d8576b"
            ],
            [
             0.6666666666666666,
             "#ed7953"
            ],
            [
             0.7777777777777778,
             "#fb9f3a"
            ],
            [
             0.8888888888888888,
             "#fdca26"
            ],
            [
             1,
             "#f0f921"
            ]
           ]
          },
          "colorway": [
           "#636efa",
           "#EF553B",
           "#00cc96",
           "#ab63fa",
           "#FFA15A",
           "#19d3f3",
           "#FF6692",
           "#B6E880",
           "#FF97FF",
           "#FECB52"
          ],
          "font": {
           "color": "#2a3f5f"
          },
          "geo": {
           "bgcolor": "white",
           "lakecolor": "white",
           "landcolor": "#E5ECF6",
           "showlakes": true,
           "showland": true,
           "subunitcolor": "white"
          },
          "hoverlabel": {
           "align": "left"
          },
          "hovermode": "closest",
          "mapbox": {
           "style": "light"
          },
          "paper_bgcolor": "white",
          "plot_bgcolor": "#E5ECF6",
          "polar": {
           "angularaxis": {
            "gridcolor": "white",
            "linecolor": "white",
            "ticks": ""
           },
           "bgcolor": "#E5ECF6",
           "radialaxis": {
            "gridcolor": "white",
            "linecolor": "white",
            "ticks": ""
           }
          },
          "scene": {
           "xaxis": {
            "backgroundcolor": "#E5ECF6",
            "gridcolor": "white",
            "gridwidth": 2,
            "linecolor": "white",
            "showbackground": true,
            "ticks": "",
            "zerolinecolor": "white"
           },
           "yaxis": {
            "backgroundcolor": "#E5ECF6",
            "gridcolor": "white",
            "gridwidth": 2,
            "linecolor": "white",
            "showbackground": true,
            "ticks": "",
            "zerolinecolor": "white"
           },
           "zaxis": {
            "backgroundcolor": "#E5ECF6",
            "gridcolor": "white",
            "gridwidth": 2,
            "linecolor": "white",
            "showbackground": true,
            "ticks": "",
            "zerolinecolor": "white"
           }
          },
          "shapedefaults": {
           "line": {
            "color": "#2a3f5f"
           }
          },
          "ternary": {
           "aaxis": {
            "gridcolor": "white",
            "linecolor": "white",
            "ticks": ""
           },
           "baxis": {
            "gridcolor": "white",
            "linecolor": "white",
            "ticks": ""
           },
           "bgcolor": "#E5ECF6",
           "caxis": {
            "gridcolor": "white",
            "linecolor": "white",
            "ticks": ""
           }
          },
          "title": {
           "x": 0.05
          },
          "xaxis": {
           "automargin": true,
           "gridcolor": "white",
           "linecolor": "white",
           "ticks": "",
           "title": {
            "standoff": 15
           },
           "zerolinecolor": "white",
           "zerolinewidth": 2
          },
          "yaxis": {
           "automargin": true,
           "gridcolor": "white",
           "linecolor": "white",
           "ticks": "",
           "title": {
            "standoff": 15
           },
           "zerolinecolor": "white",
           "zerolinewidth": 2
          }
         }
        },
        "title": {
         "text": "Price vs. Area"
        },
        "xaxis": {
         "anchor": "y",
         "domain": [
          0,
          1
         ],
         "title": {
          "text": "Area"
         }
        },
        "yaxis": {
         "anchor": "x",
         "domain": [
          0,
          1
         ],
         "title": {
          "text": "Price"
         }
        }
       }
      }
     },
     "metadata": {},
     "output_type": "display_data"
    }
   ],
   "source": [
    "px.scatter(cleaned_data, x='Area', y='Price', color='Type', title='Price vs. Area')"
   ]
  },
  {
   "cell_type": "code",
   "execution_count": 74,
   "metadata": {},
   "outputs": [
    {
     "data": {
      "application/vnd.plotly.v1+json": {
       "config": {
        "plotlyServerURL": "https://plot.ly"
       },
       "data": [
        {
         "dimensions": [
          {
           "axis": {
            "matches": true
           },
           "label": "Price",
           "values": [
            2600000,
            500000,
            1100000,
            380000,
            600000,
            680000,
            850000,
            680000,
            510000,
            510000,
            460000,
            1950000,
            620000,
            770000,
            520000,
            570000,
            700000,
            630000,
            420000,
            1600000,
            5900000,
            1550000,
            1900000,
            2500000,
            2500000,
            2450000,
            1250000,
            2950000,
            3700000,
            680000,
            1500000,
            2600000,
            860000,
            840000,
            800000,
            1200000,
            3400000,
            1700000,
            1357000,
            560000,
            960000,
            380000,
            560000,
            1170000,
            1900000,
            1800000,
            550000,
            1100000,
            1150000,
            1100000,
            800000,
            560000,
            650000,
            770000,
            1000000,
            590000,
            1030000,
            3250000,
            900000,
            1750000,
            900000,
            2750000,
            1750000,
            590000,
            928571.4285714284,
            680000,
            800000,
            740000,
            660000,
            2850000,
            2000000,
            3200000,
            900000,
            900000,
            7500000,
            4600000,
            880000,
            1480000,
            660000,
            780000,
            881666.6666666666,
            434000,
            885000,
            700000,
            850000,
            670000,
            420000,
            670000,
            880000,
            1250000,
            530000,
            1860000,
            670000,
            1400000,
            1600000,
            1333333.3333333333,
            891750,
            600000,
            900000,
            780000,
            950000,
            885000,
            750000,
            2800000,
            680000,
            475000,
            650000,
            788369.2307692308,
            950000,
            1387500,
            1340000,
            570000,
            2590000,
            490000,
            350000,
            380000,
            860000,
            635000,
            420000,
            460000,
            570000,
            450000,
            968000,
            630000,
            300000,
            760000,
            750000,
            1750000,
            2000000,
            1200000,
            630000,
            2800000,
            1500000,
            1700000,
            1245000,
            800000,
            620000,
            900000,
            850000,
            520000,
            1440000,
            2800000,
            1200000,
            1307000,
            900000,
            770000,
            1100000,
            1000000,
            860000,
            800000,
            1530000,
            1500000,
            700000,
            950000,
            1750000,
            2600000,
            440000,
            935000,
            530000,
            540000,
            2800000,
            420000,
            560000,
            1300000,
            840000,
            780000,
            1200000,
            1400000,
            1000000,
            750000,
            840000,
            580000,
            1230000,
            1450000,
            770000,
            1100000,
            1460000,
            880000,
            620000,
            1650000,
            680000,
            490000,
            1250000,
            1370000,
            660000,
            2240000,
            2800000,
            1305500,
            600000,
            1300000,
            1650000,
            1400000,
            650000,
            1950000,
            900000,
            1500000,
            380000,
            670000,
            400000,
            4140000,
            1150000,
            520000,
            560000,
            950000,
            750000,
            2100000,
            3000000,
            1500000,
            3300000,
            1500000,
            1500000,
            1150000,
            670000,
            880000,
            1500000,
            2300000,
            1650000,
            520000,
            3246000,
            350000,
            850000,
            510000,
            560000,
            840000,
            490000,
            750000,
            760000,
            1600000,
            980000,
            587250,
            390000,
            1300000,
            850000,
            2300000,
            900000,
            527000,
            100000,
            5000000,
            640000,
            1900000,
            800000,
            1200000,
            1950000,
            500000,
            530000,
            1000000,
            960000,
            750000,
            440000,
            1700000,
            1050000,
            1250000,
            5970000,
            690000,
            1130000,
            550000,
            950000,
            1500000,
            1110000,
            1500000,
            1900000,
            650000,
            2425000,
            950000,
            930000,
            950000,
            600000,
            1550000,
            2600000,
            400000,
            587250,
            1350000,
            800000,
            550000,
            720000,
            1372500,
            520000,
            680000,
            1650000,
            770000,
            540000,
            881666.6666666666,
            1700000,
            800000,
            340000,
            710000,
            850000,
            400000,
            850000,
            960000,
            1580000,
            500000,
            1800000,
            530000,
            630000,
            910000,
            180000,
            520000,
            230000,
            1200000,
            560000,
            640000,
            15000,
            700000,
            1000000,
            360000,
            880000,
            550000,
            760000,
            490000,
            420000,
            520000,
            380000,
            1225287.5,
            575000,
            120000,
            600000,
            320000,
            350000,
            850000,
            980000,
            1500000,
            4450000,
            380000,
            480000,
            700000,
            420000,
            1000000,
            643000,
            500000,
            583333.3333333334,
            643000,
            795500,
            540000,
            1500000,
            4500000,
            950000,
            2200000,
            900000,
            660000,
            480000,
            510000,
            4800000,
            1128500,
            2750000,
            1600000,
            560000,
            600000,
            460000,
            450000,
            890000,
            420000,
            3200000,
            625000,
            1100000,
            1000000,
            700000,
            4140000,
            1380000,
            900000,
            800000,
            1350000,
            590000,
            1900000,
            580000,
            680000,
            583913.0434782609,
            1545000,
            640000,
            1070000,
            630000,
            1490000,
            680000,
            1200000,
            1600000,
            520000,
            790000,
            4140000,
            1100000,
            2750000,
            1675000,
            625000,
            1000000,
            600000,
            930000,
            620000,
            800000,
            450000,
            450000,
            950000,
            530000,
            510000,
            350000,
            420000,
            310000,
            1300000,
            980000,
            660000,
            580000,
            800000,
            510000,
            490000,
            650000,
            1050900,
            1600000,
            840000,
            380000,
            1225287.5,
            1400000,
            650000,
            610000,
            748800,
            900000,
            430000,
            430000,
            700000,
            1300000,
            1250000,
            330000,
            435000,
            1500000,
            750000,
            1450000,
            1300000,
            650000,
            1000000,
            340000,
            730000,
            960000,
            2200000,
            750000,
            1800000,
            650000,
            1500000,
            2150000,
            900000,
            2000000,
            520000,
            650000,
            36500,
            880000,
            1850000,
            814000,
            900000,
            480000,
            490000,
            750000,
            340000,
            1250000,
            1250000,
            1150000,
            480000,
            920000,
            630000,
            430000,
            380000,
            920000,
            924000,
            580000,
            510000,
            1040000,
            450000,
            600000,
            610000,
            980000,
            970000,
            1000000,
            630000,
            1150000,
            470000,
            950000,
            840000,
            850000,
            670000,
            1060000,
            1716000,
            650000,
            775000,
            1050000,
            490000,
            600000,
            920000,
            900000,
            450000,
            630000,
            1150000
           ]
          },
          {
           "axis": {
            "matches": true
           },
           "label": "Area",
           "values": [
            100,
            50,
            101,
            56,
            64,
            65,
            77,
            71,
            52,
            50,
            60,
            172,
            68,
            72,
            80,
            60,
            67,
            80,
            50,
            83,
            243,
            100,
            91,
            184,
            125,
            160,
            105,
            128,
            134,
            58,
            94,
            162,
            81,
            78,
            93,
            86,
            146,
            89,
            192,
            52,
            96,
            52,
            100,
            109,
            137,
            80,
            60,
            71,
            89,
            105,
            50,
            64,
            70,
            72,
            105,
            72,
            79,
            150,
            150,
            96,
            101,
            128,
            173,
            72,
            81,
            128,
            84,
            70,
            60,
            135,
            78,
            280,
            100,
            107,
            84,
            260,
            62,
            94,
            55,
            70,
            80,
            60,
            71,
            66,
            93,
            94,
            50,
            75,
            88,
            114,
            52,
            154,
            64,
            95,
            120,
            98,
            127,
            60,
            76,
            80,
            125,
            60,
            56,
            170,
            64,
            68,
            68,
            60,
            110,
            111,
            114,
            61,
            47,
            50,
            52,
            52,
            81,
            100,
            54,
            64,
            60,
            52,
            94,
            60,
            60,
            67,
            80,
            175,
            120,
            83,
            58,
            186,
            94,
            94,
            83,
            72,
            68,
            76,
            94,
            64,
            97,
            112,
            85,
            78,
            85,
            82,
            113,
            83,
            73,
            72,
            100,
            107,
            74,
            93,
            95,
            120,
            65,
            85,
            74,
            64,
            117,
            57,
            100,
            180,
            103,
            84,
            105,
            94,
            121,
            70,
            93,
            75,
            85,
            96,
            73,
            100,
            130,
            80,
            61,
            110,
            77,
            50,
            98,
            161,
            100,
            140,
            125,
            77,
            60,
            96,
            122,
            195,
            60,
            150,
            98,
            94,
            50,
            110,
            54,
            60,
            123,
            54,
            60,
            92,
            78,
            66,
            135,
            100,
            113,
            126,
            123,
            100,
            64,
            88,
            121,
            125,
            124,
            74,
            108,
            50,
            72,
            49,
            65,
            88,
            56,
            160,
            67,
            100,
            102,
            60,
            60,
            90,
            82,
            77,
            100,
            61,
            64,
            235,
            70,
            70,
            75,
            91,
            132,
            48,
            60,
            119,
            101,
            85,
            55,
            124,
            102,
            156,
            115,
            250,
            78,
            60,
            105,
            112,
            88,
            116,
            66,
            112,
            145,
            80,
            81,
            90,
            66,
            107,
            120,
            70,
            85,
            105,
            87,
            60,
            60,
            96,
            70,
            60,
            96,
            76,
            63,
            82,
            98,
            64,
            68,
            90,
            80,
            50,
            78,
            104,
            117,
            54,
            211,
            70,
            67,
            95,
            150,
            60,
            128,
            140,
            68,
            62,
            113,
            70,
            70,
            49,
            88,
            71,
            112,
            60,
            52,
            74,
            92,
            94,
            66,
            118,
            60,
            50,
            70,
            100,
            85,
            122,
            150,
            64,
            58,
            72,
            58,
            70,
            112,
            54,
            64,
            112,
            131,
            60,
            110,
            240,
            95,
            120,
            87,
            75,
            80,
            70,
            172,
            75,
            110,
            200,
            64,
            65,
            46,
            110,
            95,
            150,
            200,
            78,
            133,
            117,
            78,
            54,
            97,
            114,
            75,
            99,
            60,
            70,
            64,
            82,
            70,
            131,
            66,
            100,
            65,
            136,
            65,
            78,
            126,
            58,
            62,
            54,
            118,
            116,
            134,
            78,
            71,
            72,
            94,
            61,
            60,
            52,
            69,
            114,
            62,
            60,
            54,
            54,
            54,
            135,
            86,
            62,
            55,
            82,
            50,
            75,
            64,
            113,
            152,
            102,
            56,
            89,
            122,
            65,
            62,
            96,
            90,
            58,
            60,
            65,
            85,
            91,
            55,
            55,
            151,
            100,
            112,
            98,
            55,
            109,
            44,
            74,
            120,
            137,
            62,
            93,
            62,
            121,
            147,
            110,
            191,
            75,
            73,
            50,
            80,
            107,
            56,
            96,
            68,
            58,
            80,
            55,
            88,
            93,
            126,
            58,
            97,
            64,
            82,
            49,
            76,
            84,
            47,
            56,
            102,
            61,
            60,
            88,
            94,
            96,
            90.64609800362976,
            70,
            167,
            56,
            90.64609800362976,
            81,
            87,
            60,
            64,
            134,
            70,
            62,
            35,
            90,
            64,
            86,
            73,
            45,
            64,
            123
           ]
          },
          {
           "axis": {
            "matches": true
           },
           "label": "Price_m2",
           "values": [
            26000,
            10000,
            10891.089108910892,
            6785.714285714285,
            9375,
            10461.53846153846,
            11038.96103896104,
            9577.464788732394,
            9807.692307692309,
            10200,
            7666.666666666667,
            11337.209302325582,
            9117.64705882353,
            10694.444444444443,
            6500,
            9500,
            10447.76119402985,
            7875,
            8400,
            19277.10843373494,
            24279.8353909465,
            15500,
            20879.12087912088,
            13586.95652173913,
            20000,
            15312.5,
            11904.761904761905,
            23046.875,
            27611.940298507463,
            11724.137931034482,
            15957.446808510638,
            16049.382716049382,
            10617.283950617284,
            10769.23076923077,
            8602.150537634408,
            13953.488372093025,
            23287.671232876717,
            19101.123595505615,
            7067.708333333333,
            10769.23076923077,
            10000,
            7307.692307692308,
            5600,
            10733.94495412844,
            13868.61313868613,
            22500,
            9166.666666666666,
            15492.957746478873,
            12921.34831460674,
            10476.190476190475,
            16000,
            8750,
            9285.714285714286,
            10694.444444444443,
            9523.809523809525,
            8194.444444444445,
            13037.974683544304,
            21666.666666666668,
            6000,
            18229.166666666668,
            8910.89108910891,
            21484.375,
            10115.606936416185,
            8194.444444444445,
            11463.84479717813,
            5312.5,
            9523.809523809525,
            10571.42857142857,
            11000,
            21111.11111111111,
            25641.02564102564,
            11428.57142857143,
            9000,
            8411.214953271028,
            89285.71428571429,
            17692.30769230769,
            14193.548387096776,
            15744.68085106383,
            12000,
            11142.857142857143,
            11020.833333333332,
            7233.333333333333,
            12464.788732394369,
            10606.060606060606,
            9139.78494623656,
            7127.659574468085,
            8400,
            8933.333333333334,
            10000,
            10964.912280701754,
            10192.307692307691,
            12077.922077922078,
            10468.75,
            14736.842105263158,
            13333.333333333334,
            13605.442176870749,
            7021.653543307087,
            10000,
            11842.105263157897,
            9750,
            7600,
            14750,
            13392.857142857143,
            16470.58823529412,
            10625,
            6985.294117647059,
            9558.823529411764,
            13139.48717948718,
            8636.363636363636,
            12500,
            11754.38596491228,
            9344.262295081968,
            55106.382978723406,
            9800,
            6730.769230769231,
            7307.692307692308,
            10617.283950617284,
            6350,
            7777.777777777777,
            7187.5,
            9500,
            8653.846153846154,
            10297.872340425532,
            10500,
            5000,
            11343.283582089553,
            9375,
            10000,
            16666.666666666668,
            14457.831325301206,
            10862.06896551724,
            15053.763440860215,
            15957.446808510638,
            18085.106382978724,
            15000,
            11111.111111111111,
            9117.64705882353,
            11842.105263157897,
            9042.553191489362,
            8125,
            14845.360824742267,
            25000,
            14117.64705882353,
            16756.410256410258,
            10588.235294117649,
            9390.243902439024,
            9734.513274336285,
            12048.192771084336,
            11780.82191780822,
            11111.111111111111,
            15300,
            14018.691588785046,
            9459.45945945946,
            10215.05376344086,
            18421.052631578947,
            21666.666666666668,
            6769.2307692307695,
            11000,
            7162.1621621621625,
            8437.5,
            23931.62393162393,
            7368.421052631579,
            5600,
            7222.222222222223,
            8155.339805825242,
            9285.714285714286,
            11428.57142857143,
            14893.617021276596,
            8264.462809917355,
            10714.285714285714,
            9032.258064516129,
            7733.333333333333,
            14470.588235294115,
            15104.166666666666,
            10547.945205479453,
            11000,
            11230.76923076923,
            11000,
            10163.934426229507,
            15000,
            8831.16883116883,
            9800,
            12755.102040816326,
            8509.316770186335,
            6600,
            16000,
            22400,
            16954.545454545456,
            10000,
            13541.666666666666,
            13524.590163934428,
            7179.48717948718,
            10833.333333333334,
            13000,
            9183.673469387755,
            15957.446808510638,
            7600,
            6090.909090909091,
            7407.407407407408,
            69000,
            9349.59349593496,
            9629.62962962963,
            9333.333333333334,
            10326.08695652174,
            9615.384615384615,
            31818.18181818182,
            22222.222222222223,
            15000,
            29203.53982300885,
            11904.761904761905,
            12195.121951219511,
            11500,
            10468.75,
            10000,
            12396.694214876034,
            18400,
            13306.451612903224,
            7027.027027027027,
            30055.555555555555,
            7000,
            11805.555555555557,
            10408.163265306122,
            8615.384615384615,
            9545.454545454546,
            8750,
            4687.5,
            11343.283582089553,
            16000,
            9607.843137254902,
            9787.5,
            6500,
            14444.444444444443,
            10365.853658536584,
            29870.12987012987,
            9000,
            8639.344262295082,
            1562.5,
            21276.59574468085,
            9142.857142857143,
            27142.85714285714,
            10666.666666666666,
            13186.813186813188,
            14772.727272727272,
            10416.666666666666,
            8833.333333333334,
            8403.361344537816,
            9504.950495049505,
            8823.529411764706,
            8000,
            13709.67741935484,
            10294.117647058823,
            8012.820512820513,
            51913.04347826087,
            2760,
            14487.179487179486,
            9166.666666666666,
            9047.619047619048,
            13392.857142857143,
            12613.636363636364,
            12931.03448275862,
            28787.878787878788,
            5803.571428571428,
            16724.137931034482,
            11875,
            11481.481481481482,
            10555.555555555557,
            9090.90909090909,
            14485.981308411216,
            21666.666666666668,
            5714.285714285715,
            6908.823529411765,
            12857.142857142857,
            9195.402298850577,
            9166.666666666666,
            12000,
            14296.875,
            7428.571428571428,
            11333.333333333334,
            17187.5,
            10131.578947368422,
            8571.42857142857,
            10752.032520325203,
            17346.938775510203,
            12500,
            5000,
            7888.888888888889,
            10625,
            8000,
            10897.435897435897,
            9230.76923076923,
            13504.273504273504,
            9259.25925925926,
            8530.805687203792,
            7571.428571428572,
            9402.985074626866,
            9578.947368421052,
            1200,
            8666.666666666666,
            1796.875,
            8571.42857142857,
            8235.29411764706,
            10322.58064516129,
            132.7433628318584,
            10000,
            14285.714285714286,
            7346.938775510204,
            10000,
            7746.478873239436,
            6785.714285714285,
            8166.666666666667,
            8076.923076923077,
            7027.027027027027,
            4130.434782608696,
            13034.97340425532,
            8712.121212121212,
            1016.9491525423728,
            10000,
            6400,
            5000,
            8500,
            11529.411764705885,
            12295.081967213117,
            29666.666666666668,
            5937.5,
            8275.862068965518,
            9722.222222222224,
            7241.379310344828,
            14285.714285714286,
            5741.071428571428,
            9259.25925925926,
            9114.583333333334,
            5741.071428571428,
            6072.519083969466,
            9000,
            13636.363636363636,
            18750,
            10000,
            18333.33333333333,
            10344.827586206897,
            8800,
            6000,
            7285.714285714285,
            27906.97674418605,
            15046.666666666666,
            25000,
            8000,
            8750,
            9230.76923076923,
            10000,
            4090.909090909091,
            9368.421052631578,
            2800,
            16000,
            8012.820512820513,
            8270.676691729323,
            8547.008547008547,
            8974.358974358975,
            76666.66666666667,
            14226.80412371134,
            7894.736842105263,
            10666.666666666666,
            13636.363636363636,
            9833.333333333334,
            27142.85714285714,
            9062.5,
            8292.682926829268,
            8341.614906832297,
            11793.893129770991,
            9696.969696969696,
            10700,
            9692.307692307691,
            10955.882352941177,
            10461.53846153846,
            15384.615384615385,
            12698.412698412698,
            8965.51724137931,
            12741.935483870968,
            76666.66666666667,
            9322.033898305084,
            23706.896551724138,
            12500,
            8012.820512820513,
            14084.50704225352,
            8333.333333333334,
            9893.617021276596,
            10163.934426229507,
            13333.333333333334,
            8653.846153846154,
            6521.739130434783,
            8333.333333333334,
            8548.387096774193,
            8500,
            6481.481481481482,
            7777.777777777777,
            5740.740740740741,
            9629.62962962963,
            11395.348837209302,
            10645.16129032258,
            10545.454545454546,
            9756.09756097561,
            10200,
            6533.333333333333,
            10156.25,
            9300,
            10526.315789473683,
            8235.29411764706,
            6785.714285714285,
            13767.275280898875,
            11475.409836065572,
            10000,
            9838.709677419354,
            7800,
            10000,
            7413.793103448276,
            7166.666666666667,
            10769.23076923077,
            15294.117647058823,
            13736.263736263736,
            6000,
            7909.090909090909,
            9933.774834437088,
            7500,
            12946.42857142857,
            13265.30612244898,
            11818.181818181818,
            9174.311926605504,
            7727.272727272727,
            9864.864864864863,
            8000,
            16058.39416058394,
            12096.774193548386,
            19354.83870967742,
            10483.870967741936,
            12396.694214876034,
            14625.850340136054,
            8181.818181818182,
            10471.204188481675,
            6933.333333333333,
            8904.109589041096,
            730,
            11000,
            17289.719626168226,
            14535.714285714286,
            9375,
            7058.823529411765,
            8448.275862068966,
            9375,
            6181.818181818182,
            14204.545454545454,
            13440.860215053764,
            9126.984126984127,
            8275.862068965518,
            9484.536082474227,
            9843.75,
            5243.90243902439,
            7755.102040816327,
            12105.263157894737,
            11000,
            12340.425531914894,
            9107.142857142857,
            10196.078431372547,
            7377.049180327869,
            10000,
            6931.818181818182,
            10425.531914893618,
            10104.166666666666,
            11031.914467625036,
            9000,
            6886.22754491018,
            8392.857142857143,
            10480.318744243785,
            10370.37037037037,
            9770.114942528737,
            11166.666666666666,
            16562.5,
            12805.970149253732,
            9285.714285714286,
            12500,
            30000,
            5444.444444444444,
            9375,
            10697.67441860465,
            12328.767123287673,
            10000,
            9843.75,
            9349.59349593496
           ]
          }
         ],
         "hovertemplate": "Type=Appartement<br>%{xaxis.title.text}=%{x}<br>%{yaxis.title.text}=%{y}<extra></extra>",
         "legendgroup": "Appartement",
         "marker": {
          "color": "#636efa",
          "symbol": "circle"
         },
         "name": "Appartement",
         "showlegend": true,
         "type": "splom"
        },
        {
         "dimensions": [
          {
           "axis": {
            "matches": true
           },
           "label": "Price",
           "values": [
            14500000,
            9700000,
            5700000,
            13000000,
            3200000,
            3000000,
            4800000,
            10500000,
            7800000,
            5966666.666666667,
            9000000,
            4400000,
            12000000,
            3000000,
            5300000,
            2000000,
            4800000,
            6800000,
            3700000,
            2900000,
            4800000,
            2960000,
            4900000,
            4500000,
            4500000,
            4800000,
            3900000,
            1600000,
            3300000,
            16000000,
            4500000,
            5700000,
            3400000,
            3800000,
            9525000,
            2500000,
            3400000,
            4900000,
            3600000,
            3300000,
            8500000,
            3000000,
            4550000,
            2950000,
            2700000,
            900000,
            5700000,
            6500000,
            1650000,
            1800000,
            2800000,
            2500000,
            4500000,
            4416666.666666667,
            5522847.222222222,
            5200000,
            3500000,
            2430000,
            3566666.6666666665,
            10000000,
            5522847.222222222,
            5522847.222222222,
            2200000,
            9500000,
            4800000,
            8500000,
            2300000,
            2200000,
            4000000,
            3800000,
            4800000,
            6500000,
            1900000,
            2500000,
            14000000,
            2950000,
            9200000,
            4900000,
            8500000,
            2800000,
            3000000,
            1450000,
            6500000,
            2600000,
            5522847.222222222,
            4800000,
            2800000,
            5522847.222222222,
            7600000,
            270000,
            7500000,
            3500000,
            3900000,
            1550000,
            3400000,
            5500000,
            4000000,
            2600000,
            1800000
           ]
          },
          {
           "axis": {
            "matches": true
           },
           "label": "Area",
           "values": [
            370,
            1600,
            300,
            629,
            282,
            120,
            300,
            894,
            500,
            166,
            710,
            218,
            730,
            150,
            450,
            120,
            310,
            500,
            136,
            150,
            233,
            264,
            240,
            338,
            178,
            220,
            315,
            131,
            220,
            1000,
            400,
            300,
            200,
            460,
            1400,
            131,
            200,
            216,
            354,
            370,
            350,
            320,
            300,
            264,
            360,
            60,
            380,
            270,
            120,
            170,
            112,
            180,
            300,
            332,
            908,
            210,
            162,
            179,
            322,
            872,
            180,
            600,
            175,
            1256,
            330,
            850,
            160,
            120,
            200,
            245,
            300,
            300,
            175,
            167,
            740,
            200,
            300,
            519,
            800,
            343,
            160,
            110,
            268,
            130,
            160,
            400,
            127,
            800,
            324,
            160,
            330,
            200,
            240,
            81,
            260,
            500,
            300,
            222,
            600
           ]
          },
          {
           "axis": {
            "matches": true
           },
           "label": "Price_m2",
           "values": [
            39189.18918918919,
            6062.5,
            19000,
            20667.726550079493,
            11347.517730496456,
            25000,
            16000,
            11744.96644295302,
            15600,
            35943.77510040161,
            12676.05633802817,
            20183.48623853211,
            16438.35616438356,
            20000,
            11777.777777777776,
            16666.666666666668,
            15483.870967741936,
            13600,
            27205.88235294117,
            19333.33333333333,
            20600.85836909871,
            11212.121212121212,
            20416.666666666668,
            13313.60946745562,
            25280.89887640449,
            21818.18181818182,
            12380.952380952382,
            12213.740458015269,
            15000,
            16000,
            11250,
            19000,
            17000,
            8260.869565217392,
            6803.571428571428,
            19083.969465648854,
            17000,
            22685.185185185182,
            10169.49152542373,
            8918.918918918918,
            24285.714285714286,
            9375,
            15166.666666666666,
            11174.242424242424,
            7500,
            15000,
            15000,
            24074.074074074077,
            13750,
            10588.235294117649,
            25000,
            13888.888888888889,
            15000,
            13303.212851405624,
            6082.4308614782185,
            24761.904761904763,
            21604.938271604937,
            13575.418994413409,
            11076.604554865424,
            11467.88990825688,
            30682.484567901232,
            9204.74537037037,
            12571.42857142857,
            7563.6942675159235,
            14545.454545454546,
            10000,
            14375,
            18333.33333333333,
            20000,
            15510.204081632652,
            16000,
            21666.666666666668,
            10857.142857142857,
            14970.059880239522,
            18918.91891891892,
            14750,
            30666.666666666668,
            9441.233140655106,
            10625,
            8163.265306122449,
            18750,
            13181.818181818182,
            24253.731343283584,
            20000,
            34517.79513888889,
            12000,
            22047.24409448819,
            6903.559027777777,
            23456.79012345679,
            1687.5,
            22727.272727272728,
            17500,
            16250,
            19135.802469135804,
            13076.923076923076,
            11000,
            13333.333333333334,
            11711.711711711712,
            3000
           ]
          }
         ],
         "hovertemplate": "Type=Villa<br>%{xaxis.title.text}=%{x}<br>%{yaxis.title.text}=%{y}<extra></extra>",
         "legendgroup": "Villa",
         "marker": {
          "color": "#EF553B",
          "symbol": "circle"
         },
         "name": "Villa",
         "showlegend": true,
         "type": "splom"
        },
        {
         "dimensions": [
          {
           "axis": {
            "matches": true
           },
           "label": "Price",
           "values": [
            960000,
            3000000,
            1600000,
            2300000,
            500000,
            4600000,
            3500000,
            1320000,
            1320000,
            2900000,
            1200000,
            1800000,
            1250000,
            960000,
            2000000,
            3000000,
            3500000,
            2600000,
            1300000,
            1900000,
            2400000,
            1500000,
            1700000,
            1000000,
            3200000,
            2400000,
            6500000,
            2600000,
            1700000,
            1300000,
            2000000,
            1600000,
            1650000,
            2600000,
            2200000,
            3800000,
            725533.3333333334,
            1400000,
            2400000,
            2000000,
            2900000,
            2200000,
            1400000,
            1450000,
            2100000,
            3600000,
            3200000,
            2600000,
            3600000,
            1300000,
            1500000,
            4880000,
            1600000,
            1600000,
            500000,
            2000000,
            1600000,
            2960000,
            2650000,
            1700000,
            3000000,
            3100000,
            1400000,
            1200000,
            2000000,
            6000000,
            6800000,
            3100000,
            2800000,
            4600000,
            1370000,
            980000,
            1966666.6666666667,
            3000000,
            1000000,
            500000,
            6400000,
            900000,
            1700000,
            2100000,
            2000000,
            1450000,
            1900000,
            1600000,
            3200000,
            751600,
            2100000,
            1800000,
            1700000,
            3400000,
            1950000,
            800000,
            3100000,
            460000,
            1200000,
            1700000,
            2200000,
            2600000,
            225000,
            1800000
           ]
          },
          {
           "axis": {
            "matches": true
           },
           "label": "Area",
           "values": [
            203,
            65,
            150,
            96,
            153,
            540,
            400,
            297,
            297,
            112,
            64,
            110,
            80,
            203,
            133,
            300,
            170,
            126,
            70,
            80,
            170,
            81,
            99,
            64,
            80,
            80,
            124,
            81,
            120,
            80,
            120,
            67,
            100,
            80,
            105,
            147,
            150,
            75,
            120,
            120,
            80,
            167,
            75,
            82,
            127,
            51,
            126,
            112,
            218,
            80,
            111,
            108,
            108,
            133,
            68,
            176,
            133,
            113,
            125,
            80,
            150,
            312,
            70,
            56,
            120,
            660,
            225,
            225,
            200,
            95,
            75,
            108,
            90,
            126,
            47,
            153,
            153,
            64,
            100,
            144,
            80,
            64,
            100,
            133,
            108,
            66,
            108,
            170,
            90,
            159,
            350,
            50,
            128,
            70,
            655,
            150,
            112,
            85,
            209,
            120
           ]
          },
          {
           "axis": {
            "matches": true
           },
           "label": "Price_m2",
           "values": [
            4729.064039408867,
            46153.84615384616,
            10666.666666666666,
            23958.33333333333,
            3267.97385620915,
            8518.518518518518,
            8750,
            4444.444444444444,
            4444.444444444444,
            25892.85714285714,
            18750,
            16363.636363636364,
            15625,
            4729.064039408867,
            15037.593984962406,
            10000,
            20588.235294117647,
            20634.92063492064,
            18571.42857142857,
            23750,
            14117.64705882353,
            18518.51851851852,
            17171.717171717173,
            15625,
            40000,
            30000,
            52419.35483870968,
            32098.765432098764,
            14166.666666666666,
            16250,
            16666.666666666668,
            23880.597014925374,
            16500,
            32500,
            20952.380952380958,
            25850.340136054423,
            4836.88888888889,
            18666.666666666668,
            20000,
            16666.666666666668,
            36250,
            13173.65269461078,
            18666.666666666668,
            17682.926829268294,
            16535.43307086614,
            70588.23529411765,
            25396.8253968254,
            23214.285714285717,
            16513.761467889908,
            16250,
            13513.513513513511,
            45185.18518518518,
            14814.814814814816,
            12030.075187969926,
            7352.941176470588,
            11363.636363636364,
            12030.075187969926,
            26194.690265486726,
            21200,
            21250,
            20000,
            9935.897435897436,
            20000,
            21428.571428571428,
            16666.666666666668,
            9090.90909090909,
            30222.222222222223,
            13777.777777777776,
            14000,
            48421.05263157895,
            18266.666666666668,
            9074.074074074077,
            21851.85185185185,
            23809.52380952381,
            21276.59574468085,
            3267.97385620915,
            41830.06535947712,
            14062.5,
            17000,
            14583.333333333334,
            25000,
            22656.25,
            19000,
            12030.075187969926,
            29629.62962962963,
            11387.878787878788,
            19444.444444444445,
            10588.235294117649,
            18888.88888888889,
            21383.64779874214,
            5571.428571428572,
            16000,
            24218.75,
            6571.428571428572,
            1832.0610687022904,
            11333.333333333334,
            19642.85714285714,
            30588.235294117647,
            1076.5550239234449,
            15000
           ]
          }
         ],
         "hovertemplate": "Type=Maison<br>%{xaxis.title.text}=%{x}<br>%{yaxis.title.text}=%{y}<extra></extra>",
         "legendgroup": "Maison",
         "marker": {
          "color": "#00cc96",
          "symbol": "circle"
         },
         "name": "Maison",
         "showlegend": true,
         "type": "splom"
        }
       ],
       "layout": {
        "dragmode": "select",
        "legend": {
         "title": {
          "text": "Type"
         },
         "tracegroupgap": 0
        },
        "margin": {
         "t": 60
        },
        "template": {
         "data": {
          "bar": [
           {
            "error_x": {
             "color": "#2a3f5f"
            },
            "error_y": {
             "color": "#2a3f5f"
            },
            "marker": {
             "line": {
              "color": "#E5ECF6",
              "width": 0.5
             },
             "pattern": {
              "fillmode": "overlay",
              "size": 10,
              "solidity": 0.2
             }
            },
            "type": "bar"
           }
          ],
          "barpolar": [
           {
            "marker": {
             "line": {
              "color": "#E5ECF6",
              "width": 0.5
             },
             "pattern": {
              "fillmode": "overlay",
              "size": 10,
              "solidity": 0.2
             }
            },
            "type": "barpolar"
           }
          ],
          "carpet": [
           {
            "aaxis": {
             "endlinecolor": "#2a3f5f",
             "gridcolor": "white",
             "linecolor": "white",
             "minorgridcolor": "white",
             "startlinecolor": "#2a3f5f"
            },
            "baxis": {
             "endlinecolor": "#2a3f5f",
             "gridcolor": "white",
             "linecolor": "white",
             "minorgridcolor": "white",
             "startlinecolor": "#2a3f5f"
            },
            "type": "carpet"
           }
          ],
          "choropleth": [
           {
            "colorbar": {
             "outlinewidth": 0,
             "ticks": ""
            },
            "type": "choropleth"
           }
          ],
          "contour": [
           {
            "colorbar": {
             "outlinewidth": 0,
             "ticks": ""
            },
            "colorscale": [
             [
              0,
              "#0d0887"
             ],
             [
              0.1111111111111111,
              "#46039f"
             ],
             [
              0.2222222222222222,
              "#7201a8"
             ],
             [
              0.3333333333333333,
              "#9c179e"
             ],
             [
              0.4444444444444444,
              "#bd3786"
             ],
             [
              0.5555555555555556,
              "#d8576b"
             ],
             [
              0.6666666666666666,
              "#ed7953"
             ],
             [
              0.7777777777777778,
              "#fb9f3a"
             ],
             [
              0.8888888888888888,
              "#fdca26"
             ],
             [
              1,
              "#f0f921"
             ]
            ],
            "type": "contour"
           }
          ],
          "contourcarpet": [
           {
            "colorbar": {
             "outlinewidth": 0,
             "ticks": ""
            },
            "type": "contourcarpet"
           }
          ],
          "heatmap": [
           {
            "colorbar": {
             "outlinewidth": 0,
             "ticks": ""
            },
            "colorscale": [
             [
              0,
              "#0d0887"
             ],
             [
              0.1111111111111111,
              "#46039f"
             ],
             [
              0.2222222222222222,
              "#7201a8"
             ],
             [
              0.3333333333333333,
              "#9c179e"
             ],
             [
              0.4444444444444444,
              "#bd3786"
             ],
             [
              0.5555555555555556,
              "#d8576b"
             ],
             [
              0.6666666666666666,
              "#ed7953"
             ],
             [
              0.7777777777777778,
              "#fb9f3a"
             ],
             [
              0.8888888888888888,
              "#fdca26"
             ],
             [
              1,
              "#f0f921"
             ]
            ],
            "type": "heatmap"
           }
          ],
          "heatmapgl": [
           {
            "colorbar": {
             "outlinewidth": 0,
             "ticks": ""
            },
            "colorscale": [
             [
              0,
              "#0d0887"
             ],
             [
              0.1111111111111111,
              "#46039f"
             ],
             [
              0.2222222222222222,
              "#7201a8"
             ],
             [
              0.3333333333333333,
              "#9c179e"
             ],
             [
              0.4444444444444444,
              "#bd3786"
             ],
             [
              0.5555555555555556,
              "#d8576b"
             ],
             [
              0.6666666666666666,
              "#ed7953"
             ],
             [
              0.7777777777777778,
              "#fb9f3a"
             ],
             [
              0.8888888888888888,
              "#fdca26"
             ],
             [
              1,
              "#f0f921"
             ]
            ],
            "type": "heatmapgl"
           }
          ],
          "histogram": [
           {
            "marker": {
             "pattern": {
              "fillmode": "overlay",
              "size": 10,
              "solidity": 0.2
             }
            },
            "type": "histogram"
           }
          ],
          "histogram2d": [
           {
            "colorbar": {
             "outlinewidth": 0,
             "ticks": ""
            },
            "colorscale": [
             [
              0,
              "#0d0887"
             ],
             [
              0.1111111111111111,
              "#46039f"
             ],
             [
              0.2222222222222222,
              "#7201a8"
             ],
             [
              0.3333333333333333,
              "#9c179e"
             ],
             [
              0.4444444444444444,
              "#bd3786"
             ],
             [
              0.5555555555555556,
              "#d8576b"
             ],
             [
              0.6666666666666666,
              "#ed7953"
             ],
             [
              0.7777777777777778,
              "#fb9f3a"
             ],
             [
              0.8888888888888888,
              "#fdca26"
             ],
             [
              1,
              "#f0f921"
             ]
            ],
            "type": "histogram2d"
           }
          ],
          "histogram2dcontour": [
           {
            "colorbar": {
             "outlinewidth": 0,
             "ticks": ""
            },
            "colorscale": [
             [
              0,
              "#0d0887"
             ],
             [
              0.1111111111111111,
              "#46039f"
             ],
             [
              0.2222222222222222,
              "#7201a8"
             ],
             [
              0.3333333333333333,
              "#9c179e"
             ],
             [
              0.4444444444444444,
              "#bd3786"
             ],
             [
              0.5555555555555556,
              "#d8576b"
             ],
             [
              0.6666666666666666,
              "#ed7953"
             ],
             [
              0.7777777777777778,
              "#fb9f3a"
             ],
             [
              0.8888888888888888,
              "#fdca26"
             ],
             [
              1,
              "#f0f921"
             ]
            ],
            "type": "histogram2dcontour"
           }
          ],
          "mesh3d": [
           {
            "colorbar": {
             "outlinewidth": 0,
             "ticks": ""
            },
            "type": "mesh3d"
           }
          ],
          "parcoords": [
           {
            "line": {
             "colorbar": {
              "outlinewidth": 0,
              "ticks": ""
             }
            },
            "type": "parcoords"
           }
          ],
          "pie": [
           {
            "automargin": true,
            "type": "pie"
           }
          ],
          "scatter": [
           {
            "fillpattern": {
             "fillmode": "overlay",
             "size": 10,
             "solidity": 0.2
            },
            "type": "scatter"
           }
          ],
          "scatter3d": [
           {
            "line": {
             "colorbar": {
              "outlinewidth": 0,
              "ticks": ""
             }
            },
            "marker": {
             "colorbar": {
              "outlinewidth": 0,
              "ticks": ""
             }
            },
            "type": "scatter3d"
           }
          ],
          "scattercarpet": [
           {
            "marker": {
             "colorbar": {
              "outlinewidth": 0,
              "ticks": ""
             }
            },
            "type": "scattercarpet"
           }
          ],
          "scattergeo": [
           {
            "marker": {
             "colorbar": {
              "outlinewidth": 0,
              "ticks": ""
             }
            },
            "type": "scattergeo"
           }
          ],
          "scattergl": [
           {
            "marker": {
             "colorbar": {
              "outlinewidth": 0,
              "ticks": ""
             }
            },
            "type": "scattergl"
           }
          ],
          "scattermapbox": [
           {
            "marker": {
             "colorbar": {
              "outlinewidth": 0,
              "ticks": ""
             }
            },
            "type": "scattermapbox"
           }
          ],
          "scatterpolar": [
           {
            "marker": {
             "colorbar": {
              "outlinewidth": 0,
              "ticks": ""
             }
            },
            "type": "scatterpolar"
           }
          ],
          "scatterpolargl": [
           {
            "marker": {
             "colorbar": {
              "outlinewidth": 0,
              "ticks": ""
             }
            },
            "type": "scatterpolargl"
           }
          ],
          "scatterternary": [
           {
            "marker": {
             "colorbar": {
              "outlinewidth": 0,
              "ticks": ""
             }
            },
            "type": "scatterternary"
           }
          ],
          "surface": [
           {
            "colorbar": {
             "outlinewidth": 0,
             "ticks": ""
            },
            "colorscale": [
             [
              0,
              "#0d0887"
             ],
             [
              0.1111111111111111,
              "#46039f"
             ],
             [
              0.2222222222222222,
              "#7201a8"
             ],
             [
              0.3333333333333333,
              "#9c179e"
             ],
             [
              0.4444444444444444,
              "#bd3786"
             ],
             [
              0.5555555555555556,
              "#d8576b"
             ],
             [
              0.6666666666666666,
              "#ed7953"
             ],
             [
              0.7777777777777778,
              "#fb9f3a"
             ],
             [
              0.8888888888888888,
              "#fdca26"
             ],
             [
              1,
              "#f0f921"
             ]
            ],
            "type": "surface"
           }
          ],
          "table": [
           {
            "cells": {
             "fill": {
              "color": "#EBF0F8"
             },
             "line": {
              "color": "white"
             }
            },
            "header": {
             "fill": {
              "color": "#C8D4E3"
             },
             "line": {
              "color": "white"
             }
            },
            "type": "table"
           }
          ]
         },
         "layout": {
          "annotationdefaults": {
           "arrowcolor": "#2a3f5f",
           "arrowhead": 0,
           "arrowwidth": 1
          },
          "autotypenumbers": "strict",
          "coloraxis": {
           "colorbar": {
            "outlinewidth": 0,
            "ticks": ""
           }
          },
          "colorscale": {
           "diverging": [
            [
             0,
             "#8e0152"
            ],
            [
             0.1,
             "#c51b7d"
            ],
            [
             0.2,
             "#de77ae"
            ],
            [
             0.3,
             "#f1b6da"
            ],
            [
             0.4,
             "#fde0ef"
            ],
            [
             0.5,
             "#f7f7f7"
            ],
            [
             0.6,
             "#e6f5d0"
            ],
            [
             0.7,
             "#b8e186"
            ],
            [
             0.8,
             "#7fbc41"
            ],
            [
             0.9,
             "#4d9221"
            ],
            [
             1,
             "#276419"
            ]
           ],
           "sequential": [
            [
             0,
             "#0d0887"
            ],
            [
             0.1111111111111111,
             "#46039f"
            ],
            [
             0.2222222222222222,
             "#7201a8"
            ],
            [
             0.3333333333333333,
             "#9c179e"
            ],
            [
             0.4444444444444444,
             "#bd3786"
            ],
            [
             0.5555555555555556,
             "#d8576b"
            ],
            [
             0.6666666666666666,
             "#ed7953"
            ],
            [
             0.7777777777777778,
             "#fb9f3a"
            ],
            [
             0.8888888888888888,
             "#fdca26"
            ],
            [
             1,
             "#f0f921"
            ]
           ],
           "sequentialminus": [
            [
             0,
             "#0d0887"
            ],
            [
             0.1111111111111111,
             "#46039f"
            ],
            [
             0.2222222222222222,
             "#7201a8"
            ],
            [
             0.3333333333333333,
             "#9c179e"
            ],
            [
             0.4444444444444444,
             "#bd3786"
            ],
            [
             0.5555555555555556,
             "#d8576b"
            ],
            [
             0.6666666666666666,
             "#ed7953"
            ],
            [
             0.7777777777777778,
             "#fb9f3a"
            ],
            [
             0.8888888888888888,
             "#fdca26"
            ],
            [
             1,
             "#f0f921"
            ]
           ]
          },
          "colorway": [
           "#636efa",
           "#EF553B",
           "#00cc96",
           "#ab63fa",
           "#FFA15A",
           "#19d3f3",
           "#FF6692",
           "#B6E880",
           "#FF97FF",
           "#FECB52"
          ],
          "font": {
           "color": "#2a3f5f"
          },
          "geo": {
           "bgcolor": "white",
           "lakecolor": "white",
           "landcolor": "#E5ECF6",
           "showlakes": true,
           "showland": true,
           "subunitcolor": "white"
          },
          "hoverlabel": {
           "align": "left"
          },
          "hovermode": "closest",
          "mapbox": {
           "style": "light"
          },
          "paper_bgcolor": "white",
          "plot_bgcolor": "#E5ECF6",
          "polar": {
           "angularaxis": {
            "gridcolor": "white",
            "linecolor": "white",
            "ticks": ""
           },
           "bgcolor": "#E5ECF6",
           "radialaxis": {
            "gridcolor": "white",
            "linecolor": "white",
            "ticks": ""
           }
          },
          "scene": {
           "xaxis": {
            "backgroundcolor": "#E5ECF6",
            "gridcolor": "white",
            "gridwidth": 2,
            "linecolor": "white",
            "showbackground": true,
            "ticks": "",
            "zerolinecolor": "white"
           },
           "yaxis": {
            "backgroundcolor": "#E5ECF6",
            "gridcolor": "white",
            "gridwidth": 2,
            "linecolor": "white",
            "showbackground": true,
            "ticks": "",
            "zerolinecolor": "white"
           },
           "zaxis": {
            "backgroundcolor": "#E5ECF6",
            "gridcolor": "white",
            "gridwidth": 2,
            "linecolor": "white",
            "showbackground": true,
            "ticks": "",
            "zerolinecolor": "white"
           }
          },
          "shapedefaults": {
           "line": {
            "color": "#2a3f5f"
           }
          },
          "ternary": {
           "aaxis": {
            "gridcolor": "white",
            "linecolor": "white",
            "ticks": ""
           },
           "baxis": {
            "gridcolor": "white",
            "linecolor": "white",
            "ticks": ""
           },
           "bgcolor": "#E5ECF6",
           "caxis": {
            "gridcolor": "white",
            "linecolor": "white",
            "ticks": ""
           }
          },
          "title": {
           "x": 0.05
          },
          "xaxis": {
           "automargin": true,
           "gridcolor": "white",
           "linecolor": "white",
           "ticks": "",
           "title": {
            "standoff": 15
           },
           "zerolinecolor": "white",
           "zerolinewidth": 2
          },
          "yaxis": {
           "automargin": true,
           "gridcolor": "white",
           "linecolor": "white",
           "ticks": "",
           "title": {
            "standoff": 15
           },
           "zerolinecolor": "white",
           "zerolinewidth": 2
          }
         }
        }
       }
      }
     },
     "metadata": {},
     "output_type": "display_data"
    }
   ],
   "source": [
    "#coroleation\n",
    "px.scatter_matrix(cleaned_data, dimensions=['Price', 'Area', 'Price_m2'], color='Type')"
   ]
  },
  {
   "cell_type": "code",
   "execution_count": 75,
   "metadata": {},
   "outputs": [],
   "source": [
    "cleaned_data.to_csv('mubawab_listings_eda.csv',index=False)"
   ]
  }
 ],
 "metadata": {
  "kernelspec": {
   "display_name": "Python 3",
   "language": "python",
   "name": "python3"
  },
  "language_info": {
   "codemirror_mode": {
    "name": "ipython",
    "version": 3
   },
   "file_extension": ".py",
   "mimetype": "text/x-python",
   "name": "python",
   "nbconvert_exporter": "python",
   "pygments_lexer": "ipython3",
   "version": "3.12.2"
  }
 },
 "nbformat": 4,
 "nbformat_minor": 2
}
